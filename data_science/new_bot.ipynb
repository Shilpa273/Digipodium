{
 "cells": [
  {
   "cell_type": "code",
   "execution_count": 2,
   "metadata": {},
   "outputs": [],
   "source": [
    "import requests\n",
    "from bs4 import BeautifulSoup\n"
   ]
  },
  {
   "cell_type": "code",
   "execution_count": 3,
   "metadata": {},
   "outputs": [],
   "source": [
    "def get_soup(url):\n",
    "    page = requests.get(url)\n",
    "    return BeautifulSoup(page.text)"
   ]
  },
  {
   "cell_type": "code",
   "execution_count": 4,
   "metadata": {},
   "outputs": [],
   "source": [
    "soup = get_soup('https://www.ndtv.com/latest')"
   ]
  },
  {
   "cell_type": "code",
   "execution_count": 5,
   "metadata": {},
   "outputs": [],
   "source": [
    "target = soup.find('div',attrs = {'class': 'lisingNews'})"
   ]
  },
  {
   "cell_type": "code",
   "execution_count": 6,
   "metadata": {},
   "outputs": [
    {
     "name": "stdout",
     "output_type": "stream",
     "text": [
      "17\n"
     ]
    }
   ],
   "source": [
    "newslist = target.find_all('div',attrs ={'class' :'news_Itm'})\n",
    "print(len(newslist))"
   ]
  },
  {
   "cell_type": "code",
   "execution_count": 10,
   "metadata": {},
   "outputs": [
    {
     "name": "stdout",
     "output_type": "stream",
     "text": [
      "---> HEADLINES  --->--->--->--->--->--->--->--->--->--->--->--->--->--->--->--->--->--->--->--->--->--->--->--->--->--->--->--->--->--->--->--->--->--->--->--->--->--->--->--->\n",
      "While launching the Common Seat Allocation System (CSAS), DU said: “There are 14 ECA [extra-curricular activities] categories further divided into sub-categories. A candidate can apply for a maximum of three ECA categories.\"\n",
      "Edited by Mridusmita Deka  | Monday September 12, 2022\n",
      "DU UG Admission 2022: Key Points On Supernumerary Seats Under Sports, ECA Quota\n",
      "---> HEADLINES  --->--->--->--->--->--->--->--->--->--->--->--->--->--->--->--->--->--->--->--->--->--->--->--->--->--->--->--->--->--->--->--->--->--->--->--->--->--->--->--->\n",
      "Apple’s hardware subscription service will be very different from its current iPhone Upgrade Programme, which is available in certain countries. It will essentially let buyers subscribe to Apple hardware instead of purchasing them outright.\n",
      "Written by Sheldon Pinto , Edited by Siddharth Suvarna  | Monday September 12, 2022\n",
      "Apple Working on iPhone Subscription Service, Could Launch by Year End: Mark Gurman\n",
      "---> HEADLINES  --->--->--->--->--->--->--->--->--->--->--->--->--->--->--->--->--->--->--->--->--->--->--->--->--->--->--->--->--->--->--->--->--->--->--->--->--->--->--->--->\n",
      "Former spinner Harbhajan Singh has backed pacer Umran Malik and stated that he can be India's \"trump card\" on Australian pitches.\n",
      "Tushar Mamgaain   | Monday September 12, 2022\n",
      "\"Can Be Our Trump Card\": Harbhajan Singh Backs Young Pacer For T20 World Cup Berth\n",
      "---> HEADLINES  --->--->--->--->--->--->--->--->--->--->--->--->--->--->--->--->--->--->--->--->--->--->--->--->--->--->--->--->--->--->--->--->--->--->--->--->--->--->--->--->\n",
      "England thrashed South Africa by nine wickets in the third and deciding Test at the Oval on Monday, completing a 2-1 series win in just over two days of action.\n",
      "Agence France-Presse   | Monday September 12, 2022\n",
      "England vs South Africa: England Hammer South Africa In 3rd Test To Win Series 2-1\n",
      "---> HEADLINES  --->--->--->--->--->--->--->--->--->--->--->--->--->--->--->--->--->--->--->--->--->--->--->--->--->--->--->--->--->--->--->--->--->--->--->--->--->--->--->--->\n",
      "Industrialist Anand Mahindra, who is known for his witty tweets, today shared a video of the \"best Bolero driver in the world.\"\n",
      "Abhimanyu Kulkarni   | Monday September 12, 2022, New Delhi\n",
      "\"Captain Cool\": Anand Mahindra Shares Video Of \"World's Best Bolero Driver\"\n",
      "---> HEADLINES  --->--->--->--->--->--->--->--->--->--->--->--->--->--->--->--->--->--->--->--->--->--->--->--->--->--->--->--->--->--->--->--->--->--->--->--->--->--->--->--->\n",
      "Anushka Sharma has dropped new pictures with Virat Kohli\n",
      "Written by Niharika Sanjeeiv  | Monday September 12, 2022, New Delhi\n",
      "Anushka Sharma And Virat Kohli's Pics Are Love, Actually\n",
      "---> HEADLINES  --->--->--->--->--->--->--->--->--->--->--->--->--->--->--->--->--->--->--->--->--->--->--->--->--->--->--->--->--->--->--->--->--->--->--->--->--->--->--->--->\n",
      "Varun Dhawan appeared on the show with Anil Kapoor\n",
      "Written by Pranita Chaubey  | Monday September 12, 2022, New Delhi\n",
      "Koffee With Karan 7: Asked To Pick Between Katrina Kaif And Deepika Padukone, Varun Dhawan Said This\n",
      "---> HEADLINES  --->--->--->--->--->--->--->--->--->--->--->--->--->--->--->--->--->--->--->--->--->--->--->--->--->--->--->--->--->--->--->--->--->--->--->--->--->--->--->--->\n",
      "Twitter Inc said on Monday payments made to a whistleblower did not breach any conditions of its $44 billion buyout by Elon Musk.\n",
      "Reuters   | Monday September 12, 2022\n",
      "Twitter Replies To Elon Musk's Letter, Says Didn't Breach Deal Conditions\n",
      "---> HEADLINES  --->--->--->--->--->--->--->--->--->--->--->--->--->--->--->--->--->--->--->--->--->--->--->--->--->--->--->--->--->--->--->--->--->--->--->--->--->--->--->--->\n",
      "The restrictions on rice exports have paralysed trading in Asia, with buyers scouring for alternative supplies from Vietnam, Thailand and Myanmar where seller are holding off on deals as prices rise, industry officials said.\n",
      "Reuters   | Monday September 12, 2022, MUMBAI\n",
      "Rice Export Curbs Paralyse Trade In Asia As Prices Rise\n",
      "---> HEADLINES  --->--->--->--->--->--->--->--->--->--->--->--->--->--->--->--->--->--->--->--->--->--->--->--->--->--->--->--->--->--->--->--->--->--->--->--->--->--->--->--->\n",
      "Richmond Villa-Sun City laddoo was bought for a record Rs 60.8 lakh in an auction in Hyderabad during this Ganesh festival\n",
      "Written by Uma Sudhir , Edited by Sanjib Kumar Das  | Monday September 12, 2022, Hyderabad\n",
      "Hyderabad Ganesh Laddoo Auctioned For Record Rs 61 Lakh\n",
      "---> HEADLINES  --->--->--->--->--->--->--->--->--->--->--->--->--->--->--->--->--->--->--->--->--->--->--->--->--->--->--->--->--->--->--->--->--->--->--->--->--->--->--->--->\n",
      "A court today agreed to hear a group of Hindu women who want year-long access to pray inside the Gyanvapi mosque in Varanasi, next to the famous Kashi Viswanath temple. The judge looked at 3 Acts and said none bar the case of the Hindu women.\n",
      "Reported by Alok Pandey, Edited by Akhil Kumar  | Monday September 12, 2022, Varanasi\n",
      "Gyanvapi Case: 5 Big Quotes From The Varanasi Court Verdict\n",
      "---> HEADLINES  --->--->--->--->--->--->--->--->--->--->--->--->--->--->--->--->--->--->--->--->--->--->--->--->--->--->--->--->--->--->--->--->--->--->--->--->--->--->--->--->\n",
      "This dish has a restaurant-style smoky flavour. Plus, it is easy to make since the chicken is cooked in dahi.\n",
      "Vrinda Jain   | Monday September 12, 2022\n",
      "This Easy Smoky Chicken Yoghurt Recipe Will Turn Around Your Weekdays Blues\n",
      "---> HEADLINES  --->--->--->--->--->--->--->--->--->--->--->--->--->--->--->--->--->--->--->--->--->--->--->--->--->--->--->--->--->--->--->--->--->--->--->--->--->--->--->--->\n",
      "Local publications said the boy studies in Class 7 in a Kozhikode. He was riding a bicycle when the dog suddenly attacked him.\n",
      "Edited by Amit Chaturvedi  | Monday September 12, 2022\n",
      "Video: He Was Riding His Bicycle, A Dog Jumped On Him. And Then...\n",
      "---> HEADLINES  --->--->--->--->--->--->--->--->--->--->--->--->--->--->--->--->--->--->--->--->--->--->--->--->--->--->--->--->--->--->--->--->--->--->--->--->--->--->--->--->\n",
      "The Directorate of Technical Education (DoTE) Chhattisgarh has started the phase 1 counselling registrations for Chhattisgarh Pre Engineering Test (CG PET) 2022 today, September 12.\n",
      "Written by Adarsh Srivastava  | Monday September 12, 2022\n",
      "Chhattisgarh CG PET 2022 Counselling Registration Begins; Details Here\n",
      "---> HEADLINES  --->--->--->--->--->--->--->--->--->--->--->--->--->--->--->--->--->--->--->--->--->--->--->--->--->--->--->--->--->--->--->--->--->--->--->--->--->--->--->--->\n",
      "Ambrane Glares, the first smart glasses from the Indian tech company have been launched. Glares are an open-ear audio glasses that come with built-in speakers that are hidden in the frame. The smart glasses also feature Bluetooth v5.1, two-lens option and a speaker system. They are claimed to offer a battery life of 7 hours with just two hours of charging.\n",
      "Jasmin Jose   | Monday September 12, 2022\n",
      "Ambrane Glares With Inbuilt Speakers, 7-Hour Battery Life Launched in India: Details\n"
     ]
    }
   ],
   "source": [
    "data = []\n",
    "for news in newslist:\n",
    "    title = news.find('h2',attrs = {'class' : 'newsHdng'})\n",
    "    details = news.find('span',attrs = {'class': 'posted-by'})\n",
    "    content = news.find('p', attrs = {'class' :'newsCont'})\n",
    "    if title and details and content:\n",
    "       print('---> HEADLINES ','--->'*40) \n",
    "       print(content.text.strip())\n",
    "       print(details.text.strip())\n",
    "       print(title.text)\n",
    "\n",
    "       data.append({\n",
    "       'title' : title.text.strip(),\n",
    "       'details': details.text.strip(),\n",
    "       'content': content.text.strip()\n",
    "       })\n"
   ]
  },
  {
   "cell_type": "code",
   "execution_count": 8,
   "metadata": {},
   "outputs": [],
   "source": [
    "import pandas as pd # pip install"
   ]
  },
  {
   "cell_type": "code",
   "execution_count": 9,
   "metadata": {},
   "outputs": [],
   "source": [
    "pd.DataFrame(data).to_csv('headlines.csv')"
   ]
  },
  {
   "cell_type": "code",
   "execution_count": null,
   "metadata": {},
   "outputs": [],
   "source": []
  }
 ],
 "metadata": {
  "kernelspec": {
   "display_name": "Python 3.9.12 ('base')",
   "language": "python",
   "name": "python3"
  },
  "language_info": {
   "codemirror_mode": {
    "name": "ipython",
    "version": 3
   },
   "file_extension": ".py",
   "mimetype": "text/x-python",
   "name": "python",
   "nbconvert_exporter": "python",
   "pygments_lexer": "ipython3",
   "version": "3.9.12"
  },
  "orig_nbformat": 4,
  "vscode": {
   "interpreter": {
    "hash": "c8d055a2e917c4ff563d3cc6f515ed9e913311c2b5e5c5ae825c2758b2ad8b8b"
   }
  }
 },
 "nbformat": 4,
 "nbformat_minor": 2
}
