{
 "cells": [
  {
   "cell_type": "code",
   "execution_count": 1,
   "metadata": {},
   "outputs": [],
   "source": [
    "import numpy as np"
   ]
  },
  {
   "cell_type": "code",
   "execution_count": 2,
   "metadata": {},
   "outputs": [
    {
     "name": "stdout",
     "output_type": "stream",
     "text": [
      "[1 2 3 4 5]\n",
      "<class 'numpy.ndarray'>\n"
     ]
    }
   ],
   "source": [
    "#creation og numpy arrary\n",
    "x = np.array([1,2,3,4,5])\n",
    "print(x)\n",
    "print(type(x)) #ndarray\n"
   ]
  },
  {
   "cell_type": "code",
   "execution_count": 3,
   "metadata": {},
   "outputs": [
    {
     "name": "stdout",
     "output_type": "stream",
     "text": [
      "5\n",
      "(5,)\n",
      "1\n"
     ]
    }
   ],
   "source": [
    "# shape and size\n",
    "print(x.size)# total no. of elements\n",
    "print(x.shape) #dimension wise elements\n",
    "print(x.ndim) #num of dimension"
   ]
  },
  {
   "cell_type": "code",
   "execution_count": 4,
   "metadata": {},
   "outputs": [
    {
     "name": "stdout",
     "output_type": "stream",
     "text": [
      "[[1 2 3]\n",
      " [4 5 6]]\n",
      "6\n",
      "(2, 3)\n",
      "2\n"
     ]
    }
   ],
   "source": [
    "x2d = np.array([[1,2,3],[4,5,6,]])\n",
    "print(x2d)\n",
    "#shape and size\n",
    "print(x2d.size)\n",
    "print(x2d.shape)\n",
    "print(x2d.ndim)"
   ]
  },
  {
   "cell_type": "code",
   "execution_count": 5,
   "metadata": {},
   "outputs": [
    {
     "name": "stdout",
     "output_type": "stream",
     "text": [
      "[[80 87 34  7]\n",
      " [39  7  6 29]\n",
      " [70 38 34  1]\n",
      " [23 44 17 65]\n",
      " [76 92 69 15]]\n"
     ]
    }
   ],
   "source": [
    "x25 = np.random.randint(1,100,(5,4))\n",
    "print(x25)"
   ]
  },
  {
   "cell_type": "code",
   "execution_count": 6,
   "metadata": {},
   "outputs": [
    {
     "name": "stdout",
     "output_type": "stream",
     "text": [
      "1D matrix\n",
      "[ 1  5  9 13 17 21 25 29 33 37 41 45 49 53 57 61 65 69 73 77 81 85 89 93\n",
      " 97]\n",
      "25\n",
      "[[ 1  5  9 13 17]\n",
      " [21 25 29 33 37]\n",
      " [41 45 49 53 57]\n",
      " [61 65 69 73 77]\n",
      " [81 85 89 93 97]]\n",
      "2D matrix\n"
     ]
    }
   ],
   "source": [
    "xseq1 = np.arange(1,101,4)\n",
    "print(\"1D matrix\")\n",
    "print(xseq1)\n",
    "print(xseq1.size)\n",
    "\n",
    "print(xseq1.reshape(5,5))\n",
    "print('2D matrix')"
   ]
  },
  {
   "cell_type": "code",
   "execution_count": 7,
   "metadata": {},
   "outputs": [
    {
     "ename": "SyntaxError",
     "evalue": "unexpected EOF while parsing (148558145.py, line 4)",
     "output_type": "error",
     "traceback": [
      "\u001b[1;36m  Input \u001b[1;32mIn [7]\u001b[1;36m\u001b[0m\n\u001b[1;33m    print(xseq2.reshape(10,5)\u001b[0m\n\u001b[1;37m                             ^\u001b[0m\n\u001b[1;31mSyntaxError\u001b[0m\u001b[1;31m:\u001b[0m unexpected EOF while parsing\n"
     ]
    }
   ],
   "source": [
    "xseq2= np.linspace(1,100,50)\n",
    "print(xseq2)\n",
    "print(xseq2.size)\n",
    "print(xseq2.reshape(10,5)\n"
   ]
  },
  {
   "cell_type": "code",
   "execution_count": null,
   "metadata": {},
   "outputs": [
    {
     "data": {
      "text/plain": [
       "array([[1, 1, 1, 1, 1],\n",
       "       [1, 1, 1, 1, 1],\n",
       "       [1, 1, 1, 1, 1],\n",
       "       [1, 1, 1, 1, 1],\n",
       "       [1, 1, 1, 1, 1]])"
      ]
     },
     "execution_count": 12,
     "metadata": {},
     "output_type": "execute_result"
    }
   ],
   "source": [
    "np.ones((5,5),dtype='int')"
   ]
  },
  {
   "cell_type": "markdown",
   "metadata": {},
   "source": [
    "- indexing and slicing\n",
    "- boolean filter\n",
    "- mahs and stars\n",
    "- methods"
   ]
  },
  {
   "cell_type": "code",
   "execution_count": null,
   "metadata": {},
   "outputs": [
    {
     "data": {
      "text/plain": [
       "array([[95,  9, 40, 53],\n",
       "       [48,  6,  6, 14],\n",
       "       [74, 64, 53, 78],\n",
       "       [52, 73, 42, 55],\n",
       "       [61, 15, 49, 41]])"
      ]
     },
     "execution_count": 13,
     "metadata": {},
     "output_type": "execute_result"
    }
   ],
   "source": [
    "x25"
   ]
  },
  {
   "cell_type": "code",
   "execution_count": null,
   "metadata": {},
   "outputs": [
    {
     "name": "stdout",
     "output_type": "stream",
     "text": [
      "[95  9 40 53]\n"
     ]
    }
   ],
   "source": [
    "#first row\n",
    "print(x25[0])"
   ]
  },
  {
   "cell_type": "code",
   "execution_count": null,
   "metadata": {},
   "outputs": [
    {
     "name": "stdout",
     "output_type": "stream",
     "text": [
      "[61 15 49 41]\n"
     ]
    }
   ],
   "source": [
    "#last row\n",
    "print(x25[-1])"
   ]
  },
  {
   "cell_type": "code",
   "execution_count": null,
   "metadata": {},
   "outputs": [
    {
     "name": "stdout",
     "output_type": "stream",
     "text": [
      "9\n"
     ]
    }
   ],
   "source": [
    "print(x25[0,1]) # same as print(x25[0][1])"
   ]
  },
  {
   "cell_type": "code",
   "execution_count": null,
   "metadata": {},
   "outputs": [
    {
     "name": "stdout",
     "output_type": "stream",
     "text": [
      "[95 48 74 52 61]\n",
      "[ 9  6 64 73 15]\n",
      "[53 14 78 55 41]\n"
     ]
    }
   ],
   "source": [
    "#1st column\n",
    "print(x25[:,0])\n",
    "#2nd\n",
    "print(x25[:,1])\n",
    "#last\n",
    "print(x25[:,-1])"
   ]
  },
  {
   "cell_type": "code",
   "execution_count": null,
   "metadata": {},
   "outputs": [
    {
     "name": "stdout",
     "output_type": "stream",
     "text": [
      "[[95  9 40]\n",
      " [48  6  6]\n",
      " [74 64 53]\n",
      " [52 73 42]\n",
      " [61 15 49]]\n",
      "[[95  9 40]\n",
      " [48  6  6]\n",
      " [74 64 53]\n",
      " [52 73 42]\n",
      " [61 15 49]]\n"
     ]
    }
   ],
   "source": [
    "#column 0 and 1 index\n",
    "print(x25[:,[0,1,2]])\n",
    "#same\n",
    "print(x25[:,:3])"
   ]
  },
  {
   "cell_type": "code",
   "execution_count": null,
   "metadata": {},
   "outputs": [
    {
     "data": {
      "text/plain": [
       "array([[95,  9, 40, 53],\n",
       "       [48,  6,  6, 14],\n",
       "       [74, 64, 53, 78],\n",
       "       [52, 73, 42, 55],\n",
       "       [61, 15, 49, 41]])"
      ]
     },
     "execution_count": 21,
     "metadata": {},
     "output_type": "execute_result"
    }
   ],
   "source": [
    "#boolean filter\n",
    "x25"
   ]
  },
  {
   "cell_type": "code",
   "execution_count": null,
   "metadata": {},
   "outputs": [
    {
     "name": "stdout",
     "output_type": "stream",
     "text": [
      "9\n",
      "6\n",
      "6\n",
      "14\n",
      "15\n"
     ]
    }
   ],
   "source": [
    "# filtering data without numpy boolean filter\n",
    "for i in x25:\n",
    "    for j in i:\n",
    "        if j <= 20:\n",
    "            print(j)"
   ]
  },
  {
   "cell_type": "code",
   "execution_count": null,
   "metadata": {},
   "outputs": [
    {
     "data": {
      "text/plain": [
       "array([[False,  True, False, False],\n",
       "       [False,  True,  True,  True],\n",
       "       [False, False, False, False],\n",
       "       [False, False, False, False],\n",
       "       [False,  True, False, False]])"
      ]
     },
     "execution_count": 24,
     "metadata": {},
     "output_type": "execute_result"
    }
   ],
   "source": [
    "x25 <= 20 # boolean filer"
   ]
  },
  {
   "cell_type": "code",
   "execution_count": null,
   "metadata": {},
   "outputs": [
    {
     "data": {
      "text/plain": [
       "array([ 9,  6,  6, 14, 15])"
      ]
     },
     "execution_count": 25,
     "metadata": {},
     "output_type": "execute_result"
    }
   ],
   "source": [
    "x25[ x25 <= 20]"
   ]
  },
  {
   "cell_type": "code",
   "execution_count": null,
   "metadata": {},
   "outputs": [
    {
     "data": {
      "text/plain": [
       "array([95, 40, 53, 48, 74, 64, 53, 78, 52, 73, 42, 55, 61, 49, 41])"
      ]
     },
     "execution_count": 26,
     "metadata": {},
     "output_type": "execute_result"
    }
   ],
   "source": [
    "x25 [ x25 >= 20]"
   ]
  },
  {
   "cell_type": "code",
   "execution_count": null,
   "metadata": {},
   "outputs": [
    {
     "data": {
      "text/plain": [
       "[array([[False, False,  True,  True],\n",
       "        [ True, False, False, False],\n",
       "        [False,  True,  True, False],\n",
       "        [ True, False,  True,  True],\n",
       "        [ True, False,  True,  True]])]"
      ]
     },
     "execution_count": 28,
     "metadata": {},
     "output_type": "execute_result"
    }
   ],
   "source": [
    "[(x25 > 20) & (x25 < 70)]"
   ]
  },
  {
   "cell_type": "code",
   "execution_count": null,
   "metadata": {},
   "outputs": [
    {
     "name": "stdout",
     "output_type": "stream",
     "text": [
      "\u001b[1;31mSignature:\u001b[0m \u001b[0mnp\u001b[0m\u001b[1;33m.\u001b[0m\u001b[0mappend\u001b[0m\u001b[1;33m(\u001b[0m\u001b[0marr\u001b[0m\u001b[1;33m,\u001b[0m \u001b[0mvalues\u001b[0m\u001b[1;33m,\u001b[0m \u001b[0maxis\u001b[0m\u001b[1;33m=\u001b[0m\u001b[1;32mNone\u001b[0m\u001b[1;33m)\u001b[0m\u001b[1;33m\u001b[0m\u001b[1;33m\u001b[0m\u001b[0m\n",
      "\u001b[1;31mDocstring:\u001b[0m\n",
      "Append values to the end of an array.\n",
      "\n",
      "Parameters\n",
      "----------\n",
      "arr : array_like\n",
      "    Values are appended to a copy of this array.\n",
      "values : array_like\n",
      "    These values are appended to a copy of `arr`.  It must be of the\n",
      "    correct shape (the same shape as `arr`, excluding `axis`).  If\n",
      "    `axis` is not specified, `values` can be any shape and will be\n",
      "    flattened before use.\n",
      "axis : int, optional\n",
      "    The axis along which `values` are appended.  If `axis` is not\n",
      "    given, both `arr` and `values` are flattened before use.\n",
      "\n",
      "Returns\n",
      "-------\n",
      "append : ndarray\n",
      "    A copy of `arr` with `values` appended to `axis`.  Note that\n",
      "    `append` does not occur in-place: a new array is allocated and\n",
      "    filled.  If `axis` is None, `out` is a flattened array.\n",
      "\n",
      "See Also\n",
      "--------\n",
      "insert : Insert elements into an array.\n",
      "delete : Delete elements from an array.\n",
      "\n",
      "Examples\n",
      "--------\n",
      ">>> np.append([1, 2, 3], [[4, 5, 6], [7, 8, 9]])\n",
      "array([1, 2, 3, ..., 7, 8, 9])\n",
      "\n",
      "When `axis` is specified, `values` must have the correct shape.\n",
      "\n",
      ">>> np.append([[1, 2, 3], [4, 5, 6]], [[7, 8, 9]], axis=0)\n",
      "array([[1, 2, 3],\n",
      "       [4, 5, 6],\n",
      "       [7, 8, 9]])\n",
      ">>> np.append([[1, 2, 3], [4, 5, 6]], [7, 8, 9], axis=0)\n",
      "Traceback (most recent call last):\n",
      "    ...\n",
      "ValueError: all the input arrays must have same number of dimensions, but\n",
      "the array at index 0 has 2 dimension(s) and the array at index 1 has 1\n",
      "dimension(s)\n",
      "\u001b[1;31mFile:\u001b[0m      c:\\users\\indyatri\\miniconda3\\lib\\site-packages\\numpy\\lib\\function_base.py\n",
      "\u001b[1;31mType:\u001b[0m      function\n"
     ]
    }
   ],
   "source": [
    "np.append?"
   ]
  },
  {
   "cell_type": "code",
   "execution_count": null,
   "metadata": {},
   "outputs": [
    {
     "data": {
      "text/plain": [
       "array([95,  9, 40, 53, 48,  6,  6, 14, 74, 64, 53, 78, 52, 73, 42, 55, 61,\n",
       "       15, 49, 41,  1,  2,  3,  4,  5])"
      ]
     },
     "execution_count": 30,
     "metadata": {},
     "output_type": "execute_result"
    }
   ],
   "source": [
    "np.append(x25, [1,2,3,4,5])"
   ]
  },
  {
   "cell_type": "code",
   "execution_count": null,
   "metadata": {},
   "outputs": [
    {
     "data": {
      "text/plain": [
       "array([[95,  9, 40, 53],\n",
       "       [48,  6,  6, 14],\n",
       "       [74, 64, 53, 78],\n",
       "       [52, 73, 42, 55],\n",
       "       [61, 15, 49, 41],\n",
       "       [ 1,  2,  3,  4]])"
      ]
     },
     "execution_count": 40,
     "metadata": {},
     "output_type": "execute_result"
    }
   ],
   "source": [
    "np.append(x25,np.array([[1,2,3,4]]), axis=0)"
   ]
  },
  {
   "cell_type": "code",
   "execution_count": null,
   "metadata": {},
   "outputs": [
    {
     "name": "stdout",
     "output_type": "stream",
     "text": [
      "[[23  2 51]\n",
      " [52 68 90]]\n",
      "[[34 39]\n",
      " [ 1 24]\n",
      " [88 77]]\n"
     ]
    }
   ],
   "source": [
    "a = np.random.randint(1,100,(2,3))\n",
    "print(a)\n",
    "b = np.random.randint(1,100,(3,2))\n",
    "print(b)"
   ]
  },
  {
   "cell_type": "code",
   "execution_count": null,
   "metadata": {},
   "outputs": [
    {
     "data": {
      "text/plain": [
       "array([[23, 52],\n",
       "       [ 2, 68],\n",
       "       [51, 90]])"
      ]
     },
     "execution_count": 43,
     "metadata": {},
     "output_type": "execute_result"
    }
   ],
   "source": [
    "a.T"
   ]
  },
  {
   "cell_type": "code",
   "execution_count": null,
   "metadata": {},
   "outputs": [
    {
     "name": "stdout",
     "output_type": "stream",
     "text": [
      "[[23  2 51 34  1 88]\n",
      " [52 68 90 39 24 77]]\n"
     ]
    }
   ],
   "source": [
    "print(np.hstack((a,b.T)))"
   ]
  },
  {
   "cell_type": "code",
   "execution_count": null,
   "metadata": {},
   "outputs": [
    {
     "name": "stdout",
     "output_type": "stream",
     "text": [
      "[[23  2 51]\n",
      " [52 68 90]\n",
      " [34  1 88]\n",
      " [39 24 77]]\n"
     ]
    }
   ],
   "source": [
    "print(np.vstack((a,b.T)))"
   ]
  },
  {
   "cell_type": "code",
   "execution_count": 8,
   "metadata": {},
   "outputs": [
    {
     "name": "stdout",
     "output_type": "stream",
     "text": [
      "[[7 9 3]\n",
      " [3 2 5]\n",
      " [8 7 4]]\n",
      "[[3 8 5]\n",
      " [9 7 7]\n",
      " [1 9 7]]\n"
     ]
    }
   ],
   "source": [
    "x = np.random.randint(1,10,(3,3))\n",
    "y = np.random.randint(1,10,(3,3))\n",
    "print(x)\n",
    "print(y)"
   ]
  },
  {
   "cell_type": "code",
   "execution_count": 11,
   "metadata": {},
   "outputs": [
    {
     "name": "stdout",
     "output_type": "stream",
     "text": [
      "[[10 17  8]\n",
      " [12  9 12]\n",
      " [ 9 16 11]]\n",
      "add\n",
      "[[ 4  1 -2]\n",
      " [-6 -5 -2]\n",
      " [ 7 -2 -3]]\n",
      "sub\n",
      "[[21 72 15]\n",
      " [27 14 35]\n",
      " [ 8 63 28]]\n",
      "multiplication\n",
      "[[2.33333333 1.125      0.6       ]\n",
      " [0.33333333 0.28571429 0.71428571]\n",
      " [8.         0.77777778 0.57142857]]\n",
      "div\n",
      "[[1 1 3]\n",
      " [3 2 5]\n",
      " [0 7 4]]\n"
     ]
    }
   ],
   "source": [
    "print(x+y)\n",
    "print('add')  #for gap\n",
    "print(x-y)\n",
    "print('sub')\n",
    "print(x * y)\n",
    "print('multiplication')\n",
    "print(x / y)\n",
    "print('div')\n",
    "print(x % y)"
   ]
  },
  {
   "cell_type": "code",
   "execution_count": 12,
   "metadata": {},
   "outputs": [
    {
     "name": "stdout",
     "output_type": "stream",
     "text": [
      "[[105 146 119]\n",
      " [ 32  83  64]\n",
      " [ 91 149 117]]\n",
      "\n"
     ]
    }
   ],
   "source": [
    "print(x.dot(y))\n",
    "print()\n"
   ]
  },
  {
   "cell_type": "code",
   "execution_count": 13,
   "metadata": {},
   "outputs": [
    {
     "data": {
      "text/plain": [
       "48"
      ]
     },
     "execution_count": 13,
     "metadata": {},
     "output_type": "execute_result"
    }
   ],
   "source": [
    "x.sum()"
   ]
  },
  {
   "cell_type": "code",
   "execution_count": 14,
   "metadata": {},
   "outputs": [
    {
     "data": {
      "text/plain": [
       "array([18, 18, 12])"
      ]
     },
     "execution_count": 14,
     "metadata": {},
     "output_type": "execute_result"
    }
   ],
   "source": [
    "x.sum(axis=0) # row wise sum"
   ]
  },
  {
   "cell_type": "code",
   "execution_count": 15,
   "metadata": {},
   "outputs": [
    {
     "data": {
      "text/plain": [
       "array([19, 10, 19])"
      ]
     },
     "execution_count": 15,
     "metadata": {},
     "output_type": "execute_result"
    }
   ],
   "source": [
    "x.sum(axis=1) # col wise sum"
   ]
  },
  {
   "cell_type": "code",
   "execution_count": 21,
   "metadata": {},
   "outputs": [
    {
     "name": "stdout",
     "output_type": "stream",
     "text": [
      "5.333333333333333\n",
      "[6. 6. 4.]\n",
      "[6.33333333 3.33333333 6.33333333]\n"
     ]
    }
   ],
   "source": [
    "print(x.mean()) #all\n",
    "print(x.mean(axis=0)) # row\n",
    "print(x.mean(axis=1)) #col"
   ]
  },
  {
   "cell_type": "code",
   "execution_count": 23,
   "metadata": {},
   "outputs": [
    {
     "name": "stdout",
     "output_type": "stream",
     "text": [
      "9\n",
      "2\n",
      "1\n",
      "4\n"
     ]
    }
   ],
   "source": [
    "print(x.max()) # max value\n",
    "print(x.min()) # min vlue\n",
    "print(x.argmax())  # index of max value\n",
    "print(x.argmin()) # index of min value\n",
    "#print(x.flatten[4]) # accessing the index value given by argmax()"
   ]
  },
  {
   "cell_type": "code",
   "execution_count": 24,
   "metadata": {},
   "outputs": [
    {
     "data": {
      "text/plain": [
       "5.0"
      ]
     },
     "execution_count": 24,
     "metadata": {},
     "output_type": "execute_result"
    }
   ],
   "source": [
    "np.median(x)"
   ]
  },
  {
   "cell_type": "code",
   "execution_count": null,
   "metadata": {},
   "outputs": [],
   "source": []
  }
 ],
 "metadata": {
  "kernelspec": {
   "display_name": "Python 3.9.12 ('base')",
   "language": "python",
   "name": "python3"
  },
  "language_info": {
   "codemirror_mode": {
    "name": "ipython",
    "version": 3
   },
   "file_extension": ".py",
   "mimetype": "text/x-python",
   "name": "python",
   "nbconvert_exporter": "python",
   "pygments_lexer": "ipython3",
   "version": "3.9.12"
  },
  "orig_nbformat": 4,
  "vscode": {
   "interpreter": {
    "hash": "c8d055a2e917c4ff563d3cc6f515ed9e913311c2b5e5c5ae825c2758b2ad8b8b"
   }
  }
 },
 "nbformat": 4,
 "nbformat_minor": 2
}
