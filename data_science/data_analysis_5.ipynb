{
 "cells": [
  {
   "cell_type": "code",
   "execution_count": 18,
   "metadata": {},
   "outputs": [],
   "source": [
    "import pandas as pd\n",
    "import numpy as np\n",
    "import matplotlib.pyplot as plt"
   ]
  },
  {
   "cell_type": "code",
   "execution_count": 19,
   "metadata": {},
   "outputs": [],
   "source": [
    "pd.set_option('display.max_column',None)"
   ]
  },
  {
   "cell_type": "markdown",
   "metadata": {},
   "source": [
    "<h3>Load the data<h3>"
   ]
  },
  {
   "cell_type": "code",
   "execution_count": 20,
   "metadata": {},
   "outputs": [
    {
     "data": {
      "text/html": [
       "<div>\n",
       "<style scoped>\n",
       "    .dataframe tbody tr th:only-of-type {\n",
       "        vertical-align: middle;\n",
       "    }\n",
       "\n",
       "    .dataframe tbody tr th {\n",
       "        vertical-align: top;\n",
       "    }\n",
       "\n",
       "    .dataframe thead th {\n",
       "        text-align: right;\n",
       "    }\n",
       "</style>\n",
       "<table border=\"1\" class=\"dataframe\">\n",
       "  <thead>\n",
       "    <tr style=\"text-align: right;\">\n",
       "      <th></th>\n",
       "      <th>Type</th>\n",
       "      <th>Coverage</th>\n",
       "      <th>OdName</th>\n",
       "      <th>AREA</th>\n",
       "      <th>AreaName</th>\n",
       "      <th>REG</th>\n",
       "      <th>RegName</th>\n",
       "      <th>DEV</th>\n",
       "      <th>DevName</th>\n",
       "      <th>1980</th>\n",
       "      <th>1981</th>\n",
       "      <th>1982</th>\n",
       "      <th>1983</th>\n",
       "      <th>1984</th>\n",
       "      <th>1985</th>\n",
       "      <th>1986</th>\n",
       "      <th>1987</th>\n",
       "      <th>1988</th>\n",
       "      <th>1989</th>\n",
       "      <th>1990</th>\n",
       "      <th>1991</th>\n",
       "      <th>1992</th>\n",
       "      <th>1993</th>\n",
       "      <th>1994</th>\n",
       "      <th>1995</th>\n",
       "      <th>1996</th>\n",
       "      <th>1997</th>\n",
       "      <th>1998</th>\n",
       "      <th>1999</th>\n",
       "      <th>2000</th>\n",
       "      <th>2001</th>\n",
       "      <th>2002</th>\n",
       "      <th>2003</th>\n",
       "      <th>2004</th>\n",
       "      <th>2005</th>\n",
       "      <th>2006</th>\n",
       "      <th>2007</th>\n",
       "      <th>2008</th>\n",
       "      <th>2009</th>\n",
       "      <th>2010</th>\n",
       "      <th>2011</th>\n",
       "      <th>2012</th>\n",
       "      <th>2013</th>\n",
       "    </tr>\n",
       "  </thead>\n",
       "  <tbody>\n",
       "    <tr>\n",
       "      <th>0</th>\n",
       "      <td>Immigrants</td>\n",
       "      <td>Foreigners</td>\n",
       "      <td>Afghanistan</td>\n",
       "      <td>935</td>\n",
       "      <td>Asia</td>\n",
       "      <td>5501</td>\n",
       "      <td>Southern Asia</td>\n",
       "      <td>902</td>\n",
       "      <td>Developing regions</td>\n",
       "      <td>16</td>\n",
       "      <td>39</td>\n",
       "      <td>39</td>\n",
       "      <td>47</td>\n",
       "      <td>71</td>\n",
       "      <td>340</td>\n",
       "      <td>496</td>\n",
       "      <td>741</td>\n",
       "      <td>828</td>\n",
       "      <td>1076</td>\n",
       "      <td>1028</td>\n",
       "      <td>1378</td>\n",
       "      <td>1170</td>\n",
       "      <td>713</td>\n",
       "      <td>858</td>\n",
       "      <td>1537</td>\n",
       "      <td>2212</td>\n",
       "      <td>2555</td>\n",
       "      <td>1999</td>\n",
       "      <td>2395</td>\n",
       "      <td>3326</td>\n",
       "      <td>4067</td>\n",
       "      <td>3697</td>\n",
       "      <td>3479</td>\n",
       "      <td>2978</td>\n",
       "      <td>3436</td>\n",
       "      <td>3009</td>\n",
       "      <td>2652</td>\n",
       "      <td>2111</td>\n",
       "      <td>1746</td>\n",
       "      <td>1758</td>\n",
       "      <td>2203</td>\n",
       "      <td>2635</td>\n",
       "      <td>2004</td>\n",
       "    </tr>\n",
       "    <tr>\n",
       "      <th>1</th>\n",
       "      <td>Immigrants</td>\n",
       "      <td>Foreigners</td>\n",
       "      <td>Albania</td>\n",
       "      <td>908</td>\n",
       "      <td>Europe</td>\n",
       "      <td>925</td>\n",
       "      <td>Southern Europe</td>\n",
       "      <td>901</td>\n",
       "      <td>Developed regions</td>\n",
       "      <td>1</td>\n",
       "      <td>0</td>\n",
       "      <td>0</td>\n",
       "      <td>0</td>\n",
       "      <td>0</td>\n",
       "      <td>0</td>\n",
       "      <td>1</td>\n",
       "      <td>2</td>\n",
       "      <td>2</td>\n",
       "      <td>3</td>\n",
       "      <td>3</td>\n",
       "      <td>21</td>\n",
       "      <td>56</td>\n",
       "      <td>96</td>\n",
       "      <td>71</td>\n",
       "      <td>63</td>\n",
       "      <td>113</td>\n",
       "      <td>307</td>\n",
       "      <td>574</td>\n",
       "      <td>1264</td>\n",
       "      <td>1816</td>\n",
       "      <td>1602</td>\n",
       "      <td>1021</td>\n",
       "      <td>853</td>\n",
       "      <td>1450</td>\n",
       "      <td>1223</td>\n",
       "      <td>856</td>\n",
       "      <td>702</td>\n",
       "      <td>560</td>\n",
       "      <td>716</td>\n",
       "      <td>561</td>\n",
       "      <td>539</td>\n",
       "      <td>620</td>\n",
       "      <td>603</td>\n",
       "    </tr>\n",
       "    <tr>\n",
       "      <th>2</th>\n",
       "      <td>Immigrants</td>\n",
       "      <td>Foreigners</td>\n",
       "      <td>Algeria</td>\n",
       "      <td>903</td>\n",
       "      <td>Africa</td>\n",
       "      <td>912</td>\n",
       "      <td>Northern Africa</td>\n",
       "      <td>902</td>\n",
       "      <td>Developing regions</td>\n",
       "      <td>80</td>\n",
       "      <td>67</td>\n",
       "      <td>71</td>\n",
       "      <td>69</td>\n",
       "      <td>63</td>\n",
       "      <td>44</td>\n",
       "      <td>69</td>\n",
       "      <td>132</td>\n",
       "      <td>242</td>\n",
       "      <td>434</td>\n",
       "      <td>491</td>\n",
       "      <td>872</td>\n",
       "      <td>795</td>\n",
       "      <td>717</td>\n",
       "      <td>595</td>\n",
       "      <td>1106</td>\n",
       "      <td>2054</td>\n",
       "      <td>1842</td>\n",
       "      <td>2292</td>\n",
       "      <td>2389</td>\n",
       "      <td>2867</td>\n",
       "      <td>3418</td>\n",
       "      <td>3406</td>\n",
       "      <td>3072</td>\n",
       "      <td>3616</td>\n",
       "      <td>3626</td>\n",
       "      <td>4807</td>\n",
       "      <td>3623</td>\n",
       "      <td>4005</td>\n",
       "      <td>5393</td>\n",
       "      <td>4752</td>\n",
       "      <td>4325</td>\n",
       "      <td>3774</td>\n",
       "      <td>4331</td>\n",
       "    </tr>\n",
       "    <tr>\n",
       "      <th>3</th>\n",
       "      <td>Immigrants</td>\n",
       "      <td>Foreigners</td>\n",
       "      <td>American Samoa</td>\n",
       "      <td>909</td>\n",
       "      <td>Oceania</td>\n",
       "      <td>957</td>\n",
       "      <td>Polynesia</td>\n",
       "      <td>902</td>\n",
       "      <td>Developing regions</td>\n",
       "      <td>0</td>\n",
       "      <td>1</td>\n",
       "      <td>0</td>\n",
       "      <td>0</td>\n",
       "      <td>0</td>\n",
       "      <td>0</td>\n",
       "      <td>0</td>\n",
       "      <td>1</td>\n",
       "      <td>0</td>\n",
       "      <td>1</td>\n",
       "      <td>2</td>\n",
       "      <td>0</td>\n",
       "      <td>0</td>\n",
       "      <td>0</td>\n",
       "      <td>0</td>\n",
       "      <td>0</td>\n",
       "      <td>0</td>\n",
       "      <td>0</td>\n",
       "      <td>0</td>\n",
       "      <td>0</td>\n",
       "      <td>0</td>\n",
       "      <td>0</td>\n",
       "      <td>0</td>\n",
       "      <td>0</td>\n",
       "      <td>0</td>\n",
       "      <td>0</td>\n",
       "      <td>1</td>\n",
       "      <td>0</td>\n",
       "      <td>0</td>\n",
       "      <td>0</td>\n",
       "      <td>0</td>\n",
       "      <td>0</td>\n",
       "      <td>0</td>\n",
       "      <td>0</td>\n",
       "    </tr>\n",
       "    <tr>\n",
       "      <th>4</th>\n",
       "      <td>Immigrants</td>\n",
       "      <td>Foreigners</td>\n",
       "      <td>Andorra</td>\n",
       "      <td>908</td>\n",
       "      <td>Europe</td>\n",
       "      <td>925</td>\n",
       "      <td>Southern Europe</td>\n",
       "      <td>901</td>\n",
       "      <td>Developed regions</td>\n",
       "      <td>0</td>\n",
       "      <td>0</td>\n",
       "      <td>0</td>\n",
       "      <td>0</td>\n",
       "      <td>0</td>\n",
       "      <td>0</td>\n",
       "      <td>2</td>\n",
       "      <td>0</td>\n",
       "      <td>0</td>\n",
       "      <td>0</td>\n",
       "      <td>3</td>\n",
       "      <td>0</td>\n",
       "      <td>1</td>\n",
       "      <td>0</td>\n",
       "      <td>0</td>\n",
       "      <td>0</td>\n",
       "      <td>0</td>\n",
       "      <td>0</td>\n",
       "      <td>2</td>\n",
       "      <td>0</td>\n",
       "      <td>0</td>\n",
       "      <td>1</td>\n",
       "      <td>0</td>\n",
       "      <td>2</td>\n",
       "      <td>0</td>\n",
       "      <td>0</td>\n",
       "      <td>1</td>\n",
       "      <td>1</td>\n",
       "      <td>0</td>\n",
       "      <td>0</td>\n",
       "      <td>0</td>\n",
       "      <td>0</td>\n",
       "      <td>1</td>\n",
       "      <td>1</td>\n",
       "    </tr>\n",
       "  </tbody>\n",
       "</table>\n",
       "</div>"
      ],
      "text/plain": [
       "         Type    Coverage          OdName  AREA AreaName   REG  \\\n",
       "0  Immigrants  Foreigners     Afghanistan   935     Asia  5501   \n",
       "1  Immigrants  Foreigners         Albania   908   Europe   925   \n",
       "2  Immigrants  Foreigners         Algeria   903   Africa   912   \n",
       "3  Immigrants  Foreigners  American Samoa   909  Oceania   957   \n",
       "4  Immigrants  Foreigners         Andorra   908   Europe   925   \n",
       "\n",
       "           RegName  DEV             DevName  1980  1981  1982  1983  1984  \\\n",
       "0    Southern Asia  902  Developing regions    16    39    39    47    71   \n",
       "1  Southern Europe  901   Developed regions     1     0     0     0     0   \n",
       "2  Northern Africa  902  Developing regions    80    67    71    69    63   \n",
       "3        Polynesia  902  Developing regions     0     1     0     0     0   \n",
       "4  Southern Europe  901   Developed regions     0     0     0     0     0   \n",
       "\n",
       "   1985  1986  1987  1988  1989  1990  1991  1992  1993  1994  1995  1996  \\\n",
       "0   340   496   741   828  1076  1028  1378  1170   713   858  1537  2212   \n",
       "1     0     1     2     2     3     3    21    56    96    71    63   113   \n",
       "2    44    69   132   242   434   491   872   795   717   595  1106  2054   \n",
       "3     0     0     1     0     1     2     0     0     0     0     0     0   \n",
       "4     0     2     0     0     0     3     0     1     0     0     0     0   \n",
       "\n",
       "   1997  1998  1999  2000  2001  2002  2003  2004  2005  2006  2007  2008  \\\n",
       "0  2555  1999  2395  3326  4067  3697  3479  2978  3436  3009  2652  2111   \n",
       "1   307   574  1264  1816  1602  1021   853  1450  1223   856   702   560   \n",
       "2  1842  2292  2389  2867  3418  3406  3072  3616  3626  4807  3623  4005   \n",
       "3     0     0     0     0     0     0     0     0     0     1     0     0   \n",
       "4     0     2     0     0     1     0     2     0     0     1     1     0   \n",
       "\n",
       "   2009  2010  2011  2012  2013  \n",
       "0  1746  1758  2203  2635  2004  \n",
       "1   716   561   539   620   603  \n",
       "2  5393  4752  4325  3774  4331  \n",
       "3     0     0     0     0     0  \n",
       "4     0     0     0     1     1  "
      ]
     },
     "execution_count": 20,
     "metadata": {},
     "output_type": "execute_result"
    }
   ],
   "source": [
    "df = pd.read_excel('Canada.xlsx',sheet_name='Canada by Citizenship',\n",
    "     skiprows=20,skipfooter=2)\n",
    "df.head()"
   ]
  },
  {
   "cell_type": "markdown",
   "metadata": {},
   "source": [
    "<h3>Processing of the data according to need <h3>"
   ]
  },
  {
   "cell_type": "code",
   "execution_count": 21,
   "metadata": {},
   "outputs": [
    {
     "name": "stdout",
     "output_type": "stream",
     "text": [
      "['Type', 'Coverage', 'OdName', 'AREA', 'AreaName', 'REG', 'RegName', 'DEV', 'DevName', 1980, 1981, 1982, 1983, 1984, 1985, 1986, 1987, 1988, 1989, 1990, 1991, 1992, 1993, 1994, 1995, 1996, 1997, 1998, 1999, 2000, 2001, 2002, 2003, 2004, 2005, 2006, 2007, 2008, 2009, 2010, 2011, 2012, 2013]\n"
     ]
    }
   ],
   "source": [
    "print(df.columns.tolist())"
   ]
  },
  {
   "cell_type": "markdown",
   "metadata": {},
   "source": [
    "<h4>Columns renaming according to need<h4>"
   ]
  },
  {
   "cell_type": "code",
   "execution_count": 22,
   "metadata": {},
   "outputs": [],
   "source": [
    "df.rename({'OdName':'country',\n",
    "'AreaName':'continent',\n",
    "'RegName':'region',\n",
    "'DevName':'country_status'\n",
    "}, axis=1,inplace= True)"
   ]
  },
  {
   "cell_type": "markdown",
   "metadata": {},
   "source": [
    "chech the count of values in the categorical columns and drop if the count is 1"
   ]
  },
  {
   "cell_type": "code",
   "execution_count": 23,
   "metadata": {},
   "outputs": [
    {
     "data": {
      "text/html": [
       "<div>\n",
       "<style scoped>\n",
       "    .dataframe tbody tr th:only-of-type {\n",
       "        vertical-align: middle;\n",
       "    }\n",
       "\n",
       "    .dataframe tbody tr th {\n",
       "        vertical-align: top;\n",
       "    }\n",
       "\n",
       "    .dataframe thead th {\n",
       "        text-align: right;\n",
       "    }\n",
       "</style>\n",
       "<table border=\"1\" class=\"dataframe\">\n",
       "  <thead>\n",
       "    <tr style=\"text-align: right;\">\n",
       "      <th></th>\n",
       "      <th>Type</th>\n",
       "      <th>Coverage</th>\n",
       "      <th>country</th>\n",
       "      <th>continent</th>\n",
       "      <th>region</th>\n",
       "      <th>country_status</th>\n",
       "    </tr>\n",
       "  </thead>\n",
       "  <tbody>\n",
       "    <tr>\n",
       "      <th>count</th>\n",
       "      <td>195</td>\n",
       "      <td>195</td>\n",
       "      <td>195</td>\n",
       "      <td>195</td>\n",
       "      <td>195</td>\n",
       "      <td>195</td>\n",
       "    </tr>\n",
       "    <tr>\n",
       "      <th>unique</th>\n",
       "      <td>1</td>\n",
       "      <td>2</td>\n",
       "      <td>195</td>\n",
       "      <td>6</td>\n",
       "      <td>22</td>\n",
       "      <td>2</td>\n",
       "    </tr>\n",
       "    <tr>\n",
       "      <th>top</th>\n",
       "      <td>Immigrants</td>\n",
       "      <td>Foreigners</td>\n",
       "      <td>Afghanistan</td>\n",
       "      <td>Africa</td>\n",
       "      <td>Western Asia</td>\n",
       "      <td>Developing regions</td>\n",
       "    </tr>\n",
       "    <tr>\n",
       "      <th>freq</th>\n",
       "      <td>195</td>\n",
       "      <td>194</td>\n",
       "      <td>1</td>\n",
       "      <td>54</td>\n",
       "      <td>18</td>\n",
       "      <td>147</td>\n",
       "    </tr>\n",
       "  </tbody>\n",
       "</table>\n",
       "</div>"
      ],
      "text/plain": [
       "              Type    Coverage      country continent        region  \\\n",
       "count          195         195          195       195           195   \n",
       "unique           1           2          195         6            22   \n",
       "top     Immigrants  Foreigners  Afghanistan    Africa  Western Asia   \n",
       "freq           195         194            1        54            18   \n",
       "\n",
       "            country_status  \n",
       "count                  195  \n",
       "unique                   2  \n",
       "top     Developing regions  \n",
       "freq                   147  "
      ]
     },
     "execution_count": 23,
     "metadata": {},
     "output_type": "execute_result"
    }
   ],
   "source": [
    "df.describe(include='object')"
   ]
  },
  {
   "cell_type": "code",
   "execution_count": 24,
   "metadata": {},
   "outputs": [
    {
     "data": {
      "text/plain": [
       "Immigrants    195\n",
       "Name: Type, dtype: int64"
      ]
     },
     "execution_count": 24,
     "metadata": {},
     "output_type": "execute_result"
    }
   ],
   "source": [
    "df['Type'].value_counts() #count the number of each unique value"
   ]
  },
  {
   "cell_type": "markdown",
   "metadata": {},
   "source": [
    "drop the columns which re not required"
   ]
  },
  {
   "cell_type": "code",
   "execution_count": 25,
   "metadata": {},
   "outputs": [],
   "source": [
    "cols_to_drop = ['Type','Coverage','AREA','REG','DEV']\n",
    "df.drop(columns=cols_to_drop,inplace=True)"
   ]
  },
  {
   "cell_type": "markdown",
   "metadata": {},
   "source": [
    "additional atotal column which is sum of all the years for a particular country"
   ]
  },
  {
   "cell_type": "code",
   "execution_count": 26,
   "metadata": {},
   "outputs": [],
   "source": [
    "df.set_index('country',inplace=True)"
   ]
  },
  {
   "cell_type": "code",
   "execution_count": 27,
   "metadata": {},
   "outputs": [
    {
     "data": {
      "text/html": [
       "<div>\n",
       "<style scoped>\n",
       "    .dataframe tbody tr th:only-of-type {\n",
       "        vertical-align: middle;\n",
       "    }\n",
       "\n",
       "    .dataframe tbody tr th {\n",
       "        vertical-align: top;\n",
       "    }\n",
       "\n",
       "    .dataframe thead th {\n",
       "        text-align: right;\n",
       "    }\n",
       "</style>\n",
       "<table border=\"1\" class=\"dataframe\">\n",
       "  <thead>\n",
       "    <tr style=\"text-align: right;\">\n",
       "      <th></th>\n",
       "      <th>continent</th>\n",
       "      <th>region</th>\n",
       "      <th>country_status</th>\n",
       "      <th>1980</th>\n",
       "      <th>1981</th>\n",
       "      <th>1982</th>\n",
       "      <th>1983</th>\n",
       "      <th>1984</th>\n",
       "      <th>1985</th>\n",
       "      <th>1986</th>\n",
       "      <th>1987</th>\n",
       "      <th>1988</th>\n",
       "      <th>1989</th>\n",
       "      <th>1990</th>\n",
       "      <th>1991</th>\n",
       "      <th>1992</th>\n",
       "      <th>1993</th>\n",
       "      <th>1994</th>\n",
       "      <th>1995</th>\n",
       "      <th>1996</th>\n",
       "      <th>1997</th>\n",
       "      <th>1998</th>\n",
       "      <th>1999</th>\n",
       "      <th>2000</th>\n",
       "      <th>2001</th>\n",
       "      <th>2002</th>\n",
       "      <th>2003</th>\n",
       "      <th>2004</th>\n",
       "      <th>2005</th>\n",
       "      <th>2006</th>\n",
       "      <th>2007</th>\n",
       "      <th>2008</th>\n",
       "      <th>2009</th>\n",
       "      <th>2010</th>\n",
       "      <th>2011</th>\n",
       "      <th>2012</th>\n",
       "      <th>2013</th>\n",
       "      <th>total</th>\n",
       "    </tr>\n",
       "    <tr>\n",
       "      <th>country</th>\n",
       "      <th></th>\n",
       "      <th></th>\n",
       "      <th></th>\n",
       "      <th></th>\n",
       "      <th></th>\n",
       "      <th></th>\n",
       "      <th></th>\n",
       "      <th></th>\n",
       "      <th></th>\n",
       "      <th></th>\n",
       "      <th></th>\n",
       "      <th></th>\n",
       "      <th></th>\n",
       "      <th></th>\n",
       "      <th></th>\n",
       "      <th></th>\n",
       "      <th></th>\n",
       "      <th></th>\n",
       "      <th></th>\n",
       "      <th></th>\n",
       "      <th></th>\n",
       "      <th></th>\n",
       "      <th></th>\n",
       "      <th></th>\n",
       "      <th></th>\n",
       "      <th></th>\n",
       "      <th></th>\n",
       "      <th></th>\n",
       "      <th></th>\n",
       "      <th></th>\n",
       "      <th></th>\n",
       "      <th></th>\n",
       "      <th></th>\n",
       "      <th></th>\n",
       "      <th></th>\n",
       "      <th></th>\n",
       "      <th></th>\n",
       "      <th></th>\n",
       "    </tr>\n",
       "  </thead>\n",
       "  <tbody>\n",
       "    <tr>\n",
       "      <th>Afghanistan</th>\n",
       "      <td>Asia</td>\n",
       "      <td>Southern Asia</td>\n",
       "      <td>Developing regions</td>\n",
       "      <td>16</td>\n",
       "      <td>39</td>\n",
       "      <td>39</td>\n",
       "      <td>47</td>\n",
       "      <td>71</td>\n",
       "      <td>340</td>\n",
       "      <td>496</td>\n",
       "      <td>741</td>\n",
       "      <td>828</td>\n",
       "      <td>1076</td>\n",
       "      <td>1028</td>\n",
       "      <td>1378</td>\n",
       "      <td>1170</td>\n",
       "      <td>713</td>\n",
       "      <td>858</td>\n",
       "      <td>1537</td>\n",
       "      <td>2212</td>\n",
       "      <td>2555</td>\n",
       "      <td>1999</td>\n",
       "      <td>2395</td>\n",
       "      <td>3326</td>\n",
       "      <td>4067</td>\n",
       "      <td>3697</td>\n",
       "      <td>3479</td>\n",
       "      <td>2978</td>\n",
       "      <td>3436</td>\n",
       "      <td>3009</td>\n",
       "      <td>2652</td>\n",
       "      <td>2111</td>\n",
       "      <td>1746</td>\n",
       "      <td>1758</td>\n",
       "      <td>2203</td>\n",
       "      <td>2635</td>\n",
       "      <td>2004</td>\n",
       "      <td>58639</td>\n",
       "    </tr>\n",
       "    <tr>\n",
       "      <th>Albania</th>\n",
       "      <td>Europe</td>\n",
       "      <td>Southern Europe</td>\n",
       "      <td>Developed regions</td>\n",
       "      <td>1</td>\n",
       "      <td>0</td>\n",
       "      <td>0</td>\n",
       "      <td>0</td>\n",
       "      <td>0</td>\n",
       "      <td>0</td>\n",
       "      <td>1</td>\n",
       "      <td>2</td>\n",
       "      <td>2</td>\n",
       "      <td>3</td>\n",
       "      <td>3</td>\n",
       "      <td>21</td>\n",
       "      <td>56</td>\n",
       "      <td>96</td>\n",
       "      <td>71</td>\n",
       "      <td>63</td>\n",
       "      <td>113</td>\n",
       "      <td>307</td>\n",
       "      <td>574</td>\n",
       "      <td>1264</td>\n",
       "      <td>1816</td>\n",
       "      <td>1602</td>\n",
       "      <td>1021</td>\n",
       "      <td>853</td>\n",
       "      <td>1450</td>\n",
       "      <td>1223</td>\n",
       "      <td>856</td>\n",
       "      <td>702</td>\n",
       "      <td>560</td>\n",
       "      <td>716</td>\n",
       "      <td>561</td>\n",
       "      <td>539</td>\n",
       "      <td>620</td>\n",
       "      <td>603</td>\n",
       "      <td>15699</td>\n",
       "    </tr>\n",
       "    <tr>\n",
       "      <th>Algeria</th>\n",
       "      <td>Africa</td>\n",
       "      <td>Northern Africa</td>\n",
       "      <td>Developing regions</td>\n",
       "      <td>80</td>\n",
       "      <td>67</td>\n",
       "      <td>71</td>\n",
       "      <td>69</td>\n",
       "      <td>63</td>\n",
       "      <td>44</td>\n",
       "      <td>69</td>\n",
       "      <td>132</td>\n",
       "      <td>242</td>\n",
       "      <td>434</td>\n",
       "      <td>491</td>\n",
       "      <td>872</td>\n",
       "      <td>795</td>\n",
       "      <td>717</td>\n",
       "      <td>595</td>\n",
       "      <td>1106</td>\n",
       "      <td>2054</td>\n",
       "      <td>1842</td>\n",
       "      <td>2292</td>\n",
       "      <td>2389</td>\n",
       "      <td>2867</td>\n",
       "      <td>3418</td>\n",
       "      <td>3406</td>\n",
       "      <td>3072</td>\n",
       "      <td>3616</td>\n",
       "      <td>3626</td>\n",
       "      <td>4807</td>\n",
       "      <td>3623</td>\n",
       "      <td>4005</td>\n",
       "      <td>5393</td>\n",
       "      <td>4752</td>\n",
       "      <td>4325</td>\n",
       "      <td>3774</td>\n",
       "      <td>4331</td>\n",
       "      <td>69439</td>\n",
       "    </tr>\n",
       "  </tbody>\n",
       "</table>\n",
       "</div>"
      ],
      "text/plain": [
       "            continent           region      country_status  1980  1981  1982  \\\n",
       "country                                                                        \n",
       "Afghanistan      Asia    Southern Asia  Developing regions    16    39    39   \n",
       "Albania        Europe  Southern Europe   Developed regions     1     0     0   \n",
       "Algeria        Africa  Northern Africa  Developing regions    80    67    71   \n",
       "\n",
       "             1983  1984  1985  1986  1987  1988  1989  1990  1991  1992  1993  \\\n",
       "country                                                                         \n",
       "Afghanistan    47    71   340   496   741   828  1076  1028  1378  1170   713   \n",
       "Albania         0     0     0     1     2     2     3     3    21    56    96   \n",
       "Algeria        69    63    44    69   132   242   434   491   872   795   717   \n",
       "\n",
       "             1994  1995  1996  1997  1998  1999  2000  2001  2002  2003  2004  \\\n",
       "country                                                                         \n",
       "Afghanistan   858  1537  2212  2555  1999  2395  3326  4067  3697  3479  2978   \n",
       "Albania        71    63   113   307   574  1264  1816  1602  1021   853  1450   \n",
       "Algeria       595  1106  2054  1842  2292  2389  2867  3418  3406  3072  3616   \n",
       "\n",
       "             2005  2006  2007  2008  2009  2010  2011  2012  2013  total  \n",
       "country                                                                   \n",
       "Afghanistan  3436  3009  2652  2111  1746  1758  2203  2635  2004  58639  \n",
       "Albania      1223   856   702   560   716   561   539   620   603  15699  \n",
       "Algeria      3626  4807  3623  4005  5393  4752  4325  3774  4331  69439  "
      ]
     },
     "execution_count": 27,
     "metadata": {},
     "output_type": "execute_result"
    }
   ],
   "source": [
    "years = list(range(1980,2014))\n",
    "df['total'] = df[years].sum(axis=1)\n",
    "df.head(3)"
   ]
  },
  {
   "cell_type": "markdown",
   "metadata": {},
   "source": [
    "making the country status to binary"
   ]
  },
  {
   "cell_type": "code",
   "execution_count": 28,
   "metadata": {},
   "outputs": [],
   "source": [
    "def binarize(val):\n",
    "    if val == 'Developing region':\n",
    "        return 0\n",
    "    else:\n",
    "        return 1\n",
    "df['country_status'] = df['country_status'].apply(binarize)            "
   ]
  },
  {
   "cell_type": "code",
   "execution_count": 29,
   "metadata": {},
   "outputs": [
    {
     "data": {
      "text/html": [
       "<div>\n",
       "<style scoped>\n",
       "    .dataframe tbody tr th:only-of-type {\n",
       "        vertical-align: middle;\n",
       "    }\n",
       "\n",
       "    .dataframe tbody tr th {\n",
       "        vertical-align: top;\n",
       "    }\n",
       "\n",
       "    .dataframe thead th {\n",
       "        text-align: right;\n",
       "    }\n",
       "</style>\n",
       "<table border=\"1\" class=\"dataframe\">\n",
       "  <thead>\n",
       "    <tr style=\"text-align: right;\">\n",
       "      <th></th>\n",
       "      <th>continent</th>\n",
       "      <th>region</th>\n",
       "      <th>country_status</th>\n",
       "      <th>1980</th>\n",
       "      <th>1981</th>\n",
       "      <th>1982</th>\n",
       "      <th>1983</th>\n",
       "      <th>1984</th>\n",
       "      <th>1985</th>\n",
       "      <th>1986</th>\n",
       "      <th>1987</th>\n",
       "      <th>1988</th>\n",
       "      <th>1989</th>\n",
       "      <th>1990</th>\n",
       "      <th>1991</th>\n",
       "      <th>1992</th>\n",
       "      <th>1993</th>\n",
       "      <th>1994</th>\n",
       "      <th>1995</th>\n",
       "      <th>1996</th>\n",
       "      <th>1997</th>\n",
       "      <th>1998</th>\n",
       "      <th>1999</th>\n",
       "      <th>2000</th>\n",
       "      <th>2001</th>\n",
       "      <th>2002</th>\n",
       "      <th>2003</th>\n",
       "      <th>2004</th>\n",
       "      <th>2005</th>\n",
       "      <th>2006</th>\n",
       "      <th>2007</th>\n",
       "      <th>2008</th>\n",
       "      <th>2009</th>\n",
       "      <th>2010</th>\n",
       "      <th>2011</th>\n",
       "      <th>2012</th>\n",
       "      <th>2013</th>\n",
       "      <th>total</th>\n",
       "    </tr>\n",
       "    <tr>\n",
       "      <th>country</th>\n",
       "      <th></th>\n",
       "      <th></th>\n",
       "      <th></th>\n",
       "      <th></th>\n",
       "      <th></th>\n",
       "      <th></th>\n",
       "      <th></th>\n",
       "      <th></th>\n",
       "      <th></th>\n",
       "      <th></th>\n",
       "      <th></th>\n",
       "      <th></th>\n",
       "      <th></th>\n",
       "      <th></th>\n",
       "      <th></th>\n",
       "      <th></th>\n",
       "      <th></th>\n",
       "      <th></th>\n",
       "      <th></th>\n",
       "      <th></th>\n",
       "      <th></th>\n",
       "      <th></th>\n",
       "      <th></th>\n",
       "      <th></th>\n",
       "      <th></th>\n",
       "      <th></th>\n",
       "      <th></th>\n",
       "      <th></th>\n",
       "      <th></th>\n",
       "      <th></th>\n",
       "      <th></th>\n",
       "      <th></th>\n",
       "      <th></th>\n",
       "      <th></th>\n",
       "      <th></th>\n",
       "      <th></th>\n",
       "      <th></th>\n",
       "      <th></th>\n",
       "    </tr>\n",
       "  </thead>\n",
       "  <tbody>\n",
       "    <tr>\n",
       "      <th>Afghanistan</th>\n",
       "      <td>Asia</td>\n",
       "      <td>Southern Asia</td>\n",
       "      <td>1</td>\n",
       "      <td>16</td>\n",
       "      <td>39</td>\n",
       "      <td>39</td>\n",
       "      <td>47</td>\n",
       "      <td>71</td>\n",
       "      <td>340</td>\n",
       "      <td>496</td>\n",
       "      <td>741</td>\n",
       "      <td>828</td>\n",
       "      <td>1076</td>\n",
       "      <td>1028</td>\n",
       "      <td>1378</td>\n",
       "      <td>1170</td>\n",
       "      <td>713</td>\n",
       "      <td>858</td>\n",
       "      <td>1537</td>\n",
       "      <td>2212</td>\n",
       "      <td>2555</td>\n",
       "      <td>1999</td>\n",
       "      <td>2395</td>\n",
       "      <td>3326</td>\n",
       "      <td>4067</td>\n",
       "      <td>3697</td>\n",
       "      <td>3479</td>\n",
       "      <td>2978</td>\n",
       "      <td>3436</td>\n",
       "      <td>3009</td>\n",
       "      <td>2652</td>\n",
       "      <td>2111</td>\n",
       "      <td>1746</td>\n",
       "      <td>1758</td>\n",
       "      <td>2203</td>\n",
       "      <td>2635</td>\n",
       "      <td>2004</td>\n",
       "      <td>58639</td>\n",
       "    </tr>\n",
       "    <tr>\n",
       "      <th>Albania</th>\n",
       "      <td>Europe</td>\n",
       "      <td>Southern Europe</td>\n",
       "      <td>1</td>\n",
       "      <td>1</td>\n",
       "      <td>0</td>\n",
       "      <td>0</td>\n",
       "      <td>0</td>\n",
       "      <td>0</td>\n",
       "      <td>0</td>\n",
       "      <td>1</td>\n",
       "      <td>2</td>\n",
       "      <td>2</td>\n",
       "      <td>3</td>\n",
       "      <td>3</td>\n",
       "      <td>21</td>\n",
       "      <td>56</td>\n",
       "      <td>96</td>\n",
       "      <td>71</td>\n",
       "      <td>63</td>\n",
       "      <td>113</td>\n",
       "      <td>307</td>\n",
       "      <td>574</td>\n",
       "      <td>1264</td>\n",
       "      <td>1816</td>\n",
       "      <td>1602</td>\n",
       "      <td>1021</td>\n",
       "      <td>853</td>\n",
       "      <td>1450</td>\n",
       "      <td>1223</td>\n",
       "      <td>856</td>\n",
       "      <td>702</td>\n",
       "      <td>560</td>\n",
       "      <td>716</td>\n",
       "      <td>561</td>\n",
       "      <td>539</td>\n",
       "      <td>620</td>\n",
       "      <td>603</td>\n",
       "      <td>15699</td>\n",
       "    </tr>\n",
       "    <tr>\n",
       "      <th>Algeria</th>\n",
       "      <td>Africa</td>\n",
       "      <td>Northern Africa</td>\n",
       "      <td>1</td>\n",
       "      <td>80</td>\n",
       "      <td>67</td>\n",
       "      <td>71</td>\n",
       "      <td>69</td>\n",
       "      <td>63</td>\n",
       "      <td>44</td>\n",
       "      <td>69</td>\n",
       "      <td>132</td>\n",
       "      <td>242</td>\n",
       "      <td>434</td>\n",
       "      <td>491</td>\n",
       "      <td>872</td>\n",
       "      <td>795</td>\n",
       "      <td>717</td>\n",
       "      <td>595</td>\n",
       "      <td>1106</td>\n",
       "      <td>2054</td>\n",
       "      <td>1842</td>\n",
       "      <td>2292</td>\n",
       "      <td>2389</td>\n",
       "      <td>2867</td>\n",
       "      <td>3418</td>\n",
       "      <td>3406</td>\n",
       "      <td>3072</td>\n",
       "      <td>3616</td>\n",
       "      <td>3626</td>\n",
       "      <td>4807</td>\n",
       "      <td>3623</td>\n",
       "      <td>4005</td>\n",
       "      <td>5393</td>\n",
       "      <td>4752</td>\n",
       "      <td>4325</td>\n",
       "      <td>3774</td>\n",
       "      <td>4331</td>\n",
       "      <td>69439</td>\n",
       "    </tr>\n",
       "    <tr>\n",
       "      <th>American Samoa</th>\n",
       "      <td>Oceania</td>\n",
       "      <td>Polynesia</td>\n",
       "      <td>1</td>\n",
       "      <td>0</td>\n",
       "      <td>1</td>\n",
       "      <td>0</td>\n",
       "      <td>0</td>\n",
       "      <td>0</td>\n",
       "      <td>0</td>\n",
       "      <td>0</td>\n",
       "      <td>1</td>\n",
       "      <td>0</td>\n",
       "      <td>1</td>\n",
       "      <td>2</td>\n",
       "      <td>0</td>\n",
       "      <td>0</td>\n",
       "      <td>0</td>\n",
       "      <td>0</td>\n",
       "      <td>0</td>\n",
       "      <td>0</td>\n",
       "      <td>0</td>\n",
       "      <td>0</td>\n",
       "      <td>0</td>\n",
       "      <td>0</td>\n",
       "      <td>0</td>\n",
       "      <td>0</td>\n",
       "      <td>0</td>\n",
       "      <td>0</td>\n",
       "      <td>0</td>\n",
       "      <td>1</td>\n",
       "      <td>0</td>\n",
       "      <td>0</td>\n",
       "      <td>0</td>\n",
       "      <td>0</td>\n",
       "      <td>0</td>\n",
       "      <td>0</td>\n",
       "      <td>0</td>\n",
       "      <td>6</td>\n",
       "    </tr>\n",
       "    <tr>\n",
       "      <th>Andorra</th>\n",
       "      <td>Europe</td>\n",
       "      <td>Southern Europe</td>\n",
       "      <td>1</td>\n",
       "      <td>0</td>\n",
       "      <td>0</td>\n",
       "      <td>0</td>\n",
       "      <td>0</td>\n",
       "      <td>0</td>\n",
       "      <td>0</td>\n",
       "      <td>2</td>\n",
       "      <td>0</td>\n",
       "      <td>0</td>\n",
       "      <td>0</td>\n",
       "      <td>3</td>\n",
       "      <td>0</td>\n",
       "      <td>1</td>\n",
       "      <td>0</td>\n",
       "      <td>0</td>\n",
       "      <td>0</td>\n",
       "      <td>0</td>\n",
       "      <td>0</td>\n",
       "      <td>2</td>\n",
       "      <td>0</td>\n",
       "      <td>0</td>\n",
       "      <td>1</td>\n",
       "      <td>0</td>\n",
       "      <td>2</td>\n",
       "      <td>0</td>\n",
       "      <td>0</td>\n",
       "      <td>1</td>\n",
       "      <td>1</td>\n",
       "      <td>0</td>\n",
       "      <td>0</td>\n",
       "      <td>0</td>\n",
       "      <td>0</td>\n",
       "      <td>1</td>\n",
       "      <td>1</td>\n",
       "      <td>15</td>\n",
       "    </tr>\n",
       "  </tbody>\n",
       "</table>\n",
       "</div>"
      ],
      "text/plain": [
       "               continent           region  country_status  1980  1981  1982  \\\n",
       "country                                                                       \n",
       "Afghanistan         Asia    Southern Asia               1    16    39    39   \n",
       "Albania           Europe  Southern Europe               1     1     0     0   \n",
       "Algeria           Africa  Northern Africa               1    80    67    71   \n",
       "American Samoa   Oceania        Polynesia               1     0     1     0   \n",
       "Andorra           Europe  Southern Europe               1     0     0     0   \n",
       "\n",
       "                1983  1984  1985  1986  1987  1988  1989  1990  1991  1992  \\\n",
       "country                                                                      \n",
       "Afghanistan       47    71   340   496   741   828  1076  1028  1378  1170   \n",
       "Albania            0     0     0     1     2     2     3     3    21    56   \n",
       "Algeria           69    63    44    69   132   242   434   491   872   795   \n",
       "American Samoa     0     0     0     0     1     0     1     2     0     0   \n",
       "Andorra            0     0     0     2     0     0     0     3     0     1   \n",
       "\n",
       "                1993  1994  1995  1996  1997  1998  1999  2000  2001  2002  \\\n",
       "country                                                                      \n",
       "Afghanistan      713   858  1537  2212  2555  1999  2395  3326  4067  3697   \n",
       "Albania           96    71    63   113   307   574  1264  1816  1602  1021   \n",
       "Algeria          717   595  1106  2054  1842  2292  2389  2867  3418  3406   \n",
       "American Samoa     0     0     0     0     0     0     0     0     0     0   \n",
       "Andorra            0     0     0     0     0     2     0     0     1     0   \n",
       "\n",
       "                2003  2004  2005  2006  2007  2008  2009  2010  2011  2012  \\\n",
       "country                                                                      \n",
       "Afghanistan     3479  2978  3436  3009  2652  2111  1746  1758  2203  2635   \n",
       "Albania          853  1450  1223   856   702   560   716   561   539   620   \n",
       "Algeria         3072  3616  3626  4807  3623  4005  5393  4752  4325  3774   \n",
       "American Samoa     0     0     0     1     0     0     0     0     0     0   \n",
       "Andorra            2     0     0     1     1     0     0     0     0     1   \n",
       "\n",
       "                2013  total  \n",
       "country                      \n",
       "Afghanistan     2004  58639  \n",
       "Albania          603  15699  \n",
       "Algeria         4331  69439  \n",
       "American Samoa     0      6  \n",
       "Andorra            1     15  "
      ]
     },
     "execution_count": 29,
     "metadata": {},
     "output_type": "execute_result"
    }
   ],
   "source": [
    "df.head()"
   ]
  },
  {
   "cell_type": "code",
   "execution_count": 30,
   "metadata": {},
   "outputs": [
    {
     "data": {
      "text/html": [
       "<div>\n",
       "<style scoped>\n",
       "    .dataframe tbody tr th:only-of-type {\n",
       "        vertical-align: middle;\n",
       "    }\n",
       "\n",
       "    .dataframe tbody tr th {\n",
       "        vertical-align: top;\n",
       "    }\n",
       "\n",
       "    .dataframe thead th {\n",
       "        text-align: right;\n",
       "    }\n",
       "</style>\n",
       "<table border=\"1\" class=\"dataframe\">\n",
       "  <thead>\n",
       "    <tr style=\"text-align: right;\">\n",
       "      <th></th>\n",
       "      <th>continent</th>\n",
       "      <th>region</th>\n",
       "      <th>country_status</th>\n",
       "      <th>1980</th>\n",
       "      <th>1981</th>\n",
       "      <th>1982</th>\n",
       "      <th>1983</th>\n",
       "      <th>1984</th>\n",
       "      <th>1985</th>\n",
       "      <th>1986</th>\n",
       "      <th>1987</th>\n",
       "      <th>1988</th>\n",
       "      <th>1989</th>\n",
       "      <th>1990</th>\n",
       "      <th>1991</th>\n",
       "      <th>1992</th>\n",
       "      <th>1993</th>\n",
       "      <th>1994</th>\n",
       "      <th>1995</th>\n",
       "      <th>1996</th>\n",
       "      <th>1997</th>\n",
       "      <th>1998</th>\n",
       "      <th>1999</th>\n",
       "      <th>2000</th>\n",
       "      <th>2001</th>\n",
       "      <th>2002</th>\n",
       "      <th>2003</th>\n",
       "      <th>2004</th>\n",
       "      <th>2005</th>\n",
       "      <th>2006</th>\n",
       "      <th>2007</th>\n",
       "      <th>2008</th>\n",
       "      <th>2009</th>\n",
       "      <th>2010</th>\n",
       "      <th>2011</th>\n",
       "      <th>2012</th>\n",
       "      <th>2013</th>\n",
       "      <th>total</th>\n",
       "    </tr>\n",
       "    <tr>\n",
       "      <th>country</th>\n",
       "      <th></th>\n",
       "      <th></th>\n",
       "      <th></th>\n",
       "      <th></th>\n",
       "      <th></th>\n",
       "      <th></th>\n",
       "      <th></th>\n",
       "      <th></th>\n",
       "      <th></th>\n",
       "      <th></th>\n",
       "      <th></th>\n",
       "      <th></th>\n",
       "      <th></th>\n",
       "      <th></th>\n",
       "      <th></th>\n",
       "      <th></th>\n",
       "      <th></th>\n",
       "      <th></th>\n",
       "      <th></th>\n",
       "      <th></th>\n",
       "      <th></th>\n",
       "      <th></th>\n",
       "      <th></th>\n",
       "      <th></th>\n",
       "      <th></th>\n",
       "      <th></th>\n",
       "      <th></th>\n",
       "      <th></th>\n",
       "      <th></th>\n",
       "      <th></th>\n",
       "      <th></th>\n",
       "      <th></th>\n",
       "      <th></th>\n",
       "      <th></th>\n",
       "      <th></th>\n",
       "      <th></th>\n",
       "      <th></th>\n",
       "      <th></th>\n",
       "    </tr>\n",
       "  </thead>\n",
       "  <tbody>\n",
       "    <tr>\n",
       "      <th>India</th>\n",
       "      <td>Asia</td>\n",
       "      <td>Southern Asia</td>\n",
       "      <td>1</td>\n",
       "      <td>8880</td>\n",
       "      <td>8670</td>\n",
       "      <td>8147</td>\n",
       "      <td>7338</td>\n",
       "      <td>5704</td>\n",
       "      <td>4211</td>\n",
       "      <td>7150</td>\n",
       "      <td>10189</td>\n",
       "      <td>11522</td>\n",
       "      <td>10343</td>\n",
       "      <td>12041</td>\n",
       "      <td>13734</td>\n",
       "      <td>13673</td>\n",
       "      <td>21496</td>\n",
       "      <td>18620</td>\n",
       "      <td>18489</td>\n",
       "      <td>23859</td>\n",
       "      <td>22268</td>\n",
       "      <td>17241</td>\n",
       "      <td>18974</td>\n",
       "      <td>28572</td>\n",
       "      <td>31223</td>\n",
       "      <td>31889</td>\n",
       "      <td>27155</td>\n",
       "      <td>28235</td>\n",
       "      <td>36210</td>\n",
       "      <td>33848</td>\n",
       "      <td>28742</td>\n",
       "      <td>28261</td>\n",
       "      <td>29456</td>\n",
       "      <td>34235</td>\n",
       "      <td>27509</td>\n",
       "      <td>30933</td>\n",
       "      <td>33087</td>\n",
       "      <td>691904</td>\n",
       "    </tr>\n",
       "    <tr>\n",
       "      <th>China</th>\n",
       "      <td>Asia</td>\n",
       "      <td>Eastern Asia</td>\n",
       "      <td>1</td>\n",
       "      <td>5123</td>\n",
       "      <td>6682</td>\n",
       "      <td>3308</td>\n",
       "      <td>1863</td>\n",
       "      <td>1527</td>\n",
       "      <td>1816</td>\n",
       "      <td>1960</td>\n",
       "      <td>2643</td>\n",
       "      <td>2758</td>\n",
       "      <td>4323</td>\n",
       "      <td>8076</td>\n",
       "      <td>14255</td>\n",
       "      <td>10846</td>\n",
       "      <td>9817</td>\n",
       "      <td>13128</td>\n",
       "      <td>14398</td>\n",
       "      <td>19415</td>\n",
       "      <td>20475</td>\n",
       "      <td>21049</td>\n",
       "      <td>30069</td>\n",
       "      <td>35529</td>\n",
       "      <td>36434</td>\n",
       "      <td>31961</td>\n",
       "      <td>36439</td>\n",
       "      <td>36619</td>\n",
       "      <td>42584</td>\n",
       "      <td>33518</td>\n",
       "      <td>27642</td>\n",
       "      <td>30037</td>\n",
       "      <td>29622</td>\n",
       "      <td>30391</td>\n",
       "      <td>28502</td>\n",
       "      <td>33024</td>\n",
       "      <td>34129</td>\n",
       "      <td>659962</td>\n",
       "    </tr>\n",
       "    <tr>\n",
       "      <th>United Kingdom of Great Britain and Northern Ireland</th>\n",
       "      <td>Europe</td>\n",
       "      <td>Northern Europe</td>\n",
       "      <td>1</td>\n",
       "      <td>22045</td>\n",
       "      <td>24796</td>\n",
       "      <td>20620</td>\n",
       "      <td>10015</td>\n",
       "      <td>10170</td>\n",
       "      <td>9564</td>\n",
       "      <td>9470</td>\n",
       "      <td>21337</td>\n",
       "      <td>27359</td>\n",
       "      <td>23795</td>\n",
       "      <td>31668</td>\n",
       "      <td>23380</td>\n",
       "      <td>34123</td>\n",
       "      <td>33720</td>\n",
       "      <td>39231</td>\n",
       "      <td>30145</td>\n",
       "      <td>29322</td>\n",
       "      <td>22965</td>\n",
       "      <td>10367</td>\n",
       "      <td>7045</td>\n",
       "      <td>8840</td>\n",
       "      <td>11728</td>\n",
       "      <td>8046</td>\n",
       "      <td>6797</td>\n",
       "      <td>7533</td>\n",
       "      <td>7258</td>\n",
       "      <td>7140</td>\n",
       "      <td>8216</td>\n",
       "      <td>8979</td>\n",
       "      <td>8876</td>\n",
       "      <td>8724</td>\n",
       "      <td>6204</td>\n",
       "      <td>6195</td>\n",
       "      <td>5827</td>\n",
       "      <td>551500</td>\n",
       "    </tr>\n",
       "    <tr>\n",
       "      <th>Philippines</th>\n",
       "      <td>Asia</td>\n",
       "      <td>South-Eastern Asia</td>\n",
       "      <td>1</td>\n",
       "      <td>6051</td>\n",
       "      <td>5921</td>\n",
       "      <td>5249</td>\n",
       "      <td>4562</td>\n",
       "      <td>3801</td>\n",
       "      <td>3150</td>\n",
       "      <td>4166</td>\n",
       "      <td>7360</td>\n",
       "      <td>8639</td>\n",
       "      <td>11865</td>\n",
       "      <td>12509</td>\n",
       "      <td>12718</td>\n",
       "      <td>13670</td>\n",
       "      <td>20479</td>\n",
       "      <td>19532</td>\n",
       "      <td>15864</td>\n",
       "      <td>13692</td>\n",
       "      <td>11549</td>\n",
       "      <td>8735</td>\n",
       "      <td>9734</td>\n",
       "      <td>10763</td>\n",
       "      <td>13836</td>\n",
       "      <td>11707</td>\n",
       "      <td>12758</td>\n",
       "      <td>14004</td>\n",
       "      <td>18139</td>\n",
       "      <td>18400</td>\n",
       "      <td>19837</td>\n",
       "      <td>24887</td>\n",
       "      <td>28573</td>\n",
       "      <td>38617</td>\n",
       "      <td>36765</td>\n",
       "      <td>34315</td>\n",
       "      <td>29544</td>\n",
       "      <td>511391</td>\n",
       "    </tr>\n",
       "    <tr>\n",
       "      <th>Pakistan</th>\n",
       "      <td>Asia</td>\n",
       "      <td>Southern Asia</td>\n",
       "      <td>1</td>\n",
       "      <td>978</td>\n",
       "      <td>972</td>\n",
       "      <td>1201</td>\n",
       "      <td>900</td>\n",
       "      <td>668</td>\n",
       "      <td>514</td>\n",
       "      <td>691</td>\n",
       "      <td>1072</td>\n",
       "      <td>1334</td>\n",
       "      <td>2261</td>\n",
       "      <td>2470</td>\n",
       "      <td>3079</td>\n",
       "      <td>4071</td>\n",
       "      <td>4777</td>\n",
       "      <td>4666</td>\n",
       "      <td>4994</td>\n",
       "      <td>9125</td>\n",
       "      <td>13073</td>\n",
       "      <td>9068</td>\n",
       "      <td>9979</td>\n",
       "      <td>15400</td>\n",
       "      <td>16708</td>\n",
       "      <td>15110</td>\n",
       "      <td>13205</td>\n",
       "      <td>13399</td>\n",
       "      <td>14314</td>\n",
       "      <td>13127</td>\n",
       "      <td>10124</td>\n",
       "      <td>8994</td>\n",
       "      <td>7217</td>\n",
       "      <td>6811</td>\n",
       "      <td>7468</td>\n",
       "      <td>11227</td>\n",
       "      <td>12603</td>\n",
       "      <td>241600</td>\n",
       "    </tr>\n",
       "  </tbody>\n",
       "</table>\n",
       "</div>"
      ],
      "text/plain": [
       "                                                   continent  \\\n",
       "country                                                        \n",
       "India                                                   Asia   \n",
       "China                                                   Asia   \n",
       "United Kingdom of Great Britain and Northern Ir...    Europe   \n",
       "Philippines                                             Asia   \n",
       "Pakistan                                                Asia   \n",
       "\n",
       "                                                                region  \\\n",
       "country                                                                  \n",
       "India                                                    Southern Asia   \n",
       "China                                                     Eastern Asia   \n",
       "United Kingdom of Great Britain and Northern Ir...     Northern Europe   \n",
       "Philippines                                         South-Eastern Asia   \n",
       "Pakistan                                                 Southern Asia   \n",
       "\n",
       "                                                    country_status   1980  \\\n",
       "country                                                                     \n",
       "India                                                            1   8880   \n",
       "China                                                            1   5123   \n",
       "United Kingdom of Great Britain and Northern Ir...               1  22045   \n",
       "Philippines                                                      1   6051   \n",
       "Pakistan                                                         1    978   \n",
       "\n",
       "                                                     1981   1982   1983  \\\n",
       "country                                                                   \n",
       "India                                                8670   8147   7338   \n",
       "China                                                6682   3308   1863   \n",
       "United Kingdom of Great Britain and Northern Ir...  24796  20620  10015   \n",
       "Philippines                                          5921   5249   4562   \n",
       "Pakistan                                              972   1201    900   \n",
       "\n",
       "                                                     1984  1985  1986   1987  \\\n",
       "country                                                                        \n",
       "India                                                5704  4211  7150  10189   \n",
       "China                                                1527  1816  1960   2643   \n",
       "United Kingdom of Great Britain and Northern Ir...  10170  9564  9470  21337   \n",
       "Philippines                                          3801  3150  4166   7360   \n",
       "Pakistan                                              668   514   691   1072   \n",
       "\n",
       "                                                     1988   1989   1990  \\\n",
       "country                                                                   \n",
       "India                                               11522  10343  12041   \n",
       "China                                                2758   4323   8076   \n",
       "United Kingdom of Great Britain and Northern Ir...  27359  23795  31668   \n",
       "Philippines                                          8639  11865  12509   \n",
       "Pakistan                                             1334   2261   2470   \n",
       "\n",
       "                                                     1991   1992   1993  \\\n",
       "country                                                                   \n",
       "India                                               13734  13673  21496   \n",
       "China                                               14255  10846   9817   \n",
       "United Kingdom of Great Britain and Northern Ir...  23380  34123  33720   \n",
       "Philippines                                         12718  13670  20479   \n",
       "Pakistan                                             3079   4071   4777   \n",
       "\n",
       "                                                     1994   1995   1996  \\\n",
       "country                                                                   \n",
       "India                                               18620  18489  23859   \n",
       "China                                               13128  14398  19415   \n",
       "United Kingdom of Great Britain and Northern Ir...  39231  30145  29322   \n",
       "Philippines                                         19532  15864  13692   \n",
       "Pakistan                                             4666   4994   9125   \n",
       "\n",
       "                                                     1997   1998   1999  \\\n",
       "country                                                                   \n",
       "India                                               22268  17241  18974   \n",
       "China                                               20475  21049  30069   \n",
       "United Kingdom of Great Britain and Northern Ir...  22965  10367   7045   \n",
       "Philippines                                         11549   8735   9734   \n",
       "Pakistan                                            13073   9068   9979   \n",
       "\n",
       "                                                     2000   2001   2002  \\\n",
       "country                                                                   \n",
       "India                                               28572  31223  31889   \n",
       "China                                               35529  36434  31961   \n",
       "United Kingdom of Great Britain and Northern Ir...   8840  11728   8046   \n",
       "Philippines                                         10763  13836  11707   \n",
       "Pakistan                                            15400  16708  15110   \n",
       "\n",
       "                                                     2003   2004   2005  \\\n",
       "country                                                                   \n",
       "India                                               27155  28235  36210   \n",
       "China                                               36439  36619  42584   \n",
       "United Kingdom of Great Britain and Northern Ir...   6797   7533   7258   \n",
       "Philippines                                         12758  14004  18139   \n",
       "Pakistan                                            13205  13399  14314   \n",
       "\n",
       "                                                     2006   2007   2008  \\\n",
       "country                                                                   \n",
       "India                                               33848  28742  28261   \n",
       "China                                               33518  27642  30037   \n",
       "United Kingdom of Great Britain and Northern Ir...   7140   8216   8979   \n",
       "Philippines                                         18400  19837  24887   \n",
       "Pakistan                                            13127  10124   8994   \n",
       "\n",
       "                                                     2009   2010   2011  \\\n",
       "country                                                                   \n",
       "India                                               29456  34235  27509   \n",
       "China                                               29622  30391  28502   \n",
       "United Kingdom of Great Britain and Northern Ir...   8876   8724   6204   \n",
       "Philippines                                         28573  38617  36765   \n",
       "Pakistan                                             7217   6811   7468   \n",
       "\n",
       "                                                     2012   2013   total  \n",
       "country                                                                   \n",
       "India                                               30933  33087  691904  \n",
       "China                                               33024  34129  659962  \n",
       "United Kingdom of Great Britain and Northern Ir...   6195   5827  551500  \n",
       "Philippines                                         34315  29544  511391  \n",
       "Pakistan                                            11227  12603  241600  "
      ]
     },
     "execution_count": 30,
     "metadata": {},
     "output_type": "execute_result"
    }
   ],
   "source": [
    "df.sort_values(by='total', ascending=False , inplace=True)\n",
    "df.head()"
   ]
  },
  {
   "cell_type": "markdown",
   "metadata": {},
   "source": [
    "rename few  country  names (that is index colums)"
   ]
  },
  {
   "cell_type": "code",
   "execution_count": 31,
   "metadata": {},
   "outputs": [
    {
     "name": "stdout",
     "output_type": "stream",
     "text": [
      "['India', 'China', 'United Kingdom of Great Britain and Northern Ireland', 'Philippines', 'Pakistan', 'United States of America', 'Iran (Islamic Republic of)', 'Sri Lanka', 'Republic of Korea', 'Poland', 'Lebanon', 'France', 'Jamaica', 'Viet Nam', 'Romania', 'Haiti', 'Guyana', 'Portugal', 'Egypt', 'Morocco', 'Colombia', 'Iraq', 'Algeria', 'Israel', 'Bangladesh', 'Germany', 'Russian Federation', 'Mexico', 'Afghanistan', 'El Salvador', 'Ukraine', 'Trinidad and Tobago', 'Somalia', 'South Africa', 'Nigeria', 'Jordan', 'Ethiopia', 'Peru', 'Turkey', 'Syrian Arab Republic', 'Brazil', 'Japan', 'Netherlands', 'Ghana', 'Democratic Republic of the Congo', 'Malaysia', 'Australia', 'Bulgaria', 'Italy', 'Bosnia and Herzegovina', 'Chile', 'Venezuela (Bolivarian Republic of)', 'Fiji', 'Cuba', 'Argentina', 'Guatemala', 'Sudan', 'Tunisia', 'Kenya', 'Ireland', 'Hungary', 'Cameroon', 'Albania', 'Mauritius', 'Switzerland', 'Republic of Moldova', 'Singapore', 'Indonesia', 'United Republic of Tanzania', 'Greece', 'Ecuador', 'Nicaragua', 'Dominican Republic', 'Belgium', 'Eritrea', 'New Zealand', 'Nepal', 'Saint Vincent and the Grenadines', 'China, Hong Kong Special Administrative Region', 'Myanmar', 'Thailand', 'Grenada', 'Zimbabwe', 'Kazakhstan', \"Côte d'Ivoire\", 'Burundi', 'Croatia', 'Belarus', 'Honduras', 'Senegal', 'Barbados', 'Rwanda', 'Cambodia', 'State of Palestine', 'Slovakia', 'Bhutan', 'Sweden', 'Spain', 'Austria', 'Libya', 'Guinea', 'Saint Lucia', 'Uruguay', 'The former Yugoslav Republic of Macedonia', 'Costa Rica', 'Czech Republic', 'Denmark', 'Togo', 'Uganda', 'Saudi Arabia', 'Uzbekistan', 'Sierra Leone', 'Armenia', 'Bolivia (Plurinational State of)', 'Panama', 'Yemen', 'Benin', 'Finland', 'Liberia', 'Azerbaijan', 'Dominica', 'Lithuania', 'Kyrgyzstan', 'Norway', 'Latvia', 'Madagascar', 'Mali', 'Angola', 'Georgia', 'Burkina Faso', 'Kuwait', 'Paraguay', 'Serbia', 'Congo', 'Zambia', 'Chad', 'Djibouti', 'Malta', 'Seychelles', 'Cyprus', \"Lao People's Democratic Republic\", 'Belize', 'Mauritania', 'Antigua and Barbuda', 'Niger', 'Mongolia', 'Gabon', 'Estonia', 'United Arab Emirates', 'Bahamas', 'Suriname', 'Saint Kitts and Nevis', 'Gambia', 'Brunei Darussalam', 'Iceland', 'Central African Republic', 'Slovenia', 'Tajikistan', 'Bahrain', 'Botswana', \"Democratic People's Republic of Korea\", 'Namibia', 'Turkmenistan', 'Malawi', 'China, Macao Special Administrative Region', 'Oman', 'Luxembourg', 'Cabo Verde', 'Comoros', 'Swaziland', 'Mozambique', 'Qatar', 'Tonga', 'Lesotho', 'Montenegro', 'Guinea-Bissau', 'Samoa', 'Papua New Guinea', 'Equatorial Guinea', 'Liechtenstein', 'Maldives', 'Monaco', 'Canada', 'Nauru', 'Andorra', 'Kiribati', 'Vanuatu', 'Sao Tome and Principe', 'Tuvalu', 'American Samoa', 'San Marino', 'New Caledonia', 'Marshall Islands', 'Western Sahara', 'Palau']\n"
     ]
    }
   ],
   "source": [
    "print(df.index.to_list())"
   ]
  },
  {
   "cell_type": "code",
   "execution_count": 32,
   "metadata": {},
   "outputs": [],
   "source": [
    "df.rename({\n",
    "'United Kingdom of Great Britain and Northern Ireland': 'United',\n",
    "'Venezuela (Bolivarian Republic of)':'Venezuela',\n",
    "'Iran (Islamic Republic of)':'Iran',\n",
    "'United State of America':'USA',\n",
    "'Hong Kong ,China(SAR)':'HONG Kong',\n",
    "'Viet Nam':'Vietnam',\n",
    "'The Former yugoslav Republic of Macedonia':'macedonia',\n",
    "'Bolivia(Plurination State of)':'Bolivia',\n",
    "\"Lao People's Democratic Republic\":'laos',\n",
    "'China  Macao Special Administrative Region':'Macao',\n",
    "'Democratic Republic of Congo':'Congo',\n",
    "\n",
    "} ,inplace=True)"
   ]
  },
  {
   "cell_type": "markdown",
   "metadata": {},
   "source": [
    "just for this situation, we have the 40 something columns, ans as we can see them,we will change pandas display\n",
    "optin to show all the coluns"
   ]
  },
  {
   "cell_type": "code",
   "execution_count": 33,
   "metadata": {},
   "outputs": [
    {
     "data": {
      "text/html": [
       "<div>\n",
       "<style scoped>\n",
       "    .dataframe tbody tr th:only-of-type {\n",
       "        vertical-align: middle;\n",
       "    }\n",
       "\n",
       "    .dataframe tbody tr th {\n",
       "        vertical-align: top;\n",
       "    }\n",
       "\n",
       "    .dataframe thead th {\n",
       "        text-align: right;\n",
       "    }\n",
       "</style>\n",
       "<table border=\"1\" class=\"dataframe\">\n",
       "  <thead>\n",
       "    <tr style=\"text-align: right;\">\n",
       "      <th></th>\n",
       "      <th>continent</th>\n",
       "      <th>region</th>\n",
       "      <th>country_status</th>\n",
       "      <th>1980</th>\n",
       "      <th>1981</th>\n",
       "      <th>1982</th>\n",
       "      <th>1983</th>\n",
       "      <th>1984</th>\n",
       "      <th>1985</th>\n",
       "      <th>1986</th>\n",
       "      <th>1987</th>\n",
       "      <th>1988</th>\n",
       "      <th>1989</th>\n",
       "      <th>1990</th>\n",
       "      <th>1991</th>\n",
       "      <th>1992</th>\n",
       "      <th>1993</th>\n",
       "      <th>1994</th>\n",
       "      <th>1995</th>\n",
       "      <th>1996</th>\n",
       "      <th>1997</th>\n",
       "      <th>1998</th>\n",
       "      <th>1999</th>\n",
       "      <th>2000</th>\n",
       "      <th>2001</th>\n",
       "      <th>2002</th>\n",
       "      <th>2003</th>\n",
       "      <th>2004</th>\n",
       "      <th>2005</th>\n",
       "      <th>2006</th>\n",
       "      <th>2007</th>\n",
       "      <th>2008</th>\n",
       "      <th>2009</th>\n",
       "      <th>2010</th>\n",
       "      <th>2011</th>\n",
       "      <th>2012</th>\n",
       "      <th>2013</th>\n",
       "      <th>total</th>\n",
       "    </tr>\n",
       "    <tr>\n",
       "      <th>country</th>\n",
       "      <th></th>\n",
       "      <th></th>\n",
       "      <th></th>\n",
       "      <th></th>\n",
       "      <th></th>\n",
       "      <th></th>\n",
       "      <th></th>\n",
       "      <th></th>\n",
       "      <th></th>\n",
       "      <th></th>\n",
       "      <th></th>\n",
       "      <th></th>\n",
       "      <th></th>\n",
       "      <th></th>\n",
       "      <th></th>\n",
       "      <th></th>\n",
       "      <th></th>\n",
       "      <th></th>\n",
       "      <th></th>\n",
       "      <th></th>\n",
       "      <th></th>\n",
       "      <th></th>\n",
       "      <th></th>\n",
       "      <th></th>\n",
       "      <th></th>\n",
       "      <th></th>\n",
       "      <th></th>\n",
       "      <th></th>\n",
       "      <th></th>\n",
       "      <th></th>\n",
       "      <th></th>\n",
       "      <th></th>\n",
       "      <th></th>\n",
       "      <th></th>\n",
       "      <th></th>\n",
       "      <th></th>\n",
       "      <th></th>\n",
       "      <th></th>\n",
       "    </tr>\n",
       "  </thead>\n",
       "  <tbody>\n",
       "    <tr>\n",
       "      <th>India</th>\n",
       "      <td>Asia</td>\n",
       "      <td>Southern Asia</td>\n",
       "      <td>1</td>\n",
       "      <td>8880</td>\n",
       "      <td>8670</td>\n",
       "      <td>8147</td>\n",
       "      <td>7338</td>\n",
       "      <td>5704</td>\n",
       "      <td>4211</td>\n",
       "      <td>7150</td>\n",
       "      <td>10189</td>\n",
       "      <td>11522</td>\n",
       "      <td>10343</td>\n",
       "      <td>12041</td>\n",
       "      <td>13734</td>\n",
       "      <td>13673</td>\n",
       "      <td>21496</td>\n",
       "      <td>18620</td>\n",
       "      <td>18489</td>\n",
       "      <td>23859</td>\n",
       "      <td>22268</td>\n",
       "      <td>17241</td>\n",
       "      <td>18974</td>\n",
       "      <td>28572</td>\n",
       "      <td>31223</td>\n",
       "      <td>31889</td>\n",
       "      <td>27155</td>\n",
       "      <td>28235</td>\n",
       "      <td>36210</td>\n",
       "      <td>33848</td>\n",
       "      <td>28742</td>\n",
       "      <td>28261</td>\n",
       "      <td>29456</td>\n",
       "      <td>34235</td>\n",
       "      <td>27509</td>\n",
       "      <td>30933</td>\n",
       "      <td>33087</td>\n",
       "      <td>691904</td>\n",
       "    </tr>\n",
       "    <tr>\n",
       "      <th>China</th>\n",
       "      <td>Asia</td>\n",
       "      <td>Eastern Asia</td>\n",
       "      <td>1</td>\n",
       "      <td>5123</td>\n",
       "      <td>6682</td>\n",
       "      <td>3308</td>\n",
       "      <td>1863</td>\n",
       "      <td>1527</td>\n",
       "      <td>1816</td>\n",
       "      <td>1960</td>\n",
       "      <td>2643</td>\n",
       "      <td>2758</td>\n",
       "      <td>4323</td>\n",
       "      <td>8076</td>\n",
       "      <td>14255</td>\n",
       "      <td>10846</td>\n",
       "      <td>9817</td>\n",
       "      <td>13128</td>\n",
       "      <td>14398</td>\n",
       "      <td>19415</td>\n",
       "      <td>20475</td>\n",
       "      <td>21049</td>\n",
       "      <td>30069</td>\n",
       "      <td>35529</td>\n",
       "      <td>36434</td>\n",
       "      <td>31961</td>\n",
       "      <td>36439</td>\n",
       "      <td>36619</td>\n",
       "      <td>42584</td>\n",
       "      <td>33518</td>\n",
       "      <td>27642</td>\n",
       "      <td>30037</td>\n",
       "      <td>29622</td>\n",
       "      <td>30391</td>\n",
       "      <td>28502</td>\n",
       "      <td>33024</td>\n",
       "      <td>34129</td>\n",
       "      <td>659962</td>\n",
       "    </tr>\n",
       "    <tr>\n",
       "      <th>United</th>\n",
       "      <td>Europe</td>\n",
       "      <td>Northern Europe</td>\n",
       "      <td>1</td>\n",
       "      <td>22045</td>\n",
       "      <td>24796</td>\n",
       "      <td>20620</td>\n",
       "      <td>10015</td>\n",
       "      <td>10170</td>\n",
       "      <td>9564</td>\n",
       "      <td>9470</td>\n",
       "      <td>21337</td>\n",
       "      <td>27359</td>\n",
       "      <td>23795</td>\n",
       "      <td>31668</td>\n",
       "      <td>23380</td>\n",
       "      <td>34123</td>\n",
       "      <td>33720</td>\n",
       "      <td>39231</td>\n",
       "      <td>30145</td>\n",
       "      <td>29322</td>\n",
       "      <td>22965</td>\n",
       "      <td>10367</td>\n",
       "      <td>7045</td>\n",
       "      <td>8840</td>\n",
       "      <td>11728</td>\n",
       "      <td>8046</td>\n",
       "      <td>6797</td>\n",
       "      <td>7533</td>\n",
       "      <td>7258</td>\n",
       "      <td>7140</td>\n",
       "      <td>8216</td>\n",
       "      <td>8979</td>\n",
       "      <td>8876</td>\n",
       "      <td>8724</td>\n",
       "      <td>6204</td>\n",
       "      <td>6195</td>\n",
       "      <td>5827</td>\n",
       "      <td>551500</td>\n",
       "    </tr>\n",
       "    <tr>\n",
       "      <th>Philippines</th>\n",
       "      <td>Asia</td>\n",
       "      <td>South-Eastern Asia</td>\n",
       "      <td>1</td>\n",
       "      <td>6051</td>\n",
       "      <td>5921</td>\n",
       "      <td>5249</td>\n",
       "      <td>4562</td>\n",
       "      <td>3801</td>\n",
       "      <td>3150</td>\n",
       "      <td>4166</td>\n",
       "      <td>7360</td>\n",
       "      <td>8639</td>\n",
       "      <td>11865</td>\n",
       "      <td>12509</td>\n",
       "      <td>12718</td>\n",
       "      <td>13670</td>\n",
       "      <td>20479</td>\n",
       "      <td>19532</td>\n",
       "      <td>15864</td>\n",
       "      <td>13692</td>\n",
       "      <td>11549</td>\n",
       "      <td>8735</td>\n",
       "      <td>9734</td>\n",
       "      <td>10763</td>\n",
       "      <td>13836</td>\n",
       "      <td>11707</td>\n",
       "      <td>12758</td>\n",
       "      <td>14004</td>\n",
       "      <td>18139</td>\n",
       "      <td>18400</td>\n",
       "      <td>19837</td>\n",
       "      <td>24887</td>\n",
       "      <td>28573</td>\n",
       "      <td>38617</td>\n",
       "      <td>36765</td>\n",
       "      <td>34315</td>\n",
       "      <td>29544</td>\n",
       "      <td>511391</td>\n",
       "    </tr>\n",
       "  </tbody>\n",
       "</table>\n",
       "</div>"
      ],
      "text/plain": [
       "            continent              region  country_status   1980   1981  \\\n",
       "country                                                                   \n",
       "India            Asia       Southern Asia               1   8880   8670   \n",
       "China            Asia        Eastern Asia               1   5123   6682   \n",
       "United         Europe     Northern Europe               1  22045  24796   \n",
       "Philippines      Asia  South-Eastern Asia               1   6051   5921   \n",
       "\n",
       "              1982   1983   1984  1985  1986   1987   1988   1989   1990  \\\n",
       "country                                                                    \n",
       "India         8147   7338   5704  4211  7150  10189  11522  10343  12041   \n",
       "China         3308   1863   1527  1816  1960   2643   2758   4323   8076   \n",
       "United       20620  10015  10170  9564  9470  21337  27359  23795  31668   \n",
       "Philippines   5249   4562   3801  3150  4166   7360   8639  11865  12509   \n",
       "\n",
       "              1991   1992   1993   1994   1995   1996   1997   1998   1999  \\\n",
       "country                                                                      \n",
       "India        13734  13673  21496  18620  18489  23859  22268  17241  18974   \n",
       "China        14255  10846   9817  13128  14398  19415  20475  21049  30069   \n",
       "United       23380  34123  33720  39231  30145  29322  22965  10367   7045   \n",
       "Philippines  12718  13670  20479  19532  15864  13692  11549   8735   9734   \n",
       "\n",
       "              2000   2001   2002   2003   2004   2005   2006   2007   2008  \\\n",
       "country                                                                      \n",
       "India        28572  31223  31889  27155  28235  36210  33848  28742  28261   \n",
       "China        35529  36434  31961  36439  36619  42584  33518  27642  30037   \n",
       "United        8840  11728   8046   6797   7533   7258   7140   8216   8979   \n",
       "Philippines  10763  13836  11707  12758  14004  18139  18400  19837  24887   \n",
       "\n",
       "              2009   2010   2011   2012   2013   total  \n",
       "country                                                 \n",
       "India        29456  34235  27509  30933  33087  691904  \n",
       "China        29622  30391  28502  33024  34129  659962  \n",
       "United        8876   8724   6204   6195   5827  551500  \n",
       "Philippines  28573  38617  36765  34315  29544  511391  "
      ]
     },
     "execution_count": 33,
     "metadata": {},
     "output_type": "execute_result"
    }
   ],
   "source": [
    "df.head(4)"
   ]
  },
  {
   "cell_type": "markdown",
   "metadata": {},
   "source": [
    "<h3>change ploting theme<h3>"
   ]
  },
  {
   "cell_type": "code",
   "execution_count": null,
   "metadata": {},
   "outputs": [],
   "source": [
    "print(plt.style.available)\n",
    "plt.style.use('seaborn-V0_8-paper')"
   ]
  },
  {
   "cell_type": "code",
   "execution_count": 35,
   "metadata": {},
   "outputs": [
    {
     "data": {
      "image/png": "[encoded data removed]",
      "text/plain": [
       "<Figure size 1440x432 with 1 Axes>"
      ]
     },
     "metadata": {
      "needs_background": "light"
     },
     "output_type": "display_data"
    }
   ],
   "source": [
    "df.loc['Japan',years].plot(kind='line',figsize=(20,6))\n",
    "plt.show()"
   ]
  },
  {
   "cell_type": "markdown",
   "metadata": {},
   "source": [
    "<h3>add pandas styling<h3>"
   ]
  },
  {
   "cell_type": "code",
   "execution_count": 36,
   "metadata": {},
   "outputs": [],
   "source": [
    "continent_df=df.groupby('continent')[years].sum()"
   ]
  },
  {
   "cell_type": "code",
   "execution_count": 37,
   "metadata": {},
   "outputs": [
    {
     "data": {
      "text/html": [
       "<style type=\"text/css\">\n",
       "#T_36e3f_row0_col0, #T_36e3f_row0_col1, #T_36e3f_row0_col2, #T_36e3f_row0_col3, #T_36e3f_row0_col4, #T_36e3f_row0_col5, #T_36e3f_row0_col6, #T_36e3f_row4_col8, #T_36e3f_row4_col9, #T_36e3f_row4_col10, #T_36e3f_row4_col11, #T_36e3f_row4_col12, #T_36e3f_row4_col13, #T_36e3f_row4_col14, #T_36e3f_row4_col15, #T_36e3f_row4_col16, #T_36e3f_row4_col17, #T_36e3f_row4_col18, #T_36e3f_row4_col19, #T_36e3f_row4_col20, #T_36e3f_row4_col21, #T_36e3f_row4_col22, #T_36e3f_row4_col23, #T_36e3f_row4_col24, #T_36e3f_row4_col25, #T_36e3f_row4_col26, #T_36e3f_row4_col27, #T_36e3f_row4_col28, #T_36e3f_row4_col29, #T_36e3f_row4_col30, #T_36e3f_row4_col31, #T_36e3f_row4_col32, #T_36e3f_row4_col33, #T_36e3f_row5_col0, #T_36e3f_row5_col1, #T_36e3f_row5_col2, #T_36e3f_row5_col3, #T_36e3f_row5_col4, #T_36e3f_row5_col5, #T_36e3f_row5_col6, #T_36e3f_row5_col7, #T_36e3f_row5_col8, #T_36e3f_row5_col9, #T_36e3f_row5_col10, #T_36e3f_row5_col11, #T_36e3f_row5_col12, #T_36e3f_row5_col13, #T_36e3f_row5_col14, #T_36e3f_row5_col15, #T_36e3f_row5_col16, #T_36e3f_row5_col17, #T_36e3f_row5_col18, #T_36e3f_row5_col19, #T_36e3f_row5_col20, #T_36e3f_row5_col21, #T_36e3f_row5_col22, #T_36e3f_row5_col23, #T_36e3f_row5_col24, #T_36e3f_row5_col25, #T_36e3f_row5_col26, #T_36e3f_row5_col27, #T_36e3f_row5_col28, #T_36e3f_row5_col29, #T_36e3f_row5_col30, #T_36e3f_row5_col31, #T_36e3f_row5_col32, #T_36e3f_row5_col33 {\n",
       "  background-color: #f2f2f2;\n",
       "  color: #000000;\n",
       "}\n",
       "#T_36e3f_row0_col7, #T_36e3f_row0_col8, #T_36e3f_row0_col9, #T_36e3f_row0_col10, #T_36e3f_row0_col11, #T_36e3f_row0_col12, #T_36e3f_row0_col13, #T_36e3f_row0_col14, #T_36e3f_row0_col15, #T_36e3f_row0_col16, #T_36e3f_row0_col17, #T_36e3f_row0_col18, #T_36e3f_row0_col19, #T_36e3f_row0_col20, #T_36e3f_row0_col21, #T_36e3f_row0_col22, #T_36e3f_row0_col23, #T_36e3f_row0_col24, #T_36e3f_row0_col25, #T_36e3f_row0_col26, #T_36e3f_row0_col27, #T_36e3f_row0_col28, #T_36e3f_row2_col25, #T_36e3f_row2_col26, #T_36e3f_row2_col30, #T_36e3f_row2_col31, #T_36e3f_row2_col32, #T_36e3f_row2_col33, #T_36e3f_row3_col15, #T_36e3f_row3_col16, #T_36e3f_row3_col17, #T_36e3f_row3_col18, #T_36e3f_row3_col19, #T_36e3f_row3_col20, #T_36e3f_row3_col21, #T_36e3f_row3_col22, #T_36e3f_row3_col23, #T_36e3f_row3_col24, #T_36e3f_row3_col25, #T_36e3f_row3_col26, #T_36e3f_row3_col27, #T_36e3f_row3_col28, #T_36e3f_row3_col29, #T_36e3f_row3_col30, #T_36e3f_row3_col31, #T_36e3f_row3_col32, #T_36e3f_row3_col33, #T_36e3f_row4_col0, #T_36e3f_row4_col1, #T_36e3f_row4_col2, #T_36e3f_row4_col4, #T_36e3f_row4_col6, #T_36e3f_row4_col7 {\n",
       "  background-color: #fddaec;\n",
       "  color: #000000;\n",
       "}\n",
       "#T_36e3f_row0_col29, #T_36e3f_row0_col30, #T_36e3f_row0_col31, #T_36e3f_row0_col32, #T_36e3f_row0_col33, #T_36e3f_row2_col19, #T_36e3f_row2_col20, #T_36e3f_row2_col21, #T_36e3f_row2_col22, #T_36e3f_row2_col23, #T_36e3f_row2_col24, #T_36e3f_row2_col27, #T_36e3f_row2_col28, #T_36e3f_row2_col29, #T_36e3f_row3_col0, #T_36e3f_row3_col1, #T_36e3f_row3_col13, #T_36e3f_row3_col14, #T_36e3f_row4_col3, #T_36e3f_row4_col5 {\n",
       "  background-color: #e5d8bd;\n",
       "  color: #000000;\n",
       "}\n",
       "#T_36e3f_row1_col0, #T_36e3f_row1_col1, #T_36e3f_row1_col2, #T_36e3f_row2_col12, #T_36e3f_row2_col14, #T_36e3f_row3_col6 {\n",
       "  background-color: #ccebc5;\n",
       "  color: #000000;\n",
       "}\n",
       "#T_36e3f_row1_col3, #T_36e3f_row1_col4, #T_36e3f_row1_col5, #T_36e3f_row1_col6, #T_36e3f_row1_col7, #T_36e3f_row1_col9, #T_36e3f_row1_col10, #T_36e3f_row1_col11, #T_36e3f_row1_col12, #T_36e3f_row1_col13, #T_36e3f_row1_col14, #T_36e3f_row1_col15, #T_36e3f_row1_col16, #T_36e3f_row1_col17, #T_36e3f_row1_col18, #T_36e3f_row1_col19, #T_36e3f_row1_col20, #T_36e3f_row1_col21, #T_36e3f_row1_col22, #T_36e3f_row1_col23, #T_36e3f_row1_col24, #T_36e3f_row1_col25, #T_36e3f_row1_col26, #T_36e3f_row1_col27, #T_36e3f_row1_col28, #T_36e3f_row1_col29, #T_36e3f_row1_col30, #T_36e3f_row1_col31, #T_36e3f_row1_col32, #T_36e3f_row1_col33, #T_36e3f_row2_col0, #T_36e3f_row2_col1, #T_36e3f_row2_col2, #T_36e3f_row2_col3, #T_36e3f_row2_col7, #T_36e3f_row2_col8, #T_36e3f_row2_col9, #T_36e3f_row2_col10 {\n",
       "  background-color: #fbb4ae;\n",
       "  color: #000000;\n",
       "}\n",
       "#T_36e3f_row1_col8, #T_36e3f_row2_col4, #T_36e3f_row2_col5, #T_36e3f_row2_col6 {\n",
       "  background-color: #b3cde3;\n",
       "  color: #000000;\n",
       "}\n",
       "#T_36e3f_row2_col11, #T_36e3f_row2_col13, #T_36e3f_row2_col15, #T_36e3f_row3_col3, #T_36e3f_row3_col5, #T_36e3f_row3_col7 {\n",
       "  background-color: #decbe4;\n",
       "  color: #000000;\n",
       "}\n",
       "#T_36e3f_row2_col16, #T_36e3f_row2_col17, #T_36e3f_row3_col4 {\n",
       "  background-color: #fed9a6;\n",
       "  color: #000000;\n",
       "}\n",
       "#T_36e3f_row2_col18, #T_36e3f_row3_col2, #T_36e3f_row3_col8, #T_36e3f_row3_col9, #T_36e3f_row3_col10, #T_36e3f_row3_col11, #T_36e3f_row3_col12 {\n",
       "  background-color: #ffffcc;\n",
       "  color: #000000;\n",
       "}\n",
       "</style>\n",
       "<table id=\"T_36e3f\">\n",
       "  <thead>\n",
       "    <tr>\n",
       "      <th class=\"blank level0\" >&nbsp;</th>\n",
       "      <th id=\"T_36e3f_level0_col0\" class=\"col_heading level0 col0\" >1980</th>\n",
       "      <th id=\"T_36e3f_level0_col1\" class=\"col_heading level0 col1\" >1981</th>\n",
       "      <th id=\"T_36e3f_level0_col2\" class=\"col_heading level0 col2\" >1982</th>\n",
       "      <th id=\"T_36e3f_level0_col3\" class=\"col_heading level0 col3\" >1983</th>\n",
       "      <th id=\"T_36e3f_level0_col4\" class=\"col_heading level0 col4\" >1984</th>\n",
       "      <th id=\"T_36e3f_level0_col5\" class=\"col_heading level0 col5\" >1985</th>\n",
       "      <th id=\"T_36e3f_level0_col6\" class=\"col_heading level0 col6\" >1986</th>\n",
       "      <th id=\"T_36e3f_level0_col7\" class=\"col_heading level0 col7\" >1987</th>\n",
       "      <th id=\"T_36e3f_level0_col8\" class=\"col_heading level0 col8\" >1988</th>\n",
       "      <th id=\"T_36e3f_level0_col9\" class=\"col_heading level0 col9\" >1989</th>\n",
       "      <th id=\"T_36e3f_level0_col10\" class=\"col_heading level0 col10\" >1990</th>\n",
       "      <th id=\"T_36e3f_level0_col11\" class=\"col_heading level0 col11\" >1991</th>\n",
       "      <th id=\"T_36e3f_level0_col12\" class=\"col_heading level0 col12\" >1992</th>\n",
       "      <th id=\"T_36e3f_level0_col13\" class=\"col_heading level0 col13\" >1993</th>\n",
       "      <th id=\"T_36e3f_level0_col14\" class=\"col_heading level0 col14\" >1994</th>\n",
       "      <th id=\"T_36e3f_level0_col15\" class=\"col_heading level0 col15\" >1995</th>\n",
       "      <th id=\"T_36e3f_level0_col16\" class=\"col_heading level0 col16\" >1996</th>\n",
       "      <th id=\"T_36e3f_level0_col17\" class=\"col_heading level0 col17\" >1997</th>\n",
       "      <th id=\"T_36e3f_level0_col18\" class=\"col_heading level0 col18\" >1998</th>\n",
       "      <th id=\"T_36e3f_level0_col19\" class=\"col_heading level0 col19\" >1999</th>\n",
       "      <th id=\"T_36e3f_level0_col20\" class=\"col_heading level0 col20\" >2000</th>\n",
       "      <th id=\"T_36e3f_level0_col21\" class=\"col_heading level0 col21\" >2001</th>\n",
       "      <th id=\"T_36e3f_level0_col22\" class=\"col_heading level0 col22\" >2002</th>\n",
       "      <th id=\"T_36e3f_level0_col23\" class=\"col_heading level0 col23\" >2003</th>\n",
       "      <th id=\"T_36e3f_level0_col24\" class=\"col_heading level0 col24\" >2004</th>\n",
       "      <th id=\"T_36e3f_level0_col25\" class=\"col_heading level0 col25\" >2005</th>\n",
       "      <th id=\"T_36e3f_level0_col26\" class=\"col_heading level0 col26\" >2006</th>\n",
       "      <th id=\"T_36e3f_level0_col27\" class=\"col_heading level0 col27\" >2007</th>\n",
       "      <th id=\"T_36e3f_level0_col28\" class=\"col_heading level0 col28\" >2008</th>\n",
       "      <th id=\"T_36e3f_level0_col29\" class=\"col_heading level0 col29\" >2009</th>\n",
       "      <th id=\"T_36e3f_level0_col30\" class=\"col_heading level0 col30\" >2010</th>\n",
       "      <th id=\"T_36e3f_level0_col31\" class=\"col_heading level0 col31\" >2011</th>\n",
       "      <th id=\"T_36e3f_level0_col32\" class=\"col_heading level0 col32\" >2012</th>\n",
       "      <th id=\"T_36e3f_level0_col33\" class=\"col_heading level0 col33\" >2013</th>\n",
       "    </tr>\n",
       "    <tr>\n",
       "      <th class=\"index_name level0\" >continent</th>\n",
       "      <th class=\"blank col0\" >&nbsp;</th>\n",
       "      <th class=\"blank col1\" >&nbsp;</th>\n",
       "      <th class=\"blank col2\" >&nbsp;</th>\n",
       "      <th class=\"blank col3\" >&nbsp;</th>\n",
       "      <th class=\"blank col4\" >&nbsp;</th>\n",
       "      <th class=\"blank col5\" >&nbsp;</th>\n",
       "      <th class=\"blank col6\" >&nbsp;</th>\n",
       "      <th class=\"blank col7\" >&nbsp;</th>\n",
       "      <th class=\"blank col8\" >&nbsp;</th>\n",
       "      <th class=\"blank col9\" >&nbsp;</th>\n",
       "      <th class=\"blank col10\" >&nbsp;</th>\n",
       "      <th class=\"blank col11\" >&nbsp;</th>\n",
       "      <th class=\"blank col12\" >&nbsp;</th>\n",
       "      <th class=\"blank col13\" >&nbsp;</th>\n",
       "      <th class=\"blank col14\" >&nbsp;</th>\n",
       "      <th class=\"blank col15\" >&nbsp;</th>\n",
       "      <th class=\"blank col16\" >&nbsp;</th>\n",
       "      <th class=\"blank col17\" >&nbsp;</th>\n",
       "      <th class=\"blank col18\" >&nbsp;</th>\n",
       "      <th class=\"blank col19\" >&nbsp;</th>\n",
       "      <th class=\"blank col20\" >&nbsp;</th>\n",
       "      <th class=\"blank col21\" >&nbsp;</th>\n",
       "      <th class=\"blank col22\" >&nbsp;</th>\n",
       "      <th class=\"blank col23\" >&nbsp;</th>\n",
       "      <th class=\"blank col24\" >&nbsp;</th>\n",
       "      <th class=\"blank col25\" >&nbsp;</th>\n",
       "      <th class=\"blank col26\" >&nbsp;</th>\n",
       "      <th class=\"blank col27\" >&nbsp;</th>\n",
       "      <th class=\"blank col28\" >&nbsp;</th>\n",
       "      <th class=\"blank col29\" >&nbsp;</th>\n",
       "      <th class=\"blank col30\" >&nbsp;</th>\n",
       "      <th class=\"blank col31\" >&nbsp;</th>\n",
       "      <th class=\"blank col32\" >&nbsp;</th>\n",
       "      <th class=\"blank col33\" >&nbsp;</th>\n",
       "    </tr>\n",
       "  </thead>\n",
       "  <tbody>\n",
       "    <tr>\n",
       "      <th id=\"T_36e3f_level0_row0\" class=\"row_heading level0 row0\" >Africa</th>\n",
       "      <td id=\"T_36e3f_row0_col0\" class=\"data row0 col0\" >3951</td>\n",
       "      <td id=\"T_36e3f_row0_col1\" class=\"data row0 col1\" >4363</td>\n",
       "      <td id=\"T_36e3f_row0_col2\" class=\"data row0 col2\" >3819</td>\n",
       "      <td id=\"T_36e3f_row0_col3\" class=\"data row0 col3\" >2671</td>\n",
       "      <td id=\"T_36e3f_row0_col4\" class=\"data row0 col4\" >2639</td>\n",
       "      <td id=\"T_36e3f_row0_col5\" class=\"data row0 col5\" >2650</td>\n",
       "      <td id=\"T_36e3f_row0_col6\" class=\"data row0 col6\" >3782</td>\n",
       "      <td id=\"T_36e3f_row0_col7\" class=\"data row0 col7\" >7494</td>\n",
       "      <td id=\"T_36e3f_row0_col8\" class=\"data row0 col8\" >7552</td>\n",
       "      <td id=\"T_36e3f_row0_col9\" class=\"data row0 col9\" >9894</td>\n",
       "      <td id=\"T_36e3f_row0_col10\" class=\"data row0 col10\" >11012</td>\n",
       "      <td id=\"T_36e3f_row0_col11\" class=\"data row0 col11\" >14228</td>\n",
       "      <td id=\"T_36e3f_row0_col12\" class=\"data row0 col12\" >19242</td>\n",
       "      <td id=\"T_36e3f_row0_col13\" class=\"data row0 col13\" >16531</td>\n",
       "      <td id=\"T_36e3f_row0_col14\" class=\"data row0 col14\" >13072</td>\n",
       "      <td id=\"T_36e3f_row0_col15\" class=\"data row0 col15\" >14806</td>\n",
       "      <td id=\"T_36e3f_row0_col16\" class=\"data row0 col16\" >15700</td>\n",
       "      <td id=\"T_36e3f_row0_col17\" class=\"data row0 col17\" >14471</td>\n",
       "      <td id=\"T_36e3f_row0_col18\" class=\"data row0 col18\" >13791</td>\n",
       "      <td id=\"T_36e3f_row0_col19\" class=\"data row0 col19\" >15996</td>\n",
       "      <td id=\"T_36e3f_row0_col20\" class=\"data row0 col20\" >20346</td>\n",
       "      <td id=\"T_36e3f_row0_col21\" class=\"data row0 col21\" >24292</td>\n",
       "      <td id=\"T_36e3f_row0_col22\" class=\"data row0 col22\" >22710</td>\n",
       "      <td id=\"T_36e3f_row0_col23\" class=\"data row0 col23\" >23366</td>\n",
       "      <td id=\"T_36e3f_row0_col24\" class=\"data row0 col24\" >28192</td>\n",
       "      <td id=\"T_36e3f_row0_col25\" class=\"data row0 col25\" >27523</td>\n",
       "      <td id=\"T_36e3f_row0_col26\" class=\"data row0 col26\" >29188</td>\n",
       "      <td id=\"T_36e3f_row0_col27\" class=\"data row0 col27\" >28284</td>\n",
       "      <td id=\"T_36e3f_row0_col28\" class=\"data row0 col28\" >29890</td>\n",
       "      <td id=\"T_36e3f_row0_col29\" class=\"data row0 col29\" >34534</td>\n",
       "      <td id=\"T_36e3f_row0_col30\" class=\"data row0 col30\" >40892</td>\n",
       "      <td id=\"T_36e3f_row0_col31\" class=\"data row0 col31\" >35441</td>\n",
       "      <td id=\"T_36e3f_row0_col32\" class=\"data row0 col32\" >38083</td>\n",
       "      <td id=\"T_36e3f_row0_col33\" class=\"data row0 col33\" >38543</td>\n",
       "    </tr>\n",
       "    <tr>\n",
       "      <th id=\"T_36e3f_level0_row1\" class=\"row_heading level0 row1\" >Asia</th>\n",
       "      <td id=\"T_36e3f_row1_col0\" class=\"data row1 col0\" >31025</td>\n",
       "      <td id=\"T_36e3f_row1_col1\" class=\"data row1 col1\" >34314</td>\n",
       "      <td id=\"T_36e3f_row1_col2\" class=\"data row1 col2\" >30214</td>\n",
       "      <td id=\"T_36e3f_row1_col3\" class=\"data row1 col3\" >24696</td>\n",
       "      <td id=\"T_36e3f_row1_col4\" class=\"data row1 col4\" >27274</td>\n",
       "      <td id=\"T_36e3f_row1_col5\" class=\"data row1 col5\" >23850</td>\n",
       "      <td id=\"T_36e3f_row1_col6\" class=\"data row1 col6\" >28739</td>\n",
       "      <td id=\"T_36e3f_row1_col7\" class=\"data row1 col7\" >43203</td>\n",
       "      <td id=\"T_36e3f_row1_col8\" class=\"data row1 col8\" >47454</td>\n",
       "      <td id=\"T_36e3f_row1_col9\" class=\"data row1 col9\" >60256</td>\n",
       "      <td id=\"T_36e3f_row1_col10\" class=\"data row1 col10\" >72829</td>\n",
       "      <td id=\"T_36e3f_row1_col11\" class=\"data row1 col11\" >89964</td>\n",
       "      <td id=\"T_36e3f_row1_col12\" class=\"data row1 col12\" >90752</td>\n",
       "      <td id=\"T_36e3f_row1_col13\" class=\"data row1 col13\" >98737</td>\n",
       "      <td id=\"T_36e3f_row1_col14\" class=\"data row1 col14\" >88852</td>\n",
       "      <td id=\"T_36e3f_row1_col15\" class=\"data row1 col15\" >90424</td>\n",
       "      <td id=\"T_36e3f_row1_col16\" class=\"data row1 col16\" >103030</td>\n",
       "      <td id=\"T_36e3f_row1_col17\" class=\"data row1 col17\" >106383</td>\n",
       "      <td id=\"T_36e3f_row1_col18\" class=\"data row1 col18\" >90929</td>\n",
       "      <td id=\"T_36e3f_row1_col19\" class=\"data row1 col19\" >106844</td>\n",
       "      <td id=\"T_36e3f_row1_col20\" class=\"data row1 col20\" >134544</td>\n",
       "      <td id=\"T_36e3f_row1_col21\" class=\"data row1 col21\" >148083</td>\n",
       "      <td id=\"T_36e3f_row1_col22\" class=\"data row1 col22\" >137653</td>\n",
       "      <td id=\"T_36e3f_row1_col23\" class=\"data row1 col23\" >131769</td>\n",
       "      <td id=\"T_36e3f_row1_col24\" class=\"data row1 col24\" >134850</td>\n",
       "      <td id=\"T_36e3f_row1_col25\" class=\"data row1 col25\" >159253</td>\n",
       "      <td id=\"T_36e3f_row1_col26\" class=\"data row1 col26\" >149054</td>\n",
       "      <td id=\"T_36e3f_row1_col27\" class=\"data row1 col27\" >133459</td>\n",
       "      <td id=\"T_36e3f_row1_col28\" class=\"data row1 col28\" >139894</td>\n",
       "      <td id=\"T_36e3f_row1_col29\" class=\"data row1 col29\" >141434</td>\n",
       "      <td id=\"T_36e3f_row1_col30\" class=\"data row1 col30\" >163845</td>\n",
       "      <td id=\"T_36e3f_row1_col31\" class=\"data row1 col31\" >146894</td>\n",
       "      <td id=\"T_36e3f_row1_col32\" class=\"data row1 col32\" >152218</td>\n",
       "      <td id=\"T_36e3f_row1_col33\" class=\"data row1 col33\" >155075</td>\n",
       "    </tr>\n",
       "    <tr>\n",
       "      <th id=\"T_36e3f_level0_row2\" class=\"row_heading level0 row2\" >Europe</th>\n",
       "      <td id=\"T_36e3f_row2_col0\" class=\"data row2 col0\" >39760</td>\n",
       "      <td id=\"T_36e3f_row2_col1\" class=\"data row2 col1\" >44802</td>\n",
       "      <td id=\"T_36e3f_row2_col2\" class=\"data row2 col2\" >42720</td>\n",
       "      <td id=\"T_36e3f_row2_col3\" class=\"data row2 col3\" >24638</td>\n",
       "      <td id=\"T_36e3f_row2_col4\" class=\"data row2 col4\" >22287</td>\n",
       "      <td id=\"T_36e3f_row2_col5\" class=\"data row2 col5\" >20844</td>\n",
       "      <td id=\"T_36e3f_row2_col6\" class=\"data row2 col6\" >24370</td>\n",
       "      <td id=\"T_36e3f_row2_col7\" class=\"data row2 col7\" >46698</td>\n",
       "      <td id=\"T_36e3f_row2_col8\" class=\"data row2 col8\" >54726</td>\n",
       "      <td id=\"T_36e3f_row2_col9\" class=\"data row2 col9\" >60893</td>\n",
       "      <td id=\"T_36e3f_row2_col10\" class=\"data row2 col10\" >68301</td>\n",
       "      <td id=\"T_36e3f_row2_col11\" class=\"data row2 col11\" >57938</td>\n",
       "      <td id=\"T_36e3f_row2_col12\" class=\"data row2 col12\" >64123</td>\n",
       "      <td id=\"T_36e3f_row2_col13\" class=\"data row2 col13\" >62937</td>\n",
       "      <td id=\"T_36e3f_row2_col14\" class=\"data row2 col14\" >62531</td>\n",
       "      <td id=\"T_36e3f_row2_col15\" class=\"data row2 col15\" >55764</td>\n",
       "      <td id=\"T_36e3f_row2_col16\" class=\"data row2 col16\" >55642</td>\n",
       "      <td id=\"T_36e3f_row2_col17\" class=\"data row2 col17\" >48841</td>\n",
       "      <td id=\"T_36e3f_row2_col18\" class=\"data row2 col18\" >36719</td>\n",
       "      <td id=\"T_36e3f_row2_col19\" class=\"data row2 col19\" >35639</td>\n",
       "      <td id=\"T_36e3f_row2_col20\" class=\"data row2 col20\" >38215</td>\n",
       "      <td id=\"T_36e3f_row2_col21\" class=\"data row2 col21\" >42779</td>\n",
       "      <td id=\"T_36e3f_row2_col22\" class=\"data row2 col22\" >36798</td>\n",
       "      <td id=\"T_36e3f_row2_col23\" class=\"data row2 col23\" >34556</td>\n",
       "      <td id=\"T_36e3f_row2_col24\" class=\"data row2 col24\" >38082</td>\n",
       "      <td id=\"T_36e3f_row2_col25\" class=\"data row2 col25\" >35955</td>\n",
       "      <td id=\"T_36e3f_row2_col26\" class=\"data row2 col26\" >33053</td>\n",
       "      <td id=\"T_36e3f_row2_col27\" class=\"data row2 col27\" >33495</td>\n",
       "      <td id=\"T_36e3f_row2_col28\" class=\"data row2 col28\" >34692</td>\n",
       "      <td id=\"T_36e3f_row2_col29\" class=\"data row2 col29\" >35078</td>\n",
       "      <td id=\"T_36e3f_row2_col30\" class=\"data row2 col30\" >33425</td>\n",
       "      <td id=\"T_36e3f_row2_col31\" class=\"data row2 col31\" >26778</td>\n",
       "      <td id=\"T_36e3f_row2_col32\" class=\"data row2 col32\" >29177</td>\n",
       "      <td id=\"T_36e3f_row2_col33\" class=\"data row2 col33\" >28691</td>\n",
       "    </tr>\n",
       "    <tr>\n",
       "      <th id=\"T_36e3f_level0_row3\" class=\"row_heading level0 row3\" >Latin America and the Caribbean</th>\n",
       "      <td id=\"T_36e3f_row3_col0\" class=\"data row3 col0\" >13081</td>\n",
       "      <td id=\"T_36e3f_row3_col1\" class=\"data row3 col1\" >15215</td>\n",
       "      <td id=\"T_36e3f_row3_col2\" class=\"data row3 col2\" >16769</td>\n",
       "      <td id=\"T_36e3f_row3_col3\" class=\"data row3 col3\" >15427</td>\n",
       "      <td id=\"T_36e3f_row3_col4\" class=\"data row3 col4\" >13678</td>\n",
       "      <td id=\"T_36e3f_row3_col5\" class=\"data row3 col5\" >15171</td>\n",
       "      <td id=\"T_36e3f_row3_col6\" class=\"data row3 col6\" >21179</td>\n",
       "      <td id=\"T_36e3f_row3_col7\" class=\"data row3 col7\" >28471</td>\n",
       "      <td id=\"T_36e3f_row3_col8\" class=\"data row3 col8\" >21924</td>\n",
       "      <td id=\"T_36e3f_row3_col9\" class=\"data row3 col9\" >25060</td>\n",
       "      <td id=\"T_36e3f_row3_col10\" class=\"data row3 col10\" >27942</td>\n",
       "      <td id=\"T_36e3f_row3_col11\" class=\"data row3 col11\" >36827</td>\n",
       "      <td id=\"T_36e3f_row3_col12\" class=\"data row3 col12\" >37853</td>\n",
       "      <td id=\"T_36e3f_row3_col13\" class=\"data row3 col13\" >33840</td>\n",
       "      <td id=\"T_36e3f_row3_col14\" class=\"data row3 col14\" >21341</td>\n",
       "      <td id=\"T_36e3f_row3_col15\" class=\"data row3 col15\" >20262</td>\n",
       "      <td id=\"T_36e3f_row3_col16\" class=\"data row3 col16\" >18645</td>\n",
       "      <td id=\"T_36e3f_row3_col17\" class=\"data row3 col17\" >17174</td>\n",
       "      <td id=\"T_36e3f_row3_col18\" class=\"data row3 col18\" >13830</td>\n",
       "      <td id=\"T_36e3f_row3_col19\" class=\"data row3 col19\" >15088</td>\n",
       "      <td id=\"T_36e3f_row3_col20\" class=\"data row3 col20\" >16898</td>\n",
       "      <td id=\"T_36e3f_row3_col21\" class=\"data row3 col21\" >20067</td>\n",
       "      <td id=\"T_36e3f_row3_col22\" class=\"data row3 col22\" >19317</td>\n",
       "      <td id=\"T_36e3f_row3_col23\" class=\"data row3 col23\" >20263</td>\n",
       "      <td id=\"T_36e3f_row3_col24\" class=\"data row3 col24\" >22181</td>\n",
       "      <td id=\"T_36e3f_row3_col25\" class=\"data row3 col25\" >24747</td>\n",
       "      <td id=\"T_36e3f_row3_col26\" class=\"data row3 col26\" >24676</td>\n",
       "      <td id=\"T_36e3f_row3_col27\" class=\"data row3 col27\" >26011</td>\n",
       "      <td id=\"T_36e3f_row3_col28\" class=\"data row3 col28\" >26547</td>\n",
       "      <td id=\"T_36e3f_row3_col29\" class=\"data row3 col29\" >26867</td>\n",
       "      <td id=\"T_36e3f_row3_col30\" class=\"data row3 col30\" >28818</td>\n",
       "      <td id=\"T_36e3f_row3_col31\" class=\"data row3 col31\" >27856</td>\n",
       "      <td id=\"T_36e3f_row3_col32\" class=\"data row3 col32\" >27173</td>\n",
       "      <td id=\"T_36e3f_row3_col33\" class=\"data row3 col33\" >24950</td>\n",
       "    </tr>\n",
       "    <tr>\n",
       "      <th id=\"T_36e3f_level0_row4\" class=\"row_heading level0 row4\" >Northern America</th>\n",
       "      <td id=\"T_36e3f_row4_col0\" class=\"data row4 col0\" >9378</td>\n",
       "      <td id=\"T_36e3f_row4_col1\" class=\"data row4 col1\" >10030</td>\n",
       "      <td id=\"T_36e3f_row4_col2\" class=\"data row4 col2\" >9074</td>\n",
       "      <td id=\"T_36e3f_row4_col3\" class=\"data row4 col3\" >7100</td>\n",
       "      <td id=\"T_36e3f_row4_col4\" class=\"data row4 col4\" >6661</td>\n",
       "      <td id=\"T_36e3f_row4_col5\" class=\"data row4 col5\" >6543</td>\n",
       "      <td id=\"T_36e3f_row4_col6\" class=\"data row4 col6\" >7074</td>\n",
       "      <td id=\"T_36e3f_row4_col7\" class=\"data row4 col7\" >7705</td>\n",
       "      <td id=\"T_36e3f_row4_col8\" class=\"data row4 col8\" >6469</td>\n",
       "      <td id=\"T_36e3f_row4_col9\" class=\"data row4 col9\" >6790</td>\n",
       "      <td id=\"T_36e3f_row4_col10\" class=\"data row4 col10\" >5895</td>\n",
       "      <td id=\"T_36e3f_row4_col11\" class=\"data row4 col11\" >6057</td>\n",
       "      <td id=\"T_36e3f_row4_col12\" class=\"data row4 col12\" >6846</td>\n",
       "      <td id=\"T_36e3f_row4_col13\" class=\"data row4 col13\" >7438</td>\n",
       "      <td id=\"T_36e3f_row4_col14\" class=\"data row4 col14\" >5902</td>\n",
       "      <td id=\"T_36e3f_row4_col15\" class=\"data row4 col15\" >4891</td>\n",
       "      <td id=\"T_36e3f_row4_col16\" class=\"data row4 col16\" >5516</td>\n",
       "      <td id=\"T_36e3f_row4_col17\" class=\"data row4 col17\" >4753</td>\n",
       "      <td id=\"T_36e3f_row4_col18\" class=\"data row4 col18\" >4437</td>\n",
       "      <td id=\"T_36e3f_row4_col19\" class=\"data row4 col19\" >5196</td>\n",
       "      <td id=\"T_36e3f_row4_col20\" class=\"data row4 col20\" >5433</td>\n",
       "      <td id=\"T_36e3f_row4_col21\" class=\"data row4 col21\" >5604</td>\n",
       "      <td id=\"T_36e3f_row4_col22\" class=\"data row4 col22\" >4948</td>\n",
       "      <td id=\"T_36e3f_row4_col23\" class=\"data row4 col23\" >5543</td>\n",
       "      <td id=\"T_36e3f_row4_col24\" class=\"data row4 col24\" >6990</td>\n",
       "      <td id=\"T_36e3f_row4_col25\" class=\"data row4 col25\" >8394</td>\n",
       "      <td id=\"T_36e3f_row4_col26\" class=\"data row4 col26\" >9613</td>\n",
       "      <td id=\"T_36e3f_row4_col27\" class=\"data row4 col27\" >9463</td>\n",
       "      <td id=\"T_36e3f_row4_col28\" class=\"data row4 col28\" >10190</td>\n",
       "      <td id=\"T_36e3f_row4_col29\" class=\"data row4 col29\" >8995</td>\n",
       "      <td id=\"T_36e3f_row4_col30\" class=\"data row4 col30\" >8142</td>\n",
       "      <td id=\"T_36e3f_row4_col31\" class=\"data row4 col31\" >7677</td>\n",
       "      <td id=\"T_36e3f_row4_col32\" class=\"data row4 col32\" >7892</td>\n",
       "      <td id=\"T_36e3f_row4_col33\" class=\"data row4 col33\" >8503</td>\n",
       "    </tr>\n",
       "    <tr>\n",
       "      <th id=\"T_36e3f_level0_row5\" class=\"row_heading level0 row5\" >Oceania</th>\n",
       "      <td id=\"T_36e3f_row5_col0\" class=\"data row5 col0\" >1942</td>\n",
       "      <td id=\"T_36e3f_row5_col1\" class=\"data row5 col1\" >1839</td>\n",
       "      <td id=\"T_36e3f_row5_col2\" class=\"data row5 col2\" >1675</td>\n",
       "      <td id=\"T_36e3f_row5_col3\" class=\"data row5 col3\" >1018</td>\n",
       "      <td id=\"T_36e3f_row5_col4\" class=\"data row5 col4\" >878</td>\n",
       "      <td id=\"T_36e3f_row5_col5\" class=\"data row5 col5\" >920</td>\n",
       "      <td id=\"T_36e3f_row5_col6\" class=\"data row5 col6\" >904</td>\n",
       "      <td id=\"T_36e3f_row5_col7\" class=\"data row5 col7\" >1200</td>\n",
       "      <td id=\"T_36e3f_row5_col8\" class=\"data row5 col8\" >1181</td>\n",
       "      <td id=\"T_36e3f_row5_col9\" class=\"data row5 col9\" >1539</td>\n",
       "      <td id=\"T_36e3f_row5_col10\" class=\"data row5 col10\" >2075</td>\n",
       "      <td id=\"T_36e3f_row5_col11\" class=\"data row5 col11\" >2495</td>\n",
       "      <td id=\"T_36e3f_row5_col12\" class=\"data row5 col12\" >2871</td>\n",
       "      <td id=\"T_36e3f_row5_col13\" class=\"data row5 col13\" >2566</td>\n",
       "      <td id=\"T_36e3f_row5_col14\" class=\"data row5 col14\" >1967</td>\n",
       "      <td id=\"T_36e3f_row5_col15\" class=\"data row5 col15\" >1565</td>\n",
       "      <td id=\"T_36e3f_row5_col16\" class=\"data row5 col16\" >1552</td>\n",
       "      <td id=\"T_36e3f_row5_col17\" class=\"data row5 col17\" >1263</td>\n",
       "      <td id=\"T_36e3f_row5_col18\" class=\"data row5 col18\" >1021</td>\n",
       "      <td id=\"T_36e3f_row5_col19\" class=\"data row5 col19\" >1055</td>\n",
       "      <td id=\"T_36e3f_row5_col20\" class=\"data row5 col20\" >1276</td>\n",
       "      <td id=\"T_36e3f_row5_col21\" class=\"data row5 col21\" >1818</td>\n",
       "      <td id=\"T_36e3f_row5_col22\" class=\"data row5 col22\" >1685</td>\n",
       "      <td id=\"T_36e3f_row5_col23\" class=\"data row5 col23\" >1800</td>\n",
       "      <td id=\"T_36e3f_row5_col24\" class=\"data row5 col24\" >1788</td>\n",
       "      <td id=\"T_36e3f_row5_col25\" class=\"data row5 col25\" >1585</td>\n",
       "      <td id=\"T_36e3f_row5_col26\" class=\"data row5 col26\" >1473</td>\n",
       "      <td id=\"T_36e3f_row5_col27\" class=\"data row5 col27\" >1693</td>\n",
       "      <td id=\"T_36e3f_row5_col28\" class=\"data row5 col28\" >1834</td>\n",
       "      <td id=\"T_36e3f_row5_col29\" class=\"data row5 col29\" >1860</td>\n",
       "      <td id=\"T_36e3f_row5_col30\" class=\"data row5 col30\" >1834</td>\n",
       "      <td id=\"T_36e3f_row5_col31\" class=\"data row5 col31\" >1548</td>\n",
       "      <td id=\"T_36e3f_row5_col32\" class=\"data row5 col32\" >1679</td>\n",
       "      <td id=\"T_36e3f_row5_col33\" class=\"data row5 col33\" >1775</td>\n",
       "    </tr>\n",
       "  </tbody>\n",
       "</table>\n"
      ],
      "text/plain": [
       "<pandas.io.formats.style.Styler at 0x21329a90fa0>"
      ]
     },
     "execution_count": 37,
     "metadata": {},
     "output_type": "execute_result"
    }
   ],
   "source": [
    "continent_df.style.background_gradient(cmap ='Pastel1_r')"
   ]
  },
  {
   "cell_type": "code",
   "execution_count": 38,
   "metadata": {},
   "outputs": [
    {
     "data": {
      "text/html": [
       "<style type=\"text/css\">\n",
       "#T_d777d_row0_col0 {\n",
       "  width: 10em;\n",
       "  background: linear-gradient(90deg, lime 9.9%, transparent 9.9%);\n",
       "}\n",
       "#T_d777d_row0_col1, #T_d777d_row0_col4 {\n",
       "  width: 10em;\n",
       "  background: linear-gradient(90deg, lime 9.7%, transparent 9.7%);\n",
       "}\n",
       "#T_d777d_row0_col2 {\n",
       "  width: 10em;\n",
       "  background: linear-gradient(90deg, lime 8.9%, transparent 8.9%);\n",
       "}\n",
       "#T_d777d_row0_col3 {\n",
       "  width: 10em;\n",
       "  background: linear-gradient(90deg, lime 10.8%, transparent 10.8%);\n",
       "}\n",
       "#T_d777d_row0_col5 {\n",
       "  width: 10em;\n",
       "  background: linear-gradient(90deg, lime 11.1%, transparent 11.1%);\n",
       "}\n",
       "#T_d777d_row0_col6 {\n",
       "  width: 10em;\n",
       "  background: linear-gradient(90deg, lime 13.2%, transparent 13.2%);\n",
       "}\n",
       "#T_d777d_row0_col7 {\n",
       "  width: 10em;\n",
       "  background: linear-gradient(90deg, lime 16.0%, transparent 16.0%);\n",
       "}\n",
       "#T_d777d_row0_col8 {\n",
       "  width: 10em;\n",
       "  background: linear-gradient(90deg, lime 13.8%, transparent 13.8%);\n",
       "}\n",
       "#T_d777d_row0_col9 {\n",
       "  width: 10em;\n",
       "  background: linear-gradient(90deg, lime 16.2%, transparent 16.2%);\n",
       "}\n",
       "#T_d777d_row0_col10, #T_d777d_row0_col20 {\n",
       "  width: 10em;\n",
       "  background: linear-gradient(90deg, lime 15.1%, transparent 15.1%);\n",
       "}\n",
       "#T_d777d_row0_col11 {\n",
       "  width: 10em;\n",
       "  background: linear-gradient(90deg, lime 15.8%, transparent 15.8%);\n",
       "}\n",
       "#T_d777d_row0_col12, #T_d777d_row0_col27, #T_d777d_row4_col2 {\n",
       "  width: 10em;\n",
       "  background: linear-gradient(90deg, lime 21.2%, transparent 21.2%);\n",
       "}\n",
       "#T_d777d_row0_col13 {\n",
       "  width: 10em;\n",
       "  background: linear-gradient(90deg, lime 16.7%, transparent 16.7%);\n",
       "}\n",
       "#T_d777d_row0_col14 {\n",
       "  width: 10em;\n",
       "  background: linear-gradient(90deg, lime 14.7%, transparent 14.7%);\n",
       "}\n",
       "#T_d777d_row0_col15, #T_d777d_row0_col21, #T_d777d_row3_col24 {\n",
       "  width: 10em;\n",
       "  background: linear-gradient(90deg, lime 16.4%, transparent 16.4%);\n",
       "}\n",
       "#T_d777d_row0_col16, #T_d777d_row0_col18, #T_d777d_row3_col18 {\n",
       "  width: 10em;\n",
       "  background: linear-gradient(90deg, lime 15.2%, transparent 15.2%);\n",
       "}\n",
       "#T_d777d_row0_col17, #T_d777d_row3_col21 {\n",
       "  width: 10em;\n",
       "  background: linear-gradient(90deg, lime 13.6%, transparent 13.6%);\n",
       "}\n",
       "#T_d777d_row0_col19 {\n",
       "  width: 10em;\n",
       "  background: linear-gradient(90deg, lime 15.0%, transparent 15.0%);\n",
       "}\n",
       "#T_d777d_row0_col22, #T_d777d_row4_col7 {\n",
       "  width: 10em;\n",
       "  background: linear-gradient(90deg, lime 16.5%, transparent 16.5%);\n",
       "}\n",
       "#T_d777d_row0_col23 {\n",
       "  width: 10em;\n",
       "  background: linear-gradient(90deg, lime 17.7%, transparent 17.7%);\n",
       "}\n",
       "#T_d777d_row0_col24 {\n",
       "  width: 10em;\n",
       "  background: linear-gradient(90deg, lime 20.9%, transparent 20.9%);\n",
       "}\n",
       "#T_d777d_row0_col25 {\n",
       "  width: 10em;\n",
       "  background: linear-gradient(90deg, lime 17.3%, transparent 17.3%);\n",
       "}\n",
       "#T_d777d_row0_col26 {\n",
       "  width: 10em;\n",
       "  background: linear-gradient(90deg, lime 19.6%, transparent 19.6%);\n",
       "}\n",
       "#T_d777d_row0_col28 {\n",
       "  width: 10em;\n",
       "  background: linear-gradient(90deg, lime 21.4%, transparent 21.4%);\n",
       "}\n",
       "#T_d777d_row0_col29, #T_d777d_row4_col4 {\n",
       "  width: 10em;\n",
       "  background: linear-gradient(90deg, lime 24.4%, transparent 24.4%);\n",
       "}\n",
       "#T_d777d_row0_col30, #T_d777d_row0_col32 {\n",
       "  width: 10em;\n",
       "  background: linear-gradient(90deg, lime 25.0%, transparent 25.0%);\n",
       "}\n",
       "#T_d777d_row0_col31 {\n",
       "  width: 10em;\n",
       "  background: linear-gradient(90deg, lime 24.1%, transparent 24.1%);\n",
       "}\n",
       "#T_d777d_row0_col33 {\n",
       "  width: 10em;\n",
       "  background: linear-gradient(90deg, lime 24.9%, transparent 24.9%);\n",
       "}\n",
       "#T_d777d_row1_col0 {\n",
       "  width: 10em;\n",
       "  background: linear-gradient(90deg, lime 78.0%, transparent 78.0%);\n",
       "}\n",
       "#T_d777d_row1_col1 {\n",
       "  width: 10em;\n",
       "  background: linear-gradient(90deg, lime 76.6%, transparent 76.6%);\n",
       "}\n",
       "#T_d777d_row1_col2, #T_d777d_row2_col12 {\n",
       "  width: 10em;\n",
       "  background: linear-gradient(90deg, lime 70.7%, transparent 70.7%);\n",
       "}\n",
       "#T_d777d_row1_col3, #T_d777d_row1_col4, #T_d777d_row1_col5, #T_d777d_row1_col6, #T_d777d_row1_col10, #T_d777d_row1_col11, #T_d777d_row1_col12, #T_d777d_row1_col13, #T_d777d_row1_col14, #T_d777d_row1_col15, #T_d777d_row1_col16, #T_d777d_row1_col17, #T_d777d_row1_col18, #T_d777d_row1_col19, #T_d777d_row1_col20, #T_d777d_row1_col21, #T_d777d_row1_col22, #T_d777d_row1_col23, #T_d777d_row1_col24, #T_d777d_row1_col25, #T_d777d_row1_col26, #T_d777d_row1_col27, #T_d777d_row1_col28, #T_d777d_row1_col29, #T_d777d_row1_col30, #T_d777d_row1_col31, #T_d777d_row1_col32, #T_d777d_row1_col33, #T_d777d_row2_col0, #T_d777d_row2_col1, #T_d777d_row2_col2, #T_d777d_row2_col7, #T_d777d_row2_col8, #T_d777d_row2_col9 {\n",
       "  width: 10em;\n",
       "  background: linear-gradient(90deg, lime 100.0%, transparent 100.0%);\n",
       "}\n",
       "#T_d777d_row1_col7 {\n",
       "  width: 10em;\n",
       "  background: linear-gradient(90deg, lime 92.5%, transparent 92.5%);\n",
       "}\n",
       "#T_d777d_row1_col8 {\n",
       "  width: 10em;\n",
       "  background: linear-gradient(90deg, lime 86.7%, transparent 86.7%);\n",
       "}\n",
       "#T_d777d_row1_col9 {\n",
       "  width: 10em;\n",
       "  background: linear-gradient(90deg, lime 99.0%, transparent 99.0%);\n",
       "}\n",
       "#T_d777d_row2_col3 {\n",
       "  width: 10em;\n",
       "  background: linear-gradient(90deg, lime 99.8%, transparent 99.8%);\n",
       "}\n",
       "#T_d777d_row2_col4 {\n",
       "  width: 10em;\n",
       "  background: linear-gradient(90deg, lime 81.7%, transparent 81.7%);\n",
       "}\n",
       "#T_d777d_row2_col5 {\n",
       "  width: 10em;\n",
       "  background: linear-gradient(90deg, lime 87.4%, transparent 87.4%);\n",
       "}\n",
       "#T_d777d_row2_col6 {\n",
       "  width: 10em;\n",
       "  background: linear-gradient(90deg, lime 84.8%, transparent 84.8%);\n",
       "}\n",
       "#T_d777d_row2_col10 {\n",
       "  width: 10em;\n",
       "  background: linear-gradient(90deg, lime 93.8%, transparent 93.8%);\n",
       "}\n",
       "#T_d777d_row2_col11 {\n",
       "  width: 10em;\n",
       "  background: linear-gradient(90deg, lime 64.4%, transparent 64.4%);\n",
       "}\n",
       "#T_d777d_row2_col13 {\n",
       "  width: 10em;\n",
       "  background: linear-gradient(90deg, lime 63.7%, transparent 63.7%);\n",
       "}\n",
       "#T_d777d_row2_col14 {\n",
       "  width: 10em;\n",
       "  background: linear-gradient(90deg, lime 70.4%, transparent 70.4%);\n",
       "}\n",
       "#T_d777d_row2_col15 {\n",
       "  width: 10em;\n",
       "  background: linear-gradient(90deg, lime 61.7%, transparent 61.7%);\n",
       "}\n",
       "#T_d777d_row2_col16 {\n",
       "  width: 10em;\n",
       "  background: linear-gradient(90deg, lime 54.0%, transparent 54.0%);\n",
       "}\n",
       "#T_d777d_row2_col17 {\n",
       "  width: 10em;\n",
       "  background: linear-gradient(90deg, lime 45.9%, transparent 45.9%);\n",
       "}\n",
       "#T_d777d_row2_col18 {\n",
       "  width: 10em;\n",
       "  background: linear-gradient(90deg, lime 40.4%, transparent 40.4%);\n",
       "}\n",
       "#T_d777d_row2_col19 {\n",
       "  width: 10em;\n",
       "  background: linear-gradient(90deg, lime 33.4%, transparent 33.4%);\n",
       "}\n",
       "#T_d777d_row2_col20 {\n",
       "  width: 10em;\n",
       "  background: linear-gradient(90deg, lime 28.4%, transparent 28.4%);\n",
       "}\n",
       "#T_d777d_row2_col21 {\n",
       "  width: 10em;\n",
       "  background: linear-gradient(90deg, lime 28.9%, transparent 28.9%);\n",
       "}\n",
       "#T_d777d_row2_col22 {\n",
       "  width: 10em;\n",
       "  background: linear-gradient(90deg, lime 26.7%, transparent 26.7%);\n",
       "}\n",
       "#T_d777d_row2_col23 {\n",
       "  width: 10em;\n",
       "  background: linear-gradient(90deg, lime 26.2%, transparent 26.2%);\n",
       "}\n",
       "#T_d777d_row2_col24 {\n",
       "  width: 10em;\n",
       "  background: linear-gradient(90deg, lime 28.2%, transparent 28.2%);\n",
       "}\n",
       "#T_d777d_row2_col25 {\n",
       "  width: 10em;\n",
       "  background: linear-gradient(90deg, lime 22.6%, transparent 22.6%);\n",
       "}\n",
       "#T_d777d_row2_col26 {\n",
       "  width: 10em;\n",
       "  background: linear-gradient(90deg, lime 22.2%, transparent 22.2%);\n",
       "}\n",
       "#T_d777d_row2_col27 {\n",
       "  width: 10em;\n",
       "  background: linear-gradient(90deg, lime 25.1%, transparent 25.1%);\n",
       "}\n",
       "#T_d777d_row2_col28, #T_d777d_row2_col29 {\n",
       "  width: 10em;\n",
       "  background: linear-gradient(90deg, lime 24.8%, transparent 24.8%);\n",
       "}\n",
       "#T_d777d_row2_col30 {\n",
       "  width: 10em;\n",
       "  background: linear-gradient(90deg, lime 20.4%, transparent 20.4%);\n",
       "}\n",
       "#T_d777d_row2_col31 {\n",
       "  width: 10em;\n",
       "  background: linear-gradient(90deg, lime 18.2%, transparent 18.2%);\n",
       "}\n",
       "#T_d777d_row2_col32 {\n",
       "  width: 10em;\n",
       "  background: linear-gradient(90deg, lime 19.2%, transparent 19.2%);\n",
       "}\n",
       "#T_d777d_row2_col33 {\n",
       "  width: 10em;\n",
       "  background: linear-gradient(90deg, lime 18.5%, transparent 18.5%);\n",
       "}\n",
       "#T_d777d_row3_col0 {\n",
       "  width: 10em;\n",
       "  background: linear-gradient(90deg, lime 32.9%, transparent 32.9%);\n",
       "}\n",
       "#T_d777d_row3_col1 {\n",
       "  width: 10em;\n",
       "  background: linear-gradient(90deg, lime 34.0%, transparent 34.0%);\n",
       "}\n",
       "#T_d777d_row3_col2 {\n",
       "  width: 10em;\n",
       "  background: linear-gradient(90deg, lime 39.3%, transparent 39.3%);\n",
       "}\n",
       "#T_d777d_row3_col3 {\n",
       "  width: 10em;\n",
       "  background: linear-gradient(90deg, lime 62.5%, transparent 62.5%);\n",
       "}\n",
       "#T_d777d_row3_col4 {\n",
       "  width: 10em;\n",
       "  background: linear-gradient(90deg, lime 50.2%, transparent 50.2%);\n",
       "}\n",
       "#T_d777d_row3_col5 {\n",
       "  width: 10em;\n",
       "  background: linear-gradient(90deg, lime 63.6%, transparent 63.6%);\n",
       "}\n",
       "#T_d777d_row3_col6 {\n",
       "  width: 10em;\n",
       "  background: linear-gradient(90deg, lime 73.7%, transparent 73.7%);\n",
       "}\n",
       "#T_d777d_row3_col7 {\n",
       "  width: 10em;\n",
       "  background: linear-gradient(90deg, lime 61.0%, transparent 61.0%);\n",
       "}\n",
       "#T_d777d_row3_col8 {\n",
       "  width: 10em;\n",
       "  background: linear-gradient(90deg, lime 40.1%, transparent 40.1%);\n",
       "}\n",
       "#T_d777d_row3_col9 {\n",
       "  width: 10em;\n",
       "  background: linear-gradient(90deg, lime 41.2%, transparent 41.2%);\n",
       "}\n",
       "#T_d777d_row3_col10 {\n",
       "  width: 10em;\n",
       "  background: linear-gradient(90deg, lime 38.4%, transparent 38.4%);\n",
       "}\n",
       "#T_d777d_row3_col11 {\n",
       "  width: 10em;\n",
       "  background: linear-gradient(90deg, lime 40.9%, transparent 40.9%);\n",
       "}\n",
       "#T_d777d_row3_col12 {\n",
       "  width: 10em;\n",
       "  background: linear-gradient(90deg, lime 41.7%, transparent 41.7%);\n",
       "}\n",
       "#T_d777d_row3_col13 {\n",
       "  width: 10em;\n",
       "  background: linear-gradient(90deg, lime 34.3%, transparent 34.3%);\n",
       "}\n",
       "#T_d777d_row3_col14 {\n",
       "  width: 10em;\n",
       "  background: linear-gradient(90deg, lime 24.0%, transparent 24.0%);\n",
       "}\n",
       "#T_d777d_row3_col15, #T_d777d_row4_col1 {\n",
       "  width: 10em;\n",
       "  background: linear-gradient(90deg, lime 22.4%, transparent 22.4%);\n",
       "}\n",
       "#T_d777d_row3_col16 {\n",
       "  width: 10em;\n",
       "  background: linear-gradient(90deg, lime 18.1%, transparent 18.1%);\n",
       "}\n",
       "#T_d777d_row3_col17, #T_d777d_row3_col33 {\n",
       "  width: 10em;\n",
       "  background: linear-gradient(90deg, lime 16.1%, transparent 16.1%);\n",
       "}\n",
       "#T_d777d_row3_col19 {\n",
       "  width: 10em;\n",
       "  background: linear-gradient(90deg, lime 14.1%, transparent 14.1%);\n",
       "}\n",
       "#T_d777d_row3_col20 {\n",
       "  width: 10em;\n",
       "  background: linear-gradient(90deg, lime 12.6%, transparent 12.6%);\n",
       "}\n",
       "#T_d777d_row3_col22 {\n",
       "  width: 10em;\n",
       "  background: linear-gradient(90deg, lime 14.0%, transparent 14.0%);\n",
       "}\n",
       "#T_d777d_row3_col23 {\n",
       "  width: 10em;\n",
       "  background: linear-gradient(90deg, lime 15.4%, transparent 15.4%);\n",
       "}\n",
       "#T_d777d_row3_col25 {\n",
       "  width: 10em;\n",
       "  background: linear-gradient(90deg, lime 15.5%, transparent 15.5%);\n",
       "}\n",
       "#T_d777d_row3_col26 {\n",
       "  width: 10em;\n",
       "  background: linear-gradient(90deg, lime 16.6%, transparent 16.6%);\n",
       "}\n",
       "#T_d777d_row3_col27 {\n",
       "  width: 10em;\n",
       "  background: linear-gradient(90deg, lime 19.5%, transparent 19.5%);\n",
       "}\n",
       "#T_d777d_row3_col28, #T_d777d_row3_col29, #T_d777d_row3_col31 {\n",
       "  width: 10em;\n",
       "  background: linear-gradient(90deg, lime 19.0%, transparent 19.0%);\n",
       "}\n",
       "#T_d777d_row3_col30 {\n",
       "  width: 10em;\n",
       "  background: linear-gradient(90deg, lime 17.6%, transparent 17.6%);\n",
       "}\n",
       "#T_d777d_row3_col32 {\n",
       "  width: 10em;\n",
       "  background: linear-gradient(90deg, lime 17.9%, transparent 17.9%);\n",
       "}\n",
       "#T_d777d_row4_col0 {\n",
       "  width: 10em;\n",
       "  background: linear-gradient(90deg, lime 23.6%, transparent 23.6%);\n",
       "}\n",
       "#T_d777d_row4_col3 {\n",
       "  width: 10em;\n",
       "  background: linear-gradient(90deg, lime 28.7%, transparent 28.7%);\n",
       "}\n",
       "#T_d777d_row4_col5 {\n",
       "  width: 10em;\n",
       "  background: linear-gradient(90deg, lime 27.4%, transparent 27.4%);\n",
       "}\n",
       "#T_d777d_row4_col6 {\n",
       "  width: 10em;\n",
       "  background: linear-gradient(90deg, lime 24.6%, transparent 24.6%);\n",
       "}\n",
       "#T_d777d_row4_col8 {\n",
       "  width: 10em;\n",
       "  background: linear-gradient(90deg, lime 11.8%, transparent 11.8%);\n",
       "}\n",
       "#T_d777d_row4_col9 {\n",
       "  width: 10em;\n",
       "  background: linear-gradient(90deg, lime 11.2%, transparent 11.2%);\n",
       "}\n",
       "#T_d777d_row4_col10 {\n",
       "  width: 10em;\n",
       "  background: linear-gradient(90deg, lime 8.1%, transparent 8.1%);\n",
       "}\n",
       "#T_d777d_row4_col11 {\n",
       "  width: 10em;\n",
       "  background: linear-gradient(90deg, lime 6.7%, transparent 6.7%);\n",
       "}\n",
       "#T_d777d_row4_col12, #T_d777d_row4_col13 {\n",
       "  width: 10em;\n",
       "  background: linear-gradient(90deg, lime 7.5%, transparent 7.5%);\n",
       "}\n",
       "#T_d777d_row4_col14 {\n",
       "  width: 10em;\n",
       "  background: linear-gradient(90deg, lime 6.6%, transparent 6.6%);\n",
       "}\n",
       "#T_d777d_row4_col15, #T_d777d_row4_col16 {\n",
       "  width: 10em;\n",
       "  background: linear-gradient(90deg, lime 5.4%, transparent 5.4%);\n",
       "}\n",
       "#T_d777d_row4_col17 {\n",
       "  width: 10em;\n",
       "  background: linear-gradient(90deg, lime 4.5%, transparent 4.5%);\n",
       "}\n",
       "#T_d777d_row4_col18, #T_d777d_row4_col19, #T_d777d_row5_col0 {\n",
       "  width: 10em;\n",
       "  background: linear-gradient(90deg, lime 4.9%, transparent 4.9%);\n",
       "}\n",
       "#T_d777d_row4_col20 {\n",
       "  width: 10em;\n",
       "  background: linear-gradient(90deg, lime 4.0%, transparent 4.0%);\n",
       "}\n",
       "#T_d777d_row4_col21 {\n",
       "  width: 10em;\n",
       "  background: linear-gradient(90deg, lime 3.8%, transparent 3.8%);\n",
       "}\n",
       "#T_d777d_row4_col22 {\n",
       "  width: 10em;\n",
       "  background: linear-gradient(90deg, lime 3.6%, transparent 3.6%);\n",
       "}\n",
       "#T_d777d_row4_col23 {\n",
       "  width: 10em;\n",
       "  background: linear-gradient(90deg, lime 4.2%, transparent 4.2%);\n",
       "}\n",
       "#T_d777d_row4_col24, #T_d777d_row4_col31, #T_d777d_row4_col32 {\n",
       "  width: 10em;\n",
       "  background: linear-gradient(90deg, lime 5.2%, transparent 5.2%);\n",
       "}\n",
       "#T_d777d_row4_col25 {\n",
       "  width: 10em;\n",
       "  background: linear-gradient(90deg, lime 5.3%, transparent 5.3%);\n",
       "}\n",
       "#T_d777d_row4_col26, #T_d777d_row4_col29 {\n",
       "  width: 10em;\n",
       "  background: linear-gradient(90deg, lime 6.4%, transparent 6.4%);\n",
       "}\n",
       "#T_d777d_row4_col27 {\n",
       "  width: 10em;\n",
       "  background: linear-gradient(90deg, lime 7.1%, transparent 7.1%);\n",
       "}\n",
       "#T_d777d_row4_col28 {\n",
       "  width: 10em;\n",
       "  background: linear-gradient(90deg, lime 7.3%, transparent 7.3%);\n",
       "}\n",
       "#T_d777d_row4_col30 {\n",
       "  width: 10em;\n",
       "  background: linear-gradient(90deg, lime 5.0%, transparent 5.0%);\n",
       "}\n",
       "#T_d777d_row4_col33 {\n",
       "  width: 10em;\n",
       "  background: linear-gradient(90deg, lime 5.5%, transparent 5.5%);\n",
       "}\n",
       "#T_d777d_row5_col1, #T_d777d_row5_col3 {\n",
       "  width: 10em;\n",
       "  background: linear-gradient(90deg, lime 4.1%, transparent 4.1%);\n",
       "}\n",
       "#T_d777d_row5_col2, #T_d777d_row5_col5 {\n",
       "  width: 10em;\n",
       "  background: linear-gradient(90deg, lime 3.9%, transparent 3.9%);\n",
       "}\n",
       "#T_d777d_row5_col4, #T_d777d_row5_col12 {\n",
       "  width: 10em;\n",
       "  background: linear-gradient(90deg, lime 3.2%, transparent 3.2%);\n",
       "}\n",
       "#T_d777d_row5_col6 {\n",
       "  width: 10em;\n",
       "  background: linear-gradient(90deg, lime 3.1%, transparent 3.1%);\n",
       "}\n",
       "#T_d777d_row5_col7, #T_d777d_row5_col13 {\n",
       "  width: 10em;\n",
       "  background: linear-gradient(90deg, lime 2.6%, transparent 2.6%);\n",
       "}\n",
       "#T_d777d_row5_col8, #T_d777d_row5_col14 {\n",
       "  width: 10em;\n",
       "  background: linear-gradient(90deg, lime 2.2%, transparent 2.2%);\n",
       "}\n",
       "#T_d777d_row5_col9 {\n",
       "  width: 10em;\n",
       "  background: linear-gradient(90deg, lime 2.5%, transparent 2.5%);\n",
       "}\n",
       "#T_d777d_row5_col10, #T_d777d_row5_col11 {\n",
       "  width: 10em;\n",
       "  background: linear-gradient(90deg, lime 2.8%, transparent 2.8%);\n",
       "}\n",
       "#T_d777d_row5_col15 {\n",
       "  width: 10em;\n",
       "  background: linear-gradient(90deg, lime 1.7%, transparent 1.7%);\n",
       "}\n",
       "#T_d777d_row5_col16 {\n",
       "  width: 10em;\n",
       "  background: linear-gradient(90deg, lime 1.5%, transparent 1.5%);\n",
       "}\n",
       "#T_d777d_row5_col17, #T_d777d_row5_col21, #T_d777d_row5_col22 {\n",
       "  width: 10em;\n",
       "  background: linear-gradient(90deg, lime 1.2%, transparent 1.2%);\n",
       "}\n",
       "#T_d777d_row5_col18, #T_d777d_row5_col30, #T_d777d_row5_col31, #T_d777d_row5_col32, #T_d777d_row5_col33 {\n",
       "  width: 10em;\n",
       "  background: linear-gradient(90deg, lime 1.1%, transparent 1.1%);\n",
       "}\n",
       "#T_d777d_row5_col19, #T_d777d_row5_col25, #T_d777d_row5_col26 {\n",
       "  width: 10em;\n",
       "  background: linear-gradient(90deg, lime 1.0%, transparent 1.0%);\n",
       "}\n",
       "#T_d777d_row5_col20 {\n",
       "  width: 10em;\n",
       "  background: linear-gradient(90deg, lime 0.9%, transparent 0.9%);\n",
       "}\n",
       "#T_d777d_row5_col23 {\n",
       "  width: 10em;\n",
       "  background: linear-gradient(90deg, lime 1.4%, transparent 1.4%);\n",
       "}\n",
       "#T_d777d_row5_col24, #T_d777d_row5_col27, #T_d777d_row5_col28, #T_d777d_row5_col29 {\n",
       "  width: 10em;\n",
       "  background: linear-gradient(90deg, lime 1.3%, transparent 1.3%);\n",
       "}\n",
       "</style>\n",
       "<table id=\"T_d777d\">\n",
       "  <thead>\n",
       "    <tr>\n",
       "      <th class=\"blank level0\" >&nbsp;</th>\n",
       "      <th id=\"T_d777d_level0_col0\" class=\"col_heading level0 col0\" >1980</th>\n",
       "      <th id=\"T_d777d_level0_col1\" class=\"col_heading level0 col1\" >1981</th>\n",
       "      <th id=\"T_d777d_level0_col2\" class=\"col_heading level0 col2\" >1982</th>\n",
       "      <th id=\"T_d777d_level0_col3\" class=\"col_heading level0 col3\" >1983</th>\n",
       "      <th id=\"T_d777d_level0_col4\" class=\"col_heading level0 col4\" >1984</th>\n",
       "      <th id=\"T_d777d_level0_col5\" class=\"col_heading level0 col5\" >1985</th>\n",
       "      <th id=\"T_d777d_level0_col6\" class=\"col_heading level0 col6\" >1986</th>\n",
       "      <th id=\"T_d777d_level0_col7\" class=\"col_heading level0 col7\" >1987</th>\n",
       "      <th id=\"T_d777d_level0_col8\" class=\"col_heading level0 col8\" >1988</th>\n",
       "      <th id=\"T_d777d_level0_col9\" class=\"col_heading level0 col9\" >1989</th>\n",
       "      <th id=\"T_d777d_level0_col10\" class=\"col_heading level0 col10\" >1990</th>\n",
       "      <th id=\"T_d777d_level0_col11\" class=\"col_heading level0 col11\" >1991</th>\n",
       "      <th id=\"T_d777d_level0_col12\" class=\"col_heading level0 col12\" >1992</th>\n",
       "      <th id=\"T_d777d_level0_col13\" class=\"col_heading level0 col13\" >1993</th>\n",
       "      <th id=\"T_d777d_level0_col14\" class=\"col_heading level0 col14\" >1994</th>\n",
       "      <th id=\"T_d777d_level0_col15\" class=\"col_heading level0 col15\" >1995</th>\n",
       "      <th id=\"T_d777d_level0_col16\" class=\"col_heading level0 col16\" >1996</th>\n",
       "      <th id=\"T_d777d_level0_col17\" class=\"col_heading level0 col17\" >1997</th>\n",
       "      <th id=\"T_d777d_level0_col18\" class=\"col_heading level0 col18\" >1998</th>\n",
       "      <th id=\"T_d777d_level0_col19\" class=\"col_heading level0 col19\" >1999</th>\n",
       "      <th id=\"T_d777d_level0_col20\" class=\"col_heading level0 col20\" >2000</th>\n",
       "      <th id=\"T_d777d_level0_col21\" class=\"col_heading level0 col21\" >2001</th>\n",
       "      <th id=\"T_d777d_level0_col22\" class=\"col_heading level0 col22\" >2002</th>\n",
       "      <th id=\"T_d777d_level0_col23\" class=\"col_heading level0 col23\" >2003</th>\n",
       "      <th id=\"T_d777d_level0_col24\" class=\"col_heading level0 col24\" >2004</th>\n",
       "      <th id=\"T_d777d_level0_col25\" class=\"col_heading level0 col25\" >2005</th>\n",
       "      <th id=\"T_d777d_level0_col26\" class=\"col_heading level0 col26\" >2006</th>\n",
       "      <th id=\"T_d777d_level0_col27\" class=\"col_heading level0 col27\" >2007</th>\n",
       "      <th id=\"T_d777d_level0_col28\" class=\"col_heading level0 col28\" >2008</th>\n",
       "      <th id=\"T_d777d_level0_col29\" class=\"col_heading level0 col29\" >2009</th>\n",
       "      <th id=\"T_d777d_level0_col30\" class=\"col_heading level0 col30\" >2010</th>\n",
       "      <th id=\"T_d777d_level0_col31\" class=\"col_heading level0 col31\" >2011</th>\n",
       "      <th id=\"T_d777d_level0_col32\" class=\"col_heading level0 col32\" >2012</th>\n",
       "      <th id=\"T_d777d_level0_col33\" class=\"col_heading level0 col33\" >2013</th>\n",
       "    </tr>\n",
       "    <tr>\n",
       "      <th class=\"index_name level0\" >continent</th>\n",
       "      <th class=\"blank col0\" >&nbsp;</th>\n",
       "      <th class=\"blank col1\" >&nbsp;</th>\n",
       "      <th class=\"blank col2\" >&nbsp;</th>\n",
       "      <th class=\"blank col3\" >&nbsp;</th>\n",
       "      <th class=\"blank col4\" >&nbsp;</th>\n",
       "      <th class=\"blank col5\" >&nbsp;</th>\n",
       "      <th class=\"blank col6\" >&nbsp;</th>\n",
       "      <th class=\"blank col7\" >&nbsp;</th>\n",
       "      <th class=\"blank col8\" >&nbsp;</th>\n",
       "      <th class=\"blank col9\" >&nbsp;</th>\n",
       "      <th class=\"blank col10\" >&nbsp;</th>\n",
       "      <th class=\"blank col11\" >&nbsp;</th>\n",
       "      <th class=\"blank col12\" >&nbsp;</th>\n",
       "      <th class=\"blank col13\" >&nbsp;</th>\n",
       "      <th class=\"blank col14\" >&nbsp;</th>\n",
       "      <th class=\"blank col15\" >&nbsp;</th>\n",
       "      <th class=\"blank col16\" >&nbsp;</th>\n",
       "      <th class=\"blank col17\" >&nbsp;</th>\n",
       "      <th class=\"blank col18\" >&nbsp;</th>\n",
       "      <th class=\"blank col19\" >&nbsp;</th>\n",
       "      <th class=\"blank col20\" >&nbsp;</th>\n",
       "      <th class=\"blank col21\" >&nbsp;</th>\n",
       "      <th class=\"blank col22\" >&nbsp;</th>\n",
       "      <th class=\"blank col23\" >&nbsp;</th>\n",
       "      <th class=\"blank col24\" >&nbsp;</th>\n",
       "      <th class=\"blank col25\" >&nbsp;</th>\n",
       "      <th class=\"blank col26\" >&nbsp;</th>\n",
       "      <th class=\"blank col27\" >&nbsp;</th>\n",
       "      <th class=\"blank col28\" >&nbsp;</th>\n",
       "      <th class=\"blank col29\" >&nbsp;</th>\n",
       "      <th class=\"blank col30\" >&nbsp;</th>\n",
       "      <th class=\"blank col31\" >&nbsp;</th>\n",
       "      <th class=\"blank col32\" >&nbsp;</th>\n",
       "      <th class=\"blank col33\" >&nbsp;</th>\n",
       "    </tr>\n",
       "  </thead>\n",
       "  <tbody>\n",
       "    <tr>\n",
       "      <th id=\"T_d777d_level0_row0\" class=\"row_heading level0 row0\" >Africa</th>\n",
       "      <td id=\"T_d777d_row0_col0\" class=\"data row0 col0\" >3951</td>\n",
       "      <td id=\"T_d777d_row0_col1\" class=\"data row0 col1\" >4363</td>\n",
       "      <td id=\"T_d777d_row0_col2\" class=\"data row0 col2\" >3819</td>\n",
       "      <td id=\"T_d777d_row0_col3\" class=\"data row0 col3\" >2671</td>\n",
       "      <td id=\"T_d777d_row0_col4\" class=\"data row0 col4\" >2639</td>\n",
       "      <td id=\"T_d777d_row0_col5\" class=\"data row0 col5\" >2650</td>\n",
       "      <td id=\"T_d777d_row0_col6\" class=\"data row0 col6\" >3782</td>\n",
       "      <td id=\"T_d777d_row0_col7\" class=\"data row0 col7\" >7494</td>\n",
       "      <td id=\"T_d777d_row0_col8\" class=\"data row0 col8\" >7552</td>\n",
       "      <td id=\"T_d777d_row0_col9\" class=\"data row0 col9\" >9894</td>\n",
       "      <td id=\"T_d777d_row0_col10\" class=\"data row0 col10\" >11012</td>\n",
       "      <td id=\"T_d777d_row0_col11\" class=\"data row0 col11\" >14228</td>\n",
       "      <td id=\"T_d777d_row0_col12\" class=\"data row0 col12\" >19242</td>\n",
       "      <td id=\"T_d777d_row0_col13\" class=\"data row0 col13\" >16531</td>\n",
       "      <td id=\"T_d777d_row0_col14\" class=\"data row0 col14\" >13072</td>\n",
       "      <td id=\"T_d777d_row0_col15\" class=\"data row0 col15\" >14806</td>\n",
       "      <td id=\"T_d777d_row0_col16\" class=\"data row0 col16\" >15700</td>\n",
       "      <td id=\"T_d777d_row0_col17\" class=\"data row0 col17\" >14471</td>\n",
       "      <td id=\"T_d777d_row0_col18\" class=\"data row0 col18\" >13791</td>\n",
       "      <td id=\"T_d777d_row0_col19\" class=\"data row0 col19\" >15996</td>\n",
       "      <td id=\"T_d777d_row0_col20\" class=\"data row0 col20\" >20346</td>\n",
       "      <td id=\"T_d777d_row0_col21\" class=\"data row0 col21\" >24292</td>\n",
       "      <td id=\"T_d777d_row0_col22\" class=\"data row0 col22\" >22710</td>\n",
       "      <td id=\"T_d777d_row0_col23\" class=\"data row0 col23\" >23366</td>\n",
       "      <td id=\"T_d777d_row0_col24\" class=\"data row0 col24\" >28192</td>\n",
       "      <td id=\"T_d777d_row0_col25\" class=\"data row0 col25\" >27523</td>\n",
       "      <td id=\"T_d777d_row0_col26\" class=\"data row0 col26\" >29188</td>\n",
       "      <td id=\"T_d777d_row0_col27\" class=\"data row0 col27\" >28284</td>\n",
       "      <td id=\"T_d777d_row0_col28\" class=\"data row0 col28\" >29890</td>\n",
       "      <td id=\"T_d777d_row0_col29\" class=\"data row0 col29\" >34534</td>\n",
       "      <td id=\"T_d777d_row0_col30\" class=\"data row0 col30\" >40892</td>\n",
       "      <td id=\"T_d777d_row0_col31\" class=\"data row0 col31\" >35441</td>\n",
       "      <td id=\"T_d777d_row0_col32\" class=\"data row0 col32\" >38083</td>\n",
       "      <td id=\"T_d777d_row0_col33\" class=\"data row0 col33\" >38543</td>\n",
       "    </tr>\n",
       "    <tr>\n",
       "      <th id=\"T_d777d_level0_row1\" class=\"row_heading level0 row1\" >Asia</th>\n",
       "      <td id=\"T_d777d_row1_col0\" class=\"data row1 col0\" >31025</td>\n",
       "      <td id=\"T_d777d_row1_col1\" class=\"data row1 col1\" >34314</td>\n",
       "      <td id=\"T_d777d_row1_col2\" class=\"data row1 col2\" >30214</td>\n",
       "      <td id=\"T_d777d_row1_col3\" class=\"data row1 col3\" >24696</td>\n",
       "      <td id=\"T_d777d_row1_col4\" class=\"data row1 col4\" >27274</td>\n",
       "      <td id=\"T_d777d_row1_col5\" class=\"data row1 col5\" >23850</td>\n",
       "      <td id=\"T_d777d_row1_col6\" class=\"data row1 col6\" >28739</td>\n",
       "      <td id=\"T_d777d_row1_col7\" class=\"data row1 col7\" >43203</td>\n",
       "      <td id=\"T_d777d_row1_col8\" class=\"data row1 col8\" >47454</td>\n",
       "      <td id=\"T_d777d_row1_col9\" class=\"data row1 col9\" >60256</td>\n",
       "      <td id=\"T_d777d_row1_col10\" class=\"data row1 col10\" >72829</td>\n",
       "      <td id=\"T_d777d_row1_col11\" class=\"data row1 col11\" >89964</td>\n",
       "      <td id=\"T_d777d_row1_col12\" class=\"data row1 col12\" >90752</td>\n",
       "      <td id=\"T_d777d_row1_col13\" class=\"data row1 col13\" >98737</td>\n",
       "      <td id=\"T_d777d_row1_col14\" class=\"data row1 col14\" >88852</td>\n",
       "      <td id=\"T_d777d_row1_col15\" class=\"data row1 col15\" >90424</td>\n",
       "      <td id=\"T_d777d_row1_col16\" class=\"data row1 col16\" >103030</td>\n",
       "      <td id=\"T_d777d_row1_col17\" class=\"data row1 col17\" >106383</td>\n",
       "      <td id=\"T_d777d_row1_col18\" class=\"data row1 col18\" >90929</td>\n",
       "      <td id=\"T_d777d_row1_col19\" class=\"data row1 col19\" >106844</td>\n",
       "      <td id=\"T_d777d_row1_col20\" class=\"data row1 col20\" >134544</td>\n",
       "      <td id=\"T_d777d_row1_col21\" class=\"data row1 col21\" >148083</td>\n",
       "      <td id=\"T_d777d_row1_col22\" class=\"data row1 col22\" >137653</td>\n",
       "      <td id=\"T_d777d_row1_col23\" class=\"data row1 col23\" >131769</td>\n",
       "      <td id=\"T_d777d_row1_col24\" class=\"data row1 col24\" >134850</td>\n",
       "      <td id=\"T_d777d_row1_col25\" class=\"data row1 col25\" >159253</td>\n",
       "      <td id=\"T_d777d_row1_col26\" class=\"data row1 col26\" >149054</td>\n",
       "      <td id=\"T_d777d_row1_col27\" class=\"data row1 col27\" >133459</td>\n",
       "      <td id=\"T_d777d_row1_col28\" class=\"data row1 col28\" >139894</td>\n",
       "      <td id=\"T_d777d_row1_col29\" class=\"data row1 col29\" >141434</td>\n",
       "      <td id=\"T_d777d_row1_col30\" class=\"data row1 col30\" >163845</td>\n",
       "      <td id=\"T_d777d_row1_col31\" class=\"data row1 col31\" >146894</td>\n",
       "      <td id=\"T_d777d_row1_col32\" class=\"data row1 col32\" >152218</td>\n",
       "      <td id=\"T_d777d_row1_col33\" class=\"data row1 col33\" >155075</td>\n",
       "    </tr>\n",
       "    <tr>\n",
       "      <th id=\"T_d777d_level0_row2\" class=\"row_heading level0 row2\" >Europe</th>\n",
       "      <td id=\"T_d777d_row2_col0\" class=\"data row2 col0\" >39760</td>\n",
       "      <td id=\"T_d777d_row2_col1\" class=\"data row2 col1\" >44802</td>\n",
       "      <td id=\"T_d777d_row2_col2\" class=\"data row2 col2\" >42720</td>\n",
       "      <td id=\"T_d777d_row2_col3\" class=\"data row2 col3\" >24638</td>\n",
       "      <td id=\"T_d777d_row2_col4\" class=\"data row2 col4\" >22287</td>\n",
       "      <td id=\"T_d777d_row2_col5\" class=\"data row2 col5\" >20844</td>\n",
       "      <td id=\"T_d777d_row2_col6\" class=\"data row2 col6\" >24370</td>\n",
       "      <td id=\"T_d777d_row2_col7\" class=\"data row2 col7\" >46698</td>\n",
       "      <td id=\"T_d777d_row2_col8\" class=\"data row2 col8\" >54726</td>\n",
       "      <td id=\"T_d777d_row2_col9\" class=\"data row2 col9\" >60893</td>\n",
       "      <td id=\"T_d777d_row2_col10\" class=\"data row2 col10\" >68301</td>\n",
       "      <td id=\"T_d777d_row2_col11\" class=\"data row2 col11\" >57938</td>\n",
       "      <td id=\"T_d777d_row2_col12\" class=\"data row2 col12\" >64123</td>\n",
       "      <td id=\"T_d777d_row2_col13\" class=\"data row2 col13\" >62937</td>\n",
       "      <td id=\"T_d777d_row2_col14\" class=\"data row2 col14\" >62531</td>\n",
       "      <td id=\"T_d777d_row2_col15\" class=\"data row2 col15\" >55764</td>\n",
       "      <td id=\"T_d777d_row2_col16\" class=\"data row2 col16\" >55642</td>\n",
       "      <td id=\"T_d777d_row2_col17\" class=\"data row2 col17\" >48841</td>\n",
       "      <td id=\"T_d777d_row2_col18\" class=\"data row2 col18\" >36719</td>\n",
       "      <td id=\"T_d777d_row2_col19\" class=\"data row2 col19\" >35639</td>\n",
       "      <td id=\"T_d777d_row2_col20\" class=\"data row2 col20\" >38215</td>\n",
       "      <td id=\"T_d777d_row2_col21\" class=\"data row2 col21\" >42779</td>\n",
       "      <td id=\"T_d777d_row2_col22\" class=\"data row2 col22\" >36798</td>\n",
       "      <td id=\"T_d777d_row2_col23\" class=\"data row2 col23\" >34556</td>\n",
       "      <td id=\"T_d777d_row2_col24\" class=\"data row2 col24\" >38082</td>\n",
       "      <td id=\"T_d777d_row2_col25\" class=\"data row2 col25\" >35955</td>\n",
       "      <td id=\"T_d777d_row2_col26\" class=\"data row2 col26\" >33053</td>\n",
       "      <td id=\"T_d777d_row2_col27\" class=\"data row2 col27\" >33495</td>\n",
       "      <td id=\"T_d777d_row2_col28\" class=\"data row2 col28\" >34692</td>\n",
       "      <td id=\"T_d777d_row2_col29\" class=\"data row2 col29\" >35078</td>\n",
       "      <td id=\"T_d777d_row2_col30\" class=\"data row2 col30\" >33425</td>\n",
       "      <td id=\"T_d777d_row2_col31\" class=\"data row2 col31\" >26778</td>\n",
       "      <td id=\"T_d777d_row2_col32\" class=\"data row2 col32\" >29177</td>\n",
       "      <td id=\"T_d777d_row2_col33\" class=\"data row2 col33\" >28691</td>\n",
       "    </tr>\n",
       "    <tr>\n",
       "      <th id=\"T_d777d_level0_row3\" class=\"row_heading level0 row3\" >Latin America and the Caribbean</th>\n",
       "      <td id=\"T_d777d_row3_col0\" class=\"data row3 col0\" >13081</td>\n",
       "      <td id=\"T_d777d_row3_col1\" class=\"data row3 col1\" >15215</td>\n",
       "      <td id=\"T_d777d_row3_col2\" class=\"data row3 col2\" >16769</td>\n",
       "      <td id=\"T_d777d_row3_col3\" class=\"data row3 col3\" >15427</td>\n",
       "      <td id=\"T_d777d_row3_col4\" class=\"data row3 col4\" >13678</td>\n",
       "      <td id=\"T_d777d_row3_col5\" class=\"data row3 col5\" >15171</td>\n",
       "      <td id=\"T_d777d_row3_col6\" class=\"data row3 col6\" >21179</td>\n",
       "      <td id=\"T_d777d_row3_col7\" class=\"data row3 col7\" >28471</td>\n",
       "      <td id=\"T_d777d_row3_col8\" class=\"data row3 col8\" >21924</td>\n",
       "      <td id=\"T_d777d_row3_col9\" class=\"data row3 col9\" >25060</td>\n",
       "      <td id=\"T_d777d_row3_col10\" class=\"data row3 col10\" >27942</td>\n",
       "      <td id=\"T_d777d_row3_col11\" class=\"data row3 col11\" >36827</td>\n",
       "      <td id=\"T_d777d_row3_col12\" class=\"data row3 col12\" >37853</td>\n",
       "      <td id=\"T_d777d_row3_col13\" class=\"data row3 col13\" >33840</td>\n",
       "      <td id=\"T_d777d_row3_col14\" class=\"data row3 col14\" >21341</td>\n",
       "      <td id=\"T_d777d_row3_col15\" class=\"data row3 col15\" >20262</td>\n",
       "      <td id=\"T_d777d_row3_col16\" class=\"data row3 col16\" >18645</td>\n",
       "      <td id=\"T_d777d_row3_col17\" class=\"data row3 col17\" >17174</td>\n",
       "      <td id=\"T_d777d_row3_col18\" class=\"data row3 col18\" >13830</td>\n",
       "      <td id=\"T_d777d_row3_col19\" class=\"data row3 col19\" >15088</td>\n",
       "      <td id=\"T_d777d_row3_col20\" class=\"data row3 col20\" >16898</td>\n",
       "      <td id=\"T_d777d_row3_col21\" class=\"data row3 col21\" >20067</td>\n",
       "      <td id=\"T_d777d_row3_col22\" class=\"data row3 col22\" >19317</td>\n",
       "      <td id=\"T_d777d_row3_col23\" class=\"data row3 col23\" >20263</td>\n",
       "      <td id=\"T_d777d_row3_col24\" class=\"data row3 col24\" >22181</td>\n",
       "      <td id=\"T_d777d_row3_col25\" class=\"data row3 col25\" >24747</td>\n",
       "      <td id=\"T_d777d_row3_col26\" class=\"data row3 col26\" >24676</td>\n",
       "      <td id=\"T_d777d_row3_col27\" class=\"data row3 col27\" >26011</td>\n",
       "      <td id=\"T_d777d_row3_col28\" class=\"data row3 col28\" >26547</td>\n",
       "      <td id=\"T_d777d_row3_col29\" class=\"data row3 col29\" >26867</td>\n",
       "      <td id=\"T_d777d_row3_col30\" class=\"data row3 col30\" >28818</td>\n",
       "      <td id=\"T_d777d_row3_col31\" class=\"data row3 col31\" >27856</td>\n",
       "      <td id=\"T_d777d_row3_col32\" class=\"data row3 col32\" >27173</td>\n",
       "      <td id=\"T_d777d_row3_col33\" class=\"data row3 col33\" >24950</td>\n",
       "    </tr>\n",
       "    <tr>\n",
       "      <th id=\"T_d777d_level0_row4\" class=\"row_heading level0 row4\" >Northern America</th>\n",
       "      <td id=\"T_d777d_row4_col0\" class=\"data row4 col0\" >9378</td>\n",
       "      <td id=\"T_d777d_row4_col1\" class=\"data row4 col1\" >10030</td>\n",
       "      <td id=\"T_d777d_row4_col2\" class=\"data row4 col2\" >9074</td>\n",
       "      <td id=\"T_d777d_row4_col3\" class=\"data row4 col3\" >7100</td>\n",
       "      <td id=\"T_d777d_row4_col4\" class=\"data row4 col4\" >6661</td>\n",
       "      <td id=\"T_d777d_row4_col5\" class=\"data row4 col5\" >6543</td>\n",
       "      <td id=\"T_d777d_row4_col6\" class=\"data row4 col6\" >7074</td>\n",
       "      <td id=\"T_d777d_row4_col7\" class=\"data row4 col7\" >7705</td>\n",
       "      <td id=\"T_d777d_row4_col8\" class=\"data row4 col8\" >6469</td>\n",
       "      <td id=\"T_d777d_row4_col9\" class=\"data row4 col9\" >6790</td>\n",
       "      <td id=\"T_d777d_row4_col10\" class=\"data row4 col10\" >5895</td>\n",
       "      <td id=\"T_d777d_row4_col11\" class=\"data row4 col11\" >6057</td>\n",
       "      <td id=\"T_d777d_row4_col12\" class=\"data row4 col12\" >6846</td>\n",
       "      <td id=\"T_d777d_row4_col13\" class=\"data row4 col13\" >7438</td>\n",
       "      <td id=\"T_d777d_row4_col14\" class=\"data row4 col14\" >5902</td>\n",
       "      <td id=\"T_d777d_row4_col15\" class=\"data row4 col15\" >4891</td>\n",
       "      <td id=\"T_d777d_row4_col16\" class=\"data row4 col16\" >5516</td>\n",
       "      <td id=\"T_d777d_row4_col17\" class=\"data row4 col17\" >4753</td>\n",
       "      <td id=\"T_d777d_row4_col18\" class=\"data row4 col18\" >4437</td>\n",
       "      <td id=\"T_d777d_row4_col19\" class=\"data row4 col19\" >5196</td>\n",
       "      <td id=\"T_d777d_row4_col20\" class=\"data row4 col20\" >5433</td>\n",
       "      <td id=\"T_d777d_row4_col21\" class=\"data row4 col21\" >5604</td>\n",
       "      <td id=\"T_d777d_row4_col22\" class=\"data row4 col22\" >4948</td>\n",
       "      <td id=\"T_d777d_row4_col23\" class=\"data row4 col23\" >5543</td>\n",
       "      <td id=\"T_d777d_row4_col24\" class=\"data row4 col24\" >6990</td>\n",
       "      <td id=\"T_d777d_row4_col25\" class=\"data row4 col25\" >8394</td>\n",
       "      <td id=\"T_d777d_row4_col26\" class=\"data row4 col26\" >9613</td>\n",
       "      <td id=\"T_d777d_row4_col27\" class=\"data row4 col27\" >9463</td>\n",
       "      <td id=\"T_d777d_row4_col28\" class=\"data row4 col28\" >10190</td>\n",
       "      <td id=\"T_d777d_row4_col29\" class=\"data row4 col29\" >8995</td>\n",
       "      <td id=\"T_d777d_row4_col30\" class=\"data row4 col30\" >8142</td>\n",
       "      <td id=\"T_d777d_row4_col31\" class=\"data row4 col31\" >7677</td>\n",
       "      <td id=\"T_d777d_row4_col32\" class=\"data row4 col32\" >7892</td>\n",
       "      <td id=\"T_d777d_row4_col33\" class=\"data row4 col33\" >8503</td>\n",
       "    </tr>\n",
       "    <tr>\n",
       "      <th id=\"T_d777d_level0_row5\" class=\"row_heading level0 row5\" >Oceania</th>\n",
       "      <td id=\"T_d777d_row5_col0\" class=\"data row5 col0\" >1942</td>\n",
       "      <td id=\"T_d777d_row5_col1\" class=\"data row5 col1\" >1839</td>\n",
       "      <td id=\"T_d777d_row5_col2\" class=\"data row5 col2\" >1675</td>\n",
       "      <td id=\"T_d777d_row5_col3\" class=\"data row5 col3\" >1018</td>\n",
       "      <td id=\"T_d777d_row5_col4\" class=\"data row5 col4\" >878</td>\n",
       "      <td id=\"T_d777d_row5_col5\" class=\"data row5 col5\" >920</td>\n",
       "      <td id=\"T_d777d_row5_col6\" class=\"data row5 col6\" >904</td>\n",
       "      <td id=\"T_d777d_row5_col7\" class=\"data row5 col7\" >1200</td>\n",
       "      <td id=\"T_d777d_row5_col8\" class=\"data row5 col8\" >1181</td>\n",
       "      <td id=\"T_d777d_row5_col9\" class=\"data row5 col9\" >1539</td>\n",
       "      <td id=\"T_d777d_row5_col10\" class=\"data row5 col10\" >2075</td>\n",
       "      <td id=\"T_d777d_row5_col11\" class=\"data row5 col11\" >2495</td>\n",
       "      <td id=\"T_d777d_row5_col12\" class=\"data row5 col12\" >2871</td>\n",
       "      <td id=\"T_d777d_row5_col13\" class=\"data row5 col13\" >2566</td>\n",
       "      <td id=\"T_d777d_row5_col14\" class=\"data row5 col14\" >1967</td>\n",
       "      <td id=\"T_d777d_row5_col15\" class=\"data row5 col15\" >1565</td>\n",
       "      <td id=\"T_d777d_row5_col16\" class=\"data row5 col16\" >1552</td>\n",
       "      <td id=\"T_d777d_row5_col17\" class=\"data row5 col17\" >1263</td>\n",
       "      <td id=\"T_d777d_row5_col18\" class=\"data row5 col18\" >1021</td>\n",
       "      <td id=\"T_d777d_row5_col19\" class=\"data row5 col19\" >1055</td>\n",
       "      <td id=\"T_d777d_row5_col20\" class=\"data row5 col20\" >1276</td>\n",
       "      <td id=\"T_d777d_row5_col21\" class=\"data row5 col21\" >1818</td>\n",
       "      <td id=\"T_d777d_row5_col22\" class=\"data row5 col22\" >1685</td>\n",
       "      <td id=\"T_d777d_row5_col23\" class=\"data row5 col23\" >1800</td>\n",
       "      <td id=\"T_d777d_row5_col24\" class=\"data row5 col24\" >1788</td>\n",
       "      <td id=\"T_d777d_row5_col25\" class=\"data row5 col25\" >1585</td>\n",
       "      <td id=\"T_d777d_row5_col26\" class=\"data row5 col26\" >1473</td>\n",
       "      <td id=\"T_d777d_row5_col27\" class=\"data row5 col27\" >1693</td>\n",
       "      <td id=\"T_d777d_row5_col28\" class=\"data row5 col28\" >1834</td>\n",
       "      <td id=\"T_d777d_row5_col29\" class=\"data row5 col29\" >1860</td>\n",
       "      <td id=\"T_d777d_row5_col30\" class=\"data row5 col30\" >1834</td>\n",
       "      <td id=\"T_d777d_row5_col31\" class=\"data row5 col31\" >1548</td>\n",
       "      <td id=\"T_d777d_row5_col32\" class=\"data row5 col32\" >1679</td>\n",
       "      <td id=\"T_d777d_row5_col33\" class=\"data row5 col33\" >1775</td>\n",
       "    </tr>\n",
       "  </tbody>\n",
       "</table>\n"
      ],
      "text/plain": [
       "<pandas.io.formats.style.Styler at 0x2132c36c160>"
      ]
     },
     "execution_count": 38,
     "metadata": {},
     "output_type": "execute_result"
    }
   ],
   "source": [
    "continent_df.style.bar(color='lime')"
   ]
  },
  {
   "cell_type": "code",
   "execution_count": 39,
   "metadata": {},
   "outputs": [
    {
     "data": {
      "text/html": [
       "<style type=\"text/css\">\n",
       "#T_9dc61_row0_col0, #T_9dc61_row0_col2, #T_9dc61_row4_col10, #T_9dc61_row4_col29 {\n",
       "  color: #6629fe;\n",
       "}\n",
       "#T_9dc61_row0_col1, #T_9dc61_row4_col27, #T_9dc61_row4_col28 {\n",
       "  color: #622ffe;\n",
       "}\n",
       "#T_9dc61_row0_col3, #T_9dc61_row0_col4 {\n",
       "  color: #5e35fe;\n",
       "}\n",
       "#T_9dc61_row0_col5 {\n",
       "  color: #5a3bfd;\n",
       "}\n",
       "#T_9dc61_row0_col6 {\n",
       "  color: #4c50fc;\n",
       "}\n",
       "#T_9dc61_row0_col7, #T_9dc61_row0_col16 {\n",
       "  color: #396bf9;\n",
       "}\n",
       "#T_9dc61_row0_col8, #T_9dc61_row3_col20 {\n",
       "  color: #445cfb;\n",
       "}\n",
       "#T_9dc61_row0_col9, #T_9dc61_row0_col18, #T_9dc61_row0_col19, #T_9dc61_row0_col20, #T_9dc61_row3_col18, #T_9dc61_row3_col23, #T_9dc61_row4_col7 {\n",
       "  color: #386df9;\n",
       "}\n",
       "#T_9dc61_row0_col10, #T_9dc61_row0_col14, #T_9dc61_row0_col17 {\n",
       "  color: #4062fa;\n",
       "}\n",
       "#T_9dc61_row0_col11 {\n",
       "  color: #3c68f9;\n",
       "}\n",
       "#T_9dc61_row0_col12, #T_9dc61_row3_col27 {\n",
       "  color: #218cf4;\n",
       "}\n",
       "#T_9dc61_row0_col13, #T_9dc61_row3_col25 {\n",
       "  color: #3670f8;\n",
       "}\n",
       "#T_9dc61_row0_col15, #T_9dc61_row3_col17, #T_9dc61_row3_col33 {\n",
       "  color: #3473f8;\n",
       "}\n",
       "#T_9dc61_row0_col21, #T_9dc61_row0_col22, #T_9dc61_row3_col24 {\n",
       "  color: #3176f8;\n",
       "}\n",
       "#T_9dc61_row0_col23, #T_9dc61_row0_col25, #T_9dc61_row3_col30 {\n",
       "  color: #2c7ef7;\n",
       "}\n",
       "#T_9dc61_row0_col24, #T_9dc61_row4_col0 {\n",
       "  color: #1c93f3;\n",
       "}\n",
       "#T_9dc61_row0_col26, #T_9dc61_row4_col1 {\n",
       "  color: #208ef4;\n",
       "}\n",
       "#T_9dc61_row0_col27 {\n",
       "  color: #1996f3;\n",
       "}\n",
       "#T_9dc61_row0_col28 {\n",
       "  color: #1898f2;\n",
       "}\n",
       "#T_9dc61_row0_col29, #T_9dc61_row0_col31 {\n",
       "  color: #09a9ee;\n",
       "}\n",
       "#T_9dc61_row0_col30, #T_9dc61_row0_col32, #T_9dc61_row0_col33, #T_9dc61_row2_col27 {\n",
       "  color: #06aeed;\n",
       "}\n",
       "#T_9dc61_row1_col0 {\n",
       "  color: #ffa95b;\n",
       "}\n",
       "#T_9dc61_row1_col1 {\n",
       "  color: #ffb05f;\n",
       "}\n",
       "#T_9dc61_row1_col2 {\n",
       "  color: #e2d176;\n",
       "}\n",
       "#T_9dc61_row1_col3, #T_9dc61_row1_col4, #T_9dc61_row1_col5, #T_9dc61_row1_col6, #T_9dc61_row1_col10, #T_9dc61_row1_col11, #T_9dc61_row1_col12, #T_9dc61_row1_col13, #T_9dc61_row1_col14, #T_9dc61_row1_col15, #T_9dc61_row1_col16, #T_9dc61_row1_col17, #T_9dc61_row1_col18, #T_9dc61_row1_col19, #T_9dc61_row1_col20, #T_9dc61_row1_col21, #T_9dc61_row1_col22, #T_9dc61_row1_col23, #T_9dc61_row1_col24, #T_9dc61_row1_col25, #T_9dc61_row1_col26, #T_9dc61_row1_col27, #T_9dc61_row1_col28, #T_9dc61_row1_col29, #T_9dc61_row1_col30, #T_9dc61_row1_col31, #T_9dc61_row1_col32, #T_9dc61_row1_col33, #T_9dc61_row2_col0, #T_9dc61_row2_col1, #T_9dc61_row2_col2, #T_9dc61_row2_col3, #T_9dc61_row2_col7, #T_9dc61_row2_col8, #T_9dc61_row2_col9 {\n",
       "  color: #ff0000;\n",
       "}\n",
       "#T_9dc61_row1_col7 {\n",
       "  color: #ff3b1e;\n",
       "}\n",
       "#T_9dc61_row1_col8 {\n",
       "  color: #ff6835;\n",
       "}\n",
       "#T_9dc61_row1_col9 {\n",
       "  color: #ff0603;\n",
       "}\n",
       "#T_9dc61_row2_col4 {\n",
       "  color: #ff8e4a;\n",
       "}\n",
       "#T_9dc61_row2_col5 {\n",
       "  color: #ff6533;\n",
       "}\n",
       "#T_9dc61_row2_col6 {\n",
       "  color: #ff793e;\n",
       "}\n",
       "#T_9dc61_row2_col10 {\n",
       "  color: #ff3219;\n",
       "}\n",
       "#T_9dc61_row2_col11 {\n",
       "  color: #c4e88a;\n",
       "}\n",
       "#T_9dc61_row2_col12, #T_9dc61_row2_col14 {\n",
       "  color: #e4cf74;\n",
       "}\n",
       "#T_9dc61_row2_col13 {\n",
       "  color: #c0eb8d;\n",
       "}\n",
       "#T_9dc61_row2_col15 {\n",
       "  color: #b9ef92;\n",
       "}\n",
       "#T_9dc61_row2_col16 {\n",
       "  color: #90feab;\n",
       "}\n",
       "#T_9dc61_row2_col17 {\n",
       "  color: #66fcc2;\n",
       "}\n",
       "#T_9dc61_row2_col18, #T_9dc61_row3_col9, #T_9dc61_row3_col12 {\n",
       "  color: #4af2cf;\n",
       "}\n",
       "#T_9dc61_row2_col19, #T_9dc61_row3_col13 {\n",
       "  color: #27dade;\n",
       "}\n",
       "#T_9dc61_row2_col20 {\n",
       "  color: #0dc2e8;\n",
       "}\n",
       "#T_9dc61_row2_col21 {\n",
       "  color: #0fc4e7;\n",
       "}\n",
       "#T_9dc61_row2_col22 {\n",
       "  color: #04b9ea;\n",
       "}\n",
       "#T_9dc61_row2_col23 {\n",
       "  color: #00b5eb;\n",
       "}\n",
       "#T_9dc61_row2_col24 {\n",
       "  color: #0ac0e8;\n",
       "}\n",
       "#T_9dc61_row2_col25 {\n",
       "  color: #11a0f1;\n",
       "}\n",
       "#T_9dc61_row2_col26 {\n",
       "  color: #149df1;\n",
       "}\n",
       "#T_9dc61_row2_col28, #T_9dc61_row2_col29 {\n",
       "  color: #08acee;\n",
       "}\n",
       "#T_9dc61_row2_col30 {\n",
       "  color: #1e91f3;\n",
       "}\n",
       "#T_9dc61_row2_col31, #T_9dc61_row2_col33 {\n",
       "  color: #2884f6;\n",
       "}\n",
       "#T_9dc61_row2_col32, #T_9dc61_row3_col31, #T_9dc61_row4_col2 {\n",
       "  color: #2489f5;\n",
       "}\n",
       "#T_9dc61_row3_col0 {\n",
       "  color: #17cbe4;\n",
       "}\n",
       "#T_9dc61_row3_col1 {\n",
       "  color: #1fd3e1;\n",
       "}\n",
       "#T_9dc61_row3_col2 {\n",
       "  color: #3dead5;\n",
       "}\n",
       "#T_9dc61_row3_col3 {\n",
       "  color: #b6f193;\n",
       "}\n",
       "#T_9dc61_row3_col4 {\n",
       "  color: #78ffb8;\n",
       "}\n",
       "#T_9dc61_row3_col5 {\n",
       "  color: #beec8e;\n",
       "}\n",
       "#T_9dc61_row3_col6 {\n",
       "  color: #f4c069;\n",
       "}\n",
       "#T_9dc61_row3_col7 {\n",
       "  color: #b2f396;\n",
       "}\n",
       "#T_9dc61_row3_col8 {\n",
       "  color: #46efd1;\n",
       "}\n",
       "#T_9dc61_row3_col10 {\n",
       "  color: #3ae8d6;\n",
       "}\n",
       "#T_9dc61_row3_col11 {\n",
       "  color: #48f1d0;\n",
       "}\n",
       "#T_9dc61_row3_col14 {\n",
       "  color: #0ea5ef;\n",
       "}\n",
       "#T_9dc61_row3_col15 {\n",
       "  color: #169bf2;\n",
       "}\n",
       "#T_9dc61_row3_col16, #T_9dc61_row3_col32 {\n",
       "  color: #2981f6;\n",
       "}\n",
       "#T_9dc61_row3_col19, #T_9dc61_row3_col22 {\n",
       "  color: #3e65fa;\n",
       "}\n",
       "#T_9dc61_row3_col21 {\n",
       "  color: #425ffa;\n",
       "}\n",
       "#T_9dc61_row3_col26 {\n",
       "  color: #3079f7;\n",
       "}\n",
       "#T_9dc61_row3_col28, #T_9dc61_row3_col29 {\n",
       "  color: #2686f5;\n",
       "}\n",
       "#T_9dc61_row4_col3 {\n",
       "  color: #02b7eb;\n",
       "}\n",
       "#T_9dc61_row4_col4, #T_9dc61_row4_col6 {\n",
       "  color: #10a2f0;\n",
       "}\n",
       "#T_9dc61_row4_col5 {\n",
       "  color: #04b0ed;\n",
       "}\n",
       "#T_9dc61_row4_col8 {\n",
       "  color: #4e4dfc;\n",
       "}\n",
       "#T_9dc61_row4_col9 {\n",
       "  color: #5444fd;\n",
       "}\n",
       "#T_9dc61_row4_col11, #T_9dc61_row4_col16, #T_9dc61_row4_col19, #T_9dc61_row4_col24, #T_9dc61_row4_col31, #T_9dc61_row4_col32 {\n",
       "  color: #6c1fff;\n",
       "}\n",
       "#T_9dc61_row4_col12, #T_9dc61_row4_col14, #T_9dc61_row4_col25, #T_9dc61_row4_col33 {\n",
       "  color: #6a22fe;\n",
       "}\n",
       "#T_9dc61_row4_col13 {\n",
       "  color: #6826fe;\n",
       "}\n",
       "#T_9dc61_row4_col15, #T_9dc61_row4_col18, #T_9dc61_row4_col30 {\n",
       "  color: #6e1cff;\n",
       "}\n",
       "#T_9dc61_row4_col17 {\n",
       "  color: #7019ff;\n",
       "}\n",
       "#T_9dc61_row4_col20, #T_9dc61_row4_col23 {\n",
       "  color: #7216ff;\n",
       "}\n",
       "#T_9dc61_row4_col21, #T_9dc61_row4_col22 {\n",
       "  color: #7413ff;\n",
       "}\n",
       "#T_9dc61_row4_col26 {\n",
       "  color: #642cfe;\n",
       "}\n",
       "#T_9dc61_row5_col0, #T_9dc61_row5_col1, #T_9dc61_row5_col2, #T_9dc61_row5_col3, #T_9dc61_row5_col4, #T_9dc61_row5_col5, #T_9dc61_row5_col6, #T_9dc61_row5_col7, #T_9dc61_row5_col8, #T_9dc61_row5_col9, #T_9dc61_row5_col10, #T_9dc61_row5_col11, #T_9dc61_row5_col12, #T_9dc61_row5_col13, #T_9dc61_row5_col14, #T_9dc61_row5_col15, #T_9dc61_row5_col16, #T_9dc61_row5_col17, #T_9dc61_row5_col18, #T_9dc61_row5_col19, #T_9dc61_row5_col20, #T_9dc61_row5_col21, #T_9dc61_row5_col22, #T_9dc61_row5_col23, #T_9dc61_row5_col24, #T_9dc61_row5_col25, #T_9dc61_row5_col26, #T_9dc61_row5_col27, #T_9dc61_row5_col28, #T_9dc61_row5_col29, #T_9dc61_row5_col30, #T_9dc61_row5_col31, #T_9dc61_row5_col32, #T_9dc61_row5_col33 {\n",
       "  color: #8000ff;\n",
       "}\n",
       "</style>\n",
       "<table id=\"T_9dc61\">\n",
       "  <thead>\n",
       "    <tr>\n",
       "      <th class=\"blank level0\" >&nbsp;</th>\n",
       "      <th id=\"T_9dc61_level0_col0\" class=\"col_heading level0 col0\" >1980</th>\n",
       "      <th id=\"T_9dc61_level0_col1\" class=\"col_heading level0 col1\" >1981</th>\n",
       "      <th id=\"T_9dc61_level0_col2\" class=\"col_heading level0 col2\" >1982</th>\n",
       "      <th id=\"T_9dc61_level0_col3\" class=\"col_heading level0 col3\" >1983</th>\n",
       "      <th id=\"T_9dc61_level0_col4\" class=\"col_heading level0 col4\" >1984</th>\n",
       "      <th id=\"T_9dc61_level0_col5\" class=\"col_heading level0 col5\" >1985</th>\n",
       "      <th id=\"T_9dc61_level0_col6\" class=\"col_heading level0 col6\" >1986</th>\n",
       "      <th id=\"T_9dc61_level0_col7\" class=\"col_heading level0 col7\" >1987</th>\n",
       "      <th id=\"T_9dc61_level0_col8\" class=\"col_heading level0 col8\" >1988</th>\n",
       "      <th id=\"T_9dc61_level0_col9\" class=\"col_heading level0 col9\" >1989</th>\n",
       "      <th id=\"T_9dc61_level0_col10\" class=\"col_heading level0 col10\" >1990</th>\n",
       "      <th id=\"T_9dc61_level0_col11\" class=\"col_heading level0 col11\" >1991</th>\n",
       "      <th id=\"T_9dc61_level0_col12\" class=\"col_heading level0 col12\" >1992</th>\n",
       "      <th id=\"T_9dc61_level0_col13\" class=\"col_heading level0 col13\" >1993</th>\n",
       "      <th id=\"T_9dc61_level0_col14\" class=\"col_heading level0 col14\" >1994</th>\n",
       "      <th id=\"T_9dc61_level0_col15\" class=\"col_heading level0 col15\" >1995</th>\n",
       "      <th id=\"T_9dc61_level0_col16\" class=\"col_heading level0 col16\" >1996</th>\n",
       "      <th id=\"T_9dc61_level0_col17\" class=\"col_heading level0 col17\" >1997</th>\n",
       "      <th id=\"T_9dc61_level0_col18\" class=\"col_heading level0 col18\" >1998</th>\n",
       "      <th id=\"T_9dc61_level0_col19\" class=\"col_heading level0 col19\" >1999</th>\n",
       "      <th id=\"T_9dc61_level0_col20\" class=\"col_heading level0 col20\" >2000</th>\n",
       "      <th id=\"T_9dc61_level0_col21\" class=\"col_heading level0 col21\" >2001</th>\n",
       "      <th id=\"T_9dc61_level0_col22\" class=\"col_heading level0 col22\" >2002</th>\n",
       "      <th id=\"T_9dc61_level0_col23\" class=\"col_heading level0 col23\" >2003</th>\n",
       "      <th id=\"T_9dc61_level0_col24\" class=\"col_heading level0 col24\" >2004</th>\n",
       "      <th id=\"T_9dc61_level0_col25\" class=\"col_heading level0 col25\" >2005</th>\n",
       "      <th id=\"T_9dc61_level0_col26\" class=\"col_heading level0 col26\" >2006</th>\n",
       "      <th id=\"T_9dc61_level0_col27\" class=\"col_heading level0 col27\" >2007</th>\n",
       "      <th id=\"T_9dc61_level0_col28\" class=\"col_heading level0 col28\" >2008</th>\n",
       "      <th id=\"T_9dc61_level0_col29\" class=\"col_heading level0 col29\" >2009</th>\n",
       "      <th id=\"T_9dc61_level0_col30\" class=\"col_heading level0 col30\" >2010</th>\n",
       "      <th id=\"T_9dc61_level0_col31\" class=\"col_heading level0 col31\" >2011</th>\n",
       "      <th id=\"T_9dc61_level0_col32\" class=\"col_heading level0 col32\" >2012</th>\n",
       "      <th id=\"T_9dc61_level0_col33\" class=\"col_heading level0 col33\" >2013</th>\n",
       "    </tr>\n",
       "    <tr>\n",
       "      <th class=\"index_name level0\" >continent</th>\n",
       "      <th class=\"blank col0\" >&nbsp;</th>\n",
       "      <th class=\"blank col1\" >&nbsp;</th>\n",
       "      <th class=\"blank col2\" >&nbsp;</th>\n",
       "      <th class=\"blank col3\" >&nbsp;</th>\n",
       "      <th class=\"blank col4\" >&nbsp;</th>\n",
       "      <th class=\"blank col5\" >&nbsp;</th>\n",
       "      <th class=\"blank col6\" >&nbsp;</th>\n",
       "      <th class=\"blank col7\" >&nbsp;</th>\n",
       "      <th class=\"blank col8\" >&nbsp;</th>\n",
       "      <th class=\"blank col9\" >&nbsp;</th>\n",
       "      <th class=\"blank col10\" >&nbsp;</th>\n",
       "      <th class=\"blank col11\" >&nbsp;</th>\n",
       "      <th class=\"blank col12\" >&nbsp;</th>\n",
       "      <th class=\"blank col13\" >&nbsp;</th>\n",
       "      <th class=\"blank col14\" >&nbsp;</th>\n",
       "      <th class=\"blank col15\" >&nbsp;</th>\n",
       "      <th class=\"blank col16\" >&nbsp;</th>\n",
       "      <th class=\"blank col17\" >&nbsp;</th>\n",
       "      <th class=\"blank col18\" >&nbsp;</th>\n",
       "      <th class=\"blank col19\" >&nbsp;</th>\n",
       "      <th class=\"blank col20\" >&nbsp;</th>\n",
       "      <th class=\"blank col21\" >&nbsp;</th>\n",
       "      <th class=\"blank col22\" >&nbsp;</th>\n",
       "      <th class=\"blank col23\" >&nbsp;</th>\n",
       "      <th class=\"blank col24\" >&nbsp;</th>\n",
       "      <th class=\"blank col25\" >&nbsp;</th>\n",
       "      <th class=\"blank col26\" >&nbsp;</th>\n",
       "      <th class=\"blank col27\" >&nbsp;</th>\n",
       "      <th class=\"blank col28\" >&nbsp;</th>\n",
       "      <th class=\"blank col29\" >&nbsp;</th>\n",
       "      <th class=\"blank col30\" >&nbsp;</th>\n",
       "      <th class=\"blank col31\" >&nbsp;</th>\n",
       "      <th class=\"blank col32\" >&nbsp;</th>\n",
       "      <th class=\"blank col33\" >&nbsp;</th>\n",
       "    </tr>\n",
       "  </thead>\n",
       "  <tbody>\n",
       "    <tr>\n",
       "      <th id=\"T_9dc61_level0_row0\" class=\"row_heading level0 row0\" >Africa</th>\n",
       "      <td id=\"T_9dc61_row0_col0\" class=\"data row0 col0\" >3951</td>\n",
       "      <td id=\"T_9dc61_row0_col1\" class=\"data row0 col1\" >4363</td>\n",
       "      <td id=\"T_9dc61_row0_col2\" class=\"data row0 col2\" >3819</td>\n",
       "      <td id=\"T_9dc61_row0_col3\" class=\"data row0 col3\" >2671</td>\n",
       "      <td id=\"T_9dc61_row0_col4\" class=\"data row0 col4\" >2639</td>\n",
       "      <td id=\"T_9dc61_row0_col5\" class=\"data row0 col5\" >2650</td>\n",
       "      <td id=\"T_9dc61_row0_col6\" class=\"data row0 col6\" >3782</td>\n",
       "      <td id=\"T_9dc61_row0_col7\" class=\"data row0 col7\" >7494</td>\n",
       "      <td id=\"T_9dc61_row0_col8\" class=\"data row0 col8\" >7552</td>\n",
       "      <td id=\"T_9dc61_row0_col9\" class=\"data row0 col9\" >9894</td>\n",
       "      <td id=\"T_9dc61_row0_col10\" class=\"data row0 col10\" >11012</td>\n",
       "      <td id=\"T_9dc61_row0_col11\" class=\"data row0 col11\" >14228</td>\n",
       "      <td id=\"T_9dc61_row0_col12\" class=\"data row0 col12\" >19242</td>\n",
       "      <td id=\"T_9dc61_row0_col13\" class=\"data row0 col13\" >16531</td>\n",
       "      <td id=\"T_9dc61_row0_col14\" class=\"data row0 col14\" >13072</td>\n",
       "      <td id=\"T_9dc61_row0_col15\" class=\"data row0 col15\" >14806</td>\n",
       "      <td id=\"T_9dc61_row0_col16\" class=\"data row0 col16\" >15700</td>\n",
       "      <td id=\"T_9dc61_row0_col17\" class=\"data row0 col17\" >14471</td>\n",
       "      <td id=\"T_9dc61_row0_col18\" class=\"data row0 col18\" >13791</td>\n",
       "      <td id=\"T_9dc61_row0_col19\" class=\"data row0 col19\" >15996</td>\n",
       "      <td id=\"T_9dc61_row0_col20\" class=\"data row0 col20\" >20346</td>\n",
       "      <td id=\"T_9dc61_row0_col21\" class=\"data row0 col21\" >24292</td>\n",
       "      <td id=\"T_9dc61_row0_col22\" class=\"data row0 col22\" >22710</td>\n",
       "      <td id=\"T_9dc61_row0_col23\" class=\"data row0 col23\" >23366</td>\n",
       "      <td id=\"T_9dc61_row0_col24\" class=\"data row0 col24\" >28192</td>\n",
       "      <td id=\"T_9dc61_row0_col25\" class=\"data row0 col25\" >27523</td>\n",
       "      <td id=\"T_9dc61_row0_col26\" class=\"data row0 col26\" >29188</td>\n",
       "      <td id=\"T_9dc61_row0_col27\" class=\"data row0 col27\" >28284</td>\n",
       "      <td id=\"T_9dc61_row0_col28\" class=\"data row0 col28\" >29890</td>\n",
       "      <td id=\"T_9dc61_row0_col29\" class=\"data row0 col29\" >34534</td>\n",
       "      <td id=\"T_9dc61_row0_col30\" class=\"data row0 col30\" >40892</td>\n",
       "      <td id=\"T_9dc61_row0_col31\" class=\"data row0 col31\" >35441</td>\n",
       "      <td id=\"T_9dc61_row0_col32\" class=\"data row0 col32\" >38083</td>\n",
       "      <td id=\"T_9dc61_row0_col33\" class=\"data row0 col33\" >38543</td>\n",
       "    </tr>\n",
       "    <tr>\n",
       "      <th id=\"T_9dc61_level0_row1\" class=\"row_heading level0 row1\" >Asia</th>\n",
       "      <td id=\"T_9dc61_row1_col0\" class=\"data row1 col0\" >31025</td>\n",
       "      <td id=\"T_9dc61_row1_col1\" class=\"data row1 col1\" >34314</td>\n",
       "      <td id=\"T_9dc61_row1_col2\" class=\"data row1 col2\" >30214</td>\n",
       "      <td id=\"T_9dc61_row1_col3\" class=\"data row1 col3\" >24696</td>\n",
       "      <td id=\"T_9dc61_row1_col4\" class=\"data row1 col4\" >27274</td>\n",
       "      <td id=\"T_9dc61_row1_col5\" class=\"data row1 col5\" >23850</td>\n",
       "      <td id=\"T_9dc61_row1_col6\" class=\"data row1 col6\" >28739</td>\n",
       "      <td id=\"T_9dc61_row1_col7\" class=\"data row1 col7\" >43203</td>\n",
       "      <td id=\"T_9dc61_row1_col8\" class=\"data row1 col8\" >47454</td>\n",
       "      <td id=\"T_9dc61_row1_col9\" class=\"data row1 col9\" >60256</td>\n",
       "      <td id=\"T_9dc61_row1_col10\" class=\"data row1 col10\" >72829</td>\n",
       "      <td id=\"T_9dc61_row1_col11\" class=\"data row1 col11\" >89964</td>\n",
       "      <td id=\"T_9dc61_row1_col12\" class=\"data row1 col12\" >90752</td>\n",
       "      <td id=\"T_9dc61_row1_col13\" class=\"data row1 col13\" >98737</td>\n",
       "      <td id=\"T_9dc61_row1_col14\" class=\"data row1 col14\" >88852</td>\n",
       "      <td id=\"T_9dc61_row1_col15\" class=\"data row1 col15\" >90424</td>\n",
       "      <td id=\"T_9dc61_row1_col16\" class=\"data row1 col16\" >103030</td>\n",
       "      <td id=\"T_9dc61_row1_col17\" class=\"data row1 col17\" >106383</td>\n",
       "      <td id=\"T_9dc61_row1_col18\" class=\"data row1 col18\" >90929</td>\n",
       "      <td id=\"T_9dc61_row1_col19\" class=\"data row1 col19\" >106844</td>\n",
       "      <td id=\"T_9dc61_row1_col20\" class=\"data row1 col20\" >134544</td>\n",
       "      <td id=\"T_9dc61_row1_col21\" class=\"data row1 col21\" >148083</td>\n",
       "      <td id=\"T_9dc61_row1_col22\" class=\"data row1 col22\" >137653</td>\n",
       "      <td id=\"T_9dc61_row1_col23\" class=\"data row1 col23\" >131769</td>\n",
       "      <td id=\"T_9dc61_row1_col24\" class=\"data row1 col24\" >134850</td>\n",
       "      <td id=\"T_9dc61_row1_col25\" class=\"data row1 col25\" >159253</td>\n",
       "      <td id=\"T_9dc61_row1_col26\" class=\"data row1 col26\" >149054</td>\n",
       "      <td id=\"T_9dc61_row1_col27\" class=\"data row1 col27\" >133459</td>\n",
       "      <td id=\"T_9dc61_row1_col28\" class=\"data row1 col28\" >139894</td>\n",
       "      <td id=\"T_9dc61_row1_col29\" class=\"data row1 col29\" >141434</td>\n",
       "      <td id=\"T_9dc61_row1_col30\" class=\"data row1 col30\" >163845</td>\n",
       "      <td id=\"T_9dc61_row1_col31\" class=\"data row1 col31\" >146894</td>\n",
       "      <td id=\"T_9dc61_row1_col32\" class=\"data row1 col32\" >152218</td>\n",
       "      <td id=\"T_9dc61_row1_col33\" class=\"data row1 col33\" >155075</td>\n",
       "    </tr>\n",
       "    <tr>\n",
       "      <th id=\"T_9dc61_level0_row2\" class=\"row_heading level0 row2\" >Europe</th>\n",
       "      <td id=\"T_9dc61_row2_col0\" class=\"data row2 col0\" >39760</td>\n",
       "      <td id=\"T_9dc61_row2_col1\" class=\"data row2 col1\" >44802</td>\n",
       "      <td id=\"T_9dc61_row2_col2\" class=\"data row2 col2\" >42720</td>\n",
       "      <td id=\"T_9dc61_row2_col3\" class=\"data row2 col3\" >24638</td>\n",
       "      <td id=\"T_9dc61_row2_col4\" class=\"data row2 col4\" >22287</td>\n",
       "      <td id=\"T_9dc61_row2_col5\" class=\"data row2 col5\" >20844</td>\n",
       "      <td id=\"T_9dc61_row2_col6\" class=\"data row2 col6\" >24370</td>\n",
       "      <td id=\"T_9dc61_row2_col7\" class=\"data row2 col7\" >46698</td>\n",
       "      <td id=\"T_9dc61_row2_col8\" class=\"data row2 col8\" >54726</td>\n",
       "      <td id=\"T_9dc61_row2_col9\" class=\"data row2 col9\" >60893</td>\n",
       "      <td id=\"T_9dc61_row2_col10\" class=\"data row2 col10\" >68301</td>\n",
       "      <td id=\"T_9dc61_row2_col11\" class=\"data row2 col11\" >57938</td>\n",
       "      <td id=\"T_9dc61_row2_col12\" class=\"data row2 col12\" >64123</td>\n",
       "      <td id=\"T_9dc61_row2_col13\" class=\"data row2 col13\" >62937</td>\n",
       "      <td id=\"T_9dc61_row2_col14\" class=\"data row2 col14\" >62531</td>\n",
       "      <td id=\"T_9dc61_row2_col15\" class=\"data row2 col15\" >55764</td>\n",
       "      <td id=\"T_9dc61_row2_col16\" class=\"data row2 col16\" >55642</td>\n",
       "      <td id=\"T_9dc61_row2_col17\" class=\"data row2 col17\" >48841</td>\n",
       "      <td id=\"T_9dc61_row2_col18\" class=\"data row2 col18\" >36719</td>\n",
       "      <td id=\"T_9dc61_row2_col19\" class=\"data row2 col19\" >35639</td>\n",
       "      <td id=\"T_9dc61_row2_col20\" class=\"data row2 col20\" >38215</td>\n",
       "      <td id=\"T_9dc61_row2_col21\" class=\"data row2 col21\" >42779</td>\n",
       "      <td id=\"T_9dc61_row2_col22\" class=\"data row2 col22\" >36798</td>\n",
       "      <td id=\"T_9dc61_row2_col23\" class=\"data row2 col23\" >34556</td>\n",
       "      <td id=\"T_9dc61_row2_col24\" class=\"data row2 col24\" >38082</td>\n",
       "      <td id=\"T_9dc61_row2_col25\" class=\"data row2 col25\" >35955</td>\n",
       "      <td id=\"T_9dc61_row2_col26\" class=\"data row2 col26\" >33053</td>\n",
       "      <td id=\"T_9dc61_row2_col27\" class=\"data row2 col27\" >33495</td>\n",
       "      <td id=\"T_9dc61_row2_col28\" class=\"data row2 col28\" >34692</td>\n",
       "      <td id=\"T_9dc61_row2_col29\" class=\"data row2 col29\" >35078</td>\n",
       "      <td id=\"T_9dc61_row2_col30\" class=\"data row2 col30\" >33425</td>\n",
       "      <td id=\"T_9dc61_row2_col31\" class=\"data row2 col31\" >26778</td>\n",
       "      <td id=\"T_9dc61_row2_col32\" class=\"data row2 col32\" >29177</td>\n",
       "      <td id=\"T_9dc61_row2_col33\" class=\"data row2 col33\" >28691</td>\n",
       "    </tr>\n",
       "    <tr>\n",
       "      <th id=\"T_9dc61_level0_row3\" class=\"row_heading level0 row3\" >Latin America and the Caribbean</th>\n",
       "      <td id=\"T_9dc61_row3_col0\" class=\"data row3 col0\" >13081</td>\n",
       "      <td id=\"T_9dc61_row3_col1\" class=\"data row3 col1\" >15215</td>\n",
       "      <td id=\"T_9dc61_row3_col2\" class=\"data row3 col2\" >16769</td>\n",
       "      <td id=\"T_9dc61_row3_col3\" class=\"data row3 col3\" >15427</td>\n",
       "      <td id=\"T_9dc61_row3_col4\" class=\"data row3 col4\" >13678</td>\n",
       "      <td id=\"T_9dc61_row3_col5\" class=\"data row3 col5\" >15171</td>\n",
       "      <td id=\"T_9dc61_row3_col6\" class=\"data row3 col6\" >21179</td>\n",
       "      <td id=\"T_9dc61_row3_col7\" class=\"data row3 col7\" >28471</td>\n",
       "      <td id=\"T_9dc61_row3_col8\" class=\"data row3 col8\" >21924</td>\n",
       "      <td id=\"T_9dc61_row3_col9\" class=\"data row3 col9\" >25060</td>\n",
       "      <td id=\"T_9dc61_row3_col10\" class=\"data row3 col10\" >27942</td>\n",
       "      <td id=\"T_9dc61_row3_col11\" class=\"data row3 col11\" >36827</td>\n",
       "      <td id=\"T_9dc61_row3_col12\" class=\"data row3 col12\" >37853</td>\n",
       "      <td id=\"T_9dc61_row3_col13\" class=\"data row3 col13\" >33840</td>\n",
       "      <td id=\"T_9dc61_row3_col14\" class=\"data row3 col14\" >21341</td>\n",
       "      <td id=\"T_9dc61_row3_col15\" class=\"data row3 col15\" >20262</td>\n",
       "      <td id=\"T_9dc61_row3_col16\" class=\"data row3 col16\" >18645</td>\n",
       "      <td id=\"T_9dc61_row3_col17\" class=\"data row3 col17\" >17174</td>\n",
       "      <td id=\"T_9dc61_row3_col18\" class=\"data row3 col18\" >13830</td>\n",
       "      <td id=\"T_9dc61_row3_col19\" class=\"data row3 col19\" >15088</td>\n",
       "      <td id=\"T_9dc61_row3_col20\" class=\"data row3 col20\" >16898</td>\n",
       "      <td id=\"T_9dc61_row3_col21\" class=\"data row3 col21\" >20067</td>\n",
       "      <td id=\"T_9dc61_row3_col22\" class=\"data row3 col22\" >19317</td>\n",
       "      <td id=\"T_9dc61_row3_col23\" class=\"data row3 col23\" >20263</td>\n",
       "      <td id=\"T_9dc61_row3_col24\" class=\"data row3 col24\" >22181</td>\n",
       "      <td id=\"T_9dc61_row3_col25\" class=\"data row3 col25\" >24747</td>\n",
       "      <td id=\"T_9dc61_row3_col26\" class=\"data row3 col26\" >24676</td>\n",
       "      <td id=\"T_9dc61_row3_col27\" class=\"data row3 col27\" >26011</td>\n",
       "      <td id=\"T_9dc61_row3_col28\" class=\"data row3 col28\" >26547</td>\n",
       "      <td id=\"T_9dc61_row3_col29\" class=\"data row3 col29\" >26867</td>\n",
       "      <td id=\"T_9dc61_row3_col30\" class=\"data row3 col30\" >28818</td>\n",
       "      <td id=\"T_9dc61_row3_col31\" class=\"data row3 col31\" >27856</td>\n",
       "      <td id=\"T_9dc61_row3_col32\" class=\"data row3 col32\" >27173</td>\n",
       "      <td id=\"T_9dc61_row3_col33\" class=\"data row3 col33\" >24950</td>\n",
       "    </tr>\n",
       "    <tr>\n",
       "      <th id=\"T_9dc61_level0_row4\" class=\"row_heading level0 row4\" >Northern America</th>\n",
       "      <td id=\"T_9dc61_row4_col0\" class=\"data row4 col0\" >9378</td>\n",
       "      <td id=\"T_9dc61_row4_col1\" class=\"data row4 col1\" >10030</td>\n",
       "      <td id=\"T_9dc61_row4_col2\" class=\"data row4 col2\" >9074</td>\n",
       "      <td id=\"T_9dc61_row4_col3\" class=\"data row4 col3\" >7100</td>\n",
       "      <td id=\"T_9dc61_row4_col4\" class=\"data row4 col4\" >6661</td>\n",
       "      <td id=\"T_9dc61_row4_col5\" class=\"data row4 col5\" >6543</td>\n",
       "      <td id=\"T_9dc61_row4_col6\" class=\"data row4 col6\" >7074</td>\n",
       "      <td id=\"T_9dc61_row4_col7\" class=\"data row4 col7\" >7705</td>\n",
       "      <td id=\"T_9dc61_row4_col8\" class=\"data row4 col8\" >6469</td>\n",
       "      <td id=\"T_9dc61_row4_col9\" class=\"data row4 col9\" >6790</td>\n",
       "      <td id=\"T_9dc61_row4_col10\" class=\"data row4 col10\" >5895</td>\n",
       "      <td id=\"T_9dc61_row4_col11\" class=\"data row4 col11\" >6057</td>\n",
       "      <td id=\"T_9dc61_row4_col12\" class=\"data row4 col12\" >6846</td>\n",
       "      <td id=\"T_9dc61_row4_col13\" class=\"data row4 col13\" >7438</td>\n",
       "      <td id=\"T_9dc61_row4_col14\" class=\"data row4 col14\" >5902</td>\n",
       "      <td id=\"T_9dc61_row4_col15\" class=\"data row4 col15\" >4891</td>\n",
       "      <td id=\"T_9dc61_row4_col16\" class=\"data row4 col16\" >5516</td>\n",
       "      <td id=\"T_9dc61_row4_col17\" class=\"data row4 col17\" >4753</td>\n",
       "      <td id=\"T_9dc61_row4_col18\" class=\"data row4 col18\" >4437</td>\n",
       "      <td id=\"T_9dc61_row4_col19\" class=\"data row4 col19\" >5196</td>\n",
       "      <td id=\"T_9dc61_row4_col20\" class=\"data row4 col20\" >5433</td>\n",
       "      <td id=\"T_9dc61_row4_col21\" class=\"data row4 col21\" >5604</td>\n",
       "      <td id=\"T_9dc61_row4_col22\" class=\"data row4 col22\" >4948</td>\n",
       "      <td id=\"T_9dc61_row4_col23\" class=\"data row4 col23\" >5543</td>\n",
       "      <td id=\"T_9dc61_row4_col24\" class=\"data row4 col24\" >6990</td>\n",
       "      <td id=\"T_9dc61_row4_col25\" class=\"data row4 col25\" >8394</td>\n",
       "      <td id=\"T_9dc61_row4_col26\" class=\"data row4 col26\" >9613</td>\n",
       "      <td id=\"T_9dc61_row4_col27\" class=\"data row4 col27\" >9463</td>\n",
       "      <td id=\"T_9dc61_row4_col28\" class=\"data row4 col28\" >10190</td>\n",
       "      <td id=\"T_9dc61_row4_col29\" class=\"data row4 col29\" >8995</td>\n",
       "      <td id=\"T_9dc61_row4_col30\" class=\"data row4 col30\" >8142</td>\n",
       "      <td id=\"T_9dc61_row4_col31\" class=\"data row4 col31\" >7677</td>\n",
       "      <td id=\"T_9dc61_row4_col32\" class=\"data row4 col32\" >7892</td>\n",
       "      <td id=\"T_9dc61_row4_col33\" class=\"data row4 col33\" >8503</td>\n",
       "    </tr>\n",
       "    <tr>\n",
       "      <th id=\"T_9dc61_level0_row5\" class=\"row_heading level0 row5\" >Oceania</th>\n",
       "      <td id=\"T_9dc61_row5_col0\" class=\"data row5 col0\" >1942</td>\n",
       "      <td id=\"T_9dc61_row5_col1\" class=\"data row5 col1\" >1839</td>\n",
       "      <td id=\"T_9dc61_row5_col2\" class=\"data row5 col2\" >1675</td>\n",
       "      <td id=\"T_9dc61_row5_col3\" class=\"data row5 col3\" >1018</td>\n",
       "      <td id=\"T_9dc61_row5_col4\" class=\"data row5 col4\" >878</td>\n",
       "      <td id=\"T_9dc61_row5_col5\" class=\"data row5 col5\" >920</td>\n",
       "      <td id=\"T_9dc61_row5_col6\" class=\"data row5 col6\" >904</td>\n",
       "      <td id=\"T_9dc61_row5_col7\" class=\"data row5 col7\" >1200</td>\n",
       "      <td id=\"T_9dc61_row5_col8\" class=\"data row5 col8\" >1181</td>\n",
       "      <td id=\"T_9dc61_row5_col9\" class=\"data row5 col9\" >1539</td>\n",
       "      <td id=\"T_9dc61_row5_col10\" class=\"data row5 col10\" >2075</td>\n",
       "      <td id=\"T_9dc61_row5_col11\" class=\"data row5 col11\" >2495</td>\n",
       "      <td id=\"T_9dc61_row5_col12\" class=\"data row5 col12\" >2871</td>\n",
       "      <td id=\"T_9dc61_row5_col13\" class=\"data row5 col13\" >2566</td>\n",
       "      <td id=\"T_9dc61_row5_col14\" class=\"data row5 col14\" >1967</td>\n",
       "      <td id=\"T_9dc61_row5_col15\" class=\"data row5 col15\" >1565</td>\n",
       "      <td id=\"T_9dc61_row5_col16\" class=\"data row5 col16\" >1552</td>\n",
       "      <td id=\"T_9dc61_row5_col17\" class=\"data row5 col17\" >1263</td>\n",
       "      <td id=\"T_9dc61_row5_col18\" class=\"data row5 col18\" >1021</td>\n",
       "      <td id=\"T_9dc61_row5_col19\" class=\"data row5 col19\" >1055</td>\n",
       "      <td id=\"T_9dc61_row5_col20\" class=\"data row5 col20\" >1276</td>\n",
       "      <td id=\"T_9dc61_row5_col21\" class=\"data row5 col21\" >1818</td>\n",
       "      <td id=\"T_9dc61_row5_col22\" class=\"data row5 col22\" >1685</td>\n",
       "      <td id=\"T_9dc61_row5_col23\" class=\"data row5 col23\" >1800</td>\n",
       "      <td id=\"T_9dc61_row5_col24\" class=\"data row5 col24\" >1788</td>\n",
       "      <td id=\"T_9dc61_row5_col25\" class=\"data row5 col25\" >1585</td>\n",
       "      <td id=\"T_9dc61_row5_col26\" class=\"data row5 col26\" >1473</td>\n",
       "      <td id=\"T_9dc61_row5_col27\" class=\"data row5 col27\" >1693</td>\n",
       "      <td id=\"T_9dc61_row5_col28\" class=\"data row5 col28\" >1834</td>\n",
       "      <td id=\"T_9dc61_row5_col29\" class=\"data row5 col29\" >1860</td>\n",
       "      <td id=\"T_9dc61_row5_col30\" class=\"data row5 col30\" >1834</td>\n",
       "      <td id=\"T_9dc61_row5_col31\" class=\"data row5 col31\" >1548</td>\n",
       "      <td id=\"T_9dc61_row5_col32\" class=\"data row5 col32\" >1679</td>\n",
       "      <td id=\"T_9dc61_row5_col33\" class=\"data row5 col33\" >1775</td>\n",
       "    </tr>\n",
       "  </tbody>\n",
       "</table>\n"
      ],
      "text/plain": [
       "<pandas.io.formats.style.Styler at 0x2132c37f700>"
      ]
     },
     "execution_count": 39,
     "metadata": {},
     "output_type": "execute_result"
    }
   ],
   "source": [
    "continent_df.style.text_gradient(cmap='rainbow')"
   ]
  },
  {
   "cell_type": "markdown",
   "metadata": {},
   "source": [
    "<h3>Visualization<h3>"
   ]
  },
  {
   "cell_type": "code",
   "execution_count": 40,
   "metadata": {},
   "outputs": [],
   "source": [
    "import matplotlib.pyplot as plt\n",
    "import seaborn as sns\n",
    "import plotly.express as px"
   ]
  },
  {
   "cell_type": "markdown",
   "metadata": {},
   "source": [
    "basic graphs - Matplotlib\n",
    "- line plot\n",
    "- bar plot\n",
    "- pie plot\n",
    "- box plot\n",
    "- scatter plot\n",
    "- histogram plot\n",
    "- area plot ### advanced graphs - seaborn\n",
    "- catplot\n",
    "- joinplot\n",
    "- pairplot\n",
    "- heatmap\n",
    "- violinplot\n",
    "- countplot ## interactive graphs - plotly\n",
    "- grapha similar to matplotlib but interactive"
   ]
  },
  {
   "cell_type": "code",
   "execution_count": 41,
   "metadata": {},
   "outputs": [
    {
     "name": "stdout",
     "output_type": "stream",
     "text": [
      "\u001b[1;31mSignature:\u001b[0m      \u001b[0mdf\u001b[0m\u001b[1;33m.\u001b[0m\u001b[0mplot\u001b[0m\u001b[1;33m(\u001b[0m\u001b[1;33m*\u001b[0m\u001b[0margs\u001b[0m\u001b[1;33m,\u001b[0m \u001b[1;33m**\u001b[0m\u001b[0mkwargs\u001b[0m\u001b[1;33m)\u001b[0m\u001b[1;33m\u001b[0m\u001b[1;33m\u001b[0m\u001b[0m\n",
      "\u001b[1;31mType:\u001b[0m           PlotAccessor\n",
      "\u001b[1;31mString form:\u001b[0m    <pandas.plotting._core.PlotAccessor object at 0x000002132E457F40>\n",
      "\u001b[1;31mFile:\u001b[0m           c:\\users\\indyatri\\miniconda3\\lib\\site-packages\\pandas\\plotting\\_core.py\n",
      "\u001b[1;31mDocstring:\u001b[0m     \n",
      "Make plots of Series or DataFrame.\n",
      "\n",
      "Uses the backend specified by the\n",
      "option ``plotting.backend``. By default, matplotlib is used.\n",
      "\n",
      "Parameters\n",
      "----------\n",
      "data : Series or DataFrame\n",
      "    The object for which the method is called.\n",
      "x : label or position, default None\n",
      "    Only used if data is a DataFrame.\n",
      "y : label, position or list of label, positions, default None\n",
      "    Allows plotting of one column versus another. Only used if data is a\n",
      "    DataFrame.\n",
      "kind : str\n",
      "    The kind of plot to produce:\n",
      "\n",
      "    - 'line' : line plot (default)\n",
      "    - 'bar' : vertical bar plot\n",
      "    - 'barh' : horizontal bar plot\n",
      "    - 'hist' : histogram\n",
      "    - 'box' : boxplot\n",
      "    - 'kde' : Kernel Density Estimation plot\n",
      "    - 'density' : same as 'kde'\n",
      "    - 'area' : area plot\n",
      "    - 'pie' : pie plot\n",
      "    - 'scatter' : scatter plot (DataFrame only)\n",
      "    - 'hexbin' : hexbin plot (DataFrame only)\n",
      "ax : matplotlib axes object, default None\n",
      "    An axes of the current figure.\n",
      "subplots : bool, default False\n",
      "    Make separate subplots for each column.\n",
      "sharex : bool, default True if ax is None else False\n",
      "    In case ``subplots=True``, share x axis and set some x axis labels\n",
      "    to invisible; defaults to True if ax is None otherwise False if\n",
      "    an ax is passed in; Be aware, that passing in both an ax and\n",
      "    ``sharex=True`` will alter all x axis labels for all axis in a figure.\n",
      "sharey : bool, default False\n",
      "    In case ``subplots=True``, share y axis and set some y axis labels to invisible.\n",
      "layout : tuple, optional\n",
      "    (rows, columns) for the layout of subplots.\n",
      "figsize : a tuple (width, height) in inches\n",
      "    Size of a figure object.\n",
      "use_index : bool, default True\n",
      "    Use index as ticks for x axis.\n",
      "title : str or list\n",
      "    Title to use for the plot. If a string is passed, print the string\n",
      "    at the top of the figure. If a list is passed and `subplots` is\n",
      "    True, print each item in the list above the corresponding subplot.\n",
      "grid : bool, default None (matlab style default)\n",
      "    Axis grid lines.\n",
      "legend : bool or {'reverse'}\n",
      "    Place legend on axis subplots.\n",
      "style : list or dict\n",
      "    The matplotlib line style per column.\n",
      "logx : bool or 'sym', default False\n",
      "    Use log scaling or symlog scaling on x axis.\n",
      "    .. versionchanged:: 0.25.0\n",
      "\n",
      "logy : bool or 'sym' default False\n",
      "    Use log scaling or symlog scaling on y axis.\n",
      "    .. versionchanged:: 0.25.0\n",
      "\n",
      "loglog : bool or 'sym', default False\n",
      "    Use log scaling or symlog scaling on both x and y axes.\n",
      "    .. versionchanged:: 0.25.0\n",
      "\n",
      "xticks : sequence\n",
      "    Values to use for the xticks.\n",
      "yticks : sequence\n",
      "    Values to use for the yticks.\n",
      "xlim : 2-tuple/list\n",
      "    Set the x limits of the current axes.\n",
      "ylim : 2-tuple/list\n",
      "    Set the y limits of the current axes.\n",
      "xlabel : label, optional\n",
      "    Name to use for the xlabel on x-axis. Default uses index name as xlabel, or the\n",
      "    x-column name for planar plots.\n",
      "\n",
      "    .. versionadded:: 1.1.0\n",
      "\n",
      "    .. versionchanged:: 1.2.0\n",
      "\n",
      "       Now applicable to planar plots (`scatter`, `hexbin`).\n",
      "\n",
      "ylabel : label, optional\n",
      "    Name to use for the ylabel on y-axis. Default will show no ylabel, or the\n",
      "    y-column name for planar plots.\n",
      "\n",
      "    .. versionadded:: 1.1.0\n",
      "\n",
      "    .. versionchanged:: 1.2.0\n",
      "\n",
      "       Now applicable to planar plots (`scatter`, `hexbin`).\n",
      "\n",
      "rot : int, default None\n",
      "    Rotation for ticks (xticks for vertical, yticks for horizontal\n",
      "    plots).\n",
      "fontsize : int, default None\n",
      "    Font size for xticks and yticks.\n",
      "colormap : str or matplotlib colormap object, default None\n",
      "    Colormap to select colors from. If string, load colormap with that\n",
      "    name from matplotlib.\n",
      "colorbar : bool, optional\n",
      "    If True, plot colorbar (only relevant for 'scatter' and 'hexbin'\n",
      "    plots).\n",
      "position : float\n",
      "    Specify relative alignments for bar plot layout.\n",
      "    From 0 (left/bottom-end) to 1 (right/top-end). Default is 0.5\n",
      "    (center).\n",
      "table : bool, Series or DataFrame, default False\n",
      "    If True, draw a table using the data in the DataFrame and the data\n",
      "    will be transposed to meet matplotlib's default layout.\n",
      "    If a Series or DataFrame is passed, use passed data to draw a\n",
      "    table.\n",
      "yerr : DataFrame, Series, array-like, dict and str\n",
      "    See :ref:`Plotting with Error Bars <visualization.errorbars>` for\n",
      "    detail.\n",
      "xerr : DataFrame, Series, array-like, dict and str\n",
      "    Equivalent to yerr.\n",
      "stacked : bool, default False in line and bar plots, and True in area plot\n",
      "    If True, create stacked plot.\n",
      "sort_columns : bool, default False\n",
      "    Sort column names to determine plot ordering.\n",
      "secondary_y : bool or sequence, default False\n",
      "    Whether to plot on the secondary y-axis if a list/tuple, which\n",
      "    columns to plot on secondary y-axis.\n",
      "mark_right : bool, default True\n",
      "    When using a secondary_y axis, automatically mark the column\n",
      "    labels with \"(right)\" in the legend.\n",
      "include_bool : bool, default is False\n",
      "    If True, boolean values can be plotted.\n",
      "backend : str, default None\n",
      "    Backend to use instead of the backend specified in the option\n",
      "    ``plotting.backend``. For instance, 'matplotlib'. Alternatively, to\n",
      "    specify the ``plotting.backend`` for the whole session, set\n",
      "    ``pd.options.plotting.backend``.\n",
      "\n",
      "    .. versionadded:: 1.0.0\n",
      "\n",
      "**kwargs\n",
      "    Options to pass to matplotlib plotting method.\n",
      "\n",
      "Returns\n",
      "-------\n",
      ":class:`matplotlib.axes.Axes` or numpy.ndarray of them\n",
      "    If the backend is not the default matplotlib one, the return value\n",
      "    will be the object returned by the backend.\n",
      "\n",
      "Notes\n",
      "-----\n",
      "- See matplotlib documentation online for more on this subject\n",
      "- If `kind` = 'bar' or 'barh', you can specify relative alignments\n",
      "  for bar plot layout by `position` keyword.\n",
      "  From 0 (left/bottom-end) to 1 (right/top-end). Default is 0.5\n",
      "  (center)\n",
      "\u001b[1;31mCall docstring:\u001b[0m\n",
      "Make plots of Series or DataFrame.\n",
      "\n",
      "Uses the backend specified by the\n",
      "option ``plotting.backend``. By default, matplotlib is used.\n",
      "\n",
      "Parameters\n",
      "----------\n",
      "data : Series or DataFrame\n",
      "    The object for which the method is called.\n",
      "x : label or position, default None\n",
      "    Only used if data is a DataFrame.\n",
      "y : label, position or list of label, positions, default None\n",
      "    Allows plotting of one column versus another. Only used if data is a\n",
      "    DataFrame.\n",
      "kind : str\n",
      "    The kind of plot to produce:\n",
      "\n",
      "    - 'line' : line plot (default)\n",
      "    - 'bar' : vertical bar plot\n",
      "    - 'barh' : horizontal bar plot\n",
      "    - 'hist' : histogram\n",
      "    - 'box' : boxplot\n",
      "    - 'kde' : Kernel Density Estimation plot\n",
      "    - 'density' : same as 'kde'\n",
      "    - 'area' : area plot\n",
      "    - 'pie' : pie plot\n",
      "    - 'scatter' : scatter plot (DataFrame only)\n",
      "    - 'hexbin' : hexbin plot (DataFrame only)\n",
      "ax : matplotlib axes object, default None\n",
      "    An axes of the current figure.\n",
      "subplots : bool, default False\n",
      "    Make separate subplots for each column.\n",
      "sharex : bool, default True if ax is None else False\n",
      "    In case ``subplots=True``, share x axis and set some x axis labels\n",
      "    to invisible; defaults to True if ax is None otherwise False if\n",
      "    an ax is passed in; Be aware, that passing in both an ax and\n",
      "    ``sharex=True`` will alter all x axis labels for all axis in a figure.\n",
      "sharey : bool, default False\n",
      "    In case ``subplots=True``, share y axis and set some y axis labels to invisible.\n",
      "layout : tuple, optional\n",
      "    (rows, columns) for the layout of subplots.\n",
      "figsize : a tuple (width, height) in inches\n",
      "    Size of a figure object.\n",
      "use_index : bool, default True\n",
      "    Use index as ticks for x axis.\n",
      "title : str or list\n",
      "    Title to use for the plot. If a string is passed, print the string\n",
      "    at the top of the figure. If a list is passed and `subplots` is\n",
      "    True, print each item in the list above the corresponding subplot.\n",
      "grid : bool, default None (matlab style default)\n",
      "    Axis grid lines.\n",
      "legend : bool or {'reverse'}\n",
      "    Place legend on axis subplots.\n",
      "style : list or dict\n",
      "    The matplotlib line style per column.\n",
      "logx : bool or 'sym', default False\n",
      "    Use log scaling or symlog scaling on x axis.\n",
      "    .. versionchanged:: 0.25.0\n",
      "\n",
      "logy : bool or 'sym' default False\n",
      "    Use log scaling or symlog scaling on y axis.\n",
      "    .. versionchanged:: 0.25.0\n",
      "\n",
      "loglog : bool or 'sym', default False\n",
      "    Use log scaling or symlog scaling on both x and y axes.\n",
      "    .. versionchanged:: 0.25.0\n",
      "\n",
      "xticks : sequence\n",
      "    Values to use for the xticks.\n",
      "yticks : sequence\n",
      "    Values to use for the yticks.\n",
      "xlim : 2-tuple/list\n",
      "    Set the x limits of the current axes.\n",
      "ylim : 2-tuple/list\n",
      "    Set the y limits of the current axes.\n",
      "xlabel : label, optional\n",
      "    Name to use for the xlabel on x-axis. Default uses index name as xlabel, or the\n",
      "    x-column name for planar plots.\n",
      "\n",
      "    .. versionadded:: 1.1.0\n",
      "\n",
      "    .. versionchanged:: 1.2.0\n",
      "\n",
      "       Now applicable to planar plots (`scatter`, `hexbin`).\n",
      "\n",
      "ylabel : label, optional\n",
      "    Name to use for the ylabel on y-axis. Default will show no ylabel, or the\n",
      "    y-column name for planar plots.\n",
      "\n",
      "    .. versionadded:: 1.1.0\n",
      "\n",
      "    .. versionchanged:: 1.2.0\n",
      "\n",
      "       Now applicable to planar plots (`scatter`, `hexbin`).\n",
      "\n",
      "rot : int, default None\n",
      "    Rotation for ticks (xticks for vertical, yticks for horizontal\n",
      "    plots).\n",
      "fontsize : int, default None\n",
      "    Font size for xticks and yticks.\n",
      "colormap : str or matplotlib colormap object, default None\n",
      "    Colormap to select colors from. If string, load colormap with that\n",
      "    name from matplotlib.\n",
      "colorbar : bool, optional\n",
      "    If True, plot colorbar (only relevant for 'scatter' and 'hexbin'\n",
      "    plots).\n",
      "position : float\n",
      "    Specify relative alignments for bar plot layout.\n",
      "    From 0 (left/bottom-end) to 1 (right/top-end). Default is 0.5\n",
      "    (center).\n",
      "table : bool, Series or DataFrame, default False\n",
      "    If True, draw a table using the data in the DataFrame and the data\n",
      "    will be transposed to meet matplotlib's default layout.\n",
      "    If a Series or DataFrame is passed, use passed data to draw a\n",
      "    table.\n",
      "yerr : DataFrame, Series, array-like, dict and str\n",
      "    See :ref:`Plotting with Error Bars <visualization.errorbars>` for\n",
      "    detail.\n",
      "xerr : DataFrame, Series, array-like, dict and str\n",
      "    Equivalent to yerr.\n",
      "stacked : bool, default False in line and bar plots, and True in area plot\n",
      "    If True, create stacked plot.\n",
      "sort_columns : bool, default False\n",
      "    Sort column names to determine plot ordering.\n",
      "secondary_y : bool or sequence, default False\n",
      "    Whether to plot on the secondary y-axis if a list/tuple, which\n",
      "    columns to plot on secondary y-axis.\n",
      "mark_right : bool, default True\n",
      "    When using a secondary_y axis, automatically mark the column\n",
      "    labels with \"(right)\" in the legend.\n",
      "include_bool : bool, default is False\n",
      "    If True, boolean values can be plotted.\n",
      "backend : str, default None\n",
      "    Backend to use instead of the backend specified in the option\n",
      "    ``plotting.backend``. For instance, 'matplotlib'. Alternatively, to\n",
      "    specify the ``plotting.backend`` for the whole session, set\n",
      "    ``pd.options.plotting.backend``.\n",
      "\n",
      "    .. versionadded:: 1.0.0\n",
      "\n",
      "**kwargs\n",
      "    Options to pass to matplotlib plotting method.\n",
      "\n",
      "Returns\n",
      "-------\n",
      ":class:`matplotlib.axes.Axes` or numpy.ndarray of them\n",
      "    If the backend is not the default matplotlib one, the return value\n",
      "    will be the object returned by the backend.\n",
      "\n",
      "Notes\n",
      "-----\n",
      "- See matplotlib documentation online for more on this subject\n",
      "- If `kind` = 'bar' or 'barh', you can specify relative alignments\n",
      "  for bar plot layout by `position` keyword.\n",
      "  From 0 (left/bottom-end) to 1 (right/top-end). Default is 0.5\n",
      "  (center)\n"
     ]
    }
   ],
   "source": [
    "df.plot?"
   ]
  },
  {
   "cell_type": "code",
   "execution_count": 42,
   "metadata": {},
   "outputs": [
    {
     "data": {
      "text/plain": [
       "<AxesSubplot: >"
      ]
     },
     "execution_count": 42,
     "metadata": {},
     "output_type": "execute_result"
    },
    {
     "data": {
      "image/png": "[encoded data removed]",
      "text/plain": [
       "<Figure size 1440x432 with 1 Axes>"
      ]
     },
     "metadata": {
      "needs_background": "light"
     },
     "output_type": "display_data"
    }
   ],
   "source": [
    "df.loc['China',years].plot(kind='line',figsize=(20,6),linewidth=5,linestyle=\"--\",color='red')"
   ]
  },
  {
   "cell_type": "code",
   "execution_count": 43,
   "metadata": {},
   "outputs": [
    {
     "data": {
      "text/plain": [
       "<AxesSubplot: >"
      ]
     },
     "execution_count": 43,
     "metadata": {},
     "output_type": "execute_result"
    },
    {
     "data": {
      "image/png": "[encoded data removed]",
      "text/plain": [
       "<Figure size 1440x432 with 1 Axes>"
      ]
     },
     "metadata": {
      "needs_background": "light"
     },
     "output_type": "display_data"
    }
   ],
   "source": [
    "country_list=['China','Japan','Malaysia','Philippines','Thailand','Vietnam']\n",
    "df.loc[country_list,years].T.plot(figsize=(20,6))"
   ]
  },
  {
   "cell_type": "code",
   "execution_count": 44,
   "metadata": {},
   "outputs": [
    {
     "data": {
      "text/plain": [
       "<AxesSubplot: >"
      ]
     },
     "execution_count": 44,
     "metadata": {},
     "output_type": "execute_result"
    },
    {
     "data": {
      "image/png": "[encoded data removed]",
      "text/plain": [
       "<Figure size 1440x432 with 1 Axes>"
      ]
     },
     "metadata": {
      "needs_background": "light"
     },
     "output_type": "display_data"
    }
   ],
   "source": [
    "df.loc[country_list,years].T.plot(kind='area',figsize=(20,6),stacked=False,alpha=.3)"
   ]
  },
  {
   "cell_type": "code",
   "execution_count": null,
   "metadata": {},
   "outputs": [
    {
     "data": {
      "text/plain": [
       "array([[<AxesSubplot: >, <AxesSubplot: >, <AxesSubplot: >],\n",
       "       [<AxesSubplot: >, <AxesSubplot: >, <AxesSubplot: >]], dtype=object)"
      ]
     },
     "execution_count": 26,
     "metadata": {},
     "output_type": "execute_result"
    },
    {
     "data": {
      "image/png": "[encoded data removed]",
      "text/plain": [
       "<Figure size 1440x720 with 6 Axes>"
      ]
     },
     "metadata": {
      "needs_background": "light"
     },
     "output_type": "display_data"
    }
   ],
   "source": [
    "df.loc[country_list,years].T.plot(figsize=(20,10),subplots=True,layout=(2,3),sharex=False)"
   ]
  },
  {
   "cell_type": "code",
   "execution_count": 45,
   "metadata": {},
   "outputs": [
    {
     "data": {
      "image/png": "[encoded data removed]",
      "text/plain": [
       "<Figure size 1440x432 with 2 Axes>"
      ]
     },
     "metadata": {
      "needs_background": "light"
     },
     "output_type": "display_data"
    }
   ],
   "source": [
    "fig, ax=plt.subplots(figsize=(20,6),nrows=1,ncols=2,)\n",
    "df.loc['India',years].plot(ax=ax[0])\n",
    "df.loc['India',years].plot(ax=ax[1], kind='hist')\n",
    "ax[0].set_title(\"India's Immigration to Canada\",fontsize=20)\n",
    "ax[1].set_title(\"India's frequency of Immigration\",fontsize=20)\n",
    "plt.show()"
   ]
  },
  {
   "cell_type": "code",
   "execution_count": null,
   "metadata": {},
   "outputs": [
    {
     "data": {
      "image/png": "[encoded data removed]",
      "text/plain": [
       "<Figure size 1080x432 with 4 Axes>"
      ]
     },
     "metadata": {
      "needs_background": "light"
     },
     "output_type": "display_data"
    }
   ],
   "source": [
    "fig, ax=plt.subplots(figsize=(15,6),nrows=2,ncols=2,constrained_layout=True)\n",
    "df.loc['India',years].plot(ax=ax[0,0])\n",
    "df.loc['India',years].plot(ax=ax[0,1], kind='hist')\n",
    "df.loc['China',years].plot(ax=ax[1,0])\n",
    "df.loc['China',years].plot(ax=ax[1,1], kind='hist')\n",
    "ax[0,0].set_title(\"India's Immigration to Canada\",fontsize=20)\n",
    "ax[0,1].set_title(\"India's frequency of Immigration\",fontsize=20)\n",
    "ax[1,0].set_title(\"Canada's Immigration to Canada\",fontsize=20)\n",
    "ax[1,1].set_title(\"Canada's frequency of Immigration\",fontsize=20)\n",
    "plt.show()"
   ]
  },
  {
   "cell_type": "code",
   "execution_count": 46,
   "metadata": {},
   "outputs": [
    {
     "data": {
      "text/plain": [
       "<AxesSubplot: >"
      ]
     },
     "execution_count": 46,
     "metadata": {},
     "output_type": "execute_result"
    },
    {
     "data": {
      "image/png": "[encoded data removed]",
      "text/plain": [
       "<Figure size 1440x432 with 1 Axes>"
      ]
     },
     "metadata": {
      "needs_background": "light"
     },
     "output_type": "display_data"
    }
   ],
   "source": [
    "df.loc['Argentina',years].plot(kind='bar',figsize=(20,6),color='blue')\n",
    "#rule - use bar chart for individual data points analysis"
   ]
  },
  {
   "cell_type": "code",
   "execution_count": 47,
   "metadata": {},
   "outputs": [
    {
     "data": {
      "text/plain": [
       "<AxesSubplot: >"
      ]
     },
     "execution_count": 47,
     "metadata": {},
     "output_type": "execute_result"
    },
    {
     "data": {
      "image/png": "[encoded data removed]",
      "text/plain": [
       "<Figure size 1440x432 with 1 Axes>"
      ]
     },
     "metadata": {
      "needs_background": "light"
     },
     "output_type": "display_data"
    }
   ],
   "source": [
    "df.loc[country_list,years].T.plot(kind='bar',figsize=(20,6),stacked=True)"
   ]
  },
  {
   "cell_type": "code",
   "execution_count": 48,
   "metadata": {},
   "outputs": [
    {
     "data": {
      "text/plain": [
       "<AxesSubplot: ylabel='total'>"
      ]
     },
     "execution_count": 48,
     "metadata": {},
     "output_type": "execute_result"
    },
    {
     "data": {
      "image/png": "[encoded data removed]",
      "text/plain": [
       "<Figure size 1440x432 with 1 Axes>"
      ]
     },
     "metadata": {},
     "output_type": "display_data"
    }
   ],
   "source": [
    "plt.figure(facecolor='white')\n",
    "continent_df['total'] = continent_df.sum(axis=1)\n",
    "continent_df['total'].plot(kind='pie',figsize=(20,6),autopct='%1.f%%',radius=1.5,fontsize=12)\n"
   ]
  },
  {
   "cell_type": "code",
   "execution_count": 49,
   "metadata": {},
   "outputs": [
    {
     "data": {
      "image/png": "[encoded data removed]",
      "text/plain": [
       "<Figure size 1440x432 with 1 Axes>"
      ]
     },
     "metadata": {},
     "output_type": "display_data"
    }
   ],
   "source": [
    "plt.figure(facecolor='white')\n",
    "continent_df['total'] = continent_df.sum(axis=1)\n",
    "continent_df['total'].plot(kind='pie',figsize=(20,6),autopct='%1.1f%%',\n",
    "    radius=1.5,fontsize=12,wedgeprops={'width':0.75})\n",
    "plt.ylabel('')\n",
    "plt.savefig('continent_wise_immigration_pie_chart.png',dpi=300, bbox_inches='tight')\n"
   ]
  },
  {
   "cell_type": "code",
   "execution_count": 57,
   "metadata": {},
   "outputs": [
    {
     "data": {
      "text/plain": [
       "<AxesSubplot: >"
      ]
     },
     "execution_count": 57,
     "metadata": {},
     "output_type": "execute_result"
    },
    {
     "data": {
      "image/png": "[encoded data removed]",
      "text/plain": [
       "<Figure size 1440x720 with 1 Axes>"
      ]
     },
     "metadata": {
      "needs_background": "light"
     },
     "output_type": "display_data"
    }
   ],
   "source": [
    "df.loc[country_list,years].T.plot(kind='box',figsize=(20,10),logy=True,color='darkblue')"
   ]
  },
  {
   "cell_type": "markdown",
   "metadata": {},
   "source": [
    "plotly\n",
    "- if u are getting a graph and a long error before it\n",
    "- pip install nbformat\n",
    "-then restart notabook and run all   "
   ]
  },
  {
   "cell_type": "code",
   "execution_count": 58,
   "metadata": {},
   "outputs": [
    {
     "data": {
      "application/vnd.plotly.v1+json": {
       "config": {
        "plotlyServerURL": "https://plot.ly"
       },
       "data": [
        {
         "hovertemplate": "index=%{x}<br>y=%{y}<extra></extra>",
         "legendgroup": "",
         "line": {
          "color": "#636efa",
          "dash": "solid"
         },
         "marker": {
          "symbol": "circle"
         },
         "mode": "markers+lines",
         "name": "",
         "orientation": "v",
         "showlegend": false,
         "type": "scatter",
         "x": [
          1980,
          1981,
          1982,
          1983,
          1984,
          1985,
          1986,
          1987,
          1988,
          1989,
          1990,
          1991,
          1992,
          1993,
          1994,
          1995,
          1996,
          1997,
          1998,
          1999,
          2000,
          2001,
          2002,
          2003,
          2004,
          2005,
          2006,
          2007,
          2008,
          2009,
          2010,
          2011,
          2012,
          2013
         ],
         "xaxis": "x",
         "y": [
          8880,
          8670,
          8147,
          7338,
          5704,
          4211,
          7150,
          10189,
          11522,
          10343,
          12041,
          13734,
          13673,
          21496,
          18620,
          18489,
          23859,
          22268,
          17241,
          18974,
          28572,
          31223,
          31889,
          27155,
          28235,
          36210,
          33848,
          28742,
          28261,
          29456,
          34235,
          27509,
          30933,
          33087
         ],
         "yaxis": "y"
        }
       ],
       "layout": {
        "height": 300,
        "legend": {
         "tracegroupgap": 0
        },
        "margin": {
         "t": 60
        },
        "template": {
         "data": {
          "bar": [
           {
            "error_x": {
             "color": "#2a3f5f"
            },
            "error_y": {
             "color": "#2a3f5f"
            },
            "marker": {
             "line": {
              "color": "#E5ECF6",
              "width": 0.5
             },
             "pattern": {
              "fillmode": "overlay",
              "size": 10,
              "solidity": 0.2
             }
            },
            "type": "bar"
           }
          ],
          "barpolar": [
           {
            "marker": {
             "line": {
              "color": "#E5ECF6",
              "width": 0.5
             },
             "pattern": {
              "fillmode": "overlay",
              "size": 10,
              "solidity": 0.2
             }
            },
            "type": "barpolar"
           }
          ],
          "carpet": [
           {
            "aaxis": {
             "endlinecolor": "#2a3f5f",
             "gridcolor": "white",
             "linecolor": "white",
             "minorgridcolor": "white",
             "startlinecolor": "#2a3f5f"
            },
            "baxis": {
             "endlinecolor": "#2a3f5f",
             "gridcolor": "white",
             "linecolor": "white",
             "minorgridcolor": "white",
             "startlinecolor": "#2a3f5f"
            },
            "type": "carpet"
           }
          ],
          "choropleth": [
           {
            "colorbar": {
             "outlinewidth": 0,
             "ticks": ""
            },
            "type": "choropleth"
           }
          ],
          "contour": [
           {
            "colorbar": {
             "outlinewidth": 0,
             "ticks": ""
            },
            "colorscale": [
             [
              0,
              "#0d0887"
             ],
             [
              0.1111111111111111,
              "#46039f"
             ],
             [
              0.2222222222222222,
              "#7201a8"
             ],
             [
              0.3333333333333333,
              "#9c179e"
             ],
             [
              0.4444444444444444,
              "#bd3786"
             ],
             [
              0.5555555555555556,
              "#d8576b"
             ],
             [
              0.6666666666666666,
              "#ed7953"
             ],
             [
              0.7777777777777778,
              "#fb9f3a"
             ],
             [
              0.8888888888888888,
              "#fdca26"
             ],
             [
              1,
              "#f0f921"
             ]
            ],
            "type": "contour"
           }
          ],
          "contourcarpet": [
           {
            "colorbar": {
             "outlinewidth": 0,
             "ticks": ""
            },
            "type": "contourcarpet"
           }
          ],
          "heatmap": [
           {
            "colorbar": {
             "outlinewidth": 0,
             "ticks": ""
            },
            "colorscale": [
             [
              0,
              "#0d0887"
             ],
             [
              0.1111111111111111,
              "#46039f"
             ],
             [
              0.2222222222222222,
              "#7201a8"
             ],
             [
              0.3333333333333333,
              "#9c179e"
             ],
             [
              0.4444444444444444,
              "#bd3786"
             ],
             [
              0.5555555555555556,
              "#d8576b"
             ],
             [
              0.6666666666666666,
              "#ed7953"
             ],
             [
              0.7777777777777778,
              "#fb9f3a"
             ],
             [
              0.8888888888888888,
              "#fdca26"
             ],
             [
              1,
              "#f0f921"
             ]
            ],
            "type": "heatmap"
           }
          ],
          "heatmapgl": [
           {
            "colorbar": {
             "outlinewidth": 0,
             "ticks": ""
            },
            "colorscale": [
             [
              0,
              "#0d0887"
             ],
             [
              0.1111111111111111,
              "#46039f"
             ],
             [
              0.2222222222222222,
              "#7201a8"
             ],
             [
              0.3333333333333333,
              "#9c179e"
             ],
             [
              0.4444444444444444,
              "#bd3786"
             ],
             [
              0.5555555555555556,
              "#d8576b"
             ],
             [
              0.6666666666666666,
              "#ed7953"
             ],
             [
              0.7777777777777778,
              "#fb9f3a"
             ],
             [
              0.8888888888888888,
              "#fdca26"
             ],
             [
              1,
              "#f0f921"
             ]
            ],
            "type": "heatmapgl"
           }
          ],
          "histogram": [
           {
            "marker": {
             "pattern": {
              "fillmode": "overlay",
              "size": 10,
              "solidity": 0.2
             }
            },
            "type": "histogram"
           }
          ],
          "histogram2d": [
           {
            "colorbar": {
             "outlinewidth": 0,
             "ticks": ""
            },
            "colorscale": [
             [
              0,
              "#0d0887"
             ],
             [
              0.1111111111111111,
              "#46039f"
             ],
             [
              0.2222222222222222,
              "#7201a8"
             ],
             [
              0.3333333333333333,
              "#9c179e"
             ],
             [
              0.4444444444444444,
              "#bd3786"
             ],
             [
              0.5555555555555556,
              "#d8576b"
             ],
             [
              0.6666666666666666,
              "#ed7953"
             ],
             [
              0.7777777777777778,
              "#fb9f3a"
             ],
             [
              0.8888888888888888,
              "#fdca26"
             ],
             [
              1,
              "#f0f921"
             ]
            ],
            "type": "histogram2d"
           }
          ],
          "histogram2dcontour": [
           {
            "colorbar": {
             "outlinewidth": 0,
             "ticks": ""
            },
            "colorscale": [
             [
              0,
              "#0d0887"
             ],
             [
              0.1111111111111111,
              "#46039f"
             ],
             [
              0.2222222222222222,
              "#7201a8"
             ],
             [
              0.3333333333333333,
              "#9c179e"
             ],
             [
              0.4444444444444444,
              "#bd3786"
             ],
             [
              0.5555555555555556,
              "#d8576b"
             ],
             [
              0.6666666666666666,
              "#ed7953"
             ],
             [
              0.7777777777777778,
              "#fb9f3a"
             ],
             [
              0.8888888888888888,
              "#fdca26"
             ],
             [
              1,
              "#f0f921"
             ]
            ],
            "type": "histogram2dcontour"
           }
          ],
          "mesh3d": [
           {
            "colorbar": {
             "outlinewidth": 0,
             "ticks": ""
            },
            "type": "mesh3d"
           }
          ],
          "parcoords": [
           {
            "line": {
             "colorbar": {
              "outlinewidth": 0,
              "ticks": ""
             }
            },
            "type": "parcoords"
           }
          ],
          "pie": [
           {
            "automargin": true,
            "type": "pie"
           }
          ],
          "scatter": [
           {
            "fillpattern": {
             "fillmode": "overlay",
             "size": 10,
             "solidity": 0.2
            },
            "type": "scatter"
           }
          ],
          "scatter3d": [
           {
            "line": {
             "colorbar": {
              "outlinewidth": 0,
              "ticks": ""
             }
            },
            "marker": {
             "colorbar": {
              "outlinewidth": 0,
              "ticks": ""
             }
            },
            "type": "scatter3d"
           }
          ],
          "scattercarpet": [
           {
            "marker": {
             "colorbar": {
              "outlinewidth": 0,
              "ticks": ""
             }
            },
            "type": "scattercarpet"
           }
          ],
          "scattergeo": [
           {
            "marker": {
             "colorbar": {
              "outlinewidth": 0,
              "ticks": ""
             }
            },
            "type": "scattergeo"
           }
          ],
          "scattergl": [
           {
            "marker": {
             "colorbar": {
              "outlinewidth": 0,
              "ticks": ""
             }
            },
            "type": "scattergl"
           }
          ],
          "scattermapbox": [
           {
            "marker": {
             "colorbar": {
              "outlinewidth": 0,
              "ticks": ""
             }
            },
            "type": "scattermapbox"
           }
          ],
          "scatterpolar": [
           {
            "marker": {
             "colorbar": {
              "outlinewidth": 0,
              "ticks": ""
             }
            },
            "type": "scatterpolar"
           }
          ],
          "scatterpolargl": [
           {
            "marker": {
             "colorbar": {
              "outlinewidth": 0,
              "ticks": ""
             }
            },
            "type": "scatterpolargl"
           }
          ],
          "scatterternary": [
           {
            "marker": {
             "colorbar": {
              "outlinewidth": 0,
              "ticks": ""
             }
            },
            "type": "scatterternary"
           }
          ],
          "surface": [
           {
            "colorbar": {
             "outlinewidth": 0,
             "ticks": ""
            },
            "colorscale": [
             [
              0,
              "#0d0887"
             ],
             [
              0.1111111111111111,
              "#46039f"
             ],
             [
              0.2222222222222222,
              "#7201a8"
             ],
             [
              0.3333333333333333,
              "#9c179e"
             ],
             [
              0.4444444444444444,
              "#bd3786"
             ],
             [
              0.5555555555555556,
              "#d8576b"
             ],
             [
              0.6666666666666666,
              "#ed7953"
             ],
             [
              0.7777777777777778,
              "#fb9f3a"
             ],
             [
              0.8888888888888888,
              "#fdca26"
             ],
             [
              1,
              "#f0f921"
             ]
            ],
            "type": "surface"
           }
          ],
          "table": [
           {
            "cells": {
             "fill": {
              "color": "#EBF0F8"
             },
             "line": {
              "color": "white"
             }
            },
            "header": {
             "fill": {
              "color": "#C8D4E3"
             },
             "line": {
              "color": "white"
             }
            },
            "type": "table"
           }
          ]
         },
         "layout": {
          "annotationdefaults": {
           "arrowcolor": "#2a3f5f",
           "arrowhead": 0,
           "arrowwidth": 1
          },
          "autotypenumbers": "strict",
          "coloraxis": {
           "colorbar": {
            "outlinewidth": 0,
            "ticks": ""
           }
          },
          "colorscale": {
           "diverging": [
            [
             0,
             "#8e0152"
            ],
            [
             0.1,
             "#c51b7d"
            ],
            [
             0.2,
             "#de77ae"
            ],
            [
             0.3,
             "#f1b6da"
            ],
            [
             0.4,
             "#fde0ef"
            ],
            [
             0.5,
             "#f7f7f7"
            ],
            [
             0.6,
             "#e6f5d0"
            ],
            [
             0.7,
             "#b8e186"
            ],
            [
             0.8,
             "#7fbc41"
            ],
            [
             0.9,
             "#4d9221"
            ],
            [
             1,
             "#276419"
            ]
           ],
           "sequential": [
            [
             0,
             "#0d0887"
            ],
            [
             0.1111111111111111,
             "#46039f"
            ],
            [
             0.2222222222222222,
             "#7201a8"
            ],
            [
             0.3333333333333333,
             "#9c179e"
            ],
            [
             0.4444444444444444,
             "#bd3786"
            ],
            [
             0.5555555555555556,
             "#d8576b"
            ],
            [
             0.6666666666666666,
             "#ed7953"
            ],
            [
             0.7777777777777778,
             "#fb9f3a"
            ],
            [
             0.8888888888888888,
             "#fdca26"
            ],
            [
             1,
             "#f0f921"
            ]
           ],
           "sequentialminus": [
            [
             0,
             "#0d0887"
            ],
            [
             0.1111111111111111,
             "#46039f"
            ],
            [
             0.2222222222222222,
             "#7201a8"
            ],
            [
             0.3333333333333333,
             "#9c179e"
            ],
            [
             0.4444444444444444,
             "#bd3786"
            ],
            [
             0.5555555555555556,
             "#d8576b"
            ],
            [
             0.6666666666666666,
             "#ed7953"
            ],
            [
             0.7777777777777778,
             "#fb9f3a"
            ],
            [
             0.8888888888888888,
             "#fdca26"
            ],
            [
             1,
             "#f0f921"
            ]
           ]
          },
          "colorway": [
           "#636efa",
           "#EF553B",
           "#00cc96",
           "#ab63fa",
           "#FFA15A",
           "#19d3f3",
           "#FF6692",
           "#B6E880",
           "#FF97FF",
           "#FECB52"
          ],
          "font": {
           "color": "#2a3f5f"
          },
          "geo": {
           "bgcolor": "white",
           "lakecolor": "white",
           "landcolor": "#E5ECF6",
           "showlakes": true,
           "showland": true,
           "subunitcolor": "white"
          },
          "hoverlabel": {
           "align": "left"
          },
          "hovermode": "closest",
          "mapbox": {
           "style": "light"
          },
          "paper_bgcolor": "white",
          "plot_bgcolor": "#E5ECF6",
          "polar": {
           "angularaxis": {
            "gridcolor": "white",
            "linecolor": "white",
            "ticks": ""
           },
           "bgcolor": "#E5ECF6",
           "radialaxis": {
            "gridcolor": "white",
            "linecolor": "white",
            "ticks": ""
           }
          },
          "scene": {
           "xaxis": {
            "backgroundcolor": "#E5ECF6",
            "gridcolor": "white",
            "gridwidth": 2,
            "linecolor": "white",
            "showbackground": true,
            "ticks": "",
            "zerolinecolor": "white"
           },
           "yaxis": {
            "backgroundcolor": "#E5ECF6",
            "gridcolor": "white",
            "gridwidth": 2,
            "linecolor": "white",
            "showbackground": true,
            "ticks": "",
            "zerolinecolor": "white"
           },
           "zaxis": {
            "backgroundcolor": "#E5ECF6",
            "gridcolor": "white",
            "gridwidth": 2,
            "linecolor": "white",
            "showbackground": true,
            "ticks": "",
            "zerolinecolor": "white"
           }
          },
          "shapedefaults": {
           "line": {
            "color": "#2a3f5f"
           }
          },
          "ternary": {
           "aaxis": {
            "gridcolor": "white",
            "linecolor": "white",
            "ticks": ""
           },
           "baxis": {
            "gridcolor": "white",
            "linecolor": "white",
            "ticks": ""
           },
           "bgcolor": "#E5ECF6",
           "caxis": {
            "gridcolor": "white",
            "linecolor": "white",
            "ticks": ""
           }
          },
          "title": {
           "x": 0.05
          },
          "xaxis": {
           "automargin": true,
           "gridcolor": "white",
           "linecolor": "white",
           "ticks": "",
           "title": {
            "standoff": 15
           },
           "zerolinecolor": "white",
           "zerolinewidth": 2
          },
          "yaxis": {
           "automargin": true,
           "gridcolor": "white",
           "linecolor": "white",
           "ticks": "",
           "title": {
            "standoff": 15
           },
           "zerolinecolor": "white",
           "zerolinewidth": 2
          }
         }
        },
        "xaxis": {
         "anchor": "y",
         "domain": [
          0,
          1
         ],
         "title": {
          "text": "index"
         }
        },
        "yaxis": {
         "anchor": "x",
         "domain": [
          0,
          1
         ],
         "title": {
          "text": "y"
         }
        }
       }
      }
     },
     "metadata": {},
     "output_type": "display_data"
    }
   ],
   "source": [
    "years =list(range(1980,2014))\n",
    "india_data = df.loc['India',years]\n",
    "px.line(india_data, x=india_data.index, y= india_data.values,markers=True,height=300)"
   ]
  },
  {
   "cell_type": "code",
   "execution_count": 59,
   "metadata": {},
   "outputs": [
    {
     "data": {
      "application/vnd.plotly.v1+json": {
       "config": {
        "plotlyServerURL": "https://plot.ly"
       },
       "data": [
        {
         "alignmentgroup": "True",
         "hovertemplate": "index=%{x}<br>y=%{y}<extra></extra>",
         "legendgroup": "",
         "marker": {
          "color": "#636efa",
          "pattern": {
           "shape": ""
          }
         },
         "name": "",
         "offsetgroup": "",
         "orientation": "v",
         "showlegend": false,
         "textposition": "auto",
         "type": "bar",
         "x": [
          1980,
          1981,
          1982,
          1983,
          1984,
          1985,
          1986,
          1987,
          1988,
          1989,
          1990,
          1991,
          1992,
          1993,
          1994,
          1995,
          1996,
          1997,
          1998,
          1999,
          2000,
          2001,
          2002,
          2003,
          2004,
          2005,
          2006,
          2007,
          2008,
          2009,
          2010,
          2011,
          2012,
          2013
         ],
         "xaxis": "x",
         "y": [
          8880,
          8670,
          8147,
          7338,
          5704,
          4211,
          7150,
          10189,
          11522,
          10343,
          12041,
          13734,
          13673,
          21496,
          18620,
          18489,
          23859,
          22268,
          17241,
          18974,
          28572,
          31223,
          31889,
          27155,
          28235,
          36210,
          33848,
          28742,
          28261,
          29456,
          34235,
          27509,
          30933,
          33087
         ],
         "yaxis": "y"
        }
       ],
       "layout": {
        "barmode": "relative",
        "legend": {
         "tracegroupgap": 0
        },
        "margin": {
         "t": 60
        },
        "template": {
         "data": {
          "bar": [
           {
            "error_x": {
             "color": "#2a3f5f"
            },
            "error_y": {
             "color": "#2a3f5f"
            },
            "marker": {
             "line": {
              "color": "#E5ECF6",
              "width": 0.5
             },
             "pattern": {
              "fillmode": "overlay",
              "size": 10,
              "solidity": 0.2
             }
            },
            "type": "bar"
           }
          ],
          "barpolar": [
           {
            "marker": {
             "line": {
              "color": "#E5ECF6",
              "width": 0.5
             },
             "pattern": {
              "fillmode": "overlay",
              "size": 10,
              "solidity": 0.2
             }
            },
            "type": "barpolar"
           }
          ],
          "carpet": [
           {
            "aaxis": {
             "endlinecolor": "#2a3f5f",
             "gridcolor": "white",
             "linecolor": "white",
             "minorgridcolor": "white",
             "startlinecolor": "#2a3f5f"
            },
            "baxis": {
             "endlinecolor": "#2a3f5f",
             "gridcolor": "white",
             "linecolor": "white",
             "minorgridcolor": "white",
             "startlinecolor": "#2a3f5f"
            },
            "type": "carpet"
           }
          ],
          "choropleth": [
           {
            "colorbar": {
             "outlinewidth": 0,
             "ticks": ""
            },
            "type": "choropleth"
           }
          ],
          "contour": [
           {
            "colorbar": {
             "outlinewidth": 0,
             "ticks": ""
            },
            "colorscale": [
             [
              0,
              "#0d0887"
             ],
             [
              0.1111111111111111,
              "#46039f"
             ],
             [
              0.2222222222222222,
              "#7201a8"
             ],
             [
              0.3333333333333333,
              "#9c179e"
             ],
             [
              0.4444444444444444,
              "#bd3786"
             ],
             [
              0.5555555555555556,
              "#d8576b"
             ],
             [
              0.6666666666666666,
              "#ed7953"
             ],
             [
              0.7777777777777778,
              "#fb9f3a"
             ],
             [
              0.8888888888888888,
              "#fdca26"
             ],
             [
              1,
              "#f0f921"
             ]
            ],
            "type": "contour"
           }
          ],
          "contourcarpet": [
           {
            "colorbar": {
             "outlinewidth": 0,
             "ticks": ""
            },
            "type": "contourcarpet"
           }
          ],
          "heatmap": [
           {
            "colorbar": {
             "outlinewidth": 0,
             "ticks": ""
            },
            "colorscale": [
             [
              0,
              "#0d0887"
             ],
             [
              0.1111111111111111,
              "#46039f"
             ],
             [
              0.2222222222222222,
              "#7201a8"
             ],
             [
              0.3333333333333333,
              "#9c179e"
             ],
             [
              0.4444444444444444,
              "#bd3786"
             ],
             [
              0.5555555555555556,
              "#d8576b"
             ],
             [
              0.6666666666666666,
              "#ed7953"
             ],
             [
              0.7777777777777778,
              "#fb9f3a"
             ],
             [
              0.8888888888888888,
              "#fdca26"
             ],
             [
              1,
              "#f0f921"
             ]
            ],
            "type": "heatmap"
           }
          ],
          "heatmapgl": [
           {
            "colorbar": {
             "outlinewidth": 0,
             "ticks": ""
            },
            "colorscale": [
             [
              0,
              "#0d0887"
             ],
             [
              0.1111111111111111,
              "#46039f"
             ],
             [
              0.2222222222222222,
              "#7201a8"
             ],
             [
              0.3333333333333333,
              "#9c179e"
             ],
             [
              0.4444444444444444,
              "#bd3786"
             ],
             [
              0.5555555555555556,
              "#d8576b"
             ],
             [
              0.6666666666666666,
              "#ed7953"
             ],
             [
              0.7777777777777778,
              "#fb9f3a"
             ],
             [
              0.8888888888888888,
              "#fdca26"
             ],
             [
              1,
              "#f0f921"
             ]
            ],
            "type": "heatmapgl"
           }
          ],
          "histogram": [
           {
            "marker": {
             "pattern": {
              "fillmode": "overlay",
              "size": 10,
              "solidity": 0.2
             }
            },
            "type": "histogram"
           }
          ],
          "histogram2d": [
           {
            "colorbar": {
             "outlinewidth": 0,
             "ticks": ""
            },
            "colorscale": [
             [
              0,
              "#0d0887"
             ],
             [
              0.1111111111111111,
              "#46039f"
             ],
             [
              0.2222222222222222,
              "#7201a8"
             ],
             [
              0.3333333333333333,
              "#9c179e"
             ],
             [
              0.4444444444444444,
              "#bd3786"
             ],
             [
              0.5555555555555556,
              "#d8576b"
             ],
             [
              0.6666666666666666,
              "#ed7953"
             ],
             [
              0.7777777777777778,
              "#fb9f3a"
             ],
             [
              0.8888888888888888,
              "#fdca26"
             ],
             [
              1,
              "#f0f921"
             ]
            ],
            "type": "histogram2d"
           }
          ],
          "histogram2dcontour": [
           {
            "colorbar": {
             "outlinewidth": 0,
             "ticks": ""
            },
            "colorscale": [
             [
              0,
              "#0d0887"
             ],
             [
              0.1111111111111111,
              "#46039f"
             ],
             [
              0.2222222222222222,
              "#7201a8"
             ],
             [
              0.3333333333333333,
              "#9c179e"
             ],
             [
              0.4444444444444444,
              "#bd3786"
             ],
             [
              0.5555555555555556,
              "#d8576b"
             ],
             [
              0.6666666666666666,
              "#ed7953"
             ],
             [
              0.7777777777777778,
              "#fb9f3a"
             ],
             [
              0.8888888888888888,
              "#fdca26"
             ],
             [
              1,
              "#f0f921"
             ]
            ],
            "type": "histogram2dcontour"
           }
          ],
          "mesh3d": [
           {
            "colorbar": {
             "outlinewidth": 0,
             "ticks": ""
            },
            "type": "mesh3d"
           }
          ],
          "parcoords": [
           {
            "line": {
             "colorbar": {
              "outlinewidth": 0,
              "ticks": ""
             }
            },
            "type": "parcoords"
           }
          ],
          "pie": [
           {
            "automargin": true,
            "type": "pie"
           }
          ],
          "scatter": [
           {
            "fillpattern": {
             "fillmode": "overlay",
             "size": 10,
             "solidity": 0.2
            },
            "type": "scatter"
           }
          ],
          "scatter3d": [
           {
            "line": {
             "colorbar": {
              "outlinewidth": 0,
              "ticks": ""
             }
            },
            "marker": {
             "colorbar": {
              "outlinewidth": 0,
              "ticks": ""
             }
            },
            "type": "scatter3d"
           }
          ],
          "scattercarpet": [
           {
            "marker": {
             "colorbar": {
              "outlinewidth": 0,
              "ticks": ""
             }
            },
            "type": "scattercarpet"
           }
          ],
          "scattergeo": [
           {
            "marker": {
             "colorbar": {
              "outlinewidth": 0,
              "ticks": ""
             }
            },
            "type": "scattergeo"
           }
          ],
          "scattergl": [
           {
            "marker": {
             "colorbar": {
              "outlinewidth": 0,
              "ticks": ""
             }
            },
            "type": "scattergl"
           }
          ],
          "scattermapbox": [
           {
            "marker": {
             "colorbar": {
              "outlinewidth": 0,
              "ticks": ""
             }
            },
            "type": "scattermapbox"
           }
          ],
          "scatterpolar": [
           {
            "marker": {
             "colorbar": {
              "outlinewidth": 0,
              "ticks": ""
             }
            },
            "type": "scatterpolar"
           }
          ],
          "scatterpolargl": [
           {
            "marker": {
             "colorbar": {
              "outlinewidth": 0,
              "ticks": ""
             }
            },
            "type": "scatterpolargl"
           }
          ],
          "scatterternary": [
           {
            "marker": {
             "colorbar": {
              "outlinewidth": 0,
              "ticks": ""
             }
            },
            "type": "scatterternary"
           }
          ],
          "surface": [
           {
            "colorbar": {
             "outlinewidth": 0,
             "ticks": ""
            },
            "colorscale": [
             [
              0,
              "#0d0887"
             ],
             [
              0.1111111111111111,
              "#46039f"
             ],
             [
              0.2222222222222222,
              "#7201a8"
             ],
             [
              0.3333333333333333,
              "#9c179e"
             ],
             [
              0.4444444444444444,
              "#bd3786"
             ],
             [
              0.5555555555555556,
              "#d8576b"
             ],
             [
              0.6666666666666666,
              "#ed7953"
             ],
             [
              0.7777777777777778,
              "#fb9f3a"
             ],
             [
              0.8888888888888888,
              "#fdca26"
             ],
             [
              1,
              "#f0f921"
             ]
            ],
            "type": "surface"
           }
          ],
          "table": [
           {
            "cells": {
             "fill": {
              "color": "#EBF0F8"
             },
             "line": {
              "color": "white"
             }
            },
            "header": {
             "fill": {
              "color": "#C8D4E3"
             },
             "line": {
              "color": "white"
             }
            },
            "type": "table"
           }
          ]
         },
         "layout": {
          "annotationdefaults": {
           "arrowcolor": "#2a3f5f",
           "arrowhead": 0,
           "arrowwidth": 1
          },
          "autotypenumbers": "strict",
          "coloraxis": {
           "colorbar": {
            "outlinewidth": 0,
            "ticks": ""
           }
          },
          "colorscale": {
           "diverging": [
            [
             0,
             "#8e0152"
            ],
            [
             0.1,
             "#c51b7d"
            ],
            [
             0.2,
             "#de77ae"
            ],
            [
             0.3,
             "#f1b6da"
            ],
            [
             0.4,
             "#fde0ef"
            ],
            [
             0.5,
             "#f7f7f7"
            ],
            [
             0.6,
             "#e6f5d0"
            ],
            [
             0.7,
             "#b8e186"
            ],
            [
             0.8,
             "#7fbc41"
            ],
            [
             0.9,
             "#4d9221"
            ],
            [
             1,
             "#276419"
            ]
           ],
           "sequential": [
            [
             0,
             "#0d0887"
            ],
            [
             0.1111111111111111,
             "#46039f"
            ],
            [
             0.2222222222222222,
             "#7201a8"
            ],
            [
             0.3333333333333333,
             "#9c179e"
            ],
            [
             0.4444444444444444,
             "#bd3786"
            ],
            [
             0.5555555555555556,
             "#d8576b"
            ],
            [
             0.6666666666666666,
             "#ed7953"
            ],
            [
             0.7777777777777778,
             "#fb9f3a"
            ],
            [
             0.8888888888888888,
             "#fdca26"
            ],
            [
             1,
             "#f0f921"
            ]
           ],
           "sequentialminus": [
            [
             0,
             "#0d0887"
            ],
            [
             0.1111111111111111,
             "#46039f"
            ],
            [
             0.2222222222222222,
             "#7201a8"
            ],
            [
             0.3333333333333333,
             "#9c179e"
            ],
            [
             0.4444444444444444,
             "#bd3786"
            ],
            [
             0.5555555555555556,
             "#d8576b"
            ],
            [
             0.6666666666666666,
             "#ed7953"
            ],
            [
             0.7777777777777778,
             "#fb9f3a"
            ],
            [
             0.8888888888888888,
             "#fdca26"
            ],
            [
             1,
             "#f0f921"
            ]
           ]
          },
          "colorway": [
           "#636efa",
           "#EF553B",
           "#00cc96",
           "#ab63fa",
           "#FFA15A",
           "#19d3f3",
           "#FF6692",
           "#B6E880",
           "#FF97FF",
           "#FECB52"
          ],
          "font": {
           "color": "#2a3f5f"
          },
          "geo": {
           "bgcolor": "white",
           "lakecolor": "white",
           "landcolor": "#E5ECF6",
           "showlakes": true,
           "showland": true,
           "subunitcolor": "white"
          },
          "hoverlabel": {
           "align": "left"
          },
          "hovermode": "closest",
          "mapbox": {
           "style": "light"
          },
          "paper_bgcolor": "white",
          "plot_bgcolor": "#E5ECF6",
          "polar": {
           "angularaxis": {
            "gridcolor": "white",
            "linecolor": "white",
            "ticks": ""
           },
           "bgcolor": "#E5ECF6",
           "radialaxis": {
            "gridcolor": "white",
            "linecolor": "white",
            "ticks": ""
           }
          },
          "scene": {
           "xaxis": {
            "backgroundcolor": "#E5ECF6",
            "gridcolor": "white",
            "gridwidth": 2,
            "linecolor": "white",
            "showbackground": true,
            "ticks": "",
            "zerolinecolor": "white"
           },
           "yaxis": {
            "backgroundcolor": "#E5ECF6",
            "gridcolor": "white",
            "gridwidth": 2,
            "linecolor": "white",
            "showbackground": true,
            "ticks": "",
            "zerolinecolor": "white"
           },
           "zaxis": {
            "backgroundcolor": "#E5ECF6",
            "gridcolor": "white",
            "gridwidth": 2,
            "linecolor": "white",
            "showbackground": true,
            "ticks": "",
            "zerolinecolor": "white"
           }
          },
          "shapedefaults": {
           "line": {
            "color": "#2a3f5f"
           }
          },
          "ternary": {
           "aaxis": {
            "gridcolor": "white",
            "linecolor": "white",
            "ticks": ""
           },
           "baxis": {
            "gridcolor": "white",
            "linecolor": "white",
            "ticks": ""
           },
           "bgcolor": "#E5ECF6",
           "caxis": {
            "gridcolor": "white",
            "linecolor": "white",
            "ticks": ""
           }
          },
          "title": {
           "x": 0.05
          },
          "xaxis": {
           "automargin": true,
           "gridcolor": "white",
           "linecolor": "white",
           "ticks": "",
           "title": {
            "standoff": 15
           },
           "zerolinecolor": "white",
           "zerolinewidth": 2
          },
          "yaxis": {
           "automargin": true,
           "gridcolor": "white",
           "linecolor": "white",
           "ticks": "",
           "title": {
            "standoff": 15
           },
           "zerolinecolor": "white",
           "zerolinewidth": 2
          }
         }
        },
        "xaxis": {
         "anchor": "y",
         "domain": [
          0,
          1
         ],
         "title": {
          "text": "index"
         }
        },
        "yaxis": {
         "anchor": "x",
         "domain": [
          0,
          1
         ],
         "title": {
          "text": "y"
         }
        }
       }
      }
     },
     "metadata": {},
     "output_type": "display_data"
    }
   ],
   "source": [
    "px.bar(india_data, x=india_data.index, y=india_data.values)"
   ]
  },
  {
   "cell_type": "code",
   "execution_count": 63,
   "metadata": {},
   "outputs": [
    {
     "data": {
      "application/vnd.plotly.v1+json": {
       "config": {
        "plotlyServerURL": "https://plot.ly"
       },
       "data": [
        {
         "alignmentgroup": "True",
         "hovertemplate": "country=China<br>index=%{x}<br>value=%{y}<extra></extra>",
         "legendgroup": "China",
         "marker": {
          "color": "#636efa",
          "pattern": {
           "shape": ""
          }
         },
         "name": "China",
         "offsetgroup": "China",
         "orientation": "v",
         "showlegend": true,
         "textposition": "auto",
         "type": "bar",
         "x": [
          1980,
          1981,
          1982,
          1983,
          1984,
          1985,
          1986,
          1987,
          1988,
          1989,
          1990,
          1991,
          1992,
          1993,
          1994,
          1995,
          1996,
          1997,
          1998,
          1999,
          2000,
          2001,
          2002,
          2003,
          2004,
          2005,
          2006,
          2007,
          2008,
          2009,
          2010,
          2011,
          2012,
          2013
         ],
         "xaxis": "x",
         "y": [
          5123,
          6682,
          3308,
          1863,
          1527,
          1816,
          1960,
          2643,
          2758,
          4323,
          8076,
          14255,
          10846,
          9817,
          13128,
          14398,
          19415,
          20475,
          21049,
          30069,
          35529,
          36434,
          31961,
          36439,
          36619,
          42584,
          33518,
          27642,
          30037,
          29622,
          30391,
          28502,
          33024,
          34129
         ],
         "yaxis": "y"
        },
        {
         "alignmentgroup": "True",
         "hovertemplate": "country=Japan<br>index=%{x}<br>value=%{y}<extra></extra>",
         "legendgroup": "Japan",
         "marker": {
          "color": "#EF553B",
          "pattern": {
           "shape": ""
          }
         },
         "name": "Japan",
         "offsetgroup": "Japan",
         "orientation": "v",
         "showlegend": true,
         "textposition": "auto",
         "type": "bar",
         "x": [
          1980,
          1981,
          1982,
          1983,
          1984,
          1985,
          1986,
          1987,
          1988,
          1989,
          1990,
          1991,
          1992,
          1993,
          1994,
          1995,
          1996,
          1997,
          1998,
          1999,
          2000,
          2001,
          2002,
          2003,
          2004,
          2005,
          2006,
          2007,
          2008,
          2009,
          2010,
          2011,
          2012,
          2013
         ],
         "xaxis": "x",
         "y": [
          701,
          756,
          598,
          309,
          246,
          198,
          248,
          422,
          324,
          494,
          379,
          506,
          605,
          907,
          956,
          826,
          994,
          924,
          897,
          1083,
          1010,
          1092,
          806,
          817,
          973,
          1067,
          1212,
          1250,
          1284,
          1194,
          1168,
          1265,
          1214,
          982
         ],
         "yaxis": "y"
        },
        {
         "alignmentgroup": "True",
         "hovertemplate": "country=Malaysia<br>index=%{x}<br>value=%{y}<extra></extra>",
         "legendgroup": "Malaysia",
         "marker": {
          "color": "#00cc96",
          "pattern": {
           "shape": ""
          }
         },
         "name": "Malaysia",
         "offsetgroup": "Malaysia",
         "orientation": "v",
         "showlegend": true,
         "textposition": "auto",
         "type": "bar",
         "x": [
          1980,
          1981,
          1982,
          1983,
          1984,
          1985,
          1986,
          1987,
          1988,
          1989,
          1990,
          1991,
          1992,
          1993,
          1994,
          1995,
          1996,
          1997,
          1998,
          1999,
          2000,
          2001,
          2002,
          2003,
          2004,
          2005,
          2006,
          2007,
          2008,
          2009,
          2010,
          2011,
          2012,
          2013
         ],
         "xaxis": "x",
         "y": [
          786,
          816,
          813,
          448,
          384,
          374,
          425,
          817,
          2072,
          2346,
          1917,
          1338,
          1486,
          1000,
          727,
          490,
          382,
          319,
          214,
          299,
          360,
          460,
          480,
          419,
          401,
          593,
          580,
          600,
          658,
          640,
          802,
          409,
          358,
          204
         ],
         "yaxis": "y"
        },
        {
         "alignmentgroup": "True",
         "hovertemplate": "country=Philippines<br>index=%{x}<br>value=%{y}<extra></extra>",
         "legendgroup": "Philippines",
         "marker": {
          "color": "#ab63fa",
          "pattern": {
           "shape": ""
          }
         },
         "name": "Philippines",
         "offsetgroup": "Philippines",
         "orientation": "v",
         "showlegend": true,
         "textposition": "auto",
         "type": "bar",
         "x": [
          1980,
          1981,
          1982,
          1983,
          1984,
          1985,
          1986,
          1987,
          1988,
          1989,
          1990,
          1991,
          1992,
          1993,
          1994,
          1995,
          1996,
          1997,
          1998,
          1999,
          2000,
          2001,
          2002,
          2003,
          2004,
          2005,
          2006,
          2007,
          2008,
          2009,
          2010,
          2011,
          2012,
          2013
         ],
         "xaxis": "x",
         "y": [
          6051,
          5921,
          5249,
          4562,
          3801,
          3150,
          4166,
          7360,
          8639,
          11865,
          12509,
          12718,
          13670,
          20479,
          19532,
          15864,
          13692,
          11549,
          8735,
          9734,
          10763,
          13836,
          11707,
          12758,
          14004,
          18139,
          18400,
          19837,
          24887,
          28573,
          38617,
          36765,
          34315,
          29544
         ],
         "yaxis": "y"
        },
        {
         "alignmentgroup": "True",
         "hovertemplate": "country=Thailand<br>index=%{x}<br>value=%{y}<extra></extra>",
         "legendgroup": "Thailand",
         "marker": {
          "color": "#FFA15A",
          "pattern": {
           "shape": ""
          }
         },
         "name": "Thailand",
         "offsetgroup": "Thailand",
         "orientation": "v",
         "showlegend": true,
         "textposition": "auto",
         "type": "bar",
         "x": [
          1980,
          1981,
          1982,
          1983,
          1984,
          1985,
          1986,
          1987,
          1988,
          1989,
          1990,
          1991,
          1992,
          1993,
          1994,
          1995,
          1996,
          1997,
          1998,
          1999,
          2000,
          2001,
          2002,
          2003,
          2004,
          2005,
          2006,
          2007,
          2008,
          2009,
          2010,
          2011,
          2012,
          2013
         ],
         "xaxis": "x",
         "y": [
          56,
          53,
          113,
          65,
          82,
          66,
          78,
          117,
          147,
          177,
          171,
          219,
          219,
          279,
          237,
          172,
          195,
          152,
          201,
          246,
          258,
          309,
          547,
          439,
          392,
          575,
          500,
          487,
          519,
          512,
          499,
          396,
          296,
          400
         ],
         "yaxis": "y"
        },
        {
         "alignmentgroup": "True",
         "hovertemplate": "country=Vietnam<br>index=%{x}<br>value=%{y}<extra></extra>",
         "legendgroup": "Vietnam",
         "marker": {
          "color": "#19d3f3",
          "pattern": {
           "shape": ""
          }
         },
         "name": "Vietnam",
         "offsetgroup": "Vietnam",
         "orientation": "v",
         "showlegend": true,
         "textposition": "auto",
         "type": "bar",
         "x": [
          1980,
          1981,
          1982,
          1983,
          1984,
          1985,
          1986,
          1987,
          1988,
          1989,
          1990,
          1991,
          1992,
          1993,
          1994,
          1995,
          1996,
          1997,
          1998,
          1999,
          2000,
          2001,
          2002,
          2003,
          2004,
          2005,
          2006,
          2007,
          2008,
          2009,
          2010,
          2011,
          2012,
          2013
         ],
         "xaxis": "x",
         "y": [
          1191,
          1829,
          2162,
          3404,
          7583,
          5907,
          2741,
          1406,
          1411,
          3004,
          3801,
          5870,
          5416,
          6547,
          5105,
          3723,
          2462,
          1752,
          1631,
          1419,
          1803,
          2117,
          2291,
          1713,
          1816,
          1852,
          3153,
          2574,
          1784,
          2171,
          1942,
          1723,
          1731,
          2112
         ],
         "yaxis": "y"
        }
       ],
       "layout": {
        "barmode": "group",
        "legend": {
         "title": {
          "text": "country"
         },
         "tracegroupgap": 0
        },
        "margin": {
         "t": 60
        },
        "template": {
         "data": {
          "bar": [
           {
            "error_x": {
             "color": "#2a3f5f"
            },
            "error_y": {
             "color": "#2a3f5f"
            },
            "marker": {
             "line": {
              "color": "#E5ECF6",
              "width": 0.5
             },
             "pattern": {
              "fillmode": "overlay",
              "size": 10,
              "solidity": 0.2
             }
            },
            "type": "bar"
           }
          ],
          "barpolar": [
           {
            "marker": {
             "line": {
              "color": "#E5ECF6",
              "width": 0.5
             },
             "pattern": {
              "fillmode": "overlay",
              "size": 10,
              "solidity": 0.2
             }
            },
            "type": "barpolar"
           }
          ],
          "carpet": [
           {
            "aaxis": {
             "endlinecolor": "#2a3f5f",
             "gridcolor": "white",
             "linecolor": "white",
             "minorgridcolor": "white",
             "startlinecolor": "#2a3f5f"
            },
            "baxis": {
             "endlinecolor": "#2a3f5f",
             "gridcolor": "white",
             "linecolor": "white",
             "minorgridcolor": "white",
             "startlinecolor": "#2a3f5f"
            },
            "type": "carpet"
           }
          ],
          "choropleth": [
           {
            "colorbar": {
             "outlinewidth": 0,
             "ticks": ""
            },
            "type": "choropleth"
           }
          ],
          "contour": [
           {
            "colorbar": {
             "outlinewidth": 0,
             "ticks": ""
            },
            "colorscale": [
             [
              0,
              "#0d0887"
             ],
             [
              0.1111111111111111,
              "#46039f"
             ],
             [
              0.2222222222222222,
              "#7201a8"
             ],
             [
              0.3333333333333333,
              "#9c179e"
             ],
             [
              0.4444444444444444,
              "#bd3786"
             ],
             [
              0.5555555555555556,
              "#d8576b"
             ],
             [
              0.6666666666666666,
              "#ed7953"
             ],
             [
              0.7777777777777778,
              "#fb9f3a"
             ],
             [
              0.8888888888888888,
              "#fdca26"
             ],
             [
              1,
              "#f0f921"
             ]
            ],
            "type": "contour"
           }
          ],
          "contourcarpet": [
           {
            "colorbar": {
             "outlinewidth": 0,
             "ticks": ""
            },
            "type": "contourcarpet"
           }
          ],
          "heatmap": [
           {
            "colorbar": {
             "outlinewidth": 0,
             "ticks": ""
            },
            "colorscale": [
             [
              0,
              "#0d0887"
             ],
             [
              0.1111111111111111,
              "#46039f"
             ],
             [
              0.2222222222222222,
              "#7201a8"
             ],
             [
              0.3333333333333333,
              "#9c179e"
             ],
             [
              0.4444444444444444,
              "#bd3786"
             ],
             [
              0.5555555555555556,
              "#d8576b"
             ],
             [
              0.6666666666666666,
              "#ed7953"
             ],
             [
              0.7777777777777778,
              "#fb9f3a"
             ],
             [
              0.8888888888888888,
              "#fdca26"
             ],
             [
              1,
              "#f0f921"
             ]
            ],
            "type": "heatmap"
           }
          ],
          "heatmapgl": [
           {
            "colorbar": {
             "outlinewidth": 0,
             "ticks": ""
            },
            "colorscale": [
             [
              0,
              "#0d0887"
             ],
             [
              0.1111111111111111,
              "#46039f"
             ],
             [
              0.2222222222222222,
              "#7201a8"
             ],
             [
              0.3333333333333333,
              "#9c179e"
             ],
             [
              0.4444444444444444,
              "#bd3786"
             ],
             [
              0.5555555555555556,
              "#d8576b"
             ],
             [
              0.6666666666666666,
              "#ed7953"
             ],
             [
              0.7777777777777778,
              "#fb9f3a"
             ],
             [
              0.8888888888888888,
              "#fdca26"
             ],
             [
              1,
              "#f0f921"
             ]
            ],
            "type": "heatmapgl"
           }
          ],
          "histogram": [
           {
            "marker": {
             "pattern": {
              "fillmode": "overlay",
              "size": 10,
              "solidity": 0.2
             }
            },
            "type": "histogram"
           }
          ],
          "histogram2d": [
           {
            "colorbar": {
             "outlinewidth": 0,
             "ticks": ""
            },
            "colorscale": [
             [
              0,
              "#0d0887"
             ],
             [
              0.1111111111111111,
              "#46039f"
             ],
             [
              0.2222222222222222,
              "#7201a8"
             ],
             [
              0.3333333333333333,
              "#9c179e"
             ],
             [
              0.4444444444444444,
              "#bd3786"
             ],
             [
              0.5555555555555556,
              "#d8576b"
             ],
             [
              0.6666666666666666,
              "#ed7953"
             ],
             [
              0.7777777777777778,
              "#fb9f3a"
             ],
             [
              0.8888888888888888,
              "#fdca26"
             ],
             [
              1,
              "#f0f921"
             ]
            ],
            "type": "histogram2d"
           }
          ],
          "histogram2dcontour": [
           {
            "colorbar": {
             "outlinewidth": 0,
             "ticks": ""
            },
            "colorscale": [
             [
              0,
              "#0d0887"
             ],
             [
              0.1111111111111111,
              "#46039f"
             ],
             [
              0.2222222222222222,
              "#7201a8"
             ],
             [
              0.3333333333333333,
              "#9c179e"
             ],
             [
              0.4444444444444444,
              "#bd3786"
             ],
             [
              0.5555555555555556,
              "#d8576b"
             ],
             [
              0.6666666666666666,
              "#ed7953"
             ],
             [
              0.7777777777777778,
              "#fb9f3a"
             ],
             [
              0.8888888888888888,
              "#fdca26"
             ],
             [
              1,
              "#f0f921"
             ]
            ],
            "type": "histogram2dcontour"
           }
          ],
          "mesh3d": [
           {
            "colorbar": {
             "outlinewidth": 0,
             "ticks": ""
            },
            "type": "mesh3d"
           }
          ],
          "parcoords": [
           {
            "line": {
             "colorbar": {
              "outlinewidth": 0,
              "ticks": ""
             }
            },
            "type": "parcoords"
           }
          ],
          "pie": [
           {
            "automargin": true,
            "type": "pie"
           }
          ],
          "scatter": [
           {
            "fillpattern": {
             "fillmode": "overlay",
             "size": 10,
             "solidity": 0.2
            },
            "type": "scatter"
           }
          ],
          "scatter3d": [
           {
            "line": {
             "colorbar": {
              "outlinewidth": 0,
              "ticks": ""
             }
            },
            "marker": {
             "colorbar": {
              "outlinewidth": 0,
              "ticks": ""
             }
            },
            "type": "scatter3d"
           }
          ],
          "scattercarpet": [
           {
            "marker": {
             "colorbar": {
              "outlinewidth": 0,
              "ticks": ""
             }
            },
            "type": "scattercarpet"
           }
          ],
          "scattergeo": [
           {
            "marker": {
             "colorbar": {
              "outlinewidth": 0,
              "ticks": ""
             }
            },
            "type": "scattergeo"
           }
          ],
          "scattergl": [
           {
            "marker": {
             "colorbar": {
              "outlinewidth": 0,
              "ticks": ""
             }
            },
            "type": "scattergl"
           }
          ],
          "scattermapbox": [
           {
            "marker": {
             "colorbar": {
              "outlinewidth": 0,
              "ticks": ""
             }
            },
            "type": "scattermapbox"
           }
          ],
          "scatterpolar": [
           {
            "marker": {
             "colorbar": {
              "outlinewidth": 0,
              "ticks": ""
             }
            },
            "type": "scatterpolar"
           }
          ],
          "scatterpolargl": [
           {
            "marker": {
             "colorbar": {
              "outlinewidth": 0,
              "ticks": ""
             }
            },
            "type": "scatterpolargl"
           }
          ],
          "scatterternary": [
           {
            "marker": {
             "colorbar": {
              "outlinewidth": 0,
              "ticks": ""
             }
            },
            "type": "scatterternary"
           }
          ],
          "surface": [
           {
            "colorbar": {
             "outlinewidth": 0,
             "ticks": ""
            },
            "colorscale": [
             [
              0,
              "#0d0887"
             ],
             [
              0.1111111111111111,
              "#46039f"
             ],
             [
              0.2222222222222222,
              "#7201a8"
             ],
             [
              0.3333333333333333,
              "#9c179e"
             ],
             [
              0.4444444444444444,
              "#bd3786"
             ],
             [
              0.5555555555555556,
              "#d8576b"
             ],
             [
              0.6666666666666666,
              "#ed7953"
             ],
             [
              0.7777777777777778,
              "#fb9f3a"
             ],
             [
              0.8888888888888888,
              "#fdca26"
             ],
             [
              1,
              "#f0f921"
             ]
            ],
            "type": "surface"
           }
          ],
          "table": [
           {
            "cells": {
             "fill": {
              "color": "#EBF0F8"
             },
             "line": {
              "color": "white"
             }
            },
            "header": {
             "fill": {
              "color": "#C8D4E3"
             },
             "line": {
              "color": "white"
             }
            },
            "type": "table"
           }
          ]
         },
         "layout": {
          "annotationdefaults": {
           "arrowcolor": "#2a3f5f",
           "arrowhead": 0,
           "arrowwidth": 1
          },
          "autotypenumbers": "strict",
          "coloraxis": {
           "colorbar": {
            "outlinewidth": 0,
            "ticks": ""
           }
          },
          "colorscale": {
           "diverging": [
            [
             0,
             "#8e0152"
            ],
            [
             0.1,
             "#c51b7d"
            ],
            [
             0.2,
             "#de77ae"
            ],
            [
             0.3,
             "#f1b6da"
            ],
            [
             0.4,
             "#fde0ef"
            ],
            [
             0.5,
             "#f7f7f7"
            ],
            [
             0.6,
             "#e6f5d0"
            ],
            [
             0.7,
             "#b8e186"
            ],
            [
             0.8,
             "#7fbc41"
            ],
            [
             0.9,
             "#4d9221"
            ],
            [
             1,
             "#276419"
            ]
           ],
           "sequential": [
            [
             0,
             "#0d0887"
            ],
            [
             0.1111111111111111,
             "#46039f"
            ],
            [
             0.2222222222222222,
             "#7201a8"
            ],
            [
             0.3333333333333333,
             "#9c179e"
            ],
            [
             0.4444444444444444,
             "#bd3786"
            ],
            [
             0.5555555555555556,
             "#d8576b"
            ],
            [
             0.6666666666666666,
             "#ed7953"
            ],
            [
             0.7777777777777778,
             "#fb9f3a"
            ],
            [
             0.8888888888888888,
             "#fdca26"
            ],
            [
             1,
             "#f0f921"
            ]
           ],
           "sequentialminus": [
            [
             0,
             "#0d0887"
            ],
            [
             0.1111111111111111,
             "#46039f"
            ],
            [
             0.2222222222222222,
             "#7201a8"
            ],
            [
             0.3333333333333333,
             "#9c179e"
            ],
            [
             0.4444444444444444,
             "#bd3786"
            ],
            [
             0.5555555555555556,
             "#d8576b"
            ],
            [
             0.6666666666666666,
             "#ed7953"
            ],
            [
             0.7777777777777778,
             "#fb9f3a"
            ],
            [
             0.8888888888888888,
             "#fdca26"
            ],
            [
             1,
             "#f0f921"
            ]
           ]
          },
          "colorway": [
           "#636efa",
           "#EF553B",
           "#00cc96",
           "#ab63fa",
           "#FFA15A",
           "#19d3f3",
           "#FF6692",
           "#B6E880",
           "#FF97FF",
           "#FECB52"
          ],
          "font": {
           "color": "#2a3f5f"
          },
          "geo": {
           "bgcolor": "white",
           "lakecolor": "white",
           "landcolor": "#E5ECF6",
           "showlakes": true,
           "showland": true,
           "subunitcolor": "white"
          },
          "hoverlabel": {
           "align": "left"
          },
          "hovermode": "closest",
          "mapbox": {
           "style": "light"
          },
          "paper_bgcolor": "white",
          "plot_bgcolor": "#E5ECF6",
          "polar": {
           "angularaxis": {
            "gridcolor": "white",
            "linecolor": "white",
            "ticks": ""
           },
           "bgcolor": "#E5ECF6",
           "radialaxis": {
            "gridcolor": "white",
            "linecolor": "white",
            "ticks": ""
           }
          },
          "scene": {
           "xaxis": {
            "backgroundcolor": "#E5ECF6",
            "gridcolor": "white",
            "gridwidth": 2,
            "linecolor": "white",
            "showbackground": true,
            "ticks": "",
            "zerolinecolor": "white"
           },
           "yaxis": {
            "backgroundcolor": "#E5ECF6",
            "gridcolor": "white",
            "gridwidth": 2,
            "linecolor": "white",
            "showbackground": true,
            "ticks": "",
            "zerolinecolor": "white"
           },
           "zaxis": {
            "backgroundcolor": "#E5ECF6",
            "gridcolor": "white",
            "gridwidth": 2,
            "linecolor": "white",
            "showbackground": true,
            "ticks": "",
            "zerolinecolor": "white"
           }
          },
          "shapedefaults": {
           "line": {
            "color": "#2a3f5f"
           }
          },
          "ternary": {
           "aaxis": {
            "gridcolor": "white",
            "linecolor": "white",
            "ticks": ""
           },
           "baxis": {
            "gridcolor": "white",
            "linecolor": "white",
            "ticks": ""
           },
           "bgcolor": "#E5ECF6",
           "caxis": {
            "gridcolor": "white",
            "linecolor": "white",
            "ticks": ""
           }
          },
          "title": {
           "x": 0.05
          },
          "xaxis": {
           "automargin": true,
           "gridcolor": "white",
           "linecolor": "white",
           "ticks": "",
           "title": {
            "standoff": 15
           },
           "zerolinecolor": "white",
           "zerolinewidth": 2
          },
          "yaxis": {
           "automargin": true,
           "gridcolor": "white",
           "linecolor": "white",
           "ticks": "",
           "title": {
            "standoff": 15
           },
           "zerolinecolor": "white",
           "zerolinewidth": 2
          }
         }
        },
        "xaxis": {
         "anchor": "y",
         "domain": [
          0,
          1
         ],
         "title": {
          "text": "index"
         }
        },
        "yaxis": {
         "anchor": "x",
         "domain": [
          0,
          1
         ],
         "title": {
          "text": "value"
         },
         "type": "log"
        }
       }
      }
     },
     "metadata": {},
     "output_type": "display_data"
    }
   ],
   "source": [
    "countrydf = df.loc[country_list,years].T\n",
    "px.bar(countrydf, x=countrydf.index, y=countrydf.columns,barmode='group',log_y=True)"
   ]
  },
  {
   "cell_type": "code",
   "execution_count": 64,
   "metadata": {},
   "outputs": [
    {
     "data": {
      "application/vnd.plotly.v1+json": {
       "config": {
        "plotlyServerURL": "https://plot.ly"
       },
       "data": [
        {
         "fillpattern": {
          "shape": ""
         },
         "hovertemplate": "country=China<br>index=%{x}<br>value=%{y}<extra></extra>",
         "legendgroup": "China",
         "line": {
          "color": "#636efa"
         },
         "marker": {
          "symbol": "circle"
         },
         "mode": "lines",
         "name": "China",
         "orientation": "v",
         "showlegend": true,
         "stackgroup": "1",
         "type": "scatter",
         "x": [
          1980,
          1981,
          1982,
          1983,
          1984,
          1985,
          1986,
          1987,
          1988,
          1989,
          1990,
          1991,
          1992,
          1993,
          1994,
          1995,
          1996,
          1997,
          1998,
          1999,
          2000,
          2001,
          2002,
          2003,
          2004,
          2005,
          2006,
          2007,
          2008,
          2009,
          2010,
          2011,
          2012,
          2013
         ],
         "xaxis": "x",
         "y": [
          5123,
          6682,
          3308,
          1863,
          1527,
          1816,
          1960,
          2643,
          2758,
          4323,
          8076,
          14255,
          10846,
          9817,
          13128,
          14398,
          19415,
          20475,
          21049,
          30069,
          35529,
          36434,
          31961,
          36439,
          36619,
          42584,
          33518,
          27642,
          30037,
          29622,
          30391,
          28502,
          33024,
          34129
         ],
         "yaxis": "y"
        },
        {
         "fillpattern": {
          "shape": ""
         },
         "hovertemplate": "country=Japan<br>index=%{x}<br>value=%{y}<extra></extra>",
         "legendgroup": "Japan",
         "line": {
          "color": "#EF553B"
         },
         "marker": {
          "symbol": "circle"
         },
         "mode": "lines",
         "name": "Japan",
         "orientation": "v",
         "showlegend": true,
         "stackgroup": "1",
         "type": "scatter",
         "x": [
          1980,
          1981,
          1982,
          1983,
          1984,
          1985,
          1986,
          1987,
          1988,
          1989,
          1990,
          1991,
          1992,
          1993,
          1994,
          1995,
          1996,
          1997,
          1998,
          1999,
          2000,
          2001,
          2002,
          2003,
          2004,
          2005,
          2006,
          2007,
          2008,
          2009,
          2010,
          2011,
          2012,
          2013
         ],
         "xaxis": "x",
         "y": [
          701,
          756,
          598,
          309,
          246,
          198,
          248,
          422,
          324,
          494,
          379,
          506,
          605,
          907,
          956,
          826,
          994,
          924,
          897,
          1083,
          1010,
          1092,
          806,
          817,
          973,
          1067,
          1212,
          1250,
          1284,
          1194,
          1168,
          1265,
          1214,
          982
         ],
         "yaxis": "y"
        },
        {
         "fillpattern": {
          "shape": ""
         },
         "hovertemplate": "country=Malaysia<br>index=%{x}<br>value=%{y}<extra></extra>",
         "legendgroup": "Malaysia",
         "line": {
          "color": "#00cc96"
         },
         "marker": {
          "symbol": "circle"
         },
         "mode": "lines",
         "name": "Malaysia",
         "orientation": "v",
         "showlegend": true,
         "stackgroup": "1",
         "type": "scatter",
         "x": [
          1980,
          1981,
          1982,
          1983,
          1984,
          1985,
          1986,
          1987,
          1988,
          1989,
          1990,
          1991,
          1992,
          1993,
          1994,
          1995,
          1996,
          1997,
          1998,
          1999,
          2000,
          2001,
          2002,
          2003,
          2004,
          2005,
          2006,
          2007,
          2008,
          2009,
          2010,
          2011,
          2012,
          2013
         ],
         "xaxis": "x",
         "y": [
          786,
          816,
          813,
          448,
          384,
          374,
          425,
          817,
          2072,
          2346,
          1917,
          1338,
          1486,
          1000,
          727,
          490,
          382,
          319,
          214,
          299,
          360,
          460,
          480,
          419,
          401,
          593,
          580,
          600,
          658,
          640,
          802,
          409,
          358,
          204
         ],
         "yaxis": "y"
        },
        {
         "fillpattern": {
          "shape": ""
         },
         "hovertemplate": "country=Philippines<br>index=%{x}<br>value=%{y}<extra></extra>",
         "legendgroup": "Philippines",
         "line": {
          "color": "#ab63fa"
         },
         "marker": {
          "symbol": "circle"
         },
         "mode": "lines",
         "name": "Philippines",
         "orientation": "v",
         "showlegend": true,
         "stackgroup": "1",
         "type": "scatter",
         "x": [
          1980,
          1981,
          1982,
          1983,
          1984,
          1985,
          1986,
          1987,
          1988,
          1989,
          1990,
          1991,
          1992,
          1993,
          1994,
          1995,
          1996,
          1997,
          1998,
          1999,
          2000,
          2001,
          2002,
          2003,
          2004,
          2005,
          2006,
          2007,
          2008,
          2009,
          2010,
          2011,
          2012,
          2013
         ],
         "xaxis": "x",
         "y": [
          6051,
          5921,
          5249,
          4562,
          3801,
          3150,
          4166,
          7360,
          8639,
          11865,
          12509,
          12718,
          13670,
          20479,
          19532,
          15864,
          13692,
          11549,
          8735,
          9734,
          10763,
          13836,
          11707,
          12758,
          14004,
          18139,
          18400,
          19837,
          24887,
          28573,
          38617,
          36765,
          34315,
          29544
         ],
         "yaxis": "y"
        },
        {
         "fillpattern": {
          "shape": ""
         },
         "hovertemplate": "country=Thailand<br>index=%{x}<br>value=%{y}<extra></extra>",
         "legendgroup": "Thailand",
         "line": {
          "color": "#FFA15A"
         },
         "marker": {
          "symbol": "circle"
         },
         "mode": "lines",
         "name": "Thailand",
         "orientation": "v",
         "showlegend": true,
         "stackgroup": "1",
         "type": "scatter",
         "x": [
          1980,
          1981,
          1982,
          1983,
          1984,
          1985,
          1986,
          1987,
          1988,
          1989,
          1990,
          1991,
          1992,
          1993,
          1994,
          1995,
          1996,
          1997,
          1998,
          1999,
          2000,
          2001,
          2002,
          2003,
          2004,
          2005,
          2006,
          2007,
          2008,
          2009,
          2010,
          2011,
          2012,
          2013
         ],
         "xaxis": "x",
         "y": [
          56,
          53,
          113,
          65,
          82,
          66,
          78,
          117,
          147,
          177,
          171,
          219,
          219,
          279,
          237,
          172,
          195,
          152,
          201,
          246,
          258,
          309,
          547,
          439,
          392,
          575,
          500,
          487,
          519,
          512,
          499,
          396,
          296,
          400
         ],
         "yaxis": "y"
        },
        {
         "fillpattern": {
          "shape": ""
         },
         "hovertemplate": "country=Vietnam<br>index=%{x}<br>value=%{y}<extra></extra>",
         "legendgroup": "Vietnam",
         "line": {
          "color": "#19d3f3"
         },
         "marker": {
          "symbol": "circle"
         },
         "mode": "lines",
         "name": "Vietnam",
         "orientation": "v",
         "showlegend": true,
         "stackgroup": "1",
         "type": "scatter",
         "x": [
          1980,
          1981,
          1982,
          1983,
          1984,
          1985,
          1986,
          1987,
          1988,
          1989,
          1990,
          1991,
          1992,
          1993,
          1994,
          1995,
          1996,
          1997,
          1998,
          1999,
          2000,
          2001,
          2002,
          2003,
          2004,
          2005,
          2006,
          2007,
          2008,
          2009,
          2010,
          2011,
          2012,
          2013
         ],
         "xaxis": "x",
         "y": [
          1191,
          1829,
          2162,
          3404,
          7583,
          5907,
          2741,
          1406,
          1411,
          3004,
          3801,
          5870,
          5416,
          6547,
          5105,
          3723,
          2462,
          1752,
          1631,
          1419,
          1803,
          2117,
          2291,
          1713,
          1816,
          1852,
          3153,
          2574,
          1784,
          2171,
          1942,
          1723,
          1731,
          2112
         ],
         "yaxis": "y"
        }
       ],
       "layout": {
        "legend": {
         "title": {
          "text": "country"
         },
         "tracegroupgap": 0
        },
        "margin": {
         "t": 60
        },
        "template": {
         "data": {
          "bar": [
           {
            "error_x": {
             "color": "#2a3f5f"
            },
            "error_y": {
             "color": "#2a3f5f"
            },
            "marker": {
             "line": {
              "color": "#E5ECF6",
              "width": 0.5
             },
             "pattern": {
              "fillmode": "overlay",
              "size": 10,
              "solidity": 0.2
             }
            },
            "type": "bar"
           }
          ],
          "barpolar": [
           {
            "marker": {
             "line": {
              "color": "#E5ECF6",
              "width": 0.5
             },
             "pattern": {
              "fillmode": "overlay",
              "size": 10,
              "solidity": 0.2
             }
            },
            "type": "barpolar"
           }
          ],
          "carpet": [
           {
            "aaxis": {
             "endlinecolor": "#2a3f5f",
             "gridcolor": "white",
             "linecolor": "white",
             "minorgridcolor": "white",
             "startlinecolor": "#2a3f5f"
            },
            "baxis": {
             "endlinecolor": "#2a3f5f",
             "gridcolor": "white",
             "linecolor": "white",
             "minorgridcolor": "white",
             "startlinecolor": "#2a3f5f"
            },
            "type": "carpet"
           }
          ],
          "choropleth": [
           {
            "colorbar": {
             "outlinewidth": 0,
             "ticks": ""
            },
            "type": "choropleth"
           }
          ],
          "contour": [
           {
            "colorbar": {
             "outlinewidth": 0,
             "ticks": ""
            },
            "colorscale": [
             [
              0,
              "#0d0887"
             ],
             [
              0.1111111111111111,
              "#46039f"
             ],
             [
              0.2222222222222222,
              "#7201a8"
             ],
             [
              0.3333333333333333,
              "#9c179e"
             ],
             [
              0.4444444444444444,
              "#bd3786"
             ],
             [
              0.5555555555555556,
              "#d8576b"
             ],
             [
              0.6666666666666666,
              "#ed7953"
             ],
             [
              0.7777777777777778,
              "#fb9f3a"
             ],
             [
              0.8888888888888888,
              "#fdca26"
             ],
             [
              1,
              "#f0f921"
             ]
            ],
            "type": "contour"
           }
          ],
          "contourcarpet": [
           {
            "colorbar": {
             "outlinewidth": 0,
             "ticks": ""
            },
            "type": "contourcarpet"
           }
          ],
          "heatmap": [
           {
            "colorbar": {
             "outlinewidth": 0,
             "ticks": ""
            },
            "colorscale": [
             [
              0,
              "#0d0887"
             ],
             [
              0.1111111111111111,
              "#46039f"
             ],
             [
              0.2222222222222222,
              "#7201a8"
             ],
             [
              0.3333333333333333,
              "#9c179e"
             ],
             [
              0.4444444444444444,
              "#bd3786"
             ],
             [
              0.5555555555555556,
              "#d8576b"
             ],
             [
              0.6666666666666666,
              "#ed7953"
             ],
             [
              0.7777777777777778,
              "#fb9f3a"
             ],
             [
              0.8888888888888888,
              "#fdca26"
             ],
             [
              1,
              "#f0f921"
             ]
            ],
            "type": "heatmap"
           }
          ],
          "heatmapgl": [
           {
            "colorbar": {
             "outlinewidth": 0,
             "ticks": ""
            },
            "colorscale": [
             [
              0,
              "#0d0887"
             ],
             [
              0.1111111111111111,
              "#46039f"
             ],
             [
              0.2222222222222222,
              "#7201a8"
             ],
             [
              0.3333333333333333,
              "#9c179e"
             ],
             [
              0.4444444444444444,
              "#bd3786"
             ],
             [
              0.5555555555555556,
              "#d8576b"
             ],
             [
              0.6666666666666666,
              "#ed7953"
             ],
             [
              0.7777777777777778,
              "#fb9f3a"
             ],
             [
              0.8888888888888888,
              "#fdca26"
             ],
             [
              1,
              "#f0f921"
             ]
            ],
            "type": "heatmapgl"
           }
          ],
          "histogram": [
           {
            "marker": {
             "pattern": {
              "fillmode": "overlay",
              "size": 10,
              "solidity": 0.2
             }
            },
            "type": "histogram"
           }
          ],
          "histogram2d": [
           {
            "colorbar": {
             "outlinewidth": 0,
             "ticks": ""
            },
            "colorscale": [
             [
              0,
              "#0d0887"
             ],
             [
              0.1111111111111111,
              "#46039f"
             ],
             [
              0.2222222222222222,
              "#7201a8"
             ],
             [
              0.3333333333333333,
              "#9c179e"
             ],
             [
              0.4444444444444444,
              "#bd3786"
             ],
             [
              0.5555555555555556,
              "#d8576b"
             ],
             [
              0.6666666666666666,
              "#ed7953"
             ],
             [
              0.7777777777777778,
              "#fb9f3a"
             ],
             [
              0.8888888888888888,
              "#fdca26"
             ],
             [
              1,
              "#f0f921"
             ]
            ],
            "type": "histogram2d"
           }
          ],
          "histogram2dcontour": [
           {
            "colorbar": {
             "outlinewidth": 0,
             "ticks": ""
            },
            "colorscale": [
             [
              0,
              "#0d0887"
             ],
             [
              0.1111111111111111,
              "#46039f"
             ],
             [
              0.2222222222222222,
              "#7201a8"
             ],
             [
              0.3333333333333333,
              "#9c179e"
             ],
             [
              0.4444444444444444,
              "#bd3786"
             ],
             [
              0.5555555555555556,
              "#d8576b"
             ],
             [
              0.6666666666666666,
              "#ed7953"
             ],
             [
              0.7777777777777778,
              "#fb9f3a"
             ],
             [
              0.8888888888888888,
              "#fdca26"
             ],
             [
              1,
              "#f0f921"
             ]
            ],
            "type": "histogram2dcontour"
           }
          ],
          "mesh3d": [
           {
            "colorbar": {
             "outlinewidth": 0,
             "ticks": ""
            },
            "type": "mesh3d"
           }
          ],
          "parcoords": [
           {
            "line": {
             "colorbar": {
              "outlinewidth": 0,
              "ticks": ""
             }
            },
            "type": "parcoords"
           }
          ],
          "pie": [
           {
            "automargin": true,
            "type": "pie"
           }
          ],
          "scatter": [
           {
            "fillpattern": {
             "fillmode": "overlay",
             "size": 10,
             "solidity": 0.2
            },
            "type": "scatter"
           }
          ],
          "scatter3d": [
           {
            "line": {
             "colorbar": {
              "outlinewidth": 0,
              "ticks": ""
             }
            },
            "marker": {
             "colorbar": {
              "outlinewidth": 0,
              "ticks": ""
             }
            },
            "type": "scatter3d"
           }
          ],
          "scattercarpet": [
           {
            "marker": {
             "colorbar": {
              "outlinewidth": 0,
              "ticks": ""
             }
            },
            "type": "scattercarpet"
           }
          ],
          "scattergeo": [
           {
            "marker": {
             "colorbar": {
              "outlinewidth": 0,
              "ticks": ""
             }
            },
            "type": "scattergeo"
           }
          ],
          "scattergl": [
           {
            "marker": {
             "colorbar": {
              "outlinewidth": 0,
              "ticks": ""
             }
            },
            "type": "scattergl"
           }
          ],
          "scattermapbox": [
           {
            "marker": {
             "colorbar": {
              "outlinewidth": 0,
              "ticks": ""
             }
            },
            "type": "scattermapbox"
           }
          ],
          "scatterpolar": [
           {
            "marker": {
             "colorbar": {
              "outlinewidth": 0,
              "ticks": ""
             }
            },
            "type": "scatterpolar"
           }
          ],
          "scatterpolargl": [
           {
            "marker": {
             "colorbar": {
              "outlinewidth": 0,
              "ticks": ""
             }
            },
            "type": "scatterpolargl"
           }
          ],
          "scatterternary": [
           {
            "marker": {
             "colorbar": {
              "outlinewidth": 0,
              "ticks": ""
             }
            },
            "type": "scatterternary"
           }
          ],
          "surface": [
           {
            "colorbar": {
             "outlinewidth": 0,
             "ticks": ""
            },
            "colorscale": [
             [
              0,
              "#0d0887"
             ],
             [
              0.1111111111111111,
              "#46039f"
             ],
             [
              0.2222222222222222,
              "#7201a8"
             ],
             [
              0.3333333333333333,
              "#9c179e"
             ],
             [
              0.4444444444444444,
              "#bd3786"
             ],
             [
              0.5555555555555556,
              "#d8576b"
             ],
             [
              0.6666666666666666,
              "#ed7953"
             ],
             [
              0.7777777777777778,
              "#fb9f3a"
             ],
             [
              0.8888888888888888,
              "#fdca26"
             ],
             [
              1,
              "#f0f921"
             ]
            ],
            "type": "surface"
           }
          ],
          "table": [
           {
            "cells": {
             "fill": {
              "color": "#EBF0F8"
             },
             "line": {
              "color": "white"
             }
            },
            "header": {
             "fill": {
              "color": "#C8D4E3"
             },
             "line": {
              "color": "white"
             }
            },
            "type": "table"
           }
          ]
         },
         "layout": {
          "annotationdefaults": {
           "arrowcolor": "#2a3f5f",
           "arrowhead": 0,
           "arrowwidth": 1
          },
          "autotypenumbers": "strict",
          "coloraxis": {
           "colorbar": {
            "outlinewidth": 0,
            "ticks": ""
           }
          },
          "colorscale": {
           "diverging": [
            [
             0,
             "#8e0152"
            ],
            [
             0.1,
             "#c51b7d"
            ],
            [
             0.2,
             "#de77ae"
            ],
            [
             0.3,
             "#f1b6da"
            ],
            [
             0.4,
             "#fde0ef"
            ],
            [
             0.5,
             "#f7f7f7"
            ],
            [
             0.6,
             "#e6f5d0"
            ],
            [
             0.7,
             "#b8e186"
            ],
            [
             0.8,
             "#7fbc41"
            ],
            [
             0.9,
             "#4d9221"
            ],
            [
             1,
             "#276419"
            ]
           ],
           "sequential": [
            [
             0,
             "#0d0887"
            ],
            [
             0.1111111111111111,
             "#46039f"
            ],
            [
             0.2222222222222222,
             "#7201a8"
            ],
            [
             0.3333333333333333,
             "#9c179e"
            ],
            [
             0.4444444444444444,
             "#bd3786"
            ],
            [
             0.5555555555555556,
             "#d8576b"
            ],
            [
             0.6666666666666666,
             "#ed7953"
            ],
            [
             0.7777777777777778,
             "#fb9f3a"
            ],
            [
             0.8888888888888888,
             "#fdca26"
            ],
            [
             1,
             "#f0f921"
            ]
           ],
           "sequentialminus": [
            [
             0,
             "#0d0887"
            ],
            [
             0.1111111111111111,
             "#46039f"
            ],
            [
             0.2222222222222222,
             "#7201a8"
            ],
            [
             0.3333333333333333,
             "#9c179e"
            ],
            [
             0.4444444444444444,
             "#bd3786"
            ],
            [
             0.5555555555555556,
             "#d8576b"
            ],
            [
             0.6666666666666666,
             "#ed7953"
            ],
            [
             0.7777777777777778,
             "#fb9f3a"
            ],
            [
             0.8888888888888888,
             "#fdca26"
            ],
            [
             1,
             "#f0f921"
            ]
           ]
          },
          "colorway": [
           "#636efa",
           "#EF553B",
           "#00cc96",
           "#ab63fa",
           "#FFA15A",
           "#19d3f3",
           "#FF6692",
           "#B6E880",
           "#FF97FF",
           "#FECB52"
          ],
          "font": {
           "color": "#2a3f5f"
          },
          "geo": {
           "bgcolor": "white",
           "lakecolor": "white",
           "landcolor": "#E5ECF6",
           "showlakes": true,
           "showland": true,
           "subunitcolor": "white"
          },
          "hoverlabel": {
           "align": "left"
          },
          "hovermode": "closest",
          "mapbox": {
           "style": "light"
          },
          "paper_bgcolor": "white",
          "plot_bgcolor": "#E5ECF6",
          "polar": {
           "angularaxis": {
            "gridcolor": "white",
            "linecolor": "white",
            "ticks": ""
           },
           "bgcolor": "#E5ECF6",
           "radialaxis": {
            "gridcolor": "white",
            "linecolor": "white",
            "ticks": ""
           }
          },
          "scene": {
           "xaxis": {
            "backgroundcolor": "#E5ECF6",
            "gridcolor": "white",
            "gridwidth": 2,
            "linecolor": "white",
            "showbackground": true,
            "ticks": "",
            "zerolinecolor": "white"
           },
           "yaxis": {
            "backgroundcolor": "#E5ECF6",
            "gridcolor": "white",
            "gridwidth": 2,
            "linecolor": "white",
            "showbackground": true,
            "ticks": "",
            "zerolinecolor": "white"
           },
           "zaxis": {
            "backgroundcolor": "#E5ECF6",
            "gridcolor": "white",
            "gridwidth": 2,
            "linecolor": "white",
            "showbackground": true,
            "ticks": "",
            "zerolinecolor": "white"
           }
          },
          "shapedefaults": {
           "line": {
            "color": "#2a3f5f"
           }
          },
          "ternary": {
           "aaxis": {
            "gridcolor": "white",
            "linecolor": "white",
            "ticks": ""
           },
           "baxis": {
            "gridcolor": "white",
            "linecolor": "white",
            "ticks": ""
           },
           "bgcolor": "#E5ECF6",
           "caxis": {
            "gridcolor": "white",
            "linecolor": "white",
            "ticks": ""
           }
          },
          "title": {
           "x": 0.05
          },
          "xaxis": {
           "automargin": true,
           "gridcolor": "white",
           "linecolor": "white",
           "ticks": "",
           "title": {
            "standoff": 15
           },
           "zerolinecolor": "white",
           "zerolinewidth": 2
          },
          "yaxis": {
           "automargin": true,
           "gridcolor": "white",
           "linecolor": "white",
           "ticks": "",
           "title": {
            "standoff": 15
           },
           "zerolinecolor": "white",
           "zerolinewidth": 2
          }
         }
        },
        "xaxis": {
         "anchor": "y",
         "domain": [
          0,
          1
         ],
         "title": {
          "text": "index"
         }
        },
        "yaxis": {
         "anchor": "x",
         "domain": [
          0,
          1
         ],
         "title": {
          "text": "value"
         }
        }
       }
      }
     },
     "metadata": {},
     "output_type": "display_data"
    }
   ],
   "source": [
    "px.area(countrydf,x=countrydf.index,y=countrydf.columns)"
   ]
  },
  {
   "cell_type": "code",
   "execution_count": 69,
   "metadata": {},
   "outputs": [
    {
     "data": {
      "application/vnd.plotly.v1+json": {
       "config": {
        "plotlyServerURL": "https://plot.ly"
       },
       "data": [
        {
         "hovertemplate": "country=China<br>index=%{x}<br>value=%{y}<extra></extra>",
         "legendgroup": "China",
         "marker": {
          "color": "#636efa"
         },
         "name": "China",
         "orientation": "v",
         "showlegend": true,
         "type": "funnel",
         "x": [
          1980,
          1981,
          1982,
          1983,
          1984,
          1985,
          1986,
          1987,
          1988,
          1989,
          1990,
          1991,
          1992,
          1993,
          1994,
          1995,
          1996,
          1997,
          1998,
          1999,
          2000,
          2001,
          2002,
          2003,
          2004,
          2005,
          2006,
          2007,
          2008,
          2009,
          2010,
          2011,
          2012,
          2013
         ],
         "xaxis": "x",
         "y": [
          5123,
          6682,
          3308,
          1863,
          1527,
          1816,
          1960,
          2643,
          2758,
          4323,
          8076,
          14255,
          10846,
          9817,
          13128,
          14398,
          19415,
          20475,
          21049,
          30069,
          35529,
          36434,
          31961,
          36439,
          36619,
          42584,
          33518,
          27642,
          30037,
          29622,
          30391,
          28502,
          33024,
          34129
         ],
         "yaxis": "y"
        },
        {
         "hovertemplate": "country=Japan<br>index=%{x}<br>value=%{y}<extra></extra>",
         "legendgroup": "Japan",
         "marker": {
          "color": "#EF553B"
         },
         "name": "Japan",
         "orientation": "v",
         "showlegend": true,
         "type": "funnel",
         "x": [
          1980,
          1981,
          1982,
          1983,
          1984,
          1985,
          1986,
          1987,
          1988,
          1989,
          1990,
          1991,
          1992,
          1993,
          1994,
          1995,
          1996,
          1997,
          1998,
          1999,
          2000,
          2001,
          2002,
          2003,
          2004,
          2005,
          2006,
          2007,
          2008,
          2009,
          2010,
          2011,
          2012,
          2013
         ],
         "xaxis": "x",
         "y": [
          701,
          756,
          598,
          309,
          246,
          198,
          248,
          422,
          324,
          494,
          379,
          506,
          605,
          907,
          956,
          826,
          994,
          924,
          897,
          1083,
          1010,
          1092,
          806,
          817,
          973,
          1067,
          1212,
          1250,
          1284,
          1194,
          1168,
          1265,
          1214,
          982
         ],
         "yaxis": "y"
        },
        {
         "hovertemplate": "country=Malaysia<br>index=%{x}<br>value=%{y}<extra></extra>",
         "legendgroup": "Malaysia",
         "marker": {
          "color": "#00cc96"
         },
         "name": "Malaysia",
         "orientation": "v",
         "showlegend": true,
         "type": "funnel",
         "x": [
          1980,
          1981,
          1982,
          1983,
          1984,
          1985,
          1986,
          1987,
          1988,
          1989,
          1990,
          1991,
          1992,
          1993,
          1994,
          1995,
          1996,
          1997,
          1998,
          1999,
          2000,
          2001,
          2002,
          2003,
          2004,
          2005,
          2006,
          2007,
          2008,
          2009,
          2010,
          2011,
          2012,
          2013
         ],
         "xaxis": "x",
         "y": [
          786,
          816,
          813,
          448,
          384,
          374,
          425,
          817,
          2072,
          2346,
          1917,
          1338,
          1486,
          1000,
          727,
          490,
          382,
          319,
          214,
          299,
          360,
          460,
          480,
          419,
          401,
          593,
          580,
          600,
          658,
          640,
          802,
          409,
          358,
          204
         ],
         "yaxis": "y"
        },
        {
         "hovertemplate": "country=Philippines<br>index=%{x}<br>value=%{y}<extra></extra>",
         "legendgroup": "Philippines",
         "marker": {
          "color": "#ab63fa"
         },
         "name": "Philippines",
         "orientation": "v",
         "showlegend": true,
         "type": "funnel",
         "x": [
          1980,
          1981,
          1982,
          1983,
          1984,
          1985,
          1986,
          1987,
          1988,
          1989,
          1990,
          1991,
          1992,
          1993,
          1994,
          1995,
          1996,
          1997,
          1998,
          1999,
          2000,
          2001,
          2002,
          2003,
          2004,
          2005,
          2006,
          2007,
          2008,
          2009,
          2010,
          2011,
          2012,
          2013
         ],
         "xaxis": "x",
         "y": [
          6051,
          5921,
          5249,
          4562,
          3801,
          3150,
          4166,
          7360,
          8639,
          11865,
          12509,
          12718,
          13670,
          20479,
          19532,
          15864,
          13692,
          11549,
          8735,
          9734,
          10763,
          13836,
          11707,
          12758,
          14004,
          18139,
          18400,
          19837,
          24887,
          28573,
          38617,
          36765,
          34315,
          29544
         ],
         "yaxis": "y"
        },
        {
         "hovertemplate": "country=Thailand<br>index=%{x}<br>value=%{y}<extra></extra>",
         "legendgroup": "Thailand",
         "marker": {
          "color": "#FFA15A"
         },
         "name": "Thailand",
         "orientation": "v",
         "showlegend": true,
         "type": "funnel",
         "x": [
          1980,
          1981,
          1982,
          1983,
          1984,
          1985,
          1986,
          1987,
          1988,
          1989,
          1990,
          1991,
          1992,
          1993,
          1994,
          1995,
          1996,
          1997,
          1998,
          1999,
          2000,
          2001,
          2002,
          2003,
          2004,
          2005,
          2006,
          2007,
          2008,
          2009,
          2010,
          2011,
          2012,
          2013
         ],
         "xaxis": "x",
         "y": [
          56,
          53,
          113,
          65,
          82,
          66,
          78,
          117,
          147,
          177,
          171,
          219,
          219,
          279,
          237,
          172,
          195,
          152,
          201,
          246,
          258,
          309,
          547,
          439,
          392,
          575,
          500,
          487,
          519,
          512,
          499,
          396,
          296,
          400
         ],
         "yaxis": "y"
        },
        {
         "hovertemplate": "country=Vietnam<br>index=%{x}<br>value=%{y}<extra></extra>",
         "legendgroup": "Vietnam",
         "marker": {
          "color": "#19d3f3"
         },
         "name": "Vietnam",
         "orientation": "v",
         "showlegend": true,
         "type": "funnel",
         "x": [
          1980,
          1981,
          1982,
          1983,
          1984,
          1985,
          1986,
          1987,
          1988,
          1989,
          1990,
          1991,
          1992,
          1993,
          1994,
          1995,
          1996,
          1997,
          1998,
          1999,
          2000,
          2001,
          2002,
          2003,
          2004,
          2005,
          2006,
          2007,
          2008,
          2009,
          2010,
          2011,
          2012,
          2013
         ],
         "xaxis": "x",
         "y": [
          1191,
          1829,
          2162,
          3404,
          7583,
          5907,
          2741,
          1406,
          1411,
          3004,
          3801,
          5870,
          5416,
          6547,
          5105,
          3723,
          2462,
          1752,
          1631,
          1419,
          1803,
          2117,
          2291,
          1713,
          1816,
          1852,
          3153,
          2574,
          1784,
          2171,
          1942,
          1723,
          1731,
          2112
         ],
         "yaxis": "y"
        }
       ],
       "layout": {
        "legend": {
         "title": {
          "text": "country"
         },
         "tracegroupgap": 0
        },
        "margin": {
         "t": 60
        },
        "template": {
         "data": {
          "bar": [
           {
            "error_x": {
             "color": "#2a3f5f"
            },
            "error_y": {
             "color": "#2a3f5f"
            },
            "marker": {
             "line": {
              "color": "#E5ECF6",
              "width": 0.5
             },
             "pattern": {
              "fillmode": "overlay",
              "size": 10,
              "solidity": 0.2
             }
            },
            "type": "bar"
           }
          ],
          "barpolar": [
           {
            "marker": {
             "line": {
              "color": "#E5ECF6",
              "width": 0.5
             },
             "pattern": {
              "fillmode": "overlay",
              "size": 10,
              "solidity": 0.2
             }
            },
            "type": "barpolar"
           }
          ],
          "carpet": [
           {
            "aaxis": {
             "endlinecolor": "#2a3f5f",
             "gridcolor": "white",
             "linecolor": "white",
             "minorgridcolor": "white",
             "startlinecolor": "#2a3f5f"
            },
            "baxis": {
             "endlinecolor": "#2a3f5f",
             "gridcolor": "white",
             "linecolor": "white",
             "minorgridcolor": "white",
             "startlinecolor": "#2a3f5f"
            },
            "type": "carpet"
           }
          ],
          "choropleth": [
           {
            "colorbar": {
             "outlinewidth": 0,
             "ticks": ""
            },
            "type": "choropleth"
           }
          ],
          "contour": [
           {
            "colorbar": {
             "outlinewidth": 0,
             "ticks": ""
            },
            "colorscale": [
             [
              0,
              "#0d0887"
             ],
             [
              0.1111111111111111,
              "#46039f"
             ],
             [
              0.2222222222222222,
              "#7201a8"
             ],
             [
              0.3333333333333333,
              "#9c179e"
             ],
             [
              0.4444444444444444,
              "#bd3786"
             ],
             [
              0.5555555555555556,
              "#d8576b"
             ],
             [
              0.6666666666666666,
              "#ed7953"
             ],
             [
              0.7777777777777778,
              "#fb9f3a"
             ],
             [
              0.8888888888888888,
              "#fdca26"
             ],
             [
              1,
              "#f0f921"
             ]
            ],
            "type": "contour"
           }
          ],
          "contourcarpet": [
           {
            "colorbar": {
             "outlinewidth": 0,
             "ticks": ""
            },
            "type": "contourcarpet"
           }
          ],
          "heatmap": [
           {
            "colorbar": {
             "outlinewidth": 0,
             "ticks": ""
            },
            "colorscale": [
             [
              0,
              "#0d0887"
             ],
             [
              0.1111111111111111,
              "#46039f"
             ],
             [
              0.2222222222222222,
              "#7201a8"
             ],
             [
              0.3333333333333333,
              "#9c179e"
             ],
             [
              0.4444444444444444,
              "#bd3786"
             ],
             [
              0.5555555555555556,
              "#d8576b"
             ],
             [
              0.6666666666666666,
              "#ed7953"
             ],
             [
              0.7777777777777778,
              "#fb9f3a"
             ],
             [
              0.8888888888888888,
              "#fdca26"
             ],
             [
              1,
              "#f0f921"
             ]
            ],
            "type": "heatmap"
           }
          ],
          "heatmapgl": [
           {
            "colorbar": {
             "outlinewidth": 0,
             "ticks": ""
            },
            "colorscale": [
             [
              0,
              "#0d0887"
             ],
             [
              0.1111111111111111,
              "#46039f"
             ],
             [
              0.2222222222222222,
              "#7201a8"
             ],
             [
              0.3333333333333333,
              "#9c179e"
             ],
             [
              0.4444444444444444,
              "#bd3786"
             ],
             [
              0.5555555555555556,
              "#d8576b"
             ],
             [
              0.6666666666666666,
              "#ed7953"
             ],
             [
              0.7777777777777778,
              "#fb9f3a"
             ],
             [
              0.8888888888888888,
              "#fdca26"
             ],
             [
              1,
              "#f0f921"
             ]
            ],
            "type": "heatmapgl"
           }
          ],
          "histogram": [
           {
            "marker": {
             "pattern": {
              "fillmode": "overlay",
              "size": 10,
              "solidity": 0.2
             }
            },
            "type": "histogram"
           }
          ],
          "histogram2d": [
           {
            "colorbar": {
             "outlinewidth": 0,
             "ticks": ""
            },
            "colorscale": [
             [
              0,
              "#0d0887"
             ],
             [
              0.1111111111111111,
              "#46039f"
             ],
             [
              0.2222222222222222,
              "#7201a8"
             ],
             [
              0.3333333333333333,
              "#9c179e"
             ],
             [
              0.4444444444444444,
              "#bd3786"
             ],
             [
              0.5555555555555556,
              "#d8576b"
             ],
             [
              0.6666666666666666,
              "#ed7953"
             ],
             [
              0.7777777777777778,
              "#fb9f3a"
             ],
             [
              0.8888888888888888,
              "#fdca26"
             ],
             [
              1,
              "#f0f921"
             ]
            ],
            "type": "histogram2d"
           }
          ],
          "histogram2dcontour": [
           {
            "colorbar": {
             "outlinewidth": 0,
             "ticks": ""
            },
            "colorscale": [
             [
              0,
              "#0d0887"
             ],
             [
              0.1111111111111111,
              "#46039f"
             ],
             [
              0.2222222222222222,
              "#7201a8"
             ],
             [
              0.3333333333333333,
              "#9c179e"
             ],
             [
              0.4444444444444444,
              "#bd3786"
             ],
             [
              0.5555555555555556,
              "#d8576b"
             ],
             [
              0.6666666666666666,
              "#ed7953"
             ],
             [
              0.7777777777777778,
              "#fb9f3a"
             ],
             [
              0.8888888888888888,
              "#fdca26"
             ],
             [
              1,
              "#f0f921"
             ]
            ],
            "type": "histogram2dcontour"
           }
          ],
          "mesh3d": [
           {
            "colorbar": {
             "outlinewidth": 0,
             "ticks": ""
            },
            "type": "mesh3d"
           }
          ],
          "parcoords": [
           {
            "line": {
             "colorbar": {
              "outlinewidth": 0,
              "ticks": ""
             }
            },
            "type": "parcoords"
           }
          ],
          "pie": [
           {
            "automargin": true,
            "type": "pie"
           }
          ],
          "scatter": [
           {
            "fillpattern": {
             "fillmode": "overlay",
             "size": 10,
             "solidity": 0.2
            },
            "type": "scatter"
           }
          ],
          "scatter3d": [
           {
            "line": {
             "colorbar": {
              "outlinewidth": 0,
              "ticks": ""
             }
            },
            "marker": {
             "colorbar": {
              "outlinewidth": 0,
              "ticks": ""
             }
            },
            "type": "scatter3d"
           }
          ],
          "scattercarpet": [
           {
            "marker": {
             "colorbar": {
              "outlinewidth": 0,
              "ticks": ""
             }
            },
            "type": "scattercarpet"
           }
          ],
          "scattergeo": [
           {
            "marker": {
             "colorbar": {
              "outlinewidth": 0,
              "ticks": ""
             }
            },
            "type": "scattergeo"
           }
          ],
          "scattergl": [
           {
            "marker": {
             "colorbar": {
              "outlinewidth": 0,
              "ticks": ""
             }
            },
            "type": "scattergl"
           }
          ],
          "scattermapbox": [
           {
            "marker": {
             "colorbar": {
              "outlinewidth": 0,
              "ticks": ""
             }
            },
            "type": "scattermapbox"
           }
          ],
          "scatterpolar": [
           {
            "marker": {
             "colorbar": {
              "outlinewidth": 0,
              "ticks": ""
             }
            },
            "type": "scatterpolar"
           }
          ],
          "scatterpolargl": [
           {
            "marker": {
             "colorbar": {
              "outlinewidth": 0,
              "ticks": ""
             }
            },
            "type": "scatterpolargl"
           }
          ],
          "scatterternary": [
           {
            "marker": {
             "colorbar": {
              "outlinewidth": 0,
              "ticks": ""
             }
            },
            "type": "scatterternary"
           }
          ],
          "surface": [
           {
            "colorbar": {
             "outlinewidth": 0,
             "ticks": ""
            },
            "colorscale": [
             [
              0,
              "#0d0887"
             ],
             [
              0.1111111111111111,
              "#46039f"
             ],
             [
              0.2222222222222222,
              "#7201a8"
             ],
             [
              0.3333333333333333,
              "#9c179e"
             ],
             [
              0.4444444444444444,
              "#bd3786"
             ],
             [
              0.5555555555555556,
              "#d8576b"
             ],
             [
              0.6666666666666666,
              "#ed7953"
             ],
             [
              0.7777777777777778,
              "#fb9f3a"
             ],
             [
              0.8888888888888888,
              "#fdca26"
             ],
             [
              1,
              "#f0f921"
             ]
            ],
            "type": "surface"
           }
          ],
          "table": [
           {
            "cells": {
             "fill": {
              "color": "#EBF0F8"
             },
             "line": {
              "color": "white"
             }
            },
            "header": {
             "fill": {
              "color": "#C8D4E3"
             },
             "line": {
              "color": "white"
             }
            },
            "type": "table"
           }
          ]
         },
         "layout": {
          "annotationdefaults": {
           "arrowcolor": "#2a3f5f",
           "arrowhead": 0,
           "arrowwidth": 1
          },
          "autotypenumbers": "strict",
          "coloraxis": {
           "colorbar": {
            "outlinewidth": 0,
            "ticks": ""
           }
          },
          "colorscale": {
           "diverging": [
            [
             0,
             "#8e0152"
            ],
            [
             0.1,
             "#c51b7d"
            ],
            [
             0.2,
             "#de77ae"
            ],
            [
             0.3,
             "#f1b6da"
            ],
            [
             0.4,
             "#fde0ef"
            ],
            [
             0.5,
             "#f7f7f7"
            ],
            [
             0.6,
             "#e6f5d0"
            ],
            [
             0.7,
             "#b8e186"
            ],
            [
             0.8,
             "#7fbc41"
            ],
            [
             0.9,
             "#4d9221"
            ],
            [
             1,
             "#276419"
            ]
           ],
           "sequential": [
            [
             0,
             "#0d0887"
            ],
            [
             0.1111111111111111,
             "#46039f"
            ],
            [
             0.2222222222222222,
             "#7201a8"
            ],
            [
             0.3333333333333333,
             "#9c179e"
            ],
            [
             0.4444444444444444,
             "#bd3786"
            ],
            [
             0.5555555555555556,
             "#d8576b"
            ],
            [
             0.6666666666666666,
             "#ed7953"
            ],
            [
             0.7777777777777778,
             "#fb9f3a"
            ],
            [
             0.8888888888888888,
             "#fdca26"
            ],
            [
             1,
             "#f0f921"
            ]
           ],
           "sequentialminus": [
            [
             0,
             "#0d0887"
            ],
            [
             0.1111111111111111,
             "#46039f"
            ],
            [
             0.2222222222222222,
             "#7201a8"
            ],
            [
             0.3333333333333333,
             "#9c179e"
            ],
            [
             0.4444444444444444,
             "#bd3786"
            ],
            [
             0.5555555555555556,
             "#d8576b"
            ],
            [
             0.6666666666666666,
             "#ed7953"
            ],
            [
             0.7777777777777778,
             "#fb9f3a"
            ],
            [
             0.8888888888888888,
             "#fdca26"
            ],
            [
             1,
             "#f0f921"
            ]
           ]
          },
          "colorway": [
           "#636efa",
           "#EF553B",
           "#00cc96",
           "#ab63fa",
           "#FFA15A",
           "#19d3f3",
           "#FF6692",
           "#B6E880",
           "#FF97FF",
           "#FECB52"
          ],
          "font": {
           "color": "#2a3f5f"
          },
          "geo": {
           "bgcolor": "white",
           "lakecolor": "white",
           "landcolor": "#E5ECF6",
           "showlakes": true,
           "showland": true,
           "subunitcolor": "white"
          },
          "hoverlabel": {
           "align": "left"
          },
          "hovermode": "closest",
          "mapbox": {
           "style": "light"
          },
          "paper_bgcolor": "white",
          "plot_bgcolor": "#E5ECF6",
          "polar": {
           "angularaxis": {
            "gridcolor": "white",
            "linecolor": "white",
            "ticks": ""
           },
           "bgcolor": "#E5ECF6",
           "radialaxis": {
            "gridcolor": "white",
            "linecolor": "white",
            "ticks": ""
           }
          },
          "scene": {
           "xaxis": {
            "backgroundcolor": "#E5ECF6",
            "gridcolor": "white",
            "gridwidth": 2,
            "linecolor": "white",
            "showbackground": true,
            "ticks": "",
            "zerolinecolor": "white"
           },
           "yaxis": {
            "backgroundcolor": "#E5ECF6",
            "gridcolor": "white",
            "gridwidth": 2,
            "linecolor": "white",
            "showbackground": true,
            "ticks": "",
            "zerolinecolor": "white"
           },
           "zaxis": {
            "backgroundcolor": "#E5ECF6",
            "gridcolor": "white",
            "gridwidth": 2,
            "linecolor": "white",
            "showbackground": true,
            "ticks": "",
            "zerolinecolor": "white"
           }
          },
          "shapedefaults": {
           "line": {
            "color": "#2a3f5f"
           }
          },
          "ternary": {
           "aaxis": {
            "gridcolor": "white",
            "linecolor": "white",
            "ticks": ""
           },
           "baxis": {
            "gridcolor": "white",
            "linecolor": "white",
            "ticks": ""
           },
           "bgcolor": "#E5ECF6",
           "caxis": {
            "gridcolor": "white",
            "linecolor": "white",
            "ticks": ""
           }
          },
          "title": {
           "x": 0.05
          },
          "xaxis": {
           "automargin": true,
           "gridcolor": "white",
           "linecolor": "white",
           "ticks": "",
           "title": {
            "standoff": 15
           },
           "zerolinecolor": "white",
           "zerolinewidth": 2
          },
          "yaxis": {
           "automargin": true,
           "gridcolor": "white",
           "linecolor": "white",
           "ticks": "",
           "title": {
            "standoff": 15
           },
           "zerolinecolor": "white",
           "zerolinewidth": 2
          }
         }
        },
        "xaxis": {
         "anchor": "y",
         "domain": [
          0,
          1
         ],
         "title": {
          "text": "index"
         }
        },
        "yaxis": {
         "anchor": "x",
         "domain": [
          0,
          1
         ],
         "title": {
          "text": "value"
         }
        }
       }
      }
     },
     "metadata": {},
     "output_type": "display_data"
    }
   ],
   "source": [
    "px.funnel(countrydf,countrydf.index,countrydf.columns)"
   ]
  },
  {
   "cell_type": "markdown",
   "metadata": {},
   "source": [
    "<h3>Visialization on map<h3>"
   ]
  },
  {
   "cell_type": "code",
   "execution_count": 71,
   "metadata": {},
   "outputs": [
    {
     "data": {
      "application/vnd.plotly.v1+json": {
       "config": {
        "plotlyServerURL": "https://plot.ly"
       },
       "data": [
        {
         "coloraxis": "coloraxis",
         "geo": "geo",
         "hovertemplate": "country=%{location}<br>total=%{z}<extra></extra>",
         "locationmode": "country names",
         "locations": [
          "India",
          "China",
          "United",
          "Philippines",
          "Pakistan",
          "United States of America",
          "Iran",
          "Sri Lanka",
          "Republic of Korea",
          "Poland",
          "Lebanon",
          "France",
          "Jamaica",
          "Vietnam",
          "Romania",
          "Haiti",
          "Guyana",
          "Portugal",
          "Egypt",
          "Morocco",
          "Colombia",
          "Iraq",
          "Algeria",
          "Israel",
          "Bangladesh",
          "Germany",
          "Russian Federation",
          "Mexico",
          "Afghanistan",
          "El Salvador",
          "Ukraine",
          "Trinidad and Tobago",
          "Somalia",
          "South Africa",
          "Nigeria",
          "Jordan",
          "Ethiopia",
          "Peru",
          "Turkey",
          "Syrian Arab Republic",
          "Brazil",
          "Japan",
          "Netherlands",
          "Ghana",
          "Democratic Republic of the Congo",
          "Malaysia",
          "Australia",
          "Bulgaria",
          "Italy",
          "Bosnia and Herzegovina",
          "Chile",
          "Venezuela",
          "Fiji",
          "Cuba",
          "Argentina",
          "Guatemala",
          "Sudan",
          "Tunisia",
          "Kenya",
          "Ireland",
          "Hungary",
          "Cameroon",
          "Albania",
          "Mauritius",
          "Switzerland",
          "Republic of Moldova",
          "Singapore",
          "Indonesia",
          "United Republic of Tanzania",
          "Greece",
          "Ecuador",
          "Nicaragua",
          "Dominican Republic",
          "Belgium",
          "Eritrea",
          "New Zealand",
          "Nepal",
          "Saint Vincent and the Grenadines",
          "China, Hong Kong Special Administrative Region",
          "Myanmar",
          "Thailand",
          "Grenada",
          "Zimbabwe",
          "Kazakhstan",
          "Côte d'Ivoire",
          "Burundi",
          "Croatia",
          "Belarus",
          "Honduras",
          "Senegal",
          "Barbados",
          "Rwanda",
          "Cambodia",
          "State of Palestine",
          "Slovakia",
          "Bhutan",
          "Sweden",
          "Spain",
          "Austria",
          "Libya",
          "Guinea",
          "Saint Lucia",
          "Uruguay",
          "The former Yugoslav Republic of Macedonia",
          "Costa Rica",
          "Czech Republic",
          "Denmark",
          "Togo",
          "Uganda",
          "Saudi Arabia",
          "Uzbekistan",
          "Sierra Leone",
          "Armenia",
          "Bolivia (Plurinational State of)",
          "Panama",
          "Yemen",
          "Benin",
          "Finland",
          "Liberia",
          "Azerbaijan",
          "Dominica",
          "Lithuania",
          "Kyrgyzstan",
          "Norway",
          "Latvia",
          "Madagascar",
          "Mali",
          "Angola",
          "Georgia",
          "Burkina Faso",
          "Kuwait",
          "Paraguay",
          "Serbia",
          "Congo",
          "Zambia",
          "Chad",
          "Djibouti",
          "Malta",
          "Seychelles",
          "Cyprus",
          "laos",
          "Belize",
          "Mauritania",
          "Antigua and Barbuda",
          "Niger",
          "Mongolia",
          "Gabon",
          "Estonia",
          "United Arab Emirates",
          "Bahamas",
          "Suriname",
          "Saint Kitts and Nevis",
          "Gambia",
          "Brunei Darussalam",
          "Iceland",
          "Central African Republic",
          "Slovenia",
          "Tajikistan",
          "Bahrain",
          "Botswana",
          "Democratic People's Republic of Korea",
          "Namibia",
          "Turkmenistan",
          "Malawi",
          "China, Macao Special Administrative Region",
          "Oman",
          "Luxembourg",
          "Cabo Verde",
          "Comoros",
          "Swaziland",
          "Mozambique",
          "Qatar",
          "Tonga",
          "Lesotho",
          "Montenegro",
          "Guinea-Bissau",
          "Samoa",
          "Papua New Guinea",
          "Equatorial Guinea",
          "Liechtenstein",
          "Maldives",
          "Monaco",
          "Canada",
          "Nauru",
          "Andorra",
          "Kiribati",
          "Vanuatu",
          "Sao Tome and Principe",
          "Tuvalu",
          "American Samoa",
          "San Marino",
          "New Caledonia",
          "Marshall Islands",
          "Western Sahara",
          "Palau"
         ],
         "name": "",
         "type": "choropleth",
         "z": [
          691904,
          659962,
          551500,
          511391,
          241600,
          241122,
          175923,
          148358,
          142581,
          139241,
          115359,
          109091,
          106431,
          97146,
          93585,
          84813,
          75785,
          74167,
          72745,
          72267,
          72088,
          69789,
          69439,
          66508,
          65568,
          63912,
          63344,
          58712,
          58639,
          54878,
          51410,
          50016,
          42109,
          40568,
          39732,
          35406,
          35136,
          32652,
          31781,
          31485,
          29659,
          27707,
          26884,
          26032,
          25582,
          24417,
          23829,
          23310,
          22624,
          21855,
          21359,
          21267,
          20609,
          20365,
          19596,
          19465,
          18506,
          17583,
          17228,
          16964,
          16822,
          16021,
          15699,
          15690,
          15678,
          15381,
          14579,
          13150,
          12496,
          12410,
          12233,
          12095,
          11193,
          10762,
          10450,
          10386,
          10222,
          9707,
          9327,
          9245,
          9174,
          9091,
          8598,
          8490,
          8291,
          8110,
          8001,
          7975,
          7770,
          7362,
          6923,
          6691,
          6538,
          6512,
          5963,
          5876,
          5866,
          5018,
          4985,
          4909,
          4891,
          4802,
          4715,
          4637,
          4489,
          4192,
          3901,
          3545,
          3450,
          3425,
          3368,
          3351,
          3310,
          3205,
          3161,
          2985,
          2852,
          2781,
          2759,
          2649,
          2470,
          2414,
          2353,
          2327,
          2326,
          2194,
          2188,
          2113,
          2068,
          2043,
          2025,
          1944,
          1939,
          1686,
          1677,
          1653,
          1646,
          1546,
          1266,
          1126,
          1089,
          1083,
          1016,
          981,
          952,
          952,
          952,
          935,
          836,
          808,
          739,
          653,
          603,
          600,
          570,
          550,
          523,
          503,
          475,
          396,
          388,
          320,
          310,
          294,
          284,
          224,
          215,
          201,
          194,
          188,
          160,
          157,
          142,
          107,
          105,
          83,
          78,
          64,
          61,
          40,
          30,
          29,
          20,
          18,
          15,
          15,
          11,
          10,
          8,
          6,
          5,
          5,
          2,
          2,
          1
         ]
        }
       ],
       "layout": {
        "coloraxis": {
         "colorbar": {
          "title": {
           "text": "total"
          }
         },
         "colorscale": [
          [
           0,
           "#0d0887"
          ],
          [
           0.1111111111111111,
           "#46039f"
          ],
          [
           0.2222222222222222,
           "#7201a8"
          ],
          [
           0.3333333333333333,
           "#9c179e"
          ],
          [
           0.4444444444444444,
           "#bd3786"
          ],
          [
           0.5555555555555556,
           "#d8576b"
          ],
          [
           0.6666666666666666,
           "#ed7953"
          ],
          [
           0.7777777777777778,
           "#fb9f3a"
          ],
          [
           0.8888888888888888,
           "#fdca26"
          ],
          [
           1,
           "#f0f921"
          ]
         ]
        },
        "geo": {
         "center": {},
         "domain": {
          "x": [
           0,
           1
          ],
          "y": [
           0,
           1
          ]
         }
        },
        "height": 600,
        "legend": {
         "tracegroupgap": 0
        },
        "margin": {
         "t": 60
        },
        "template": {
         "data": {
          "bar": [
           {
            "error_x": {
             "color": "#2a3f5f"
            },
            "error_y": {
             "color": "#2a3f5f"
            },
            "marker": {
             "line": {
              "color": "#E5ECF6",
              "width": 0.5
             },
             "pattern": {
              "fillmode": "overlay",
              "size": 10,
              "solidity": 0.2
             }
            },
            "type": "bar"
           }
          ],
          "barpolar": [
           {
            "marker": {
             "line": {
              "color": "#E5ECF6",
              "width": 0.5
             },
             "pattern": {
              "fillmode": "overlay",
              "size": 10,
              "solidity": 0.2
             }
            },
            "type": "barpolar"
           }
          ],
          "carpet": [
           {
            "aaxis": {
             "endlinecolor": "#2a3f5f",
             "gridcolor": "white",
             "linecolor": "white",
             "minorgridcolor": "white",
             "startlinecolor": "#2a3f5f"
            },
            "baxis": {
             "endlinecolor": "#2a3f5f",
             "gridcolor": "white",
             "linecolor": "white",
             "minorgridcolor": "white",
             "startlinecolor": "#2a3f5f"
            },
            "type": "carpet"
           }
          ],
          "choropleth": [
           {
            "colorbar": {
             "outlinewidth": 0,
             "ticks": ""
            },
            "type": "choropleth"
           }
          ],
          "contour": [
           {
            "colorbar": {
             "outlinewidth": 0,
             "ticks": ""
            },
            "colorscale": [
             [
              0,
              "#0d0887"
             ],
             [
              0.1111111111111111,
              "#46039f"
             ],
             [
              0.2222222222222222,
              "#7201a8"
             ],
             [
              0.3333333333333333,
              "#9c179e"
             ],
             [
              0.4444444444444444,
              "#bd3786"
             ],
             [
              0.5555555555555556,
              "#d8576b"
             ],
             [
              0.6666666666666666,
              "#ed7953"
             ],
             [
              0.7777777777777778,
              "#fb9f3a"
             ],
             [
              0.8888888888888888,
              "#fdca26"
             ],
             [
              1,
              "#f0f921"
             ]
            ],
            "type": "contour"
           }
          ],
          "contourcarpet": [
           {
            "colorbar": {
             "outlinewidth": 0,
             "ticks": ""
            },
            "type": "contourcarpet"
           }
          ],
          "heatmap": [
           {
            "colorbar": {
             "outlinewidth": 0,
             "ticks": ""
            },
            "colorscale": [
             [
              0,
              "#0d0887"
             ],
             [
              0.1111111111111111,
              "#46039f"
             ],
             [
              0.2222222222222222,
              "#7201a8"
             ],
             [
              0.3333333333333333,
              "#9c179e"
             ],
             [
              0.4444444444444444,
              "#bd3786"
             ],
             [
              0.5555555555555556,
              "#d8576b"
             ],
             [
              0.6666666666666666,
              "#ed7953"
             ],
             [
              0.7777777777777778,
              "#fb9f3a"
             ],
             [
              0.8888888888888888,
              "#fdca26"
             ],
             [
              1,
              "#f0f921"
             ]
            ],
            "type": "heatmap"
           }
          ],
          "heatmapgl": [
           {
            "colorbar": {
             "outlinewidth": 0,
             "ticks": ""
            },
            "colorscale": [
             [
              0,
              "#0d0887"
             ],
             [
              0.1111111111111111,
              "#46039f"
             ],
             [
              0.2222222222222222,
              "#7201a8"
             ],
             [
              0.3333333333333333,
              "#9c179e"
             ],
             [
              0.4444444444444444,
              "#bd3786"
             ],
             [
              0.5555555555555556,
              "#d8576b"
             ],
             [
              0.6666666666666666,
              "#ed7953"
             ],
             [
              0.7777777777777778,
              "#fb9f3a"
             ],
             [
              0.8888888888888888,
              "#fdca26"
             ],
             [
              1,
              "#f0f921"
             ]
            ],
            "type": "heatmapgl"
           }
          ],
          "histogram": [
           {
            "marker": {
             "pattern": {
              "fillmode": "overlay",
              "size": 10,
              "solidity": 0.2
             }
            },
            "type": "histogram"
           }
          ],
          "histogram2d": [
           {
            "colorbar": {
             "outlinewidth": 0,
             "ticks": ""
            },
            "colorscale": [
             [
              0,
              "#0d0887"
             ],
             [
              0.1111111111111111,
              "#46039f"
             ],
             [
              0.2222222222222222,
              "#7201a8"
             ],
             [
              0.3333333333333333,
              "#9c179e"
             ],
             [
              0.4444444444444444,
              "#bd3786"
             ],
             [
              0.5555555555555556,
              "#d8576b"
             ],
             [
              0.6666666666666666,
              "#ed7953"
             ],
             [
              0.7777777777777778,
              "#fb9f3a"
             ],
             [
              0.8888888888888888,
              "#fdca26"
             ],
             [
              1,
              "#f0f921"
             ]
            ],
            "type": "histogram2d"
           }
          ],
          "histogram2dcontour": [
           {
            "colorbar": {
             "outlinewidth": 0,
             "ticks": ""
            },
            "colorscale": [
             [
              0,
              "#0d0887"
             ],
             [
              0.1111111111111111,
              "#46039f"
             ],
             [
              0.2222222222222222,
              "#7201a8"
             ],
             [
              0.3333333333333333,
              "#9c179e"
             ],
             [
              0.4444444444444444,
              "#bd3786"
             ],
             [
              0.5555555555555556,
              "#d8576b"
             ],
             [
              0.6666666666666666,
              "#ed7953"
             ],
             [
              0.7777777777777778,
              "#fb9f3a"
             ],
             [
              0.8888888888888888,
              "#fdca26"
             ],
             [
              1,
              "#f0f921"
             ]
            ],
            "type": "histogram2dcontour"
           }
          ],
          "mesh3d": [
           {
            "colorbar": {
             "outlinewidth": 0,
             "ticks": ""
            },
            "type": "mesh3d"
           }
          ],
          "parcoords": [
           {
            "line": {
             "colorbar": {
              "outlinewidth": 0,
              "ticks": ""
             }
            },
            "type": "parcoords"
           }
          ],
          "pie": [
           {
            "automargin": true,
            "type": "pie"
           }
          ],
          "scatter": [
           {
            "fillpattern": {
             "fillmode": "overlay",
             "size": 10,
             "solidity": 0.2
            },
            "type": "scatter"
           }
          ],
          "scatter3d": [
           {
            "line": {
             "colorbar": {
              "outlinewidth": 0,
              "ticks": ""
             }
            },
            "marker": {
             "colorbar": {
              "outlinewidth": 0,
              "ticks": ""
             }
            },
            "type": "scatter3d"
           }
          ],
          "scattercarpet": [
           {
            "marker": {
             "colorbar": {
              "outlinewidth": 0,
              "ticks": ""
             }
            },
            "type": "scattercarpet"
           }
          ],
          "scattergeo": [
           {
            "marker": {
             "colorbar": {
              "outlinewidth": 0,
              "ticks": ""
             }
            },
            "type": "scattergeo"
           }
          ],
          "scattergl": [
           {
            "marker": {
             "colorbar": {
              "outlinewidth": 0,
              "ticks": ""
             }
            },
            "type": "scattergl"
           }
          ],
          "scattermapbox": [
           {
            "marker": {
             "colorbar": {
              "outlinewidth": 0,
              "ticks": ""
             }
            },
            "type": "scattermapbox"
           }
          ],
          "scatterpolar": [
           {
            "marker": {
             "colorbar": {
              "outlinewidth": 0,
              "ticks": ""
             }
            },
            "type": "scatterpolar"
           }
          ],
          "scatterpolargl": [
           {
            "marker": {
             "colorbar": {
              "outlinewidth": 0,
              "ticks": ""
             }
            },
            "type": "scatterpolargl"
           }
          ],
          "scatterternary": [
           {
            "marker": {
             "colorbar": {
              "outlinewidth": 0,
              "ticks": ""
             }
            },
            "type": "scatterternary"
           }
          ],
          "surface": [
           {
            "colorbar": {
             "outlinewidth": 0,
             "ticks": ""
            },
            "colorscale": [
             [
              0,
              "#0d0887"
             ],
             [
              0.1111111111111111,
              "#46039f"
             ],
             [
              0.2222222222222222,
              "#7201a8"
             ],
             [
              0.3333333333333333,
              "#9c179e"
             ],
             [
              0.4444444444444444,
              "#bd3786"
             ],
             [
              0.5555555555555556,
              "#d8576b"
             ],
             [
              0.6666666666666666,
              "#ed7953"
             ],
             [
              0.7777777777777778,
              "#fb9f3a"
             ],
             [
              0.8888888888888888,
              "#fdca26"
             ],
             [
              1,
              "#f0f921"
             ]
            ],
            "type": "surface"
           }
          ],
          "table": [
           {
            "cells": {
             "fill": {
              "color": "#EBF0F8"
             },
             "line": {
              "color": "white"
             }
            },
            "header": {
             "fill": {
              "color": "#C8D4E3"
             },
             "line": {
              "color": "white"
             }
            },
            "type": "table"
           }
          ]
         },
         "layout": {
          "annotationdefaults": {
           "arrowcolor": "#2a3f5f",
           "arrowhead": 0,
           "arrowwidth": 1
          },
          "autotypenumbers": "strict",
          "coloraxis": {
           "colorbar": {
            "outlinewidth": 0,
            "ticks": ""
           }
          },
          "colorscale": {
           "diverging": [
            [
             0,
             "#8e0152"
            ],
            [
             0.1,
             "#c51b7d"
            ],
            [
             0.2,
             "#de77ae"
            ],
            [
             0.3,
             "#f1b6da"
            ],
            [
             0.4,
             "#fde0ef"
            ],
            [
             0.5,
             "#f7f7f7"
            ],
            [
             0.6,
             "#e6f5d0"
            ],
            [
             0.7,
             "#b8e186"
            ],
            [
             0.8,
             "#7fbc41"
            ],
            [
             0.9,
             "#4d9221"
            ],
            [
             1,
             "#276419"
            ]
           ],
           "sequential": [
            [
             0,
             "#0d0887"
            ],
            [
             0.1111111111111111,
             "#46039f"
            ],
            [
             0.2222222222222222,
             "#7201a8"
            ],
            [
             0.3333333333333333,
             "#9c179e"
            ],
            [
             0.4444444444444444,
             "#bd3786"
            ],
            [
             0.5555555555555556,
             "#d8576b"
            ],
            [
             0.6666666666666666,
             "#ed7953"
            ],
            [
             0.7777777777777778,
             "#fb9f3a"
            ],
            [
             0.8888888888888888,
             "#fdca26"
            ],
            [
             1,
             "#f0f921"
            ]
           ],
           "sequentialminus": [
            [
             0,
             "#0d0887"
            ],
            [
             0.1111111111111111,
             "#46039f"
            ],
            [
             0.2222222222222222,
             "#7201a8"
            ],
            [
             0.3333333333333333,
             "#9c179e"
            ],
            [
             0.4444444444444444,
             "#bd3786"
            ],
            [
             0.5555555555555556,
             "#d8576b"
            ],
            [
             0.6666666666666666,
             "#ed7953"
            ],
            [
             0.7777777777777778,
             "#fb9f3a"
            ],
            [
             0.8888888888888888,
             "#fdca26"
            ],
            [
             1,
             "#f0f921"
            ]
           ]
          },
          "colorway": [
           "#636efa",
           "#EF553B",
           "#00cc96",
           "#ab63fa",
           "#FFA15A",
           "#19d3f3",
           "#FF6692",
           "#B6E880",
           "#FF97FF",
           "#FECB52"
          ],
          "font": {
           "color": "#2a3f5f"
          },
          "geo": {
           "bgcolor": "white",
           "lakecolor": "white",
           "landcolor": "#E5ECF6",
           "showlakes": true,
           "showland": true,
           "subunitcolor": "white"
          },
          "hoverlabel": {
           "align": "left"
          },
          "hovermode": "closest",
          "mapbox": {
           "style": "light"
          },
          "paper_bgcolor": "white",
          "plot_bgcolor": "#E5ECF6",
          "polar": {
           "angularaxis": {
            "gridcolor": "white",
            "linecolor": "white",
            "ticks": ""
           },
           "bgcolor": "#E5ECF6",
           "radialaxis": {
            "gridcolor": "white",
            "linecolor": "white",
            "ticks": ""
           }
          },
          "scene": {
           "xaxis": {
            "backgroundcolor": "#E5ECF6",
            "gridcolor": "white",
            "gridwidth": 2,
            "linecolor": "white",
            "showbackground": true,
            "ticks": "",
            "zerolinecolor": "white"
           },
           "yaxis": {
            "backgroundcolor": "#E5ECF6",
            "gridcolor": "white",
            "gridwidth": 2,
            "linecolor": "white",
            "showbackground": true,
            "ticks": "",
            "zerolinecolor": "white"
           },
           "zaxis": {
            "backgroundcolor": "#E5ECF6",
            "gridcolor": "white",
            "gridwidth": 2,
            "linecolor": "white",
            "showbackground": true,
            "ticks": "",
            "zerolinecolor": "white"
           }
          },
          "shapedefaults": {
           "line": {
            "color": "#2a3f5f"
           }
          },
          "ternary": {
           "aaxis": {
            "gridcolor": "white",
            "linecolor": "white",
            "ticks": ""
           },
           "baxis": {
            "gridcolor": "white",
            "linecolor": "white",
            "ticks": ""
           },
           "bgcolor": "#E5ECF6",
           "caxis": {
            "gridcolor": "white",
            "linecolor": "white",
            "ticks": ""
           }
          },
          "title": {
           "x": 0.05
          },
          "xaxis": {
           "automargin": true,
           "gridcolor": "white",
           "linecolor": "white",
           "ticks": "",
           "title": {
            "standoff": 15
           },
           "zerolinecolor": "white",
           "zerolinewidth": 2
          },
          "yaxis": {
           "automargin": true,
           "gridcolor": "white",
           "linecolor": "white",
           "ticks": "",
           "title": {
            "standoff": 15
           },
           "zerolinecolor": "white",
           "zerolinewidth": 2
          }
         }
        }
       }
      }
     },
     "metadata": {},
     "output_type": "display_data"
    }
   ],
   "source": [
    "px.choropleth(df, locations=df.index,locationmode='country names',color='total',height=600)"
   ]
  },
  {
   "cell_type": "markdown",
   "metadata": {},
   "source": [
    "install these libraries\n",
    "-  pip install opency-countrib-python mediapipe pillow streamlit sqlalchemy"
   ]
  },
  {
   "cell_type": "code",
   "execution_count": 72,
   "metadata": {},
   "outputs": [],
   "source": [
    "import folium"
   ]
  },
  {
   "cell_type": "code",
   "execution_count": 76,
   "metadata": {},
   "outputs": [
    {
     "data": {
      "text/html": [
       "<div style=\"width:100%;\"><div style=\"position:relative;width:100%;height:0;padding-bottom:60%;\"><span style=\"color:#565656\">Make this Notebook Trusted to load map: File -> Trust Notebook</span><iframe srcdoc=\"&lt;!DOCTYPE html&gt;\n",
       "&lt;head&gt;    \n",
       "    &lt;meta http-equiv=&quot;content-type&quot; content=&quot;text/html; charset=UTF-8&quot; /&gt;\n",
       "    \n",
       "        &lt;script&gt;\n",
       "            L_NO_TOUCH = false;\n",
       "            L_DISABLE_3D = false;\n",
       "        &lt;/script&gt;\n",
       "    \n",
       "    &lt;style&gt;html, body {width: 100%;height: 100%;margin: 0;padding: 0;}&lt;/style&gt;\n",
       "    &lt;style&gt;#map {position:absolute;top:0;bottom:0;right:0;left:0;}&lt;/style&gt;\n",
       "    &lt;script src=&quot;https://cdn.jsdelivr.net/npm/leaflet@1.6.0/dist/leaflet.js&quot;&gt;&lt;/script&gt;\n",
       "    &lt;script src=&quot;https://code.jquery.com/jquery-1.12.4.min.js&quot;&gt;&lt;/script&gt;\n",
       "    &lt;script src=&quot;https://maxcdn.bootstrapcdn.com/bootstrap/3.2.0/js/bootstrap.min.js&quot;&gt;&lt;/script&gt;\n",
       "    &lt;script src=&quot;https://cdnjs.cloudflare.com/ajax/libs/Leaflet.awesome-markers/2.0.2/leaflet.awesome-markers.js&quot;&gt;&lt;/script&gt;\n",
       "    &lt;link rel=&quot;stylesheet&quot; href=&quot;https://cdn.jsdelivr.net/npm/leaflet@1.6.0/dist/leaflet.css&quot;/&gt;\n",
       "    &lt;link rel=&quot;stylesheet&quot; href=&quot;https://maxcdn.bootstrapcdn.com/bootstrap/3.2.0/css/bootstrap.min.css&quot;/&gt;\n",
       "    &lt;link rel=&quot;stylesheet&quot; href=&quot;https://maxcdn.bootstrapcdn.com/bootstrap/3.2.0/css/bootstrap-theme.min.css&quot;/&gt;\n",
       "    &lt;link rel=&quot;stylesheet&quot; href=&quot;https://maxcdn.bootstrapcdn.com/font-awesome/4.6.3/css/font-awesome.min.css&quot;/&gt;\n",
       "    &lt;link rel=&quot;stylesheet&quot; href=&quot;https://cdnjs.cloudflare.com/ajax/libs/Leaflet.awesome-markers/2.0.2/leaflet.awesome-markers.css&quot;/&gt;\n",
       "    &lt;link rel=&quot;stylesheet&quot; href=&quot;https://cdn.jsdelivr.net/gh/python-visualization/folium/folium/templates/leaflet.awesome.rotate.min.css&quot;/&gt;\n",
       "    \n",
       "            &lt;meta name=&quot;viewport&quot; content=&quot;width=device-width,\n",
       "                initial-scale=1.0, maximum-scale=1.0, user-scalable=no&quot; /&gt;\n",
       "            &lt;style&gt;\n",
       "                #map_9700fc6de2628c9f87f8d36d635d961c {\n",
       "                    position: relative;\n",
       "                    width: 100.0%;\n",
       "                    height: 400.0px;\n",
       "                    left: 0.0%;\n",
       "                    top: 0.0%;\n",
       "                }\n",
       "            &lt;/style&gt;\n",
       "        \n",
       "&lt;/head&gt;\n",
       "&lt;body&gt;    \n",
       "    \n",
       "            &lt;div class=&quot;folium-map&quot; id=&quot;map_9700fc6de2628c9f87f8d36d635d961c&quot; &gt;&lt;/div&gt;\n",
       "        \n",
       "&lt;/body&gt;\n",
       "&lt;script&gt;    \n",
       "    \n",
       "            var map_9700fc6de2628c9f87f8d36d635d961c = L.map(\n",
       "                &quot;map_9700fc6de2628c9f87f8d36d635d961c&quot;,\n",
       "                {\n",
       "                    center: [26.8467, 80.9462],\n",
       "                    crs: L.CRS.EPSG3857,\n",
       "                    zoom: 14,\n",
       "                    zoomControl: true,\n",
       "                    preferCanvas: false,\n",
       "                }\n",
       "            );\n",
       "\n",
       "            \n",
       "\n",
       "        \n",
       "    \n",
       "            var tile_layer_46faf1c76671515944e221dfacb89ac8 = L.tileLayer(\n",
       "                &quot;https://{s}.tile.openstreetmap.org/{z}/{x}/{y}.png&quot;,\n",
       "                {&quot;attribution&quot;: &quot;Data by \\u0026copy; \\u003ca href=\\&quot;http://openstreetmap.org\\&quot;\\u003eOpenStreetMap\\u003c/a\\u003e, under \\u003ca href=\\&quot;http://www.openstreetmap.org/copyright\\&quot;\\u003eODbL\\u003c/a\\u003e.&quot;, &quot;detectRetina&quot;: false, &quot;maxNativeZoom&quot;: 18, &quot;maxZoom&quot;: 18, &quot;minZoom&quot;: 0, &quot;noWrap&quot;: false, &quot;opacity&quot;: 1, &quot;subdomains&quot;: &quot;abc&quot;, &quot;tms&quot;: false}\n",
       "            ).addTo(map_9700fc6de2628c9f87f8d36d635d961c);\n",
       "        \n",
       "&lt;/script&gt;\" style=\"position:absolute;width:100%;height:100%;left:0;top:0;border:none !important;\" allowfullscreen webkitallowfullscreen mozallowfullscreen></iframe></div></div>"
      ],
      "text/plain": [
       "<folium.folium.Map at 0x213384e98e0>"
      ]
     },
     "execution_count": 76,
     "metadata": {},
     "output_type": "execute_result"
    }
   ],
   "source": [
    "folium.Map(location=[26.8467 ,80.9462],zoom_start=14,height=400)"
   ]
  },
  {
   "cell_type": "code",
   "execution_count": 78,
   "metadata": {},
   "outputs": [
    {
     "data": {
      "text/html": [
       "<div style=\"width:100%;\"><div style=\"position:relative;width:100%;height:0;padding-bottom:60%;\"><span style=\"color:#565656\">Make this Notebook Trusted to load map: File -> Trust Notebook</span><iframe srcdoc=\"&lt;!DOCTYPE html&gt;\n",
       "&lt;head&gt;    \n",
       "    &lt;meta http-equiv=&quot;content-type&quot; content=&quot;text/html; charset=UTF-8&quot; /&gt;\n",
       "    \n",
       "        &lt;script&gt;\n",
       "            L_NO_TOUCH = false;\n",
       "            L_DISABLE_3D = false;\n",
       "        &lt;/script&gt;\n",
       "    \n",
       "    &lt;style&gt;html, body {width: 100%;height: 100%;margin: 0;padding: 0;}&lt;/style&gt;\n",
       "    &lt;style&gt;#map {position:absolute;top:0;bottom:0;right:0;left:0;}&lt;/style&gt;\n",
       "    &lt;script src=&quot;https://cdn.jsdelivr.net/npm/leaflet@1.6.0/dist/leaflet.js&quot;&gt;&lt;/script&gt;\n",
       "    &lt;script src=&quot;https://code.jquery.com/jquery-1.12.4.min.js&quot;&gt;&lt;/script&gt;\n",
       "    &lt;script src=&quot;https://maxcdn.bootstrapcdn.com/bootstrap/3.2.0/js/bootstrap.min.js&quot;&gt;&lt;/script&gt;\n",
       "    &lt;script src=&quot;https://cdnjs.cloudflare.com/ajax/libs/Leaflet.awesome-markers/2.0.2/leaflet.awesome-markers.js&quot;&gt;&lt;/script&gt;\n",
       "    &lt;link rel=&quot;stylesheet&quot; href=&quot;https://cdn.jsdelivr.net/npm/leaflet@1.6.0/dist/leaflet.css&quot;/&gt;\n",
       "    &lt;link rel=&quot;stylesheet&quot; href=&quot;https://maxcdn.bootstrapcdn.com/bootstrap/3.2.0/css/bootstrap.min.css&quot;/&gt;\n",
       "    &lt;link rel=&quot;stylesheet&quot; href=&quot;https://maxcdn.bootstrapcdn.com/bootstrap/3.2.0/css/bootstrap-theme.min.css&quot;/&gt;\n",
       "    &lt;link rel=&quot;stylesheet&quot; href=&quot;https://maxcdn.bootstrapcdn.com/font-awesome/4.6.3/css/font-awesome.min.css&quot;/&gt;\n",
       "    &lt;link rel=&quot;stylesheet&quot; href=&quot;https://cdnjs.cloudflare.com/ajax/libs/Leaflet.awesome-markers/2.0.2/leaflet.awesome-markers.css&quot;/&gt;\n",
       "    &lt;link rel=&quot;stylesheet&quot; href=&quot;https://cdn.jsdelivr.net/gh/python-visualization/folium/folium/templates/leaflet.awesome.rotate.min.css&quot;/&gt;\n",
       "    \n",
       "            &lt;meta name=&quot;viewport&quot; content=&quot;width=device-width,\n",
       "                initial-scale=1.0, maximum-scale=1.0, user-scalable=no&quot; /&gt;\n",
       "            &lt;style&gt;\n",
       "                #map_31465125be2f3a453f83af5e466de531 {\n",
       "                    position: relative;\n",
       "                    width: 100.0%;\n",
       "                    height: 100.0%;\n",
       "                    left: 0.0%;\n",
       "                    top: 0.0%;\n",
       "                }\n",
       "            &lt;/style&gt;\n",
       "        \n",
       "&lt;/head&gt;\n",
       "&lt;body&gt;    \n",
       "    \n",
       "            &lt;div class=&quot;folium-map&quot; id=&quot;map_31465125be2f3a453f83af5e466de531&quot; &gt;&lt;/div&gt;\n",
       "        \n",
       "&lt;/body&gt;\n",
       "&lt;script&gt;    \n",
       "    \n",
       "            var map_31465125be2f3a453f83af5e466de531 = L.map(\n",
       "                &quot;map_31465125be2f3a453f83af5e466de531&quot;,\n",
       "                {\n",
       "                    center: [26.8467, 80.9462],\n",
       "                    crs: L.CRS.EPSG3857,\n",
       "                    zoom: 10,\n",
       "                    zoomControl: true,\n",
       "                    preferCanvas: false,\n",
       "                    zoomStarted: 14,\n",
       "                }\n",
       "            );\n",
       "\n",
       "            \n",
       "\n",
       "        \n",
       "    \n",
       "            var tile_layer_a9f2f99cb29160df8b185af62701ff78 = L.tileLayer(\n",
       "                &quot;https://stamen-tiles-{s}.a.ssl.fastly.net/toner/{z}/{x}/{y}.png&quot;,\n",
       "                {&quot;attribution&quot;: &quot;Map tiles by \\u003ca href=\\&quot;http://stamen.com\\&quot;\\u003eStamen Design\\u003c/a\\u003e, under \\u003ca href=\\&quot;http://creativecommons.org/licenses/by/3.0\\&quot;\\u003eCC BY 3.0\\u003c/a\\u003e. Data by \\u0026copy; \\u003ca href=\\&quot;http://openstreetmap.org\\&quot;\\u003eOpenStreetMap\\u003c/a\\u003e, under \\u003ca href=\\&quot;http://www.openstreetmap.org/copyright\\&quot;\\u003eODbL\\u003c/a\\u003e.&quot;, &quot;detectRetina&quot;: false, &quot;maxNativeZoom&quot;: 18, &quot;maxZoom&quot;: 18, &quot;minZoom&quot;: 0, &quot;noWrap&quot;: false, &quot;opacity&quot;: 1, &quot;subdomains&quot;: &quot;abc&quot;, &quot;tms&quot;: false}\n",
       "            ).addTo(map_31465125be2f3a453f83af5e466de531);\n",
       "        \n",
       "&lt;/script&gt;\" style=\"position:absolute;width:100%;height:100%;left:0;top:0;border:none !important;\" allowfullscreen webkitallowfullscreen mozallowfullscreen></iframe></div></div>"
      ],
      "text/plain": [
       "<folium.folium.Map at 0x213384f8790>"
      ]
     },
     "execution_count": 78,
     "metadata": {},
     "output_type": "execute_result"
    }
   ],
   "source": [
    "folium.Map(location=[26.8467 ,80.9462], zoom_started=14,tiles='Stamen Toner')"
   ]
  },
  {
   "cell_type": "code",
   "execution_count": 79,
   "metadata": {},
   "outputs": [
    {
     "data": {
      "text/html": [
       "<div style=\"width:100%;\"><div style=\"position:relative;width:100%;height:0;padding-bottom:60%;\"><span style=\"color:#565656\">Make this Notebook Trusted to load map: File -> Trust Notebook</span><iframe srcdoc=\"&lt;!DOCTYPE html&gt;\n",
       "&lt;head&gt;    \n",
       "    &lt;meta http-equiv=&quot;content-type&quot; content=&quot;text/html; charset=UTF-8&quot; /&gt;\n",
       "    \n",
       "        &lt;script&gt;\n",
       "            L_NO_TOUCH = false;\n",
       "            L_DISABLE_3D = false;\n",
       "        &lt;/script&gt;\n",
       "    \n",
       "    &lt;style&gt;html, body {width: 100%;height: 100%;margin: 0;padding: 0;}&lt;/style&gt;\n",
       "    &lt;style&gt;#map {position:absolute;top:0;bottom:0;right:0;left:0;}&lt;/style&gt;\n",
       "    &lt;script src=&quot;https://cdn.jsdelivr.net/npm/leaflet@1.6.0/dist/leaflet.js&quot;&gt;&lt;/script&gt;\n",
       "    &lt;script src=&quot;https://code.jquery.com/jquery-1.12.4.min.js&quot;&gt;&lt;/script&gt;\n",
       "    &lt;script src=&quot;https://maxcdn.bootstrapcdn.com/bootstrap/3.2.0/js/bootstrap.min.js&quot;&gt;&lt;/script&gt;\n",
       "    &lt;script src=&quot;https://cdnjs.cloudflare.com/ajax/libs/Leaflet.awesome-markers/2.0.2/leaflet.awesome-markers.js&quot;&gt;&lt;/script&gt;\n",
       "    &lt;link rel=&quot;stylesheet&quot; href=&quot;https://cdn.jsdelivr.net/npm/leaflet@1.6.0/dist/leaflet.css&quot;/&gt;\n",
       "    &lt;link rel=&quot;stylesheet&quot; href=&quot;https://maxcdn.bootstrapcdn.com/bootstrap/3.2.0/css/bootstrap.min.css&quot;/&gt;\n",
       "    &lt;link rel=&quot;stylesheet&quot; href=&quot;https://maxcdn.bootstrapcdn.com/bootstrap/3.2.0/css/bootstrap-theme.min.css&quot;/&gt;\n",
       "    &lt;link rel=&quot;stylesheet&quot; href=&quot;https://maxcdn.bootstrapcdn.com/font-awesome/4.6.3/css/font-awesome.min.css&quot;/&gt;\n",
       "    &lt;link rel=&quot;stylesheet&quot; href=&quot;https://cdnjs.cloudflare.com/ajax/libs/Leaflet.awesome-markers/2.0.2/leaflet.awesome-markers.css&quot;/&gt;\n",
       "    &lt;link rel=&quot;stylesheet&quot; href=&quot;https://cdn.jsdelivr.net/gh/python-visualization/folium/folium/templates/leaflet.awesome.rotate.min.css&quot;/&gt;\n",
       "    \n",
       "            &lt;meta name=&quot;viewport&quot; content=&quot;width=device-width,\n",
       "                initial-scale=1.0, maximum-scale=1.0, user-scalable=no&quot; /&gt;\n",
       "            &lt;style&gt;\n",
       "                #map_846fb1c179bd2107f5f5adf6417cad8d {\n",
       "                    position: relative;\n",
       "                    width: 100.0%;\n",
       "                    height: 300.0px;\n",
       "                    left: 0.0%;\n",
       "                    top: 0.0%;\n",
       "                }\n",
       "            &lt;/style&gt;\n",
       "        \n",
       "&lt;/head&gt;\n",
       "&lt;body&gt;    \n",
       "    \n",
       "            &lt;div class=&quot;folium-map&quot; id=&quot;map_846fb1c179bd2107f5f5adf6417cad8d&quot; &gt;&lt;/div&gt;\n",
       "        \n",
       "&lt;/body&gt;\n",
       "&lt;script&gt;    \n",
       "    \n",
       "            var map_846fb1c179bd2107f5f5adf6417cad8d = L.map(\n",
       "                &quot;map_846fb1c179bd2107f5f5adf6417cad8d&quot;,\n",
       "                {\n",
       "                    center: [26.8467, 80.9462],\n",
       "                    crs: L.CRS.EPSG3857,\n",
       "                    zoom: 10,\n",
       "                    zoomControl: true,\n",
       "                    preferCanvas: false,\n",
       "                    zoomStarted: 14,\n",
       "                }\n",
       "            );\n",
       "\n",
       "            \n",
       "\n",
       "        \n",
       "    \n",
       "            var tile_layer_6cf977aec611551d01d888e619a1ce1c = L.tileLayer(\n",
       "                &quot;https://{s}.tile.openstreetmap.org/{z}/{x}/{y}.png&quot;,\n",
       "                {&quot;attribution&quot;: &quot;Data by \\u0026copy; \\u003ca href=\\&quot;http://openstreetmap.org\\&quot;\\u003eOpenStreetMap\\u003c/a\\u003e, under \\u003ca href=\\&quot;http://www.openstreetmap.org/copyright\\&quot;\\u003eODbL\\u003c/a\\u003e.&quot;, &quot;detectRetina&quot;: false, &quot;maxNativeZoom&quot;: 18, &quot;maxZoom&quot;: 18, &quot;minZoom&quot;: 0, &quot;noWrap&quot;: false, &quot;opacity&quot;: 1, &quot;subdomains&quot;: &quot;abc&quot;, &quot;tms&quot;: false}\n",
       "            ).addTo(map_846fb1c179bd2107f5f5adf6417cad8d);\n",
       "        \n",
       "    \n",
       "            var marker_cbc34a5caa1cdec41d53ca6f518f33cb = L.marker(\n",
       "                [26.8467, 80.9462],\n",
       "                {}\n",
       "            ).addTo(map_846fb1c179bd2107f5f5adf6417cad8d);\n",
       "        \n",
       "    \n",
       "        var popup_270100b02b53731116bfb5d5ccf70258 = L.popup({&quot;maxWidth&quot;: &quot;100%&quot;});\n",
       "\n",
       "        \n",
       "            \n",
       "                var html_da0d8ada38ca486fd19cb4b05123e6f5 = $(`&lt;div id=&quot;html_da0d8ada38ca486fd19cb4b05123e6f5&quot; style=&quot;width: 100.0%; height: 100.0%;&quot;&gt;Lucknow Center&lt;/div&gt;`)[0];\n",
       "                popup_270100b02b53731116bfb5d5ccf70258.setContent(html_da0d8ada38ca486fd19cb4b05123e6f5);\n",
       "            \n",
       "        \n",
       "\n",
       "        marker_cbc34a5caa1cdec41d53ca6f518f33cb.bindPopup(popup_270100b02b53731116bfb5d5ccf70258)\n",
       "        ;\n",
       "\n",
       "        \n",
       "    \n",
       "    \n",
       "            marker_cbc34a5caa1cdec41d53ca6f518f33cb.bindTooltip(\n",
       "                `&lt;div&gt;\n",
       "                     click to see\n",
       "                 &lt;/div&gt;`,\n",
       "                {&quot;sticky&quot;: true}\n",
       "            );\n",
       "        \n",
       "&lt;/script&gt;\" style=\"position:absolute;width:100%;height:100%;left:0;top:0;border:none !important;\" allowfullscreen webkitallowfullscreen mozallowfullscreen></iframe></div></div>"
      ],
      "text/plain": [
       "<folium.folium.Map at 0x2133851c2e0>"
      ]
     },
     "execution_count": 79,
     "metadata": {},
     "output_type": "execute_result"
    }
   ],
   "source": [
    "lko = folium.Map(location=[26.8467, 80.9462],zoom_started=14,height=300)\n",
    "m1 = folium.Marker([26.8467, 80.9462], popup= 'Lucknow Center', tooltip='click to see')\n",
    "m1.add_to(lko)\n",
    "lko"
   ]
  },
  {
   "cell_type": "code",
   "execution_count": 80,
   "metadata": {},
   "outputs": [
    {
     "data": {
      "text/html": [
       "<div style=\"width:100%;\"><div style=\"position:relative;width:100%;height:0;padding-bottom:60%;\"><span style=\"color:#565656\">Make this Notebook Trusted to load map: File -> Trust Notebook</span><iframe srcdoc=\"&lt;!DOCTYPE html&gt;\n",
       "&lt;head&gt;    \n",
       "    &lt;meta http-equiv=&quot;content-type&quot; content=&quot;text/html; charset=UTF-8&quot; /&gt;\n",
       "    \n",
       "        &lt;script&gt;\n",
       "            L_NO_TOUCH = false;\n",
       "            L_DISABLE_3D = false;\n",
       "        &lt;/script&gt;\n",
       "    \n",
       "    &lt;style&gt;html, body {width: 100%;height: 100%;margin: 0;padding: 0;}&lt;/style&gt;\n",
       "    &lt;style&gt;#map {position:absolute;top:0;bottom:0;right:0;left:0;}&lt;/style&gt;\n",
       "    &lt;script src=&quot;https://cdn.jsdelivr.net/npm/leaflet@1.6.0/dist/leaflet.js&quot;&gt;&lt;/script&gt;\n",
       "    &lt;script src=&quot;https://code.jquery.com/jquery-1.12.4.min.js&quot;&gt;&lt;/script&gt;\n",
       "    &lt;script src=&quot;https://maxcdn.bootstrapcdn.com/bootstrap/3.2.0/js/bootstrap.min.js&quot;&gt;&lt;/script&gt;\n",
       "    &lt;script src=&quot;https://cdnjs.cloudflare.com/ajax/libs/Leaflet.awesome-markers/2.0.2/leaflet.awesome-markers.js&quot;&gt;&lt;/script&gt;\n",
       "    &lt;link rel=&quot;stylesheet&quot; href=&quot;https://cdn.jsdelivr.net/npm/leaflet@1.6.0/dist/leaflet.css&quot;/&gt;\n",
       "    &lt;link rel=&quot;stylesheet&quot; href=&quot;https://maxcdn.bootstrapcdn.com/bootstrap/3.2.0/css/bootstrap.min.css&quot;/&gt;\n",
       "    &lt;link rel=&quot;stylesheet&quot; href=&quot;https://maxcdn.bootstrapcdn.com/bootstrap/3.2.0/css/bootstrap-theme.min.css&quot;/&gt;\n",
       "    &lt;link rel=&quot;stylesheet&quot; href=&quot;https://maxcdn.bootstrapcdn.com/font-awesome/4.6.3/css/font-awesome.min.css&quot;/&gt;\n",
       "    &lt;link rel=&quot;stylesheet&quot; href=&quot;https://cdnjs.cloudflare.com/ajax/libs/Leaflet.awesome-markers/2.0.2/leaflet.awesome-markers.css&quot;/&gt;\n",
       "    &lt;link rel=&quot;stylesheet&quot; href=&quot;https://cdn.jsdelivr.net/gh/python-visualization/folium/folium/templates/leaflet.awesome.rotate.min.css&quot;/&gt;\n",
       "    \n",
       "            &lt;meta name=&quot;viewport&quot; content=&quot;width=device-width,\n",
       "                initial-scale=1.0, maximum-scale=1.0, user-scalable=no&quot; /&gt;\n",
       "            &lt;style&gt;\n",
       "                #map_846fb1c179bd2107f5f5adf6417cad8d {\n",
       "                    position: relative;\n",
       "                    width: 100.0%;\n",
       "                    height: 300.0px;\n",
       "                    left: 0.0%;\n",
       "                    top: 0.0%;\n",
       "                }\n",
       "            &lt;/style&gt;\n",
       "        \n",
       "&lt;/head&gt;\n",
       "&lt;body&gt;    \n",
       "    \n",
       "            &lt;div class=&quot;folium-map&quot; id=&quot;map_846fb1c179bd2107f5f5adf6417cad8d&quot; &gt;&lt;/div&gt;\n",
       "        \n",
       "&lt;/body&gt;\n",
       "&lt;script&gt;    \n",
       "    \n",
       "            var map_846fb1c179bd2107f5f5adf6417cad8d = L.map(\n",
       "                &quot;map_846fb1c179bd2107f5f5adf6417cad8d&quot;,\n",
       "                {\n",
       "                    center: [26.8467, 80.9462],\n",
       "                    crs: L.CRS.EPSG3857,\n",
       "                    zoom: 10,\n",
       "                    zoomControl: true,\n",
       "                    preferCanvas: false,\n",
       "                    zoomStarted: 14,\n",
       "                }\n",
       "            );\n",
       "\n",
       "            \n",
       "\n",
       "        \n",
       "    \n",
       "            var tile_layer_6cf977aec611551d01d888e619a1ce1c = L.tileLayer(\n",
       "                &quot;https://{s}.tile.openstreetmap.org/{z}/{x}/{y}.png&quot;,\n",
       "                {&quot;attribution&quot;: &quot;Data by \\u0026copy; \\u003ca href=\\&quot;http://openstreetmap.org\\&quot;\\u003eOpenStreetMap\\u003c/a\\u003e, under \\u003ca href=\\&quot;http://www.openstreetmap.org/copyright\\&quot;\\u003eODbL\\u003c/a\\u003e.&quot;, &quot;detectRetina&quot;: false, &quot;maxNativeZoom&quot;: 18, &quot;maxZoom&quot;: 18, &quot;minZoom&quot;: 0, &quot;noWrap&quot;: false, &quot;opacity&quot;: 1, &quot;subdomains&quot;: &quot;abc&quot;, &quot;tms&quot;: false}\n",
       "            ).addTo(map_846fb1c179bd2107f5f5adf6417cad8d);\n",
       "        \n",
       "    \n",
       "            var marker_cbc34a5caa1cdec41d53ca6f518f33cb = L.marker(\n",
       "                [26.8467, 80.9462],\n",
       "                {}\n",
       "            ).addTo(map_846fb1c179bd2107f5f5adf6417cad8d);\n",
       "        \n",
       "    \n",
       "        var popup_270100b02b53731116bfb5d5ccf70258 = L.popup({&quot;maxWidth&quot;: &quot;100%&quot;});\n",
       "\n",
       "        \n",
       "            \n",
       "                var html_da0d8ada38ca486fd19cb4b05123e6f5 = $(`&lt;div id=&quot;html_da0d8ada38ca486fd19cb4b05123e6f5&quot; style=&quot;width: 100.0%; height: 100.0%;&quot;&gt;Lucknow Center&lt;/div&gt;`)[0];\n",
       "                popup_270100b02b53731116bfb5d5ccf70258.setContent(html_da0d8ada38ca486fd19cb4b05123e6f5);\n",
       "            \n",
       "        \n",
       "\n",
       "        marker_cbc34a5caa1cdec41d53ca6f518f33cb.bindPopup(popup_270100b02b53731116bfb5d5ccf70258)\n",
       "        ;\n",
       "\n",
       "        \n",
       "    \n",
       "    \n",
       "            marker_cbc34a5caa1cdec41d53ca6f518f33cb.bindTooltip(\n",
       "                `&lt;div&gt;\n",
       "                     click to see\n",
       "                 &lt;/div&gt;`,\n",
       "                {&quot;sticky&quot;: true}\n",
       "            );\n",
       "        \n",
       "    \n",
       "                function newMarker(e){\n",
       "                    var new_mark = L.marker().setLatLng(e.latlng).addTo(map_846fb1c179bd2107f5f5adf6417cad8d);\n",
       "                    new_mark.dragging.enable();\n",
       "                    new_mark.on(&#x27;dblclick&#x27;, function(e){ map_846fb1c179bd2107f5f5adf6417cad8d.removeLayer(e.target)})\n",
       "                    var lat = e.latlng.lat.toFixed(4),\n",
       "                       lng = e.latlng.lng.toFixed(4);\n",
       "                    new_mark.bindPopup(&quot;Latitude: &quot; + lat + &quot;&lt;br&gt;Longitude: &quot; + lng );\n",
       "                    };\n",
       "                map_846fb1c179bd2107f5f5adf6417cad8d.on(&#x27;click&#x27;, newMarker);\n",
       "            \n",
       "&lt;/script&gt;\" style=\"position:absolute;width:100%;height:100%;left:0;top:0;border:none !important;\" allowfullscreen webkitallowfullscreen mozallowfullscreen></iframe></div></div>"
      ],
      "text/plain": [
       "<folium.folium.Map at 0x2133851c2e0>"
      ]
     },
     "execution_count": 80,
     "metadata": {},
     "output_type": "execute_result"
    }
   ],
   "source": [
    "lko.add_child(folium.ClickForMarker())\n",
    "lko"
   ]
  },
  {
   "cell_type": "code",
   "execution_count": 89,
   "metadata": {},
   "outputs": [
    {
     "ename": "HTTPError",
     "evalue": "HTTP Error 404: Not Found",
     "output_type": "error",
     "traceback": [
      "\u001b[1;31m---------------------------------------------------------------------------\u001b[0m",
      "\u001b[1;31mHTTPError\u001b[0m                                 Traceback (most recent call last)",
      "\u001b[1;32md:\\Digipodium\\data_science\\data_analysis_5.ipynb Cell 63\u001b[0m in \u001b[0;36m<cell line: 5>\u001b[1;34m()\u001b[0m\n\u001b[0;32m      <a href='vscode-notebook-cell:/d%3A/Digipodium/data_science/data_analysis_5.ipynb#Y120sZmlsZQ%3D%3D?line=2'>3</a>\u001b[0m state_geo \u001b[39m=\u001b[39m \u001b[39mf\u001b[39m\u001b[39m\"\u001b[39m\u001b[39m{\u001b[39;00murl\u001b[39m}\u001b[39;00m\u001b[39m/us-state.json\u001b[39m\u001b[39m\"\u001b[39m\n\u001b[0;32m      <a href='vscode-notebook-cell:/d%3A/Digipodium/data_science/data_analysis_5.ipynb#Y120sZmlsZQ%3D%3D?line=3'>4</a>\u001b[0m state_unemployment \u001b[39m=\u001b[39m \u001b[39mf\u001b[39m\u001b[39m\"\u001b[39m\u001b[39m{\u001b[39;00murl\u001b[39m}\u001b[39;00m\u001b[39m/US_Unemployment_Oct2012.csv\u001b[39m\u001b[39m\"\u001b[39m\n\u001b[1;32m----> <a href='vscode-notebook-cell:/d%3A/Digipodium/data_science/data_analysis_5.ipynb#Y120sZmlsZQ%3D%3D?line=4'>5</a>\u001b[0m state_data \u001b[39m=\u001b[39m pd\u001b[39m.\u001b[39;49mread_csv(state_unemployment)\n\u001b[0;32m      <a href='vscode-notebook-cell:/d%3A/Digipodium/data_science/data_analysis_5.ipynb#Y120sZmlsZQ%3D%3D?line=6'>7</a>\u001b[0m m \u001b[39m=\u001b[39m folium\u001b[39m.\u001b[39mMap(location\u001b[39m=\u001b[39m[\u001b[39m48\u001b[39m,\u001b[39m-\u001b[39m\u001b[39m102\u001b[39m],zoom_start\u001b[39m=\u001b[39m\u001b[39m3\u001b[39m)\n\u001b[0;32m      <a href='vscode-notebook-cell:/d%3A/Digipodium/data_science/data_analysis_5.ipynb#Y120sZmlsZQ%3D%3D?line=7'>8</a>\u001b[0m folium\u001b[39m.\u001b[39mChoropleth(\n\u001b[0;32m      <a href='vscode-notebook-cell:/d%3A/Digipodium/data_science/data_analysis_5.ipynb#Y120sZmlsZQ%3D%3D?line=8'>9</a>\u001b[0m \n\u001b[0;32m     <a href='vscode-notebook-cell:/d%3A/Digipodium/data_science/data_analysis_5.ipynb#Y120sZmlsZQ%3D%3D?line=9'>10</a>\u001b[0m geo_data\u001b[39m=\u001b[39mstart_geo,\n\u001b[1;32m   (...)\u001b[0m\n\u001b[0;32m     <a href='vscode-notebook-cell:/d%3A/Digipodium/data_science/data_analysis_5.ipynb#Y120sZmlsZQ%3D%3D?line=17'>18</a>\u001b[0m legend_name\u001b[39m=\u001b[39m\u001b[39m\"\u001b[39m\u001b[39mUnemployment Rate (\u001b[39m\u001b[39m%\u001b[39m\u001b[39m)\u001b[39m\u001b[39m\"\u001b[39m,\n\u001b[0;32m     <a href='vscode-notebook-cell:/d%3A/Digipodium/data_science/data_analysis_5.ipynb#Y120sZmlsZQ%3D%3D?line=18'>19</a>\u001b[0m )\u001b[39m.\u001b[39madd_to(m)\n",
      "File \u001b[1;32mc:\\Users\\IndYatri\\miniconda3\\lib\\site-packages\\pandas\\util\\_decorators.py:311\u001b[0m, in \u001b[0;36mdeprecate_nonkeyword_arguments.<locals>.decorate.<locals>.wrapper\u001b[1;34m(*args, **kwargs)\u001b[0m\n\u001b[0;32m    305\u001b[0m \u001b[39mif\u001b[39;00m \u001b[39mlen\u001b[39m(args) \u001b[39m>\u001b[39m num_allow_args:\n\u001b[0;32m    306\u001b[0m     warnings\u001b[39m.\u001b[39mwarn(\n\u001b[0;32m    307\u001b[0m         msg\u001b[39m.\u001b[39mformat(arguments\u001b[39m=\u001b[39marguments),\n\u001b[0;32m    308\u001b[0m         \u001b[39mFutureWarning\u001b[39;00m,\n\u001b[0;32m    309\u001b[0m         stacklevel\u001b[39m=\u001b[39mstacklevel,\n\u001b[0;32m    310\u001b[0m     )\n\u001b[1;32m--> 311\u001b[0m \u001b[39mreturn\u001b[39;00m func(\u001b[39m*\u001b[39margs, \u001b[39m*\u001b[39m\u001b[39m*\u001b[39mkwargs)\n",
      "File \u001b[1;32mc:\\Users\\IndYatri\\miniconda3\\lib\\site-packages\\pandas\\io\\parsers\\readers.py:680\u001b[0m, in \u001b[0;36mread_csv\u001b[1;34m(filepath_or_buffer, sep, delimiter, header, names, index_col, usecols, squeeze, prefix, mangle_dupe_cols, dtype, engine, converters, true_values, false_values, skipinitialspace, skiprows, skipfooter, nrows, na_values, keep_default_na, na_filter, verbose, skip_blank_lines, parse_dates, infer_datetime_format, keep_date_col, date_parser, dayfirst, cache_dates, iterator, chunksize, compression, thousands, decimal, lineterminator, quotechar, quoting, doublequote, escapechar, comment, encoding, encoding_errors, dialect, error_bad_lines, warn_bad_lines, on_bad_lines, delim_whitespace, low_memory, memory_map, float_precision, storage_options)\u001b[0m\n\u001b[0;32m    665\u001b[0m kwds_defaults \u001b[39m=\u001b[39m _refine_defaults_read(\n\u001b[0;32m    666\u001b[0m     dialect,\n\u001b[0;32m    667\u001b[0m     delimiter,\n\u001b[1;32m   (...)\u001b[0m\n\u001b[0;32m    676\u001b[0m     defaults\u001b[39m=\u001b[39m{\u001b[39m\"\u001b[39m\u001b[39mdelimiter\u001b[39m\u001b[39m\"\u001b[39m: \u001b[39m\"\u001b[39m\u001b[39m,\u001b[39m\u001b[39m\"\u001b[39m},\n\u001b[0;32m    677\u001b[0m )\n\u001b[0;32m    678\u001b[0m kwds\u001b[39m.\u001b[39mupdate(kwds_defaults)\n\u001b[1;32m--> 680\u001b[0m \u001b[39mreturn\u001b[39;00m _read(filepath_or_buffer, kwds)\n",
      "File \u001b[1;32mc:\\Users\\IndYatri\\miniconda3\\lib\\site-packages\\pandas\\io\\parsers\\readers.py:575\u001b[0m, in \u001b[0;36m_read\u001b[1;34m(filepath_or_buffer, kwds)\u001b[0m\n\u001b[0;32m    572\u001b[0m _validate_names(kwds\u001b[39m.\u001b[39mget(\u001b[39m\"\u001b[39m\u001b[39mnames\u001b[39m\u001b[39m\"\u001b[39m, \u001b[39mNone\u001b[39;00m))\n\u001b[0;32m    574\u001b[0m \u001b[39m# Create the parser.\u001b[39;00m\n\u001b[1;32m--> 575\u001b[0m parser \u001b[39m=\u001b[39m TextFileReader(filepath_or_buffer, \u001b[39m*\u001b[39m\u001b[39m*\u001b[39mkwds)\n\u001b[0;32m    577\u001b[0m \u001b[39mif\u001b[39;00m chunksize \u001b[39mor\u001b[39;00m iterator:\n\u001b[0;32m    578\u001b[0m     \u001b[39mreturn\u001b[39;00m parser\n",
      "File \u001b[1;32mc:\\Users\\IndYatri\\miniconda3\\lib\\site-packages\\pandas\\io\\parsers\\readers.py:934\u001b[0m, in \u001b[0;36mTextFileReader.__init__\u001b[1;34m(self, f, engine, **kwds)\u001b[0m\n\u001b[0;32m    931\u001b[0m     \u001b[39mself\u001b[39m\u001b[39m.\u001b[39moptions[\u001b[39m\"\u001b[39m\u001b[39mhas_index_names\u001b[39m\u001b[39m\"\u001b[39m] \u001b[39m=\u001b[39m kwds[\u001b[39m\"\u001b[39m\u001b[39mhas_index_names\u001b[39m\u001b[39m\"\u001b[39m]\n\u001b[0;32m    933\u001b[0m \u001b[39mself\u001b[39m\u001b[39m.\u001b[39mhandles: IOHandles \u001b[39m|\u001b[39m \u001b[39mNone\u001b[39;00m \u001b[39m=\u001b[39m \u001b[39mNone\u001b[39;00m\n\u001b[1;32m--> 934\u001b[0m \u001b[39mself\u001b[39m\u001b[39m.\u001b[39m_engine \u001b[39m=\u001b[39m \u001b[39mself\u001b[39;49m\u001b[39m.\u001b[39;49m_make_engine(f, \u001b[39mself\u001b[39;49m\u001b[39m.\u001b[39;49mengine)\n",
      "File \u001b[1;32mc:\\Users\\IndYatri\\miniconda3\\lib\\site-packages\\pandas\\io\\parsers\\readers.py:1218\u001b[0m, in \u001b[0;36mTextFileReader._make_engine\u001b[1;34m(self, f, engine)\u001b[0m\n\u001b[0;32m   1214\u001b[0m     mode \u001b[39m=\u001b[39m \u001b[39m\"\u001b[39m\u001b[39mrb\u001b[39m\u001b[39m\"\u001b[39m\n\u001b[0;32m   1215\u001b[0m \u001b[39m# error: No overload variant of \"get_handle\" matches argument types\u001b[39;00m\n\u001b[0;32m   1216\u001b[0m \u001b[39m# \"Union[str, PathLike[str], ReadCsvBuffer[bytes], ReadCsvBuffer[str]]\"\u001b[39;00m\n\u001b[0;32m   1217\u001b[0m \u001b[39m# , \"str\", \"bool\", \"Any\", \"Any\", \"Any\", \"Any\", \"Any\"\u001b[39;00m\n\u001b[1;32m-> 1218\u001b[0m \u001b[39mself\u001b[39m\u001b[39m.\u001b[39mhandles \u001b[39m=\u001b[39m get_handle(  \u001b[39m# type: ignore[call-overload]\u001b[39;49;00m\n\u001b[0;32m   1219\u001b[0m     f,\n\u001b[0;32m   1220\u001b[0m     mode,\n\u001b[0;32m   1221\u001b[0m     encoding\u001b[39m=\u001b[39;49m\u001b[39mself\u001b[39;49m\u001b[39m.\u001b[39;49moptions\u001b[39m.\u001b[39;49mget(\u001b[39m\"\u001b[39;49m\u001b[39mencoding\u001b[39;49m\u001b[39m\"\u001b[39;49m, \u001b[39mNone\u001b[39;49;00m),\n\u001b[0;32m   1222\u001b[0m     compression\u001b[39m=\u001b[39;49m\u001b[39mself\u001b[39;49m\u001b[39m.\u001b[39;49moptions\u001b[39m.\u001b[39;49mget(\u001b[39m\"\u001b[39;49m\u001b[39mcompression\u001b[39;49m\u001b[39m\"\u001b[39;49m, \u001b[39mNone\u001b[39;49;00m),\n\u001b[0;32m   1223\u001b[0m     memory_map\u001b[39m=\u001b[39;49m\u001b[39mself\u001b[39;49m\u001b[39m.\u001b[39;49moptions\u001b[39m.\u001b[39;49mget(\u001b[39m\"\u001b[39;49m\u001b[39mmemory_map\u001b[39;49m\u001b[39m\"\u001b[39;49m, \u001b[39mFalse\u001b[39;49;00m),\n\u001b[0;32m   1224\u001b[0m     is_text\u001b[39m=\u001b[39;49mis_text,\n\u001b[0;32m   1225\u001b[0m     errors\u001b[39m=\u001b[39;49m\u001b[39mself\u001b[39;49m\u001b[39m.\u001b[39;49moptions\u001b[39m.\u001b[39;49mget(\u001b[39m\"\u001b[39;49m\u001b[39mencoding_errors\u001b[39;49m\u001b[39m\"\u001b[39;49m, \u001b[39m\"\u001b[39;49m\u001b[39mstrict\u001b[39;49m\u001b[39m\"\u001b[39;49m),\n\u001b[0;32m   1226\u001b[0m     storage_options\u001b[39m=\u001b[39;49m\u001b[39mself\u001b[39;49m\u001b[39m.\u001b[39;49moptions\u001b[39m.\u001b[39;49mget(\u001b[39m\"\u001b[39;49m\u001b[39mstorage_options\u001b[39;49m\u001b[39m\"\u001b[39;49m, \u001b[39mNone\u001b[39;49;00m),\n\u001b[0;32m   1227\u001b[0m )\n\u001b[0;32m   1228\u001b[0m \u001b[39massert\u001b[39;00m \u001b[39mself\u001b[39m\u001b[39m.\u001b[39mhandles \u001b[39mis\u001b[39;00m \u001b[39mnot\u001b[39;00m \u001b[39mNone\u001b[39;00m\n\u001b[0;32m   1229\u001b[0m f \u001b[39m=\u001b[39m \u001b[39mself\u001b[39m\u001b[39m.\u001b[39mhandles\u001b[39m.\u001b[39mhandle\n",
      "File \u001b[1;32mc:\\Users\\IndYatri\\miniconda3\\lib\\site-packages\\pandas\\io\\common.py:667\u001b[0m, in \u001b[0;36mget_handle\u001b[1;34m(path_or_buf, mode, encoding, compression, memory_map, is_text, errors, storage_options)\u001b[0m\n\u001b[0;32m    664\u001b[0m     codecs\u001b[39m.\u001b[39mlookup_error(errors)\n\u001b[0;32m    666\u001b[0m \u001b[39m# open URLs\u001b[39;00m\n\u001b[1;32m--> 667\u001b[0m ioargs \u001b[39m=\u001b[39m _get_filepath_or_buffer(\n\u001b[0;32m    668\u001b[0m     path_or_buf,\n\u001b[0;32m    669\u001b[0m     encoding\u001b[39m=\u001b[39;49mencoding,\n\u001b[0;32m    670\u001b[0m     compression\u001b[39m=\u001b[39;49mcompression,\n\u001b[0;32m    671\u001b[0m     mode\u001b[39m=\u001b[39;49mmode,\n\u001b[0;32m    672\u001b[0m     storage_options\u001b[39m=\u001b[39;49mstorage_options,\n\u001b[0;32m    673\u001b[0m )\n\u001b[0;32m    675\u001b[0m handle \u001b[39m=\u001b[39m ioargs\u001b[39m.\u001b[39mfilepath_or_buffer\n\u001b[0;32m    676\u001b[0m handles: \u001b[39mlist\u001b[39m[BaseBuffer]\n",
      "File \u001b[1;32mc:\\Users\\IndYatri\\miniconda3\\lib\\site-packages\\pandas\\io\\common.py:336\u001b[0m, in \u001b[0;36m_get_filepath_or_buffer\u001b[1;34m(filepath_or_buffer, encoding, compression, mode, storage_options)\u001b[0m\n\u001b[0;32m    334\u001b[0m \u001b[39m# assuming storage_options is to be interpreted as headers\u001b[39;00m\n\u001b[0;32m    335\u001b[0m req_info \u001b[39m=\u001b[39m urllib\u001b[39m.\u001b[39mrequest\u001b[39m.\u001b[39mRequest(filepath_or_buffer, headers\u001b[39m=\u001b[39mstorage_options)\n\u001b[1;32m--> 336\u001b[0m \u001b[39mwith\u001b[39;00m urlopen(req_info) \u001b[39mas\u001b[39;00m req:\n\u001b[0;32m    337\u001b[0m     content_encoding \u001b[39m=\u001b[39m req\u001b[39m.\u001b[39mheaders\u001b[39m.\u001b[39mget(\u001b[39m\"\u001b[39m\u001b[39mContent-Encoding\u001b[39m\u001b[39m\"\u001b[39m, \u001b[39mNone\u001b[39;00m)\n\u001b[0;32m    338\u001b[0m     \u001b[39mif\u001b[39;00m content_encoding \u001b[39m==\u001b[39m \u001b[39m\"\u001b[39m\u001b[39mgzip\u001b[39m\u001b[39m\"\u001b[39m:\n\u001b[0;32m    339\u001b[0m         \u001b[39m# Override compression based on Content-Encoding header\u001b[39;00m\n",
      "File \u001b[1;32mc:\\Users\\IndYatri\\miniconda3\\lib\\site-packages\\pandas\\io\\common.py:236\u001b[0m, in \u001b[0;36murlopen\u001b[1;34m(*args, **kwargs)\u001b[0m\n\u001b[0;32m    230\u001b[0m \u001b[39m\"\"\"\u001b[39;00m\n\u001b[0;32m    231\u001b[0m \u001b[39mLazy-import wrapper for stdlib urlopen, as that imports a big chunk of\u001b[39;00m\n\u001b[0;32m    232\u001b[0m \u001b[39mthe stdlib.\u001b[39;00m\n\u001b[0;32m    233\u001b[0m \u001b[39m\"\"\"\u001b[39;00m\n\u001b[0;32m    234\u001b[0m \u001b[39mimport\u001b[39;00m \u001b[39murllib\u001b[39;00m\u001b[39m.\u001b[39;00m\u001b[39mrequest\u001b[39;00m\n\u001b[1;32m--> 236\u001b[0m \u001b[39mreturn\u001b[39;00m urllib\u001b[39m.\u001b[39mrequest\u001b[39m.\u001b[39murlopen(\u001b[39m*\u001b[39margs, \u001b[39m*\u001b[39m\u001b[39m*\u001b[39mkwargs)\n",
      "File \u001b[1;32mc:\\Users\\IndYatri\\miniconda3\\lib\\urllib\\request.py:214\u001b[0m, in \u001b[0;36murlopen\u001b[1;34m(url, data, timeout, cafile, capath, cadefault, context)\u001b[0m\n\u001b[0;32m    212\u001b[0m \u001b[39melse\u001b[39;00m:\n\u001b[0;32m    213\u001b[0m     opener \u001b[39m=\u001b[39m _opener\n\u001b[1;32m--> 214\u001b[0m \u001b[39mreturn\u001b[39;00m opener\u001b[39m.\u001b[39;49mopen(url, data, timeout)\n",
      "File \u001b[1;32mc:\\Users\\IndYatri\\miniconda3\\lib\\urllib\\request.py:523\u001b[0m, in \u001b[0;36mOpenerDirector.open\u001b[1;34m(self, fullurl, data, timeout)\u001b[0m\n\u001b[0;32m    521\u001b[0m \u001b[39mfor\u001b[39;00m processor \u001b[39min\u001b[39;00m \u001b[39mself\u001b[39m\u001b[39m.\u001b[39mprocess_response\u001b[39m.\u001b[39mget(protocol, []):\n\u001b[0;32m    522\u001b[0m     meth \u001b[39m=\u001b[39m \u001b[39mgetattr\u001b[39m(processor, meth_name)\n\u001b[1;32m--> 523\u001b[0m     response \u001b[39m=\u001b[39m meth(req, response)\n\u001b[0;32m    525\u001b[0m \u001b[39mreturn\u001b[39;00m response\n",
      "File \u001b[1;32mc:\\Users\\IndYatri\\miniconda3\\lib\\urllib\\request.py:632\u001b[0m, in \u001b[0;36mHTTPErrorProcessor.http_response\u001b[1;34m(self, request, response)\u001b[0m\n\u001b[0;32m    629\u001b[0m \u001b[39m# According to RFC 2616, \"2xx\" code indicates that the client's\u001b[39;00m\n\u001b[0;32m    630\u001b[0m \u001b[39m# request was successfully received, understood, and accepted.\u001b[39;00m\n\u001b[0;32m    631\u001b[0m \u001b[39mif\u001b[39;00m \u001b[39mnot\u001b[39;00m (\u001b[39m200\u001b[39m \u001b[39m<\u001b[39m\u001b[39m=\u001b[39m code \u001b[39m<\u001b[39m \u001b[39m300\u001b[39m):\n\u001b[1;32m--> 632\u001b[0m     response \u001b[39m=\u001b[39m \u001b[39mself\u001b[39;49m\u001b[39m.\u001b[39;49mparent\u001b[39m.\u001b[39;49merror(\n\u001b[0;32m    633\u001b[0m         \u001b[39m'\u001b[39;49m\u001b[39mhttp\u001b[39;49m\u001b[39m'\u001b[39;49m, request, response, code, msg, hdrs)\n\u001b[0;32m    635\u001b[0m \u001b[39mreturn\u001b[39;00m response\n",
      "File \u001b[1;32mc:\\Users\\IndYatri\\miniconda3\\lib\\urllib\\request.py:561\u001b[0m, in \u001b[0;36mOpenerDirector.error\u001b[1;34m(self, proto, *args)\u001b[0m\n\u001b[0;32m    559\u001b[0m \u001b[39mif\u001b[39;00m http_err:\n\u001b[0;32m    560\u001b[0m     args \u001b[39m=\u001b[39m (\u001b[39mdict\u001b[39m, \u001b[39m'\u001b[39m\u001b[39mdefault\u001b[39m\u001b[39m'\u001b[39m, \u001b[39m'\u001b[39m\u001b[39mhttp_error_default\u001b[39m\u001b[39m'\u001b[39m) \u001b[39m+\u001b[39m orig_args\n\u001b[1;32m--> 561\u001b[0m     \u001b[39mreturn\u001b[39;00m \u001b[39mself\u001b[39;49m\u001b[39m.\u001b[39;49m_call_chain(\u001b[39m*\u001b[39;49margs)\n",
      "File \u001b[1;32mc:\\Users\\IndYatri\\miniconda3\\lib\\urllib\\request.py:494\u001b[0m, in \u001b[0;36mOpenerDirector._call_chain\u001b[1;34m(self, chain, kind, meth_name, *args)\u001b[0m\n\u001b[0;32m    492\u001b[0m \u001b[39mfor\u001b[39;00m handler \u001b[39min\u001b[39;00m handlers:\n\u001b[0;32m    493\u001b[0m     func \u001b[39m=\u001b[39m \u001b[39mgetattr\u001b[39m(handler, meth_name)\n\u001b[1;32m--> 494\u001b[0m     result \u001b[39m=\u001b[39m func(\u001b[39m*\u001b[39;49margs)\n\u001b[0;32m    495\u001b[0m     \u001b[39mif\u001b[39;00m result \u001b[39mis\u001b[39;00m \u001b[39mnot\u001b[39;00m \u001b[39mNone\u001b[39;00m:\n\u001b[0;32m    496\u001b[0m         \u001b[39mreturn\u001b[39;00m result\n",
      "File \u001b[1;32mc:\\Users\\IndYatri\\miniconda3\\lib\\urllib\\request.py:641\u001b[0m, in \u001b[0;36mHTTPDefaultErrorHandler.http_error_default\u001b[1;34m(self, req, fp, code, msg, hdrs)\u001b[0m\n\u001b[0;32m    640\u001b[0m \u001b[39mdef\u001b[39;00m \u001b[39mhttp_error_default\u001b[39m(\u001b[39mself\u001b[39m, req, fp, code, msg, hdrs):\n\u001b[1;32m--> 641\u001b[0m     \u001b[39mraise\u001b[39;00m HTTPError(req\u001b[39m.\u001b[39mfull_url, code, msg, hdrs, fp)\n",
      "\u001b[1;31mHTTPError\u001b[0m: HTTP Error 404: Not Found"
     ]
    }
   ],
   "source": [
    "import pandas as pd\n",
    "url = (\"https://raw.githubusercontent.com/python-visualization/folium/master/example/data\")\n",
    "state_geo = f\"{url}/us-state.json\"\n",
    "state_unemployment = f\"{url}/US_Unemployment_Oct2012.csv\"\n",
    "state_data = pd.read_csv(state_unemployment)\n",
    "\n",
    "m = folium.Map(location=[48,-102],zoom_start=3)\n",
    "folium.Choropleth(\n",
    "\n",
    "geo_data=start_geo,\n",
    "name='choropleth',\n",
    "data=state_data,\n",
    "columns=[\"State\", \"Unemployment\"],\n",
    "key_on=\"feature.id\",\n",
    "fill_color=\"YIGn\",\n",
    "fill_opacity=0.7,\n",
    "line_opacity=0.2,\n",
    "legend_name=\"Unemployment Rate (%)\",\n",
    ").add_to(m)\n",
    "        \n",
    "folium.LayerControl().add_to(m)\n",
    "m\n",
    "\n"
   ]
  },
  {
   "cell_type": "code",
   "execution_count": 84,
   "metadata": {},
   "outputs": [
    {
     "data": {
      "text/plain": [
       "'https://raw.githubusercontent.com/python-visualization/folium/master/example/data/us-state.json'"
      ]
     },
     "execution_count": 84,
     "metadata": {},
     "output_type": "execute_result"
    }
   ],
   "source": [
    "state_geo"
   ]
  },
  {
   "cell_type": "code",
   "execution_count": null,
   "metadata": {},
   "outputs": [],
   "source": []
  }
 ],
 "metadata": {
  "kernelspec": {
   "display_name": "Python 3.9.12 ('base')",
   "language": "python",
   "name": "python3"
  },
  "language_info": {
   "codemirror_mode": {
    "name": "ipython",
    "version": 3
   },
   "file_extension": ".py",
   "mimetype": "text/x-python",
   "name": "python",
   "nbconvert_exporter": "python",
   "pygments_lexer": "ipython3",
   "version": "3.9.12"
  },
  "orig_nbformat": 4,
  "vscode": {
   "interpreter": {
    "hash": "c8d055a2e917c4ff563d3cc6f515ed9e913311c2b5e5c5ae825c2758b2ad8b8b"
   }
  }
 },
 "nbformat": 4,
 "nbformat_minor": 2
}
