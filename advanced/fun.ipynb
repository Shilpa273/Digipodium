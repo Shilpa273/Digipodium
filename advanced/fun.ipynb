{
 "cells": [
  {
   "cell_type": "code",
   "execution_count": 1,
   "metadata": {},
   "outputs": [
    {
     "name": "stdout",
     "output_type": "stream",
     "text": [
      "hi, i am outside of function\n"
     ]
    }
   ],
   "source": [
    "def hello():\n",
    "    print('This is a function')\n",
    "    print('This is not a good function')\n",
    "    print('forget that this  function exits')\n",
    "    print('bye')\n",
    "print('hi, i am outside of function')    "
   ]
  },
  {
   "cell_type": "code",
   "execution_count": 3,
   "metadata": {},
   "outputs": [
    {
     "name": "stdout",
     "output_type": "stream",
     "text": [
      "This is a function\n",
      "This is not a good function\n",
      "forget that this  function exits\n",
      "bye\n"
     ]
    }
   ],
   "source": [
    "hello() #calling"
   ]
  },
  {
   "cell_type": "code",
   "execution_count": 4,
   "metadata": {},
   "outputs": [
    {
     "name": "stdout",
     "output_type": "stream",
     "text": [
      "This is a function\n",
      "This is not a good function\n",
      "forget that this  function exits\n",
      "bye\n",
      "This is a function\n",
      "This is not a good function\n",
      "forget that this  function exits\n",
      "bye\n",
      "This is a function\n",
      "This is not a good function\n",
      "forget that this  function exits\n",
      "bye\n"
     ]
    }
   ],
   "source": [
    "for i in range(3):\n",
    "    hello()"
   ]
  },
  {
   "cell_type": "code",
   "execution_count": 8,
   "metadata": {},
   "outputs": [],
   "source": [
    "def area(length, breath):\n",
    "    ans = length * breath\n",
    "    return ans"
   ]
  },
  {
   "cell_type": "code",
   "execution_count": 9,
   "metadata": {},
   "outputs": [
    {
     "data": {
      "text/plain": [
       "30"
      ]
     },
     "execution_count": 9,
     "metadata": {},
     "output_type": "execute_result"
    }
   ],
   "source": [
    "area(5,6)"
   ]
  },
  {
   "cell_type": "code",
   "execution_count": 10,
   "metadata": {},
   "outputs": [
    {
     "name": "stdout",
     "output_type": "stream",
     "text": [
      "the area is  20\n"
     ]
    }
   ],
   "source": [
    "print(\"the area is \", area(4,5))"
   ]
  },
  {
   "cell_type": "code",
   "execution_count": 11,
   "metadata": {},
   "outputs": [
    {
     "name": "stdout",
     "output_type": "stream",
     "text": [
      "16 10\n"
     ]
    }
   ],
   "source": [
    "a = area(4,4)\n",
    "b = area(5,2)\n",
    "print(a,b)"
   ]
  },
  {
   "cell_type": "code",
   "execution_count": 12,
   "metadata": {},
   "outputs": [
    {
     "name": "stdout",
     "output_type": "stream",
     "text": [
      "160\n"
     ]
    }
   ],
   "source": [
    "big_area = area(5,5) + area(10,12) + 15  #function in expression\n",
    "print(big_area)"
   ]
  },
  {
   "cell_type": "code",
   "execution_count": 13,
   "metadata": {},
   "outputs": [],
   "source": [
    "def fib(start: int, size: int):\n",
    "    '''\n",
    "    this is a fibonacci series generator function\n",
    "    - start : pass a number for the start of fibonacci series\n",
    "    - return: list of fibonacci series\n",
    "    - size: size of fibonacci series\n",
    "    ```\n",
    "    out = fib(0)\n",
    "    print(out)\n",
    "    ```\n",
    "    '''\n",
    "    out = [start , start + 1] #list with 2 init value\n",
    "    for i in range(size - 2):\n",
    "        out.append(out[-1] + out[-2])\n",
    "    return out    \n"
   ]
  },
  {
   "cell_type": "code",
   "execution_count": 14,
   "metadata": {},
   "outputs": [
    {
     "name": "stdout",
     "output_type": "stream",
     "text": [
      "[0, 1, 1, 2, 3, 5, 8, 13, 21, 34, 55, 89, 144, 233, 377, 610, 987, 1597, 2584, 4181, 6765, 10946, 17711, 28657, 46368]\n"
     ]
    }
   ],
   "source": [
    "print(fib(0,25))"
   ]
  },
  {
   "cell_type": "code",
   "execution_count": 15,
   "metadata": {},
   "outputs": [],
   "source": [
    "# create a  function to calculate to S.I and amount and return them\n",
    "def calc_si_amt(p,r,t):\n",
    "    si = p * r * t /100\n",
    "    amt = p + si\n",
    "    return si ,amt"
   ]
  },
  {
   "cell_type": "code",
   "execution_count": 16,
   "metadata": {},
   "outputs": [
    {
     "data": {
      "text/plain": [
       "(4000.0, 14000.0)"
      ]
     },
     "execution_count": 16,
     "metadata": {},
     "output_type": "execute_result"
    }
   ],
   "source": [
    "calc_si_amt(10000, 4,10)"
   ]
  },
  {
   "cell_type": "code",
   "execution_count": 17,
   "metadata": {},
   "outputs": [
    {
     "name": "stdout",
     "output_type": "stream",
     "text": [
      "4000.0 14000.0\n"
     ]
    }
   ],
   "source": [
    "si, amt = calc_si_amt(10000, 4 , 10)\n",
    "print(si, amt)"
   ]
  },
  {
   "cell_type": "code",
   "execution_count": 1,
   "metadata": {},
   "outputs": [],
   "source": [
    "import utils"
   ]
  },
  {
   "cell_type": "code",
   "execution_count": 2,
   "metadata": {},
   "outputs": [],
   "source": [
    "s = 'list of fibonacci series size: size of fibonacci series'\n"
   ]
  },
  {
   "cell_type": "code",
   "execution_count": 3,
   "metadata": {},
   "outputs": [
    {
     "data": {
      "text/plain": [
       "{'series': 2, 'of': 2, 'list': 1, 'size': 1, 'fibonacci': 2, 'size:': 1}"
      ]
     },
     "execution_count": 3,
     "metadata": {},
     "output_type": "execute_result"
    }
   ],
   "source": [
    "utils.word_counter(s)"
   ]
  },
  {
   "cell_type": "code",
   "execution_count": 24,
   "metadata": {},
   "outputs": [
    {
     "name": "stdout",
     "output_type": "stream",
     "text": [
      "l 1\n",
      "i 9\n",
      "b 2\n",
      "a 2\n",
      "n 2\n",
      "e 6\n",
      "r 2\n",
      "  8\n",
      "f 4\n",
      "z 2\n",
      "c 4\n",
      "s 7\n",
      ": 1\n",
      "t 1\n",
      "o 4\n"
     ]
    },
    {
     "data": {
      "text/plain": [
       "{'l': 'list of fibonacci series size: size of fibonacci series',\n",
       " 'i': 'list of fibonacci series size: size of fibonacci series',\n",
       " 'b': 'list of fibonacci series size: size of fibonacci series',\n",
       " 'a': 'list of fibonacci series size: size of fibonacci series',\n",
       " 'n': 'list of fibonacci series size: size of fibonacci series',\n",
       " 'e': 'list of fibonacci series size: size of fibonacci series',\n",
       " 'r': 'list of fibonacci series size: size of fibonacci series',\n",
       " ' ': 'list of fibonacci series size: size of fibonacci series',\n",
       " 'f': 'list of fibonacci series size: size of fibonacci series',\n",
       " 'z': 'list of fibonacci series size: size of fibonacci series',\n",
       " 'c': 'list of fibonacci series size: size of fibonacci series',\n",
       " 's': 'list of fibonacci series size: size of fibonacci series',\n",
       " ':': 'list of fibonacci series size: size of fibonacci series',\n",
       " 't': 'list of fibonacci series size: size of fibonacci series',\n",
       " 'o': 'list of fibonacci series size: size of fibonacci series'}"
      ]
     },
     "execution_count": 24,
     "metadata": {},
     "output_type": "execute_result"
    }
   ],
   "source": [
    "utils.char_counter(s)"
   ]
  },
  {
   "cell_type": "code",
   "execution_count": null,
   "metadata": {},
   "outputs": [],
   "source": []
  }
 ],
 "metadata": {
  "kernelspec": {
   "display_name": "Python 3.9.12 ('base')",
   "language": "python",
   "name": "python3"
  },
  "language_info": {
   "codemirror_mode": {
    "name": "ipython",
    "version": 3
   },
   "file_extension": ".py",
   "mimetype": "text/x-python",
   "name": "python",
   "nbconvert_exporter": "python",
   "pygments_lexer": "ipython3",
   "version": "3.9.12"
  },
  "orig_nbformat": 4,
  "vscode": {
   "interpreter": {
    "hash": "c8d055a2e917c4ff563d3cc6f515ed9e913311c2b5e5c5ae825c2758b2ad8b8b"
   }
  }
 },
 "nbformat": 4,
 "nbformat_minor": 2
}
