{
 "cells": [
  {
   "cell_type": "code",
   "execution_count": 2,
   "metadata": {},
   "outputs": [
    {
     "name": "stdout",
     "output_type": "stream",
     "text": [
      "\n"
     ]
    }
   ],
   "source": [
    "print()"
   ]
  },
  {
   "cell_type": "code",
   "execution_count": 3,
   "metadata": {},
   "outputs": [
    {
     "name": "stdout",
     "output_type": "stream",
     "text": [
      "Bruce campbell\n"
     ]
    }
   ],
   "source": [
    "print(\"Bruce campbell\")"
   ]
  },
  {
   "cell_type": "code",
   "execution_count": 4,
   "metadata": {},
   "outputs": [
    {
     "name": "stdout",
     "output_type": "stream",
     "text": [
      "This is an apple and I don't like apple\n"
     ]
    }
   ],
   "source": [
    "print(\"This is an apple and I don't like apple\")"
   ]
  },
  {
   "cell_type": "code",
   "execution_count": 5,
   "metadata": {},
   "outputs": [
    {
     "name": "stdout",
     "output_type": "stream",
     "text": [
      "This is Python Data Science\n",
      "We are going to do code\n",
      "and lean the secret of python\n",
      "thats it\n"
     ]
    }
   ],
   "source": [
    "print(\"This is Python Data Science\")\n",
    "print(\"We are going to do code\")\n",
    "print(\"and lean the secret of python\")\n",
    "print(\"thats it\")\n",
    "\n"
   ]
  },
  {
   "cell_type": "code",
   "execution_count": 6,
   "metadata": {},
   "outputs": [
    {
     "name": "stdout",
     "output_type": "stream",
     "text": [
      "The Zen of Python, by Tim Peters\n",
      "\n",
      "Beautiful is better than ugly.\n",
      "Explicit is better than implicit.\n",
      "Simple is better than complex.\n",
      "Complex is better than complicated.\n",
      "Flat is better than nested.\n",
      "Sparse is better than dense.\n",
      "Readability counts.\n",
      "Special cases aren't special enough to break the rules.\n",
      "Although practicality beats purity.\n",
      "Errors should never pass silently.\n",
      "Unless explicitly silenced.\n",
      "In the face of ambiguity, refuse the temptation to guess.\n",
      "There should be one-- and preferably only one --obvious way to do it.\n",
      "Although that way may not be obvious at first unless you're Dutch.\n",
      "Now is better than never.\n",
      "Although never is often better than *right* now.\n",
      "If the implementation is hard to explain, it's a bad idea.\n",
      "If the implementation is easy to explain, it may be a good idea.\n",
      "Namespaces are one honking great idea -- let's do more of those!\n"
     ]
    }
   ],
   "source": [
    "import this"
   ]
  },
  {
   "cell_type": "code",
   "execution_count": 7,
   "metadata": {},
   "outputs": [
    {
     "name": "stdout",
     "output_type": "stream",
     "text": [
      "This is python data science course \n",
      "we are going to do code\n"
     ]
    }
   ],
   "source": [
    "print('''This is python data science course \n",
    "we are going to do code''')"
   ]
  },
  {
   "cell_type": "markdown",
   "metadata": {},
   "source": [
    "There are few settings in print functions that we can provide whenever we want to print something."
   ]
  },
  {
   "cell_type": "code",
   "execution_count": 8,
   "metadata": {},
   "outputs": [
    {
     "name": "stdout",
     "output_type": "stream",
     "text": [
      "1😉😉👍🎶🤦‍♀️🌹🤷‍♀️2😉😉👍🎶🤦‍♀️🌹🤷‍♀️3😉😉👍🎶🤦‍♀️🌹🤷‍♀️4😉😉👍🎶🤦‍♀️🌹🤷‍♀️5😉😉👍🎶🤦‍♀️🌹🤷‍♀️6😉😉👍🎶🤦‍♀️🌹🤷‍♀️7\n"
     ]
    }
   ],
   "source": [
    "print(1,2,3,4,5,6,7, sep='😉😉👍🎶🤦‍♀️🌹🤷‍♀️')"
   ]
  },
  {
   "cell_type": "markdown",
   "metadata": {},
   "source": [
    "sep = seperation symbol emoji (Emoji = window + .)"
   ]
  },
  {
   "cell_type": "code",
   "execution_count": 9,
   "metadata": {},
   "outputs": [
    {
     "name": "stdout",
     "output_type": "stream",
     "text": [
      "This is multiline message "
     ]
    }
   ],
   "source": [
    "print('This', end=' ')\n",
    "print('is', end=' ')\n",
    "print('multiline', end=' ')\n",
    "print('message', end=' ')\n"
   ]
  },
  {
   "cell_type": "markdown",
   "metadata": {},
   "source": [
    "end = what comes at end of the line (it may be emoji, space,equal etc)\n"
   ]
  },
  {
   "cell_type": "markdown",
   "metadata": {},
   "source": [
    "creating a variable in python age=18 name= Jonny color2='red is_sleeping= false"
   ]
  },
  {
   "cell_type": "code",
   "execution_count": 10,
   "metadata": {},
   "outputs": [],
   "source": [
    "age = 120\n",
    "name = 'Jonny'"
   ]
  },
  {
   "cell_type": "code",
   "execution_count": 11,
   "metadata": {},
   "outputs": [],
   "source": [
    "name = 'Bob'"
   ]
  },
  {
   "cell_type": "markdown",
   "metadata": {},
   "source": [
    "Datatype can changing by the value of a variable.(New Variable of the same Data Type can over write the pricious one) "
   ]
  },
  {
   "cell_type": "code",
   "execution_count": 12,
   "metadata": {},
   "outputs": [],
   "source": [
    "age = 19"
   ]
  },
  {
   "cell_type": "markdown",
   "metadata": {},
   "source": [
    "<h1>Integer\n",
    " <h5>Integer in python means any numeric value(positive or negative) integer can be of any length,it is only limited by the memory available we can use the type() function to know which class a variable or a value belongs to 1, +4\n",
    " <h1>Example\n",
    " <h5>x= 34 Y=547586 Z=98745632589874125 "
   ]
  },
  {
   "cell_type": "code",
   "execution_count": 13,
   "metadata": {},
   "outputs": [],
   "source": [
    "x = 7\n",
    "Y = 795\n",
    "Z = 699875441225788"
   ]
  },
  {
   "cell_type": "markdown",
   "metadata": {},
   "source": [
    "<h1>Float\n",
    "<h5> Float or 'floating print number' ,positive or negative,containing one or more decimal float can also be scientific  numbers with an 'e' to inducate the power of 10 We can use type()\n",
    "<h1>String\n",
    "<h5>String literals in python are surrounded by either single quatation mark, or double quatation mark\n",
    "MULTILINE STRINGS: we can assign a multiline string by using three quotes'''hey'''\n",
    "<h1>del\n",
    "<h5>del is use to delete vriable from the memory."
   ]
  },
  {
   "cell_type": "code",
   "execution_count": 15,
   "metadata": {},
   "outputs": [],
   "source": [
    "del Y"
   ]
  },
  {
   "cell_type": "markdown",
   "metadata": {},
   "source": [
    "<h1>Boolean\n",
    "<h5>True or False"
   ]
  },
  {
   "cell_type": "code",
   "execution_count": 16,
   "metadata": {},
   "outputs": [],
   "source": [
    "is_coding =True\n",
    "is_fun =True\n",
    "are_u_border = False\n"
   ]
  },
  {
   "cell_type": "markdown",
   "metadata": {},
   "source": [
    "<h1>Nonetype\n",
    "<h5>null value and no CREATE a empty variable\n",
    "<h1>list\n",
    "<h5>immutable"
   ]
  },
  {
   "cell_type": "code",
   "execution_count": 17,
   "metadata": {},
   "outputs": [],
   "source": [
    "a = [5,10,15,20,25,30,35,40]\n",
    "vals = [1,2,2,'python']\n",
    "colors = ['red','black','white','yellow']"
   ]
  },
  {
   "cell_type": "markdown",
   "metadata": {},
   "source": [
    "<h1>Sets\n"
   ]
  },
  {
   "cell_type": "code",
   "execution_count": 19,
   "metadata": {},
   "outputs": [],
   "source": [
    "a = {5,10,15,20,25,30,5,40}\n",
    "vals = {1,2,2,'python'}\n",
    "colors = {'red','black','white','yellow'}"
   ]
  },
  {
   "cell_type": "markdown",
   "metadata": {},
   "source": [
    "<h1>Tuple\n"
   ]
  },
  {
   "cell_type": "code",
   "execution_count": 20,
   "metadata": {},
   "outputs": [],
   "source": [
    "a = (5,10,15,20,25,30,35,40)\n",
    "vals = (1,2,2,'python')\n",
    "colors = ('red','black','white','yellow')\n"
   ]
  },
  {
   "cell_type": "markdown",
   "metadata": {},
   "source": [
    "<h1>Dictionary"
   ]
  },
  {
   "cell_type": "code",
   "execution_count": 21,
   "metadata": {},
   "outputs": [],
   "source": [
    "car_info = {\n",
    "    \"brand\": \"ford\",\n",
    "    \"model\":\"Mustng\",\n",
    "    \"year\":1964\n",
    "}\n",
    " \n"
   ]
  }
 ],
 "metadata": {
  "kernelspec": {
   "display_name": "Python 3.9.12 ('base')",
   "language": "python",
   "name": "python3"
  },
  "language_info": {
   "codemirror_mode": {
    "name": "ipython",
    "version": 3
   },
   "file_extension": ".py",
   "mimetype": "text/x-python",
   "name": "python",
   "nbconvert_exporter": "python",
   "pygments_lexer": "ipython3",
   "version": "3.9.12"
  },
  "orig_nbformat": 4,
  "vscode": {
   "interpreter": {
    "hash": "c8d055a2e917c4ff563d3cc6f515ed9e913311c2b5e5c5ae825c2758b2ad8b8b"
   }
  }
 },
 "nbformat": 4,
 "nbformat_minor": 2
}
