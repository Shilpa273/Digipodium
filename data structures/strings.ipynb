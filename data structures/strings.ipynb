{
 "cells": [
  {
   "cell_type": "code",
   "execution_count": 1,
   "metadata": {},
   "outputs": [
    {
     "name": "stdout",
     "output_type": "stream",
     "text": [
      "applemango\n"
     ]
    }
   ],
   "source": [
    "a=\"apple\"\n",
    "b=\"mango\"\n",
    "print(a+b) #concatenation"
   ]
  },
  {
   "cell_type": "code",
   "execution_count": 2,
   "metadata": {},
   "outputs": [
    {
     "name": "stdout",
     "output_type": "stream",
     "text": [
      "mango banana\n"
     ]
    }
   ],
   "source": [
    "a=\"mango\"\n",
    "b=\"banana\"\n",
    "print(a+' '+b)"
   ]
  },
  {
   "cell_type": "code",
   "execution_count": 3,
   "metadata": {},
   "outputs": [
    {
     "name": "stdout",
     "output_type": "stream",
     "text": [
      "hihihi\n"
     ]
    }
   ],
   "source": [
    "word = 'hi'\n",
    "print(word * 3) # duplication"
   ]
  },
  {
   "cell_type": "code",
   "execution_count": 4,
   "metadata": {},
   "outputs": [
    {
     "name": "stdout",
     "output_type": "stream",
     "text": [
      "*\n",
      "**\n",
      "***\n",
      "****\n",
      "*****\n"
     ]
    }
   ],
   "source": [
    "for i in range (1,6):#pattern printing\n",
    "    print(i * '*')"
   ]
  },
  {
   "cell_type": "code",
   "execution_count": 5,
   "metadata": {},
   "outputs": [
    {
     "name": "stdout",
     "output_type": "stream",
     "text": [
      "******\n",
      "*****\n",
      "****\n",
      "***\n",
      "**\n",
      "*\n"
     ]
    }
   ],
   "source": [
    "for i in range(6,0,-1):\n",
    "    print(i * '*' )"
   ]
  },
  {
   "cell_type": "markdown",
   "metadata": {},
   "source": [
    "<h4>strings function"
   ]
  },
  {
   "cell_type": "code",
   "execution_count": 6,
   "metadata": {},
   "outputs": [],
   "source": [
    "name = \"Alex Mason\"\n",
    "age = 50\n",
    "items = ['Apple','banana','cherry']"
   ]
  },
  {
   "cell_type": "code",
   "execution_count": 7,
   "metadata": {},
   "outputs": [],
   "source": [
    "### formatting function"
   ]
  },
  {
   "cell_type": "code",
   "execution_count": 8,
   "metadata": {},
   "outputs": [],
   "source": [
    "msg = \"This is a message from VARY imporTANT person\""
   ]
  },
  {
   "cell_type": "code",
   "execution_count": 9,
   "metadata": {},
   "outputs": [
    {
     "name": "stdout",
     "output_type": "stream",
     "text": [
      "THIS IS A MESSAGE FROM VARY IMPORTANT PERSON\n",
      "this is a message from vary important person\n",
      "This Is A Message From Vary Important Person\n",
      "This is a message from vary important person\n",
      "this is a message from vary important person\n",
      "tHIS IS A MESSAGE FROM vary IMPORtant PERSON\n",
      "This is a message from VARY imporTANT person\n"
     ]
    }
   ],
   "source": [
    "print(msg.upper())\n",
    "print(msg.lower())\n",
    "print(msg.title())\n",
    "print(msg.capitalize())\n",
    "print(msg.casefold())\n",
    "print(msg.swapcase())\n",
    "print(msg)"
   ]
  },
  {
   "cell_type": "code",
   "execution_count": 10,
   "metadata": {},
   "outputs": [
    {
     "name": "stdout",
     "output_type": "stream",
     "text": [
      "THIS IS A MESSAGE FROM VARY IMPORTANT PERSON\n"
     ]
    }
   ],
   "source": [
    "msg = msg.upper()\n",
    "print(msg)"
   ]
  },
  {
   "cell_type": "code",
   "execution_count": 11,
   "metadata": {},
   "outputs": [
    {
     "data": {
      "text/plain": [
       "44"
      ]
     },
     "execution_count": 11,
     "metadata": {},
     "output_type": "execute_result"
    }
   ],
   "source": [
    "len(msg)"
   ]
  },
  {
   "cell_type": "code",
   "execution_count": 12,
   "metadata": {},
   "outputs": [
    {
     "name": "stdout",
     "output_type": "stream",
     "text": [
      "THIS IS A MESSAGE FROM VARY IMPORTANT PERSON\n"
     ]
    }
   ],
   "source": [
    "print(msg)"
   ]
  },
  {
   "cell_type": "code",
   "execution_count": 13,
   "metadata": {},
   "outputs": [
    {
     "name": "stdout",
     "output_type": "stream",
     "text": [
      "THIS IS A MESSAGE FROM VARY IMPORTANT PERSON                                    \n"
     ]
    }
   ],
   "source": [
    "print(msg.ljust(80)) #for left alignment "
   ]
  },
  {
   "cell_type": "code",
   "execution_count": 15,
   "metadata": {},
   "outputs": [
    {
     "name": "stdout",
     "output_type": "stream",
     "text": [
      "      THIS IS A MESSAGE FROM VARY IMPORTANT PERSON\n"
     ]
    }
   ],
   "source": [
    "print(msg.rjust(50))"
   ]
  },
  {
   "cell_type": "code",
   "execution_count": 16,
   "metadata": {},
   "outputs": [
    {
     "name": "stdout",
     "output_type": "stream",
     "text": [
      "                  THIS IS A MESSAGE FROM VARY IMPORTANT PERSON                  \n"
     ]
    }
   ],
   "source": [
    "print(msg.center(80)) #center alighment"
   ]
  },
  {
   "cell_type": "code",
   "execution_count": 31,
   "metadata": {},
   "outputs": [],
   "source": [
    "long_msg = '''\n",
    "Visual studio code ia a lightwaited\n",
    "but powerfull source code editor which\n",
    "run on your desktop and is available\n",
    "in window ,macos and linux\n",
    "'''"
   ]
  },
  {
   "cell_type": "code",
   "execution_count": 33,
   "metadata": {},
   "outputs": [
    {
     "data": {
      "text/plain": [
       "'\\nVisual studio code ia a lightwaited\\nbut powerfull source code editor which\\nrun on your desktop and is available\\nin window ,macos and linux\\n'"
      ]
     },
     "execution_count": 33,
     "metadata": {},
     "output_type": "execute_result"
    }
   ],
   "source": [
    "long_msg"
   ]
  },
  {
   "cell_type": "markdown",
   "metadata": {},
   "source": [
    "print(msg.ljust(50))"
   ]
  },
  {
   "cell_type": "code",
   "execution_count": 34,
   "metadata": {},
   "outputs": [
    {
     "name": "stdout",
     "output_type": "stream",
     "text": [
      "                                                                                                                                                      \n",
      "                                                         Visual studio code ia a lightwaited                                                          \n",
      "                                                        but powerfull source code editor which                                                        \n",
      "                                                         run on your desktop and is available                                                         \n",
      "                                                              in window ,macos and linux                                                              \n",
      "                                                                                                                                                      \n"
     ]
    }
   ],
   "source": [
    "for line in long_msg.split('\\n'):  #for long msg alignment\n",
    "    print(line.center(150))"
   ]
  },
  {
   "cell_type": "code",
   "execution_count": 35,
   "metadata": {},
   "outputs": [
    {
     "data": {
      "text/plain": [
       "['\\nVisual studio cod',\n",
       " ' ia a lightwait',\n",
       " 'd\\nbut pow',\n",
       " 'rfull sourc',\n",
       " ' cod',\n",
       " ' ',\n",
       " 'ditor which\\nrun on your d',\n",
       " 'sktop and is availabl',\n",
       " '\\nin window ,macos and linux\\n']"
      ]
     },
     "execution_count": 35,
     "metadata": {},
     "output_type": "execute_result"
    }
   ],
   "source": [
    "long_msg.split('e') # seperate from e"
   ]
  },
  {
   "cell_type": "code",
   "execution_count": 37,
   "metadata": {},
   "outputs": [
    {
     "data": {
      "text/plain": [
       "['THIS IS A MESSAGE FROM VARY IMPORTANT PERSON']"
      ]
     },
     "execution_count": 37,
     "metadata": {},
     "output_type": "execute_result"
    }
   ],
   "source": [
    "msg.split('e')"
   ]
  },
  {
   "cell_type": "code",
   "execution_count": 38,
   "metadata": {},
   "outputs": [
    {
     "data": {
      "text/plain": [
       "['THIS', 'IS', 'A', 'MESSAGE', 'FROM', 'VARY', 'IMPORTANT PERSON']"
      ]
     },
     "execution_count": 38,
     "metadata": {},
     "output_type": "execute_result"
    }
   ],
   "source": [
    "msg.split(maxsplit = 6) # devide a sentence in 7 parts"
   ]
  },
  {
   "cell_type": "code",
   "execution_count": 39,
   "metadata": {},
   "outputs": [
    {
     "data": {
      "text/plain": [
       "['THIS IS A MESSAGE FROM', 'VARY', 'IMPORTANT', 'PERSON']"
      ]
     },
     "execution_count": 39,
     "metadata": {},
     "output_type": "execute_result"
    }
   ],
   "source": [
    "msg.rsplit(maxsplit = 3) # for reverse split"
   ]
  },
  {
   "cell_type": "code",
   "execution_count": 40,
   "metadata": {},
   "outputs": [
    {
     "name": "stdout",
     "output_type": "stream",
     "text": [
      "10 shilpa    \n"
     ]
    }
   ],
   "source": [
    "name = input('what is your name ')\n",
    "print(len(name), name) #with white spaces"
   ]
  },
  {
   "cell_type": "code",
   "execution_count": 41,
   "metadata": {},
   "outputs": [
    {
     "name": "stdout",
     "output_type": "stream",
     "text": [
      "11      shilpa\n",
      "6 shilpa\n"
     ]
    }
   ],
   "source": [
    "name = input('what is your name ')\n",
    "print(len(name), name)\n",
    "name = name.strip() #without space\n",
    "print(len(name), name)"
   ]
  },
  {
   "cell_type": "code",
   "execution_count": 42,
   "metadata": {},
   "outputs": [
    {
     "name": "stdout",
     "output_type": "stream",
     "text": [
      "140\n",
      "138\n"
     ]
    }
   ],
   "source": [
    "print(len(long_msg))\n",
    "long_msg = long_msg.strip()\n",
    "print(len(long_msg))"
   ]
  },
  {
   "cell_type": "code",
   "execution_count": 43,
   "metadata": {},
   "outputs": [
    {
     "data": {
      "text/plain": [
       "'lo'"
      ]
     },
     "execution_count": 43,
     "metadata": {},
     "output_type": "execute_result"
    }
   ],
   "source": [
    "data = \"000000000lo000\"\n",
    "data.strip('0')"
   ]
  },
  {
   "cell_type": "code",
   "execution_count": 44,
   "metadata": {},
   "outputs": [
    {
     "data": {
      "text/plain": [
       "'this is ----not----good'"
      ]
     },
     "execution_count": 44,
     "metadata": {},
     "output_type": "execute_result"
    }
   ],
   "source": [
    "data = \"--------this is ----not----good\"\n",
    "data.strip(\"-\")"
   ]
  },
  {
   "cell_type": "code",
   "execution_count": 45,
   "metadata": {},
   "outputs": [
    {
     "name": "stdout",
     "output_type": "stream",
     "text": [
      "this is ----not----good\n",
      "this is ----not----good\n",
      "--------this is ----not----good\n"
     ]
    }
   ],
   "source": [
    "print(data.strip('-'))\n",
    "print(data.lstrip('-'))\n",
    "print(data.rstrip('-'))"
   ]
  },
  {
   "cell_type": "code",
   "execution_count": 47,
   "metadata": {},
   "outputs": [
    {
     "name": "stdout",
     "output_type": "stream",
     "text": [
      "Visual studio code ia a lightwaited\n",
      "but powerfull source code editor which\n",
      "run on your desktop and is available\n",
      "in window ,macos and linux\n",
      "updated---------->\n",
      "Vosual studoo code oa a loghtwaoted\n",
      "but powerfull source code edotor whoch\n",
      "run on your desktop and os avaolable\n",
      "on wondow ,macos and lonux\n"
     ]
    }
   ],
   "source": [
    "print(long_msg)\n",
    "print('updated---------->')\n",
    "print(long_msg.replace('i','o'))"
   ]
  },
  {
   "cell_type": "code",
   "execution_count": 52,
   "metadata": {},
   "outputs": [
    {
     "name": "stdout",
     "output_type": "stream",
     "text": [
      "        this is     not    good\n"
     ]
    }
   ],
   "source": [
    "data = data.replace('-',' ')\n",
    "print(data)"
   ]
  },
  {
   "cell_type": "code",
   "execution_count": 14,
   "metadata": {},
   "outputs": [
    {
     "name": "stdout",
     "output_type": "stream",
     "text": [
      "0\n"
     ]
    }
   ],
   "source": [
    "print(long_msg.count('visual'))"
   ]
  },
  {
   "cell_type": "markdown",
   "metadata": {},
   "source": [
    "long_msg.find('this') #find character"
   ]
  },
  {
   "cell_type": "code",
   "execution_count": 5,
   "metadata": {},
   "outputs": [
    {
     "name": "stdout",
     "output_type": "stream",
     "text": [
      "\n",
      "Visual studio code ia a lightwaited\n",
      "but powerfull source code editor which\n",
      "run on your desktop and is available\n",
      "in window ,macos and linux\n",
      "\n"
     ]
    }
   ],
   "source": [
    "print(long_msg)"
   ]
  },
  {
   "cell_type": "code",
   "execution_count": 6,
   "metadata": {},
   "outputs": [
    {
     "data": {
      "text/plain": [
       "2"
      ]
     },
     "execution_count": 6,
     "metadata": {},
     "output_type": "execute_result"
    }
   ],
   "source": [
    "long_msg.find('is')"
   ]
  },
  {
   "cell_type": "code",
   "execution_count": 10,
   "metadata": {},
   "outputs": [
    {
     "data": {
      "text/plain": [
       "100"
      ]
     },
     "execution_count": 10,
     "metadata": {},
     "output_type": "execute_result"
    }
   ],
   "source": [
    "long_msg.rfind('is') #for reverce find"
   ]
  },
  {
   "cell_type": "markdown",
   "metadata": {},
   "source": [
    "search all occurance of substrr and display"
   ]
  },
  {
   "cell_type": "code",
   "execution_count": 11,
   "metadata": {},
   "outputs": [
    {
     "name": "stdout",
     "output_type": "stream",
     "text": [
      "2\n",
      "100\n"
     ]
    }
   ],
   "source": [
    "q = 'is'\n",
    "start = 0\n",
    "while True:\n",
    "    pos = long_msg.find(q,start)\n",
    "    start = pos + 1\n",
    "    if pos == -1:\n",
    "        break\n",
    "    print(pos)"
   ]
  },
  {
   "cell_type": "code",
   "execution_count": 12,
   "metadata": {},
   "outputs": [
    {
     "name": "stdout",
     "output_type": "stream",
     "text": [
      "vowel a : 5\n",
      "vowel a : 21\n",
      "vowel a : 23\n",
      "vowel a : 31\n",
      "vowel a : 96\n",
      "vowel a : 103\n",
      "vowel a : 105\n",
      "vowel a : 108\n",
      "vowel a : 125\n",
      "vowel a : 130\n",
      "vowel e : 18\n",
      "vowel e : 34\n",
      "vowel e : 44\n",
      "vowel e : 56\n",
      "vowel e : 61\n",
      "vowel e : 63\n",
      "vowel e : 89\n",
      "vowel e : 111\n",
      "vowel i : 2\n",
      "vowel i : 12\n",
      "vowel i : 20\n",
      "vowel i : 26\n",
      "vowel i : 32\n",
      "vowel i : 65\n",
      "vowel i : 72\n",
      "vowel i : 100\n",
      "vowel i : 106\n",
      "vowel i : 113\n",
      "vowel i : 117\n",
      "vowel i : 135\n",
      "vowel o : 13\n",
      "vowel o : 16\n",
      "vowel o : 42\n",
      "vowel o : 52\n",
      "vowel o : 59\n",
      "vowel o : 67\n",
      "vowel o : 80\n",
      "vowel o : 84\n",
      "vowel o : 93\n",
      "vowel o : 120\n",
      "vowel o : 127\n",
      "vowel u : 4\n",
      "vowel u : 10\n",
      "vowel u : 38\n",
      "vowel u : 47\n",
      "vowel u : 53\n",
      "vowel u : 77\n",
      "vowel u : 85\n",
      "vowel u : 137\n"
     ]
    }
   ],
   "source": [
    "for vowel in 'aeiou':\n",
    "  start = 0\n",
    "  while True:\n",
    "    pos = long_msg.find(vowel,start)\n",
    "    start = pos + 1\n",
    "    if pos == -1:\n",
    "        break\n",
    "    print(f\"vowel {vowel} : {pos}\")\n",
    "    "
   ]
  },
  {
   "cell_type": "code",
   "execution_count": 20,
   "metadata": {},
   "outputs": [
    {
     "name": "stdout",
     "output_type": "stream",
     "text": [
      "shilpa\n",
      "numeric: False\n",
      "alphabets: True\n",
      "alphanumeic: True\n",
      "only uppercase: False\n",
      "only lower case: True\n",
      "capitalized: False\n",
      "only spaces: False\n"
     ]
    }
   ],
   "source": [
    "msg = input(\"enter anything\")\n",
    "print(msg)\n",
    "print(\"numeric:\",msg.isnumeric())\n",
    "print(\"alphabets:\",msg.isalpha())\n",
    "print(\"alphanumeic:\",msg.isalnum())\n",
    "print(\"only uppercase:\",msg.isupper())\n",
    "print(\"only lower case:\",msg.islower())\n",
    "print(\"capitalized:\",msg.istitle())\n",
    "print(\"only spaces:\",msg.isspace())"
   ]
  },
  {
   "cell_type": "markdown",
   "metadata": {},
   "source": [
    "#wap  to count the number of vowels in a string\n",
    "#remove all the vowels in a string\n",
    "#wap to get first n words from a string where n is a number given by user"
   ]
  },
  {
   "cell_type": "code",
   "execution_count": 25,
   "metadata": {},
   "outputs": [
    {
     "name": "stdout",
     "output_type": "stream",
     "text": [
      "vowels a : 10\n",
      "vowels i : 12\n",
      "vowels e : 8\n",
      "vowels o : 11\n",
      "vowels u : 8\n"
     ]
    }
   ],
   "source": [
    "vowels = \"aieou\"\n",
    "for v in vowels:\n",
    "    c = long_msg.count(v)\n",
    "    print(f\"vowels {v} : {c}\")"
   ]
  },
  {
   "cell_type": "code",
   "execution_count": 27,
   "metadata": {},
   "outputs": [
    {
     "name": "stdout",
     "output_type": "stream",
     "text": [
      "\n",
      "Vsl std cd   lghtwtd\n",
      "bt pwrfll src cd dtr whch\n",
      "rn n yr dsktp nd s vlbl\n",
      "n wndw ,mcs nd lnx\n",
      "\n"
     ]
    }
   ],
   "source": [
    "msg = long_msg #copy the string \n",
    "vowels = \"aeiouAEIOU\"\n",
    "for v in vowels:\n",
    "    msg = msg.replace(v,'')\n",
    "print(msg)"
   ]
  },
  {
   "cell_type": "code",
   "execution_count": 30,
   "metadata": {},
   "outputs": [
    {
     "name": "stdout",
     "output_type": "stream",
     "text": [
      "['editor', 'which', 'run', 'on', 'your', 'desktop', 'and', 'is', 'available', 'in', 'window', ',macos', 'and', 'linux']\n"
     ]
    }
   ],
   "source": [
    "word_count = int(input('how many words ?'))\n",
    "words = long_msg.split()[word_count:]\n",
    "print(words)"
   ]
  },
  {
   "cell_type": "markdown",
   "metadata": {},
   "source": [
    "#display the size of each word in the string and find the largest word"
   ]
  },
  {
   "cell_type": "code",
   "execution_count": 32,
   "metadata": {},
   "outputs": [
    {
     "name": "stdout",
     "output_type": "stream",
     "text": [
      "Visual 6\n",
      "studio 6\n",
      "code 4\n",
      "ia 2\n",
      "a 1\n",
      "lightwaited 11\n",
      "but 3\n",
      "powerfull 9\n",
      "source 6\n",
      "code 4\n",
      "editor 6\n",
      "which 5\n",
      "run 3\n",
      "on 2\n",
      "your 4\n",
      "desktop 7\n",
      "and 3\n",
      "is 2\n",
      "available 9\n",
      "in 2\n",
      "window 6\n",
      ",macos 6\n",
      "and 3\n",
      "linux 5\n",
      "biggest word is lightwaited with 11 character\n"
     ]
    }
   ],
   "source": [
    "m = 0\n",
    "w = 0\n",
    "for word in long_msg.split():\n",
    "    print(word,len(word))\n",
    "    if len(word) > m:\n",
    "        m = len(word)\n",
    "        w = word\n",
    "print(f'biggest word is {w} with {m} character')        "
   ]
  }
 ],
 "metadata": {
  "kernelspec": {
   "display_name": "Python 3.9.12 ('base')",
   "language": "python",
   "name": "python3"
  },
  "language_info": {
   "codemirror_mode": {
    "name": "ipython",
    "version": 3
   },
   "file_extension": ".py",
   "mimetype": "text/x-python",
   "name": "python",
   "nbconvert_exporter": "python",
   "pygments_lexer": "ipython3",
   "version": "3.9.12"
  },
  "orig_nbformat": 4,
  "vscode": {
   "interpreter": {
    "hash": "c8d055a2e917c4ff563d3cc6f515ed9e913311c2b5e5c5ae825c2758b2ad8b8b"
   }
  }
 },
 "nbformat": 4,
 "nbformat_minor": 2
}
