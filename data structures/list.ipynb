{
 "cells": [
  {
   "cell_type": "markdown",
   "metadata": {},
   "source": [
    "list\n",
    "lists are used to store item in a single variable.\n",
    "list item are odered, changable, and allow duplicate value.\n",
    "hetrogenous"
   ]
  },
  {
   "cell_type": "code",
   "execution_count": 60,
   "metadata": {},
   "outputs": [],
   "source": [
    "#defining list in python\n",
    "\n",
    "#list of strings\n",
    "list1 = ['shilpa','komal','sandhya','rahul']\n",
    "\n",
    "#list of number\n",
    "list2 = [1,2,3,4,5,6]\n",
    "\n",
    "#list of mixed data list\n",
    "list3 = ['shilpa',50,77,'b',2]\n",
    "\n",
    "#nested list\n",
    "list4 = [[1,2,3],[3,4,5],[8,5,4]]"
   ]
  },
  {
   "cell_type": "code",
   "execution_count": null,
   "metadata": {},
   "outputs": [],
   "source": [
    "#accessing list item in python\n",
    "list1 = [2,4,6,'A',141,'b',16,'c',20]\n",
    "print('list1 = ',list1)\n"
   ]
  },
  {
   "cell_type": "code",
   "execution_count": 3,
   "metadata": {},
   "outputs": [],
   "source": [
    "books = [\n",
    "'legion',\n",
    "'Legin: Skin Deep',\n",
    "'Steelheart',\n",
    "'Calamity',\n",
    "'The Final Empire',\n",
    "'The Well of Ascension',\n",
    "'ways of the king',\n",
    "'words of radiance',\n",
    "'oathobringer',\n",
    "'warbreaker'\n",
    "]"
   ]
  },
  {
   "cell_type": "code",
   "execution_count": 4,
   "metadata": {},
   "outputs": [
    {
     "name": "stdout",
     "output_type": "stream",
     "text": [
      "['legion', 'Legin: Skin Deep', 'Steelheart', 'Calamity', 'The Final Empire', 'The Well of Ascension', 'ways of the king', 'words of radiance', 'oathobringer', 'warbreaker']\n"
     ]
    }
   ],
   "source": [
    "print(books)"
   ]
  },
  {
   "cell_type": "code",
   "execution_count": 63,
   "metadata": {},
   "outputs": [
    {
     "data": {
      "text/plain": [
       "['Calamity', 'The Final Empire', 'The Well of Ascension', 'ways of the king']"
      ]
     },
     "execution_count": 63,
     "metadata": {},
     "output_type": "execute_result"
    }
   ],
   "source": [
    "books [3:-3] # all except first 3 and last 3"
   ]
  },
  {
   "cell_type": "code",
   "execution_count": 64,
   "metadata": {},
   "outputs": [
    {
     "data": {
      "text/plain": [
       "['apple', 'mango', 'cherry', 'banana', 'guava']"
      ]
     },
     "execution_count": 64,
     "metadata": {},
     "output_type": "execute_result"
    }
   ],
   "source": [
    "#Append functions\n",
    "\n",
    "fruits = []\n",
    "fruits.append('apple')\n",
    "fruits.append('mango')\n",
    "fruits.append('cherry')\n",
    "fruits.append('banana')\n",
    "fruits.append('guava')\n",
    "fruits\n"
   ]
  },
  {
   "cell_type": "code",
   "execution_count": 65,
   "metadata": {},
   "outputs": [
    {
     "name": "stdout",
     "output_type": "stream",
     "text": [
      "['apple', 'orange', 'banana', 'cherry']\n"
     ]
    }
   ],
   "source": [
    "#insert function\n",
    "fruits = ['apple','banana','cherry']\n",
    "\n",
    "fruits.insert(1,'orange')\n",
    "print(fruits)"
   ]
  },
  {
   "cell_type": "code",
   "execution_count": 66,
   "metadata": {},
   "outputs": [
    {
     "name": "stdout",
     "output_type": "stream",
     "text": [
      "['legion', 'Legin: Skin Deep', 'Steelheart', 'Calamity', 'The Final Empire', 'The Well of Ascension', 'ways of the king', 'words of radiance', 'the hero of ages', 'oathobringer', 'warbreaker']\n"
     ]
    }
   ],
   "source": [
    "books.insert(8,'the hero of ages')\n",
    "print(books)"
   ]
  },
  {
   "cell_type": "code",
   "execution_count": 67,
   "metadata": {},
   "outputs": [
    {
     "data": {
      "text/plain": [
       "['apple', 'orange', 'banana', 'cherry', 'almond', 'cashew', 'walnut']"
      ]
     },
     "execution_count": 67,
     "metadata": {},
     "output_type": "execute_result"
    }
   ],
   "source": [
    "dry_fruits = ['almond','cashew','walnut']\n",
    "fruits.extend(dry_fruits)\n",
    "fruits"
   ]
  },
  {
   "cell_type": "code",
   "execution_count": 68,
   "metadata": {},
   "outputs": [
    {
     "data": {
      "text/plain": [
       "['apple', 'banana', 'cherry', 'guava']"
      ]
     },
     "execution_count": 68,
     "metadata": {},
     "output_type": "execute_result"
    }
   ],
   "source": [
    "#sort function\n",
    "\n",
    "fruits = ['cherry','guava','apple','banana']\n",
    "fruits.sort()\n",
    "fruits"
   ]
  },
  {
   "cell_type": "code",
   "execution_count": 69,
   "metadata": {},
   "outputs": [
    {
     "name": "stdout",
     "output_type": "stream",
     "text": [
      "['words of radiance', 'ways of the king', 'warbreaker', 'the hero of ages', 'oathobringer', 'legion', 'The Well of Ascension', 'The Final Empire', 'Steelheart', 'Legin: Skin Deep', 'Calamity']\n"
     ]
    }
   ],
   "source": [
    "books.sort(reverse=True)\n",
    "print(books)"
   ]
  },
  {
   "cell_type": "code",
   "execution_count": 70,
   "metadata": {},
   "outputs": [
    {
     "data": {
      "text/plain": [
       "['mango', 'cherry', 'banana']"
      ]
     },
     "execution_count": 70,
     "metadata": {},
     "output_type": "execute_result"
    }
   ],
   "source": [
    "#reverse function\n",
    "fruits = ['cherry','banana','mango']\n",
    "fruits.sort(reverse=True)\n",
    "fruits"
   ]
  },
  {
   "cell_type": "code",
   "execution_count": 71,
   "metadata": {},
   "outputs": [
    {
     "data": {
      "text/plain": [
       "['cherry', 'mango']"
      ]
     },
     "execution_count": 71,
     "metadata": {},
     "output_type": "execute_result"
    }
   ],
   "source": [
    "#reverse function\n",
    "fruits = ['cherry','banana','mango']\n",
    "fruits.remove('banana')\n",
    "fruits"
   ]
  },
  {
   "cell_type": "code",
   "execution_count": 73,
   "metadata": {},
   "outputs": [
    {
     "name": "stdout",
     "output_type": "stream",
     "text": [
      "[1, 1, 1, 1, 1, 1, 2, 2, 2, 3, 3, 3, 4, 4, 4, 5, 5]\n"
     ]
    }
   ],
   "source": [
    "x = [1,1,1,2,2,2,3,3,3,1,1,1,5,5,4,4,4,]\n",
    "x.sort()\n",
    "print(x)"
   ]
  },
  {
   "cell_type": "code",
   "execution_count": 75,
   "metadata": {},
   "outputs": [
    {
     "name": "stdout",
     "output_type": "stream",
     "text": [
      "[1, 1, 1, 1, 2, 2, 2, 3, 3, 3, 4, 4, 4, 5, 5]\n",
      "[1, 1, 1, 1, 2, 2, 2, 3, 3, 3, 4, 4, 5, 5]\n"
     ]
    }
   ],
   "source": [
    "if 1 in  x:\n",
    "    x.remove(1)\n",
    "print(x)\n",
    "if 4 in x:\n",
    "    x.remove(4)\n",
    "print(x)       "
   ]
  },
  {
   "cell_type": "code",
   "execution_count": 76,
   "metadata": {},
   "outputs": [],
   "source": [
    "x.remove(3) if 3 in x else print('not found')"
   ]
  },
  {
   "cell_type": "code",
   "execution_count": 77,
   "metadata": {},
   "outputs": [
    {
     "name": "stdout",
     "output_type": "stream",
     "text": [
      "[1, 1, 1, 1, 2, 2, 2, 3, 3, 4, 4, 5, 5]\n"
     ]
    }
   ],
   "source": [
    "print(x)"
   ]
  },
  {
   "cell_type": "code",
   "execution_count": 78,
   "metadata": {},
   "outputs": [],
   "source": [
    "x.remove(3) if 3 in x else print('not found')"
   ]
  },
  {
   "cell_type": "code",
   "execution_count": 79,
   "metadata": {},
   "outputs": [],
   "source": [
    "x.remove(3) if 3 in x else print('not found')"
   ]
  },
  {
   "cell_type": "code",
   "execution_count": 80,
   "metadata": {},
   "outputs": [
    {
     "name": "stdout",
     "output_type": "stream",
     "text": [
      "not found\n"
     ]
    }
   ],
   "source": [
    "x.remove(3) if 3 in x else print('not found')"
   ]
  },
  {
   "cell_type": "code",
   "execution_count": 81,
   "metadata": {},
   "outputs": [
    {
     "name": "stdout",
     "output_type": "stream",
     "text": [
      "['Calamity', 'Legin: Skin Deep', 'Steelheart', 'The Final Empire', 'The Well of Ascension', 'legion', 'oathobringer', 'the hero of ages', 'warbreaker', 'ways of the king', 'words of radiance']\n"
     ]
    }
   ],
   "source": [
    "books.reverse()\n",
    "print(books)"
   ]
  },
  {
   "cell_type": "code",
   "execution_count": 10,
   "metadata": {},
   "outputs": [
    {
     "data": {
      "text/plain": [
       "['warbreaker',\n",
       " 'oathobringer',\n",
       " 'words of radiance',\n",
       " 'ways of the king',\n",
       " 'The Well of Ascension',\n",
       " 'The Final Empire',\n",
       " 'Calamity',\n",
       " 'Steelheart',\n",
       " 'Legin: Skin Deep',\n",
       " 'legion']"
      ]
     },
     "execution_count": 10,
     "metadata": {},
     "output_type": "execute_result"
    }
   ],
   "source": [
    "books[::-1] #reverse the list"
   ]
  },
  {
   "cell_type": "code",
   "execution_count": 84,
   "metadata": {},
   "outputs": [
    {
     "data": {
      "text/plain": [
       "5"
      ]
     },
     "execution_count": 84,
     "metadata": {},
     "output_type": "execute_result"
    }
   ],
   "source": [
    "#count function\n",
    "x = [1,1,1,1,2,2,2,2,2,3,3,3,38,8,5,5,]\n",
    "x.count(2)"
   ]
  },
  {
   "cell_type": "code",
   "execution_count": 85,
   "metadata": {},
   "outputs": [
    {
     "data": {
      "text/plain": [
       "2"
      ]
     },
     "execution_count": 85,
     "metadata": {},
     "output_type": "execute_result"
    }
   ],
   "source": [
    "#index ()\n",
    "movies = ['KGF',\n",
    "'Spider-man: No way home',\n",
    "'Shang-chi',\n",
    "'the last due',\n",
    "'Venom :Let there be carnage']\n",
    "\n",
    "movies.index('Shang-chi')"
   ]
  },
  {
   "cell_type": "code",
   "execution_count": 86,
   "metadata": {},
   "outputs": [
    {
     "data": {
      "text/plain": [
       "11"
      ]
     },
     "execution_count": 86,
     "metadata": {},
     "output_type": "execute_result"
    }
   ],
   "source": [
    "len(books)"
   ]
  },
  {
   "cell_type": "code",
   "execution_count": 90,
   "metadata": {},
   "outputs": [
    {
     "data": {
      "text/plain": [
       "['oathobringer',\n",
       " 'the hero of ages',\n",
       " 'warbreaker',\n",
       " 'ways of the king',\n",
       " 'words of radiance']"
      ]
     },
     "execution_count": 90,
     "metadata": {},
     "output_type": "execute_result"
    }
   ],
   "source": [
    "books[books.index('oathobringer') :]"
   ]
  },
  {
   "cell_type": "code",
   "execution_count": 92,
   "metadata": {},
   "outputs": [
    {
     "name": "stdout",
     "output_type": "stream",
     "text": [
      "oathdix\n"
     ]
    },
    {
     "data": {
      "text/plain": [
       "['oathobringer',\n",
       " 'the hero of ages',\n",
       " 'warbreaker',\n",
       " 'ways of the king',\n",
       " 'words of radiance']"
      ]
     },
     "execution_count": 92,
     "metadata": {},
     "output_type": "execute_result"
    }
   ],
   "source": [
    "oathdix = books.index('oathobringer')\n",
    "print('oathdix')\n",
    "books[oathdix:]"
   ]
  },
  {
   "cell_type": "code",
   "execution_count": 93,
   "metadata": {},
   "outputs": [
    {
     "name": "stdout",
     "output_type": "stream",
     "text": [
      "['cherry', 'guava', 'apple', 'banana']\n"
     ]
    }
   ],
   "source": [
    "fruits = ['cherry','guava','apple','banana'] #copy()\n",
    "dup_fruits = fruits.copy()\n",
    "print(dup_fruits)"
   ]
  },
  {
   "cell_type": "code",
   "execution_count": 94,
   "metadata": {},
   "outputs": [
    {
     "data": {
      "text/plain": [
       "[]"
      ]
     },
     "execution_count": 94,
     "metadata": {},
     "output_type": "execute_result"
    }
   ],
   "source": [
    "#clear() , remove all the  items from list \n",
    "\n",
    "fruits = ['cherry','guava','apple','banana']\n",
    "fruits.clear()\n",
    "fruits"
   ]
  },
  {
   "cell_type": "code",
   "execution_count": 96,
   "metadata": {},
   "outputs": [
    {
     "name": "stdout",
     "output_type": "stream",
     "text": [
      "banana\n",
      "apple\n"
     ]
    }
   ],
   "source": [
    "#pop() , remove the items at the specified position\n",
    "#by list pop()\n",
    "fruits = ['cherry','guava','apple','banana']\n",
    "v = fruits.pop()\n",
    "print(v)\n",
    "\n",
    "#by list.pop(idx)\n",
    "fruits = ['cherry','guava','apple','banana']\n",
    "v = fruits.pop(2)\n",
    "print(v)"
   ]
  },
  {
   "cell_type": "code",
   "execution_count": 98,
   "metadata": {},
   "outputs": [
    {
     "name": "stdout",
     "output_type": "stream",
     "text": [
      "['shilpa', 'sandhya', 'komal', 'shraddha', 'sanjh']\n"
     ]
    }
   ],
   "source": [
    "#wap to create a list of 5 value given by the user\n",
    "\n",
    "ex = []\n",
    "for i in range(5):\n",
    "    val = input(f'enter value {i+1}:')\n",
    "    ex.append(val)\n",
    "print(ex)    "
   ]
  },
  {
   "cell_type": "code",
   "execution_count": 101,
   "metadata": {},
   "outputs": [
    {
     "name": "stdout",
     "output_type": "stream",
     "text": [
      "411\n"
     ]
    }
   ],
   "source": [
    "data = [23,54,67,78,99,90]\n",
    "total = 0\n",
    "for i in data:\n",
    "    total += i\n",
    "print(total)"
   ]
  },
  {
   "cell_type": "code",
   "execution_count": 1,
   "metadata": {},
   "outputs": [
    {
     "name": "stdout",
     "output_type": "stream",
     "text": [
      "sum of numbers is  65\n"
     ]
    }
   ],
   "source": [
    "y = []\n",
    "size = int(input(\"enter size of your list\"))\n",
    "for i in range(size):\n",
    "    val = int(input(\"enter your numbers\"))\n",
    "    y.append(val)\n",
    "print(\"sum of numbers is \",sum(y))    \n"
   ]
  },
  {
   "cell_type": "code",
   "execution_count": 5,
   "metadata": {},
   "outputs": [
    {
     "name": "stdout",
     "output_type": "stream",
     "text": [
      "2\n",
      "4\n",
      "8\n",
      "16\n",
      "32\n"
     ]
    }
   ],
   "source": [
    "#multiply of numbers\n",
    "z = []\n",
    "size = int(input(\"enter size of your list\"))\n",
    "for i in range(size):\n",
    "    val = int(input(\"enter your numbers\"))\n",
    "    z.append(val)\n",
    "    Total = 1\n",
    "    for i in z:\n",
    "      Total *= i\n",
    "    print(Total)  "
   ]
  },
  {
   "cell_type": "code",
   "execution_count": 20,
   "metadata": {},
   "outputs": [
    {
     "name": "stdout",
     "output_type": "stream",
     "text": [
      "[3, 6, 9, 12, 15, 18, 21, 24, 27, 30, 33, 36, 39, 42, 45, 48]\n"
     ]
    }
   ],
   "source": [
    "#numbers from 1-50 that are either divisible by 3 to 6\n",
    "result = []\n",
    "for i in range(1,50):\n",
    "    if(i%3 == 0 or i%6 == 0):\n",
    "      result.append(i)\n",
    "print(result)  "
   ]
  },
  {
   "cell_type": "code",
   "execution_count": 5,
   "metadata": {},
   "outputs": [
    {
     "name": "stdout",
     "output_type": "stream",
     "text": [
      "max number is =  87\n"
     ]
    }
   ],
   "source": [
    "#find max number\n",
    "x = []\n",
    "size = int(input(\"enter size of your list\"))\n",
    "for i in range(size):\n",
    "    val = int(input(\"enter your number\"))\n",
    "    x.append(val)\n",
    "max = x[0]    \n",
    "for i in range(size):\n",
    "    if (x[i] > max):\n",
    "        max = x[i]\n",
    "print(\"max number is = \",max)       \n"
   ]
  },
  {
   "cell_type": "code",
   "execution_count": 3,
   "metadata": {},
   "outputs": [
    {
     "name": "stdout",
     "output_type": "stream",
     "text": [
      "min number = 11\n"
     ]
    }
   ],
   "source": [
    "#find  min number \n",
    "a = []\n",
    "size=int(input('enter size of the list'))\n",
    "for i in range(size):\n",
    "    val=int(input(\"enter number\"))\n",
    "    a.append(val)\n",
    "min = a[0]\n",
    "for i in range(size):\n",
    "    if(a[i] < min):\n",
    "        min = a[i]\n",
    "print(\"min number =\",min)           "
   ]
  },
  {
   "cell_type": "code",
   "execution_count": 13,
   "metadata": {},
   "outputs": [
    {
     "name": "stdout",
     "output_type": "stream",
     "text": [
      "3.0\n"
     ]
    }
   ],
   "source": [
    "#find mean number\n",
    "\n",
    "y = []\n",
    "size = int(input(\"enter the size of your list\"))\n",
    "for i in range(size):\n",
    "    val2 = int(input(\"enter your number\"))\n",
    "    y.append(val2)\n",
    "l = len(y)    \n",
    "print(sum(y)/l)"
   ]
  },
  {
   "cell_type": "code",
   "execution_count": null,
   "metadata": {},
   "outputs": [],
   "source": []
  }
 ],
 "metadata": {
  "kernelspec": {
   "display_name": "Python 3.9.12 ('base')",
   "language": "python",
   "name": "python3"
  },
  "language_info": {
   "codemirror_mode": {
    "name": "ipython",
    "version": 3
   },
   "file_extension": ".py",
   "mimetype": "text/x-python",
   "name": "python",
   "nbconvert_exporter": "python",
   "pygments_lexer": "ipython3",
   "version": "3.9.12"
  },
  "orig_nbformat": 4,
  "vscode": {
   "interpreter": {
    "hash": "c8d055a2e917c4ff563d3cc6f515ed9e913311c2b5e5c5ae825c2758b2ad8b8b"
   }
  }
 },
 "nbformat": 4,
 "nbformat_minor": 2
}
