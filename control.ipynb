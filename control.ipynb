{
 "cells": [
  {
   "cell_type": "markdown",
   "metadata": {},
   "source": [
    "<h1>Condition\n",
    "<h5>3 types\n",
    "<h5>Single Condition based program\n",
    "<h5>complete       \n",
    "<h5>multiple         "
   ]
  },
  {
   "cell_type": "markdown",
   "metadata": {},
   "source": [
    "<h5>to check even or odd number"
   ]
  },
  {
   "cell_type": "code",
   "execution_count": 3,
   "metadata": {},
   "outputs": [
    {
     "name": "stdout",
     "output_type": "stream",
     "text": [
      "the end\n"
     ]
    }
   ],
   "source": [
    "x = 123\n",
    "if x%2==0:\n",
    "    print (\" even no.\")\n",
    "print(\"the end\")\n"
   ]
  },
  {
   "cell_type": "markdown",
   "metadata": {},
   "source": [
    "<h4>to check input is a numeic\n",
    "<h5>If - else"
   ]
  },
  {
   "cell_type": "code",
   "execution_count": 9,
   "metadata": {},
   "outputs": [
    {
     "name": "stdout",
     "output_type": "stream",
     "text": [
      "well done\n"
     ]
    }
   ],
   "source": [
    "\n",
    "num = input(\"enter a number\")\n",
    "if num.isnumeric(): #function\n",
    "    print(\"well done\")\n",
    "    num = int(num)\n",
    "else:\n",
    "    print(\"Bad input\")"
   ]
  },
  {
   "cell_type": "code",
   "execution_count": 10,
   "metadata": {},
   "outputs": [
    {
     "data": {
      "text/plain": [
       "True"
      ]
     },
     "execution_count": 10,
     "metadata": {},
     "output_type": "execute_result"
    }
   ],
   "source": [
    "a = \"1\" # variable\n",
    "a.isnumeric()"
   ]
  },
  {
   "cell_type": "markdown",
   "metadata": {},
   "source": [
    "<h3>Nested if"
   ]
  },
  {
   "cell_type": "code",
   "execution_count": 14,
   "metadata": {},
   "outputs": [
    {
     "name": "stdout",
     "output_type": "stream",
     "text": [
      "wrong username\n"
     ]
    }
   ],
   "source": [
    "# for Nested if\n",
    "#username = 'john'\n",
    "#email = 'john@gmail.com\n",
    "#password = '123'\n",
    "username = input('enter name')\n",
    "password = input('Enter password')\n",
    "email = input('enter email')\n",
    "if username  == 'john':\n",
    "    if email == 'john@gmail.com':\n",
    "        if password == '123':\n",
    "            print(\"welcome to WWF\")\n",
    "        else:\n",
    "            print(\"wrong password\")\n",
    "    else:\n",
    "        print(\"wrong email\")\n",
    "else:\n",
    "    print(\"wrong username\")\n"
   ]
  },
  {
   "cell_type": "code",
   "execution_count": 17,
   "metadata": {},
   "outputs": [
    {
     "name": "stdout",
     "output_type": "stream",
     "text": [
      "welcome to WWE\n"
     ]
    }
   ],
   "source": [
    "# using ladder if(multiple if)\n",
    "#username = 'john'\n",
    "#email = 'john@gmail.com\n",
    "#password = '123'\n",
    "username = input('enter name')\n",
    "password = input('Enter password')\n",
    "email = input('enter email')\n",
    "if username  == 'john':\n",
    "    print(\"wrong name\")\n",
    "elif email == 'john@gmail.com':\n",
    "    print(\"wrong email\")\n",
    "elif password == '123':\n",
    "     print(\"wrong password\")\n",
    "else:\n",
    "    print(\"welcome to WWE\")\n",
    "        \n"
   ]
  },
  {
   "cell_type": "markdown",
   "metadata": {},
   "source": [
    "<h4>wap to calculate the grade of student based on the marks with the following rules: \n",
    "<h6>\n",
    "if marks >= 90 grade is A\n",
    "if marks  >=80 grade is B\n",
    "if marks  >=70 grade is C\n",
    "if marks  >=60 grade is D\n",
    "if marks  < 60 grade is F\n",
    "if marks is not a number grade is \"invalid\""
   ]
  },
  {
   "cell_type": "code",
   "execution_count": 19,
   "metadata": {},
   "outputs": [
    {
     "name": "stdout",
     "output_type": "stream",
     "text": [
      "Grade is A\n"
     ]
    }
   ],
   "source": [
    "marks = input(\"enter your marks\")\n",
    "if not marks.isnumeric():\n",
    "    print(\"Invalid\") \n",
    "else:\n",
    "    marks = int(marks)\n",
    "if marks >= 90:\n",
    "    print(\"Grade is A\")\n",
    "elif marks >= 80:\n",
    "    print(\"Grade is B\")\n",
    "elif marks >= 70:\n",
    "    print(\"grade is C\")\n",
    "elif marks >= 60:\n",
    "    print(\"D\")\n",
    "else:\n",
    "    print(\"Invalid Marks\")"
   ]
  },
  {
   "cell_type": "code",
   "execution_count": null,
   "metadata": {},
   "outputs": [],
   "source": []
  }
 ],
 "metadata": {
  "kernelspec": {
   "display_name": "Python 3.9.12 ('base')",
   "language": "python",
   "name": "python3"
  },
  "language_info": {
   "codemirror_mode": {
    "name": "ipython",
    "version": 3
   },
   "file_extension": ".py",
   "mimetype": "text/x-python",
   "name": "python",
   "nbconvert_exporter": "python",
   "pygments_lexer": "ipython3",
   "version": "3.9.12"
  },
  "orig_nbformat": 4,
  "vscode": {
   "interpreter": {
    "hash": "c8d055a2e917c4ff563d3cc6f515ed9e913311c2b5e5c5ae825c2758b2ad8b8b"
   }
  }
 },
 "nbformat": 4,
 "nbformat_minor": 2
}
